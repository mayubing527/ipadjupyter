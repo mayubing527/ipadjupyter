{
 "cells": [
  {
   "cell_type": "markdown",
   "metadata": {},
   "source": [
    "# 使用分组聚合进行组内计算"
   ]
  },
  {
   "cell_type": "markdown",
   "metadata": {
    "run_control": {
     "marked": true
    }
   },
   "source": [
    "## 使用groupby方法拆分数据"
   ]
  },
  {
   "cell_type": "markdown",
   "metadata": {},
   "source": [
    "### 单组分类"
   ]
  },
  {
   "cell_type": "markdown",
   "metadata": {},
   "source": [
    "DataFrame.groupby(by=None, axis=0, level=None, as_index=True, sort=True, group_keys=True, squeeze=False, ** kwargs)\n",
    "\n",
    "|参数名称|说明|\n",
    "|---|---|\n",
    "|by|接收list，string，mapping或generator。用于确定进行分组的依据。无默认。|\n",
    "|axis|接收int。表示操作的轴向，默认对列进行操作。默认为0。|\n",
    "|level|接收int或者索引名。代表标签所在级别。默认为None。|\n",
    "|as_index|接收boolearn。表示聚合后的聚合标签是否以DataFrame索引形式输出。默认为True。|\n",
    "|sort|接收boolearn。表示是否对分组依据分组标签进行排序。默认为True。|\n",
    "|group_keys|接收boolearn。表示是否显示分组标签的名称。默认为True。|\n",
    "|squeeze|接收boolearn。表示是否在允许的情况下对返回数据进行降维。默认为False)|"
   ]
  },
  {
   "cell_type": "code",
   "execution_count": 66,
   "metadata": {
    "ExecuteTime": {
     "end_time": "2021-04-22T16:35:13.307120Z",
     "start_time": "2021-04-22T16:35:13.301136Z"
    }
   },
   "outputs": [],
   "source": [
    "import pandas as pd\n",
    "import numpy as np\n",
    "\n",
    "df = pd.DataFrame({'name': ['李磊', '王明', '张萌', '刘飒', '李辰'],\n",
    "    'sex':['男', '男', '女', '男', '女'],\n",
    "    'class': [1,2,1,1,2],\n",
    "    'height': [175,176,165,175,161]})\n",
    "df\n",
    "adf=df.groupby('sex')"
   ]
  },
  {
   "cell_type": "code",
   "execution_count": 67,
   "metadata": {
    "ExecuteTime": {
     "end_time": "2021-04-22T16:35:15.493748Z",
     "start_time": "2021-04-22T16:35:15.490766Z"
    },
    "scrolled": true
   },
   "outputs": [
    {
     "name": "stdout",
     "output_type": "stream",
     "text": [
      "用groupby方法分组后的结果并不能直接查看，而是被存在内存中，输出的是内存地址。\n",
      "       实际上分组后的数据对象GroupBy类似Series与DataFrame，是pandas提供的一种对象。\n"
     ]
    }
   ],
   "source": [
    "print(\n",
    "    '''用groupby方法分组后的结果并不能直接查看，而是被存在内存中，输出的是内存地址。\n",
    "       实际上分组后的数据对象GroupBy类似Series与DataFrame，是pandas提供的一种对象。''')"
   ]
  },
  {
   "cell_type": "markdown",
   "metadata": {},
   "source": [
    "### 查看拆分数据"
   ]
  },
  {
   "cell_type": "code",
   "execution_count": 68,
   "metadata": {
    "ExecuteTime": {
     "end_time": "2021-04-22T16:35:17.509062Z",
     "start_time": "2021-04-22T16:35:17.500086Z"
    },
    "scrolled": true
   },
   "outputs": [
    {
     "name": "stdout",
     "output_type": "stream",
     "text": [
      "('女',   name sex  class  height\n",
      "2   张萌   女      1     165\n",
      "4   李辰   女      2     161)\n",
      "('男',   name sex  class  height\n",
      "0   李磊   男      1     175\n",
      "1   王明   男      2     176\n",
      "3   刘飒   男      1     175)\n"
     ]
    }
   ],
   "source": [
    "for i in adf:\n",
    "    print(i)"
   ]
  },
  {
   "cell_type": "code",
   "execution_count": 69,
   "metadata": {
    "ExecuteTime": {
     "end_time": "2021-04-22T16:35:19.044463Z",
     "start_time": "2021-04-22T16:35:19.035487Z"
    }
   },
   "outputs": [
    {
     "name": "stdout",
     "output_type": "stream",
     "text": [
      "女\n",
      "  name sex  class  height\n",
      "2   张萌   女      1     165\n",
      "4   李辰   女      2     161\n",
      "男\n",
      "  name sex  class  height\n",
      "0   李磊   男      1     175\n",
      "1   王明   男      2     176\n",
      "3   刘飒   男      1     175\n"
     ]
    }
   ],
   "source": [
    "for index, data in adf:\n",
    "    print(index)\n",
    "    print(data)"
   ]
  },
  {
   "cell_type": "markdown",
   "metadata": {},
   "source": [
    "### **groupby 常用描述性统计方法及说明**"
   ]
  },
  {
   "cell_type": "markdown",
   "metadata": {},
   "source": [
    "![jupyter](12.png)"
   ]
  },
  {
   "cell_type": "code",
   "execution_count": 40,
   "metadata": {
    "ExecuteTime": {
     "end_time": "2021-04-22T16:04:53.965243Z",
     "start_time": "2021-04-22T16:04:53.926589Z"
    }
   },
   "outputs": [
    {
     "data": {
      "text/html": [
       "<div>\n",
       "<style scoped>\n",
       "    .dataframe tbody tr th:only-of-type {\n",
       "        vertical-align: middle;\n",
       "    }\n",
       "\n",
       "    .dataframe tbody tr th {\n",
       "        vertical-align: top;\n",
       "    }\n",
       "\n",
       "    .dataframe thead th {\n",
       "        text-align: right;\n",
       "    }\n",
       "</style>\n",
       "<table border=\"1\" class=\"dataframe\">\n",
       "  <thead>\n",
       "    <tr style=\"text-align: right;\">\n",
       "      <th></th>\n",
       "      <th>class</th>\n",
       "      <th>height</th>\n",
       "    </tr>\n",
       "    <tr>\n",
       "      <th>sex</th>\n",
       "      <th></th>\n",
       "      <th></th>\n",
       "    </tr>\n",
       "  </thead>\n",
       "  <tbody>\n",
       "    <tr>\n",
       "      <th>女</th>\n",
       "      <td>1.500000</td>\n",
       "      <td>163.000000</td>\n",
       "    </tr>\n",
       "    <tr>\n",
       "      <th>男</th>\n",
       "      <td>1.333333</td>\n",
       "      <td>175.333333</td>\n",
       "    </tr>\n",
       "  </tbody>\n",
       "</table>\n",
       "</div>"
      ],
      "text/plain": [
       "        class      height\n",
       "sex                      \n",
       "女    1.500000  163.000000\n",
       "男    1.333333  175.333333"
      ]
     },
     "execution_count": 40,
     "metadata": {},
     "output_type": "execute_result"
    }
   ],
   "source": [
    "adf.mean()"
   ]
  },
  {
   "cell_type": "code",
   "execution_count": 41,
   "metadata": {
    "ExecuteTime": {
     "end_time": "2021-04-22T16:05:11.711298Z",
     "start_time": "2021-04-22T16:05:11.514139Z"
    }
   },
   "outputs": [
    {
     "data": {
      "text/html": [
       "<div>\n",
       "<style scoped>\n",
       "    .dataframe tbody tr th:only-of-type {\n",
       "        vertical-align: middle;\n",
       "    }\n",
       "\n",
       "    .dataframe tbody tr th {\n",
       "        vertical-align: top;\n",
       "    }\n",
       "\n",
       "    .dataframe thead tr th {\n",
       "        text-align: left;\n",
       "    }\n",
       "\n",
       "    .dataframe thead tr:last-of-type th {\n",
       "        text-align: right;\n",
       "    }\n",
       "</style>\n",
       "<table border=\"1\" class=\"dataframe\">\n",
       "  <thead>\n",
       "    <tr>\n",
       "      <th></th>\n",
       "      <th colspan=\"8\" halign=\"left\">class</th>\n",
       "      <th colspan=\"8\" halign=\"left\">height</th>\n",
       "    </tr>\n",
       "    <tr>\n",
       "      <th></th>\n",
       "      <th>count</th>\n",
       "      <th>mean</th>\n",
       "      <th>std</th>\n",
       "      <th>min</th>\n",
       "      <th>25%</th>\n",
       "      <th>50%</th>\n",
       "      <th>75%</th>\n",
       "      <th>max</th>\n",
       "      <th>count</th>\n",
       "      <th>mean</th>\n",
       "      <th>std</th>\n",
       "      <th>min</th>\n",
       "      <th>25%</th>\n",
       "      <th>50%</th>\n",
       "      <th>75%</th>\n",
       "      <th>max</th>\n",
       "    </tr>\n",
       "    <tr>\n",
       "      <th>sex</th>\n",
       "      <th></th>\n",
       "      <th></th>\n",
       "      <th></th>\n",
       "      <th></th>\n",
       "      <th></th>\n",
       "      <th></th>\n",
       "      <th></th>\n",
       "      <th></th>\n",
       "      <th></th>\n",
       "      <th></th>\n",
       "      <th></th>\n",
       "      <th></th>\n",
       "      <th></th>\n",
       "      <th></th>\n",
       "      <th></th>\n",
       "      <th></th>\n",
       "    </tr>\n",
       "  </thead>\n",
       "  <tbody>\n",
       "    <tr>\n",
       "      <th>女</th>\n",
       "      <td>2.0</td>\n",
       "      <td>1.500000</td>\n",
       "      <td>0.707107</td>\n",
       "      <td>1.0</td>\n",
       "      <td>1.25</td>\n",
       "      <td>1.5</td>\n",
       "      <td>1.75</td>\n",
       "      <td>2.0</td>\n",
       "      <td>2.0</td>\n",
       "      <td>163.000000</td>\n",
       "      <td>2.828427</td>\n",
       "      <td>161.0</td>\n",
       "      <td>162.0</td>\n",
       "      <td>163.0</td>\n",
       "      <td>164.0</td>\n",
       "      <td>165.0</td>\n",
       "    </tr>\n",
       "    <tr>\n",
       "      <th>男</th>\n",
       "      <td>3.0</td>\n",
       "      <td>1.333333</td>\n",
       "      <td>0.577350</td>\n",
       "      <td>1.0</td>\n",
       "      <td>1.00</td>\n",
       "      <td>1.0</td>\n",
       "      <td>1.50</td>\n",
       "      <td>2.0</td>\n",
       "      <td>3.0</td>\n",
       "      <td>175.333333</td>\n",
       "      <td>0.577350</td>\n",
       "      <td>175.0</td>\n",
       "      <td>175.0</td>\n",
       "      <td>175.0</td>\n",
       "      <td>175.5</td>\n",
       "      <td>176.0</td>\n",
       "    </tr>\n",
       "  </tbody>\n",
       "</table>\n",
       "</div>"
      ],
      "text/plain": [
       "    class                                                height              \\\n",
       "    count      mean       std  min   25%  50%   75%  max  count        mean   \n",
       "sex                                                                           \n",
       "女     2.0  1.500000  0.707107  1.0  1.25  1.5  1.75  2.0    2.0  163.000000   \n",
       "男     3.0  1.333333  0.577350  1.0  1.00  1.0  1.50  2.0    3.0  175.333333   \n",
       "\n",
       "                                                  \n",
       "          std    min    25%    50%    75%    max  \n",
       "sex                                               \n",
       "女    2.828427  161.0  162.0  163.0  164.0  165.0  \n",
       "男    0.577350  175.0  175.0  175.0  175.5  176.0  "
      ]
     },
     "execution_count": 41,
     "metadata": {},
     "output_type": "execute_result"
    }
   ],
   "source": [
    "adf.describe()"
   ]
  },
  {
   "cell_type": "code",
   "execution_count": 42,
   "metadata": {
    "ExecuteTime": {
     "end_time": "2021-04-22T16:05:20.286257Z",
     "start_time": "2021-04-22T16:05:20.254315Z"
    }
   },
   "outputs": [
    {
     "data": {
      "text/html": [
       "<div>\n",
       "<style scoped>\n",
       "    .dataframe tbody tr th:only-of-type {\n",
       "        vertical-align: middle;\n",
       "    }\n",
       "\n",
       "    .dataframe tbody tr th {\n",
       "        vertical-align: top;\n",
       "    }\n",
       "\n",
       "    .dataframe thead tr th {\n",
       "        text-align: left;\n",
       "    }\n",
       "\n",
       "    .dataframe thead tr:last-of-type th {\n",
       "        text-align: right;\n",
       "    }\n",
       "</style>\n",
       "<table border=\"1\" class=\"dataframe\">\n",
       "  <thead>\n",
       "    <tr>\n",
       "      <th></th>\n",
       "      <th colspan=\"8\" halign=\"left\">class</th>\n",
       "      <th colspan=\"8\" halign=\"left\">height</th>\n",
       "    </tr>\n",
       "    <tr>\n",
       "      <th></th>\n",
       "      <th>count</th>\n",
       "      <th>mean</th>\n",
       "      <th>std</th>\n",
       "      <th>min</th>\n",
       "      <th>25%</th>\n",
       "      <th>50%</th>\n",
       "      <th>75%</th>\n",
       "      <th>max</th>\n",
       "      <th>count</th>\n",
       "      <th>mean</th>\n",
       "      <th>std</th>\n",
       "      <th>min</th>\n",
       "      <th>25%</th>\n",
       "      <th>50%</th>\n",
       "      <th>75%</th>\n",
       "      <th>max</th>\n",
       "    </tr>\n",
       "    <tr>\n",
       "      <th>sex</th>\n",
       "      <th></th>\n",
       "      <th></th>\n",
       "      <th></th>\n",
       "      <th></th>\n",
       "      <th></th>\n",
       "      <th></th>\n",
       "      <th></th>\n",
       "      <th></th>\n",
       "      <th></th>\n",
       "      <th></th>\n",
       "      <th></th>\n",
       "      <th></th>\n",
       "      <th></th>\n",
       "      <th></th>\n",
       "      <th></th>\n",
       "      <th></th>\n",
       "    </tr>\n",
       "  </thead>\n",
       "  <tbody>\n",
       "    <tr>\n",
       "      <th>女</th>\n",
       "      <td>2.0</td>\n",
       "      <td>1.500000</td>\n",
       "      <td>0.707107</td>\n",
       "      <td>1.0</td>\n",
       "      <td>1.25</td>\n",
       "      <td>1.5</td>\n",
       "      <td>1.75</td>\n",
       "      <td>2.0</td>\n",
       "      <td>2.0</td>\n",
       "      <td>163.000000</td>\n",
       "      <td>2.828427</td>\n",
       "      <td>161.0</td>\n",
       "      <td>162.0</td>\n",
       "      <td>163.0</td>\n",
       "      <td>164.0</td>\n",
       "      <td>165.0</td>\n",
       "    </tr>\n",
       "    <tr>\n",
       "      <th>男</th>\n",
       "      <td>3.0</td>\n",
       "      <td>1.333333</td>\n",
       "      <td>0.577350</td>\n",
       "      <td>1.0</td>\n",
       "      <td>1.00</td>\n",
       "      <td>1.0</td>\n",
       "      <td>1.50</td>\n",
       "      <td>2.0</td>\n",
       "      <td>3.0</td>\n",
       "      <td>175.333333</td>\n",
       "      <td>0.577350</td>\n",
       "      <td>175.0</td>\n",
       "      <td>175.0</td>\n",
       "      <td>175.0</td>\n",
       "      <td>175.5</td>\n",
       "      <td>176.0</td>\n",
       "    </tr>\n",
       "  </tbody>\n",
       "</table>\n",
       "</div>"
      ],
      "text/plain": [
       "    class                                                height              \\\n",
       "    count      mean       std  min   25%  50%   75%  max  count        mean   \n",
       "sex                                                                           \n",
       "女     2.0  1.500000  0.707107  1.0  1.25  1.5  1.75  2.0    2.0  163.000000   \n",
       "男     3.0  1.333333  0.577350  1.0  1.00  1.0  1.50  2.0    3.0  175.333333   \n",
       "\n",
       "                                                  \n",
       "          std    min    25%    50%    75%    max  \n",
       "sex                                               \n",
       "女    2.828427  161.0  162.0  163.0  164.0  165.0  \n",
       "男    0.577350  175.0  175.0  175.0  175.5  176.0  "
      ]
     },
     "execution_count": 42,
     "metadata": {},
     "output_type": "execute_result"
    }
   ],
   "source": [
    "adf.describe()\n",
    "#.unstack() 不以表格形式显示\n",
    "'''只有数字类型的列数据才会计算统计'''"
   ]
  },
  {
   "cell_type": "code",
   "execution_count": 47,
   "metadata": {
    "ExecuteTime": {
     "end_time": "2021-04-22T16:10:13.349968Z",
     "start_time": "2021-04-22T16:10:13.334012Z"
    },
    "scrolled": true
   },
   "outputs": [
    {
     "data": {
      "text/html": [
       "<div>\n",
       "<style scoped>\n",
       "    .dataframe tbody tr th:only-of-type {\n",
       "        vertical-align: middle;\n",
       "    }\n",
       "\n",
       "    .dataframe tbody tr th {\n",
       "        vertical-align: top;\n",
       "    }\n",
       "\n",
       "    .dataframe thead th {\n",
       "        text-align: right;\n",
       "    }\n",
       "</style>\n",
       "<table border=\"1\" class=\"dataframe\">\n",
       "  <thead>\n",
       "    <tr style=\"text-align: right;\">\n",
       "      <th></th>\n",
       "      <th>count</th>\n",
       "      <th>mean</th>\n",
       "      <th>std</th>\n",
       "      <th>min</th>\n",
       "      <th>25%</th>\n",
       "      <th>50%</th>\n",
       "      <th>75%</th>\n",
       "      <th>max</th>\n",
       "    </tr>\n",
       "    <tr>\n",
       "      <th>sex</th>\n",
       "      <th></th>\n",
       "      <th></th>\n",
       "      <th></th>\n",
       "      <th></th>\n",
       "      <th></th>\n",
       "      <th></th>\n",
       "      <th></th>\n",
       "      <th></th>\n",
       "    </tr>\n",
       "  </thead>\n",
       "  <tbody>\n",
       "    <tr>\n",
       "      <th>女</th>\n",
       "      <td>2.0</td>\n",
       "      <td>163.000000</td>\n",
       "      <td>2.828427</td>\n",
       "      <td>161.0</td>\n",
       "      <td>162.0</td>\n",
       "      <td>163.0</td>\n",
       "      <td>164.0</td>\n",
       "      <td>165.0</td>\n",
       "    </tr>\n",
       "    <tr>\n",
       "      <th>男</th>\n",
       "      <td>3.0</td>\n",
       "      <td>175.333333</td>\n",
       "      <td>0.577350</td>\n",
       "      <td>175.0</td>\n",
       "      <td>175.0</td>\n",
       "      <td>175.0</td>\n",
       "      <td>175.5</td>\n",
       "      <td>176.0</td>\n",
       "    </tr>\n",
       "  </tbody>\n",
       "</table>\n",
       "</div>"
      ],
      "text/plain": [
       "     count        mean       std    min    25%    50%    75%    max\n",
       "sex                                                                \n",
       "女      2.0  163.000000  2.828427  161.0  162.0  163.0  164.0  165.0\n",
       "男      3.0  175.333333  0.577350  175.0  175.0  175.0  175.5  176.0"
      ]
     },
     "execution_count": 47,
     "metadata": {},
     "output_type": "execute_result"
    }
   ],
   "source": [
    "'''班级不需要计算均值，需要改动'''\n",
    "#adf['height'].describe().unstack()\n",
    "adf['height'].describe()"
   ]
  },
  {
   "cell_type": "markdown",
   "metadata": {},
   "source": [
    "### 多组分类"
   ]
  },
  {
   "cell_type": "code",
   "execution_count": 70,
   "metadata": {
    "ExecuteTime": {
     "end_time": "2021-04-22T16:35:26.592793Z",
     "start_time": "2021-04-22T16:35:26.587807Z"
    }
   },
   "outputs": [
    {
     "data": {
      "text/plain": [
       "<pandas.core.groupby.generic.DataFrameGroupBy object at 0x000001C399EDB308>"
      ]
     },
     "execution_count": 70,
     "metadata": {},
     "output_type": "execute_result"
    }
   ],
   "source": [
    "df.groupby(['class','sex'])"
   ]
  },
  {
   "cell_type": "code",
   "execution_count": 71,
   "metadata": {
    "ExecuteTime": {
     "end_time": "2021-04-22T16:35:29.929682Z",
     "start_time": "2021-04-22T16:35:29.916683Z"
    }
   },
   "outputs": [
    {
     "name": "stdout",
     "output_type": "stream",
     "text": [
      "('女', 1)\n",
      "  name sex  class  height\n",
      "2   张萌   女      1     165\n",
      "('女', 2)\n",
      "  name sex  class  height\n",
      "4   李辰   女      2     161\n",
      "('男', 1)\n",
      "  name sex  class  height\n",
      "0   李磊   男      1     175\n",
      "3   刘飒   男      1     175\n",
      "('男', 2)\n",
      "  name sex  class  height\n",
      "1   王明   男      2     176\n"
     ]
    }
   ],
   "source": [
    "mdf = df.groupby(['sex','class'])\n",
    "for (index1, index2), data in mdf:\n",
    "    print((index1, index2))\n",
    "    print(data)"
   ]
  },
  {
   "cell_type": "code",
   "execution_count": 50,
   "metadata": {
    "ExecuteTime": {
     "end_time": "2021-04-22T16:11:54.063762Z",
     "start_time": "2021-04-22T16:11:54.013900Z"
    },
    "scrolled": true
   },
   "outputs": [
    {
     "data": {
      "text/html": [
       "<div>\n",
       "<style scoped>\n",
       "    .dataframe tbody tr th:only-of-type {\n",
       "        vertical-align: middle;\n",
       "    }\n",
       "\n",
       "    .dataframe tbody tr th {\n",
       "        vertical-align: top;\n",
       "    }\n",
       "\n",
       "    .dataframe thead tr th {\n",
       "        text-align: left;\n",
       "    }\n",
       "\n",
       "    .dataframe thead tr:last-of-type th {\n",
       "        text-align: right;\n",
       "    }\n",
       "</style>\n",
       "<table border=\"1\" class=\"dataframe\">\n",
       "  <thead>\n",
       "    <tr>\n",
       "      <th></th>\n",
       "      <th></th>\n",
       "      <th colspan=\"8\" halign=\"left\">height</th>\n",
       "    </tr>\n",
       "    <tr>\n",
       "      <th></th>\n",
       "      <th></th>\n",
       "      <th>count</th>\n",
       "      <th>mean</th>\n",
       "      <th>std</th>\n",
       "      <th>min</th>\n",
       "      <th>25%</th>\n",
       "      <th>50%</th>\n",
       "      <th>75%</th>\n",
       "      <th>max</th>\n",
       "    </tr>\n",
       "    <tr>\n",
       "      <th>sex</th>\n",
       "      <th>class</th>\n",
       "      <th></th>\n",
       "      <th></th>\n",
       "      <th></th>\n",
       "      <th></th>\n",
       "      <th></th>\n",
       "      <th></th>\n",
       "      <th></th>\n",
       "      <th></th>\n",
       "    </tr>\n",
       "  </thead>\n",
       "  <tbody>\n",
       "    <tr>\n",
       "      <th rowspan=\"2\" valign=\"top\">女</th>\n",
       "      <th>1</th>\n",
       "      <td>1.0</td>\n",
       "      <td>165.0</td>\n",
       "      <td>NaN</td>\n",
       "      <td>165.0</td>\n",
       "      <td>165.0</td>\n",
       "      <td>165.0</td>\n",
       "      <td>165.0</td>\n",
       "      <td>165.0</td>\n",
       "    </tr>\n",
       "    <tr>\n",
       "      <th>2</th>\n",
       "      <td>1.0</td>\n",
       "      <td>161.0</td>\n",
       "      <td>NaN</td>\n",
       "      <td>161.0</td>\n",
       "      <td>161.0</td>\n",
       "      <td>161.0</td>\n",
       "      <td>161.0</td>\n",
       "      <td>161.0</td>\n",
       "    </tr>\n",
       "    <tr>\n",
       "      <th rowspan=\"2\" valign=\"top\">男</th>\n",
       "      <th>1</th>\n",
       "      <td>2.0</td>\n",
       "      <td>175.0</td>\n",
       "      <td>0.0</td>\n",
       "      <td>175.0</td>\n",
       "      <td>175.0</td>\n",
       "      <td>175.0</td>\n",
       "      <td>175.0</td>\n",
       "      <td>175.0</td>\n",
       "    </tr>\n",
       "    <tr>\n",
       "      <th>2</th>\n",
       "      <td>1.0</td>\n",
       "      <td>176.0</td>\n",
       "      <td>NaN</td>\n",
       "      <td>176.0</td>\n",
       "      <td>176.0</td>\n",
       "      <td>176.0</td>\n",
       "      <td>176.0</td>\n",
       "      <td>176.0</td>\n",
       "    </tr>\n",
       "  </tbody>\n",
       "</table>\n",
       "</div>"
      ],
      "text/plain": [
       "          height                                               \n",
       "           count   mean  std    min    25%    50%    75%    max\n",
       "sex class                                                      \n",
       "女   1        1.0  165.0  NaN  165.0  165.0  165.0  165.0  165.0\n",
       "    2        1.0  161.0  NaN  161.0  161.0  161.0  161.0  161.0\n",
       "男   1        2.0  175.0  0.0  175.0  175.0  175.0  175.0  175.0\n",
       "    2        1.0  176.0  NaN  176.0  176.0  176.0  176.0  176.0"
      ]
     },
     "execution_count": 50,
     "metadata": {},
     "output_type": "execute_result"
    }
   ],
   "source": [
    "df.groupby(['sex','class']).describe()"
   ]
  },
  {
   "cell_type": "markdown",
   "metadata": {},
   "source": [
    "## 使用agg方法聚合数据"
   ]
  },
  {
   "cell_type": "markdown",
   "metadata": {},
   "source": [
    "1. agg，aggregate方法都支持对每个分组应用某函数，包括Python内置函数或自定义函数。同时这两个方法能够也能够直接对DataFrame进行函数应用操作。\n",
    "2.  在正常使用过程中，agg函数和aggregate函数对DataFrame对象操作时功能几乎完全相同，因此只需要掌握其中一个函数即可。它们的参数说明如下表。\n",
    "\n",
    "     DataFrame.agg(func, axis=0, *args, ** kwargs)\n",
    "     \n",
    "     DataFrame.aggregate(func, axis=0, *args, ** kwargs)\n",
    "     \n",
    "|参数名称|说明|\n",
    "|---|--|\n",
    "|**func**|接收list、dict、function。表示应用于每行／每列的函数。无默认。|\n",
    "|**axis**|接收0或1。代表操作的轴向。默认为0。|"
   ]
  },
  {
   "cell_type": "code",
   "execution_count": 74,
   "metadata": {
    "ExecuteTime": {
     "end_time": "2021-04-22T16:38:25.640442Z",
     "start_time": "2021-04-22T16:38:25.635456Z"
    }
   },
   "outputs": [],
   "source": [
    "df1 = pd.DataFrame({'Country':['China','China', 'India', 'India', 'America', 'Japan', 'China', 'India'],\n",
    "                   'Income':[10000, 10000, 5000, 5002, 40000, 50000, 8000, 5000],\n",
    "                    'Age':[5000, 4321, 1234, 4010, 250, 250, 4500, 4321]})"
   ]
  },
  {
   "cell_type": "code",
   "execution_count": 75,
   "metadata": {
    "ExecuteTime": {
     "end_time": "2021-04-22T16:38:26.840116Z",
     "start_time": "2021-04-22T16:38:26.829117Z"
    }
   },
   "outputs": [
    {
     "name": "stdout",
     "output_type": "stream",
     "text": [
      "America\n",
      "   Country  Income  Age\n",
      "4  America   40000  250\n",
      "China\n",
      "  Country  Income   Age\n",
      "0   China   10000  5000\n",
      "1   China   10000  4321\n",
      "6   China    8000  4500\n",
      "India\n",
      "  Country  Income   Age\n",
      "2   India    5000  1234\n",
      "3   India    5002  4010\n",
      "7   India    5000  4321\n",
      "Japan\n",
      "  Country  Income  Age\n",
      "5   Japan   50000  250\n"
     ]
    }
   ],
   "source": [
    "df1_gb = df1.groupby('Country')\n",
    "for index, data in df1_gb:\n",
    "    print(index)\n",
    "    print(data)"
   ]
  },
  {
   "cell_type": "code",
   "execution_count": 76,
   "metadata": {
    "ExecuteTime": {
     "end_time": "2021-04-22T16:38:46.434450Z",
     "start_time": "2021-04-22T16:38:46.420448Z"
    }
   },
   "outputs": [
    {
     "name": "stdout",
     "output_type": "stream",
     "text": [
      "        Income                        Age                   \n",
      "           min          mean    max   min         mean   max\n",
      "Country                                                     \n",
      "America  40000  40000.000000  40000   250   250.000000   250\n",
      "China     8000   9333.333333  10000  4321  4607.000000  5000\n",
      "India     5000   5000.666667   5002  1234  3188.333333  4321\n",
      "Japan    50000  50000.000000  50000   250   250.000000   250\n"
     ]
    }
   ],
   "source": [
    "'''聚合函数，对分组后数据进行聚合'''\n",
    "df1_agg = df1.groupby('Country').agg(['min', 'mean', 'max'])\n",
    "print(df1_agg)"
   ]
  },
  {
   "cell_type": "code",
   "execution_count": 82,
   "metadata": {
    "ExecuteTime": {
     "end_time": "2021-04-22T16:59:36.521831Z",
     "start_time": "2021-04-22T16:59:36.506871Z"
    }
   },
   "outputs": [
    {
     "name": "stdout",
     "output_type": "stream",
     "text": [
      "          Age                   \n",
      "          min         mean   max\n",
      "Country                         \n",
      "America   250   250.000000   250\n",
      "China    4321  4607.000000  5000\n",
      "India    1234  3188.333333  4321\n",
      "Japan     250   250.000000   250\n"
     ]
    }
   ],
   "source": [
    "'''对分组后的部分列进行聚合'''\n",
    "num_agg = {'Age':['min', 'mean', 'max']}\n",
    "print(df1.groupby('Country').agg(num_agg))"
   ]
  },
  {
   "cell_type": "code",
   "execution_count": 83,
   "metadata": {
    "ExecuteTime": {
     "end_time": "2021-04-22T16:59:39.121193Z",
     "start_time": "2021-04-22T16:59:39.107201Z"
    }
   },
   "outputs": [
    {
     "name": "stdout",
     "output_type": "stream",
     "text": [
      "          Age                           Income\n",
      "          min         mean   max          mean\n",
      "Country                                       \n",
      "America   250   250.000000   250  40000.000000\n",
      "China    4321  4607.000000  5000   9333.333333\n",
      "India    1234  3188.333333  4321   5000.666667\n",
      "Japan     250   250.000000   250  50000.000000\n"
     ]
    }
   ],
   "source": [
    "'''不同的列采用不同统计量'''\n",
    "num_agg = {'Age':['min', 'mean', 'max'],'Income':np.mean}\n",
    "print(df1.groupby('Country').agg(num_agg))"
   ]
  },
  {
   "cell_type": "markdown",
   "metadata": {},
   "source": [
    "### 传入自定义函数"
   ]
  },
  {
   "cell_type": "code",
   "execution_count": 79,
   "metadata": {
    "ExecuteTime": {
     "end_time": "2021-04-22T16:42:38.686159Z",
     "start_time": "2021-04-22T16:42:38.683133Z"
    }
   },
   "outputs": [],
   "source": [
    "def func(x):\n",
    "    return x.sum()/ x.mean()"
   ]
  },
  {
   "cell_type": "code",
   "execution_count": 80,
   "metadata": {
    "ExecuteTime": {
     "end_time": "2021-04-22T16:43:26.795641Z",
     "start_time": "2021-04-22T16:43:26.748233Z"
    },
    "scrolled": true
   },
   "outputs": [
    {
     "name": "stdout",
     "output_type": "stream",
     "text": [
      "         Age\n",
      "Country     \n",
      "America    1\n",
      "China      3\n",
      "India      3\n",
      "Japan      1\n"
     ]
    }
   ],
   "source": [
    "num1_agg = {'Age':func}\n",
    "print(df1.groupby('Country').agg(num1_agg,axis=0))"
   ]
  },
  {
   "cell_type": "markdown",
   "metadata": {},
   "source": [
    "## apply 方法聚合数据 "
   ]
  },
  {
   "cell_type": "markdown",
   "metadata": {},
   "source": [
    "1. apply方法类似agg方法能够将函数应用于每一列。不同之处在于apply方法相比agg方法传入的函数只能够作用于整个DataFrame或者Series，而无法像agg一样能够对不同字段，应用不同函数获取不同结果。\n",
    "2. 使用apply方法对GroupBy对象进行聚合操作其方法和agg方法也相同，只是使用agg方法能够实现对不同的字段进行应用不同的函数，而apply则不行。"
   ]
  },
  {
   "cell_type": "markdown",
   "metadata": {},
   "source": [
    "DataFrame.apply(func, axis=0, broadcast=False, raw=False, reduce=None, args=(), **kwds)\n",
    "\n",
    "\n",
    "![jupyter](13.png)"
   ]
  },
  {
   "cell_type": "code",
   "execution_count": 85,
   "metadata": {
    "ExecuteTime": {
     "end_time": "2021-04-22T17:13:23.015107Z",
     "start_time": "2021-04-22T17:13:22.986216Z"
    },
    "scrolled": true
   },
   "outputs": [
    {
     "name": "stdout",
     "output_type": "stream",
     "text": [
      "               b         d         e\n",
      "utah    1.187448  0.262405 -2.951539\n",
      "ohio   -0.172378 -0.879665  0.773131\n",
      "texas  -1.518896 -0.181788  0.557317\n",
      "oregon  0.324398  0.213035 -1.036350\n",
      "b    2.706344\n",
      "d    1.142070\n",
      "e    3.724671\n",
      "dtype: float64\n",
      "- -- -- -- -- -- -- -- -- -- -- -- -- -- -- -- -- -- -- -- -- -- -- -- -- -- -- -- -- -- -\n",
      "utah      4.138987\n",
      "ohio      1.652796\n",
      "texas     2.076213\n",
      "oregon    1.360748\n",
      "dtype: float64\n"
     ]
    }
   ],
   "source": [
    "import numpy as np\n",
    "import pandas as pd\n",
    " \n",
    " \n",
    "f = lambda x: x.max()-x.min()\n",
    " \n",
    "df = pd.DataFrame(np.random.randn(4,3),columns=list('bde'),index=['utah', 'ohio', 'texas', 'oregon'])\n",
    "print(df)\n",
    " \n",
    "t1 = df.apply(f)\n",
    "print(t1)\n",
    "print('- -'*30)\n",
    "t2 = df.apply(f, axis=1)\n",
    "\n",
    "print(t2)"
   ]
  },
  {
   "cell_type": "markdown",
   "metadata": {},
   "source": [
    "### 应用--找指定列具有最大值的行"
   ]
  },
  {
   "cell_type": "code",
   "execution_count": 107,
   "metadata": {
    "ExecuteTime": {
     "end_time": "2021-04-22T18:06:13.481225Z",
     "start_time": "2021-04-22T18:06:13.464250Z"
    }
   },
   "outputs": [
    {
     "name": "stdout",
     "output_type": "stream",
     "text": [
      "- -- -- -- -- -- -- -- -- -- -- -- -- -- -- -- -- -- -- -- -- -- -- -- -- -- -- -- -- -- -\n"
     ]
    },
    {
     "data": {
      "text/html": [
       "<div>\n",
       "<style scoped>\n",
       "    .dataframe tbody tr th:only-of-type {\n",
       "        vertical-align: middle;\n",
       "    }\n",
       "\n",
       "    .dataframe tbody tr th {\n",
       "        vertical-align: top;\n",
       "    }\n",
       "\n",
       "    .dataframe thead th {\n",
       "        text-align: right;\n",
       "    }\n",
       "</style>\n",
       "<table border=\"1\" class=\"dataframe\">\n",
       "  <thead>\n",
       "    <tr style=\"text-align: right;\">\n",
       "      <th></th>\n",
       "      <th></th>\n",
       "      <th>name</th>\n",
       "      <th>sex</th>\n",
       "      <th>class</th>\n",
       "      <th>height</th>\n",
       "    </tr>\n",
       "    <tr>\n",
       "      <th>sex</th>\n",
       "      <th></th>\n",
       "      <th></th>\n",
       "      <th></th>\n",
       "      <th></th>\n",
       "      <th></th>\n",
       "    </tr>\n",
       "  </thead>\n",
       "  <tbody>\n",
       "    <tr>\n",
       "      <th>女</th>\n",
       "      <th>4</th>\n",
       "      <td>李辰</td>\n",
       "      <td>女</td>\n",
       "      <td>2</td>\n",
       "      <td>161</td>\n",
       "    </tr>\n",
       "    <tr>\n",
       "      <th>男</th>\n",
       "      <th>3</th>\n",
       "      <td>刘飒</td>\n",
       "      <td>男</td>\n",
       "      <td>1</td>\n",
       "      <td>175</td>\n",
       "    </tr>\n",
       "  </tbody>\n",
       "</table>\n",
       "</div>"
      ],
      "text/plain": [
       "      name sex  class  height\n",
       "sex                          \n",
       "女   4   李辰   女      2     161\n",
       "男   3   刘飒   男      1     175"
      ]
     },
     "execution_count": 107,
     "metadata": {},
     "output_type": "execute_result"
    }
   ],
   "source": [
    "import pandas as pd\n",
    "import numpy as np\n",
    "\n",
    "df = pd.DataFrame({'name': ['李磊', '王明', '张萌', '刘飒', '李辰'],\n",
    "    'sex':['男', '男', '女', '男', '女'],\n",
    "    'class': [1,2,1,1,2],\n",
    "    'height': [175,176,165,175,161]})\n",
    "adf=df.groupby('sex')\n",
    "print('- -'*30)\n",
    "\n",
    "def top(df,column='sex'):\n",
    "    return(df.sort_values(by=column,ascending=True)[-1:])#提取最大值\n",
    "a = df.groupby('sex').apply(top)\n",
    "a"
   ]
  },
  {
   "cell_type": "markdown",
   "metadata": {},
   "source": [
    "## 合并"
   ]
  },
  {
   "cell_type": "markdown",
   "metadata": {},
   "source": [
    "### concat():横向和纵向堆叠方式合并数据"
   ]
  },
  {
   "cell_type": "markdown",
   "metadata": {},
   "source": [
    "- concat(objs, axis=0, join='outer', join_axes=None, ignore_index=False, keys=None, levels=None, names=None, verify_integrity=False, copy=True)\n",
    "\n",
    "\n",
    "<img src='14.png' width=\"70%\">\n",
    "<img src='15.png' width=\"70%\">"
   ]
  },
  {
   "cell_type": "code",
   "execution_count": 86,
   "metadata": {
    "ExecuteTime": {
     "end_time": "2021-04-22T17:31:05.444915Z",
     "start_time": "2021-04-22T17:31:05.433914Z"
    }
   },
   "outputs": [
    {
     "name": "stdout",
     "output_type": "stream",
     "text": [
      "按轴进行内连接\r\n",
      "             city  rank         city  rank\n",
      "0        Chicago     1      Chicago     1\n",
      "1  San Francisco     2       Boston     4\n",
      "2  New York City     3  Los Angeles     5\n",
      "进行外连接并指定keys(行索引)\r\n",
      "               city  rank\n",
      "a 0        Chicago     1\n",
      "  1  San Francisco     2\n",
      "  2  New York City     3\n",
      "b 0        Chicago     1\n",
      "  1         Boston     4\n",
      "  2    Los Angeles     5\n"
     ]
    }
   ],
   "source": [
    "from pandas import Series,DataFrame,concat\n",
    " \n",
    "df1 = DataFrame({'city': ['Chicago', 'San Francisco', 'New York City'], 'rank': range(1, 4)})\n",
    "df2 = DataFrame({'city': ['Chicago', 'Boston', 'Los Angeles'], 'rank': [1, 4, 5]})\n",
    "print ('按轴进行内连接\\r\\n',concat([df1,df2],join=\"inner\",axis=1))\n",
    "print ('进行外连接并指定keys(行索引)\\r\\n',concat([df1,df2],keys=['a','b'])) #这里有重复的数据"
   ]
  },
  {
   "cell_type": "markdown",
   "metadata": {},
   "source": [
    "### append()：纵向"
   ]
  },
  {
   "cell_type": "markdown",
   "metadata": {},
   "source": [
    "- append方法也可以用于纵向合并两张表。但是append方法实现纵向表堆叠有一个前提条件，那就是两张表的列名需要完全一致。append方法的基本语法如下:\n",
    "\n",
    "pandas.DataFrame.append(self, other, ignore_index=False, verify_integrity=False)。\n",
    "<img src='16.png' width=\"70%\">"
   ]
  },
  {
   "cell_type": "code",
   "execution_count": 114,
   "metadata": {
    "ExecuteTime": {
     "end_time": "2021-04-22T18:26:40.542672Z",
     "start_time": "2021-04-22T18:26:40.532671Z"
    }
   },
   "outputs": [
    {
     "data": {
      "text/html": [
       "<div>\n",
       "<style scoped>\n",
       "    .dataframe tbody tr th:only-of-type {\n",
       "        vertical-align: middle;\n",
       "    }\n",
       "\n",
       "    .dataframe tbody tr th {\n",
       "        vertical-align: top;\n",
       "    }\n",
       "\n",
       "    .dataframe thead th {\n",
       "        text-align: right;\n",
       "    }\n",
       "</style>\n",
       "<table border=\"1\" class=\"dataframe\">\n",
       "  <thead>\n",
       "    <tr style=\"text-align: right;\">\n",
       "      <th></th>\n",
       "      <th>A</th>\n",
       "      <th>B</th>\n",
       "    </tr>\n",
       "  </thead>\n",
       "  <tbody>\n",
       "    <tr>\n",
       "      <th>0</th>\n",
       "      <td>1</td>\n",
       "      <td>2</td>\n",
       "    </tr>\n",
       "    <tr>\n",
       "      <th>1</th>\n",
       "      <td>3</td>\n",
       "      <td>4</td>\n",
       "    </tr>\n",
       "    <tr>\n",
       "      <th>0</th>\n",
       "      <td>5</td>\n",
       "      <td>6</td>\n",
       "    </tr>\n",
       "    <tr>\n",
       "      <th>1</th>\n",
       "      <td>7</td>\n",
       "      <td>8</td>\n",
       "    </tr>\n",
       "  </tbody>\n",
       "</table>\n",
       "</div>"
      ],
      "text/plain": [
       "   A  B\n",
       "0  1  2\n",
       "1  3  4\n",
       "0  5  6\n",
       "1  7  8"
      ]
     },
     "execution_count": 114,
     "metadata": {},
     "output_type": "execute_result"
    }
   ],
   "source": [
    "df = pd.DataFrame([[1, 2], [3, 4]], columns=list('AB'))\n",
    "df2 = pd.DataFrame([[5, 6], [7, 8]], columns=list('AB'))\n",
    "df.append(df2)"
   ]
  },
  {
   "cell_type": "code",
   "execution_count": 115,
   "metadata": {
    "ExecuteTime": {
     "end_time": "2021-04-22T18:27:01.800878Z",
     "start_time": "2021-04-22T18:27:01.794865Z"
    }
   },
   "outputs": [
    {
     "data": {
      "text/html": [
       "<div>\n",
       "<style scoped>\n",
       "    .dataframe tbody tr th:only-of-type {\n",
       "        vertical-align: middle;\n",
       "    }\n",
       "\n",
       "    .dataframe tbody tr th {\n",
       "        vertical-align: top;\n",
       "    }\n",
       "\n",
       "    .dataframe thead th {\n",
       "        text-align: right;\n",
       "    }\n",
       "</style>\n",
       "<table border=\"1\" class=\"dataframe\">\n",
       "  <thead>\n",
       "    <tr style=\"text-align: right;\">\n",
       "      <th></th>\n",
       "      <th>A</th>\n",
       "      <th>B</th>\n",
       "    </tr>\n",
       "  </thead>\n",
       "  <tbody>\n",
       "    <tr>\n",
       "      <th>0</th>\n",
       "      <td>1</td>\n",
       "      <td>2</td>\n",
       "    </tr>\n",
       "    <tr>\n",
       "      <th>1</th>\n",
       "      <td>3</td>\n",
       "      <td>4</td>\n",
       "    </tr>\n",
       "    <tr>\n",
       "      <th>2</th>\n",
       "      <td>5</td>\n",
       "      <td>6</td>\n",
       "    </tr>\n",
       "    <tr>\n",
       "      <th>3</th>\n",
       "      <td>7</td>\n",
       "      <td>8</td>\n",
       "    </tr>\n",
       "  </tbody>\n",
       "</table>\n",
       "</div>"
      ],
      "text/plain": [
       "   A  B\n",
       "0  1  2\n",
       "1  3  4\n",
       "2  5  6\n",
       "3  7  8"
      ]
     },
     "execution_count": 115,
     "metadata": {},
     "output_type": "execute_result"
    }
   ],
   "source": [
    "df.append(df2, ignore_index=True)"
   ]
  },
  {
   "cell_type": "markdown",
   "metadata": {},
   "source": [
    "### merge函数：主键合并"
   ]
  },
  {
   "cell_type": "markdown",
   "metadata": {},
   "source": [
    "- 主键合并, 通过一个或多个见将两个数据集的行连接\n",
    "- 有左连接（left）、右连接（right）、内连接（inner）和外连接（outer），可以在合并过程中对数据集中的数据进行排序等。\n",
    "\n",
    "pandas.merge(left, right, how='inner', on=None, left_on=None, right_on=None, left_index=False, right_index=False, sort=False, \n",
    "          suffixes=('_x', '_y'), copy=True, indicator=False)\n",
    "<img src='17.png' width=\"70%\">"
   ]
  },
  {
   "cell_type": "code",
   "execution_count": 117,
   "metadata": {
    "ExecuteTime": {
     "end_time": "2021-04-22T18:33:32.047244Z",
     "start_time": "2021-04-22T18:33:32.028326Z"
    },
    "scrolled": true
   },
   "outputs": [
    {
     "name": "stdout",
     "output_type": "stream",
     "text": [
      "  alpha  feature1 feature2\n",
      "0     A         1      low\n",
      "1     B         1   medium\n",
      "2     B         2   medium\n",
      "3     C         3     high\n",
      "4     D         3      low\n",
      "5     E         1     high\n",
      "------------------------------------------------------------\n",
      "  alpha  pazham    kilo  price\n",
      "0     A   apple    high      5\n",
      "1     A  orange     low      6\n",
      "2     B    pine    high      5\n",
      "3     F    pear  medium      7\n"
     ]
    },
    {
     "data": {
      "text/html": [
       "<div>\n",
       "<style scoped>\n",
       "    .dataframe tbody tr th:only-of-type {\n",
       "        vertical-align: middle;\n",
       "    }\n",
       "\n",
       "    .dataframe tbody tr th {\n",
       "        vertical-align: top;\n",
       "    }\n",
       "\n",
       "    .dataframe thead th {\n",
       "        text-align: right;\n",
       "    }\n",
       "</style>\n",
       "<table border=\"1\" class=\"dataframe\">\n",
       "  <thead>\n",
       "    <tr style=\"text-align: right;\">\n",
       "      <th></th>\n",
       "      <th>alpha</th>\n",
       "      <th>feature1</th>\n",
       "      <th>feature2</th>\n",
       "      <th>pazham</th>\n",
       "      <th>kilo</th>\n",
       "      <th>price</th>\n",
       "    </tr>\n",
       "  </thead>\n",
       "  <tbody>\n",
       "    <tr>\n",
       "      <th>0</th>\n",
       "      <td>A</td>\n",
       "      <td>1</td>\n",
       "      <td>low</td>\n",
       "      <td>apple</td>\n",
       "      <td>high</td>\n",
       "      <td>5</td>\n",
       "    </tr>\n",
       "    <tr>\n",
       "      <th>1</th>\n",
       "      <td>A</td>\n",
       "      <td>1</td>\n",
       "      <td>low</td>\n",
       "      <td>orange</td>\n",
       "      <td>low</td>\n",
       "      <td>6</td>\n",
       "    </tr>\n",
       "    <tr>\n",
       "      <th>2</th>\n",
       "      <td>B</td>\n",
       "      <td>1</td>\n",
       "      <td>medium</td>\n",
       "      <td>pine</td>\n",
       "      <td>high</td>\n",
       "      <td>5</td>\n",
       "    </tr>\n",
       "    <tr>\n",
       "      <th>3</th>\n",
       "      <td>B</td>\n",
       "      <td>2</td>\n",
       "      <td>medium</td>\n",
       "      <td>pine</td>\n",
       "      <td>high</td>\n",
       "      <td>5</td>\n",
       "    </tr>\n",
       "  </tbody>\n",
       "</table>\n",
       "</div>"
      ],
      "text/plain": [
       "  alpha  feature1 feature2  pazham  kilo  price\n",
       "0     A         1      low   apple  high      5\n",
       "1     A         1      low  orange   low      6\n",
       "2     B         1   medium    pine  high      5\n",
       "3     B         2   medium    pine  high      5"
      ]
     },
     "execution_count": 117,
     "metadata": {},
     "output_type": "execute_result"
    }
   ],
   "source": [
    "import pandas as pd\n",
    "import numpy as np\n",
    "\n",
    "df1=pd.DataFrame({'alpha':['A','B','B','C','D','E'],'feature1':[1,1,2,3,3,1],\n",
    "            'feature2':['low','medium','medium','high','low','high']})\n",
    "# 定义df2\n",
    "df2 = pd.DataFrame({'alpha':['A','A','B','F'],'pazham':['apple','orange','pine','pear'],\n",
    "            'kilo':['high','low','high','medium'],'price':np.array([5,6,5,7])})\n",
    "print(df1)\n",
    "print('--'*30)\n",
    "print(df2)\n",
    "# 基于共同列alpha的内连接\n",
    "pd.merge(df1,df2,how='inner',on='alpha')  #取共同列alpha值的交集进行连接"
   ]
  },
  {
   "cell_type": "markdown",
   "metadata": {},
   "source": [
    "## 分布分析"
   ]
  },
  {
   "cell_type": "markdown",
   "metadata": {},
   "source": [
    "1. 分布分析是指根据分析的目的，将定量数据进行等距或者不等距的分组，进行研究各组分布规律的一种分析方法。如学生成绩分布、用户年龄分布、收入状况分布等。\n",
    "\n",
    "2. 分布分析cut函数的语法格式：\n",
    "   pandas.cut(x,bins,right=True,labels=None,retbins=False,precision=3,Include_lowest=False)\n",
    "   \n",
    "|参数|参数说明|\n",
    "|--|--|\n",
    "|x|进行划分的一维数组|\n",
    "|bins|取整数值，表示将x划分为多少个等距区间。取序列值，表示将x划分在指定序列中，若不在该序列中，则是Nan。|\n",
    "   |labels|分组时，是否用自定义标签来代替返回的bins，可选项，默认NULL。|\n",
    "   |precision|精度|\n",
    "   |Include_lowest|是否包含左断点，默认不包含|\n",
    "\n",
    "在分布分析时，先用cut()函数确定分布分析中的分层，然后再用groupby()函数实现分组分析."
   ]
  },
  {
   "cell_type": "markdown",
   "metadata": {
    "run_control": {
     "marked": true
    }
   },
   "source": [
    "### 应用\n"
   ]
  },
  {
   "cell_type": "code",
   "execution_count": 146,
   "metadata": {
    "ExecuteTime": {
     "end_time": "2021-04-22T19:36:14.926455Z",
     "start_time": "2021-04-22T19:36:14.903521Z"
    }
   },
   "outputs": [
    {
     "data": {
      "text/html": [
       "<div>\n",
       "<style scoped>\n",
       "    .dataframe tbody tr th:only-of-type {\n",
       "        vertical-align: middle;\n",
       "    }\n",
       "\n",
       "    .dataframe tbody tr th {\n",
       "        vertical-align: top;\n",
       "    }\n",
       "\n",
       "    .dataframe thead th {\n",
       "        text-align: right;\n",
       "    }\n",
       "</style>\n",
       "<table border=\"1\" class=\"dataframe\">\n",
       "  <thead>\n",
       "    <tr style=\"text-align: right;\">\n",
       "      <th></th>\n",
       "      <th>emp_id</th>\n",
       "      <th>sex</th>\n",
       "      <th>age</th>\n",
       "      <th>education</th>\n",
       "      <th>firstjob</th>\n",
       "      <th>region</th>\n",
       "      <th>industry</th>\n",
       "      <th>occupation</th>\n",
       "      <th>salary</th>\n",
       "      <th>subsidy</th>\n",
       "    </tr>\n",
       "  </thead>\n",
       "  <tbody>\n",
       "    <tr>\n",
       "      <th>0</th>\n",
       "      <td>30</td>\n",
       "      <td>男</td>\n",
       "      <td>30</td>\n",
       "      <td>本科</td>\n",
       "      <td>2011-07-20</td>\n",
       "      <td>广州</td>\n",
       "      <td>机械</td>\n",
       "      <td>技术员</td>\n",
       "      <td>5000</td>\n",
       "      <td>500</td>\n",
       "    </tr>\n",
       "    <tr>\n",
       "      <th>1</th>\n",
       "      <td>154</td>\n",
       "      <td>男</td>\n",
       "      <td>23</td>\n",
       "      <td>高中</td>\n",
       "      <td>2014-06-23</td>\n",
       "      <td>广州</td>\n",
       "      <td>机械</td>\n",
       "      <td>操作工</td>\n",
       "      <td>2500</td>\n",
       "      <td>1500</td>\n",
       "    </tr>\n",
       "    <tr>\n",
       "      <th>2</th>\n",
       "      <td>40</td>\n",
       "      <td>女</td>\n",
       "      <td>28</td>\n",
       "      <td>大专</td>\n",
       "      <td>2011-07-20</td>\n",
       "      <td>广州</td>\n",
       "      <td>机械</td>\n",
       "      <td>文员</td>\n",
       "      <td>3800</td>\n",
       "      <td>200</td>\n",
       "    </tr>\n",
       "    <tr>\n",
       "      <th>3</th>\n",
       "      <td>41</td>\n",
       "      <td>女</td>\n",
       "      <td>30</td>\n",
       "      <td>本科</td>\n",
       "      <td>2011-07-20</td>\n",
       "      <td>广州</td>\n",
       "      <td>机械</td>\n",
       "      <td>技术员</td>\n",
       "      <td>4500</td>\n",
       "      <td>500</td>\n",
       "    </tr>\n",
       "    <tr>\n",
       "      <th>4</th>\n",
       "      <td>42</td>\n",
       "      <td>男</td>\n",
       "      <td>45</td>\n",
       "      <td>研究生</td>\n",
       "      <td>2000-09-22</td>\n",
       "      <td>广州</td>\n",
       "      <td>机械</td>\n",
       "      <td>主管</td>\n",
       "      <td>7699</td>\n",
       "      <td>1000</td>\n",
       "    </tr>\n",
       "    <tr>\n",
       "      <th>5</th>\n",
       "      <td>43</td>\n",
       "      <td>男</td>\n",
       "      <td>37</td>\n",
       "      <td>高中</td>\n",
       "      <td>2000-03-23</td>\n",
       "      <td>广州</td>\n",
       "      <td>商业</td>\n",
       "      <td>店员</td>\n",
       "      <td>3500</td>\n",
       "      <td>600</td>\n",
       "    </tr>\n",
       "    <tr>\n",
       "      <th>6</th>\n",
       "      <td>44</td>\n",
       "      <td>女</td>\n",
       "      <td>36</td>\n",
       "      <td>大专</td>\n",
       "      <td>2003-03-24</td>\n",
       "      <td>广州</td>\n",
       "      <td>商业</td>\n",
       "      <td>主管</td>\n",
       "      <td>4500</td>\n",
       "      <td>1000</td>\n",
       "    </tr>\n",
       "    <tr>\n",
       "      <th>7</th>\n",
       "      <td>165</td>\n",
       "      <td>女</td>\n",
       "      <td>25</td>\n",
       "      <td>高中</td>\n",
       "      <td>2012-07-21</td>\n",
       "      <td>长沙</td>\n",
       "      <td>机械</td>\n",
       "      <td>文员</td>\n",
       "      <td>2500</td>\n",
       "      <td>500</td>\n",
       "    </tr>\n",
       "    <tr>\n",
       "      <th>8</th>\n",
       "      <td>156</td>\n",
       "      <td>男</td>\n",
       "      <td>36</td>\n",
       "      <td>本科</td>\n",
       "      <td>2007-09-22</td>\n",
       "      <td>长沙</td>\n",
       "      <td>机械</td>\n",
       "      <td>技术员</td>\n",
       "      <td>4500</td>\n",
       "      <td>500</td>\n",
       "    </tr>\n",
       "    <tr>\n",
       "      <th>9</th>\n",
       "      <td>154</td>\n",
       "      <td>男</td>\n",
       "      <td>38</td>\n",
       "      <td>研究生</td>\n",
       "      <td>2004-08-12</td>\n",
       "      <td>长沙</td>\n",
       "      <td>机械</td>\n",
       "      <td>主管</td>\n",
       "      <td>6500</td>\n",
       "      <td>1000</td>\n",
       "    </tr>\n",
       "    <tr>\n",
       "      <th>10</th>\n",
       "      <td>30</td>\n",
       "      <td>男</td>\n",
       "      <td>23</td>\n",
       "      <td>高中</td>\n",
       "      <td>2013-06-23</td>\n",
       "      <td>长沙</td>\n",
       "      <td>机械</td>\n",
       "      <td>操作工</td>\n",
       "      <td>2000</td>\n",
       "      <td>1000</td>\n",
       "    </tr>\n",
       "    <tr>\n",
       "      <th>11</th>\n",
       "      <td>154</td>\n",
       "      <td>男</td>\n",
       "      <td>28</td>\n",
       "      <td>大专</td>\n",
       "      <td>2011-07-20</td>\n",
       "      <td>长沙</td>\n",
       "      <td>机械</td>\n",
       "      <td>文员</td>\n",
       "      <td>3000</td>\n",
       "      <td>300</td>\n",
       "    </tr>\n",
       "    <tr>\n",
       "      <th>12</th>\n",
       "      <td>40</td>\n",
       "      <td>女</td>\n",
       "      <td>37</td>\n",
       "      <td>高中</td>\n",
       "      <td>2000-03-23</td>\n",
       "      <td>长沙</td>\n",
       "      <td>商业</td>\n",
       "      <td>店员</td>\n",
       "      <td>2500</td>\n",
       "      <td>500</td>\n",
       "    </tr>\n",
       "    <tr>\n",
       "      <th>13</th>\n",
       "      <td>165</td>\n",
       "      <td>女</td>\n",
       "      <td>36</td>\n",
       "      <td>大专</td>\n",
       "      <td>2003-03-24</td>\n",
       "      <td>长沙</td>\n",
       "      <td>商业</td>\n",
       "      <td>主管</td>\n",
       "      <td>3500</td>\n",
       "      <td>1000</td>\n",
       "    </tr>\n",
       "    <tr>\n",
       "      <th>14</th>\n",
       "      <td>156</td>\n",
       "      <td>男</td>\n",
       "      <td>37</td>\n",
       "      <td>高中</td>\n",
       "      <td>2013-06-23</td>\n",
       "      <td>长沙</td>\n",
       "      <td>商业</td>\n",
       "      <td>店员</td>\n",
       "      <td>2800</td>\n",
       "      <td>1000</td>\n",
       "    </tr>\n",
       "    <tr>\n",
       "      <th>15</th>\n",
       "      <td>154</td>\n",
       "      <td>男</td>\n",
       "      <td>36</td>\n",
       "      <td>本科</td>\n",
       "      <td>2011-07-20</td>\n",
       "      <td>长沙</td>\n",
       "      <td>商业</td>\n",
       "      <td>主管</td>\n",
       "      <td>4500</td>\n",
       "      <td>1000</td>\n",
       "    </tr>\n",
       "    <tr>\n",
       "      <th>16</th>\n",
       "      <td>46</td>\n",
       "      <td>女</td>\n",
       "      <td>28</td>\n",
       "      <td>高中</td>\n",
       "      <td>2007-03-23</td>\n",
       "      <td>广州</td>\n",
       "      <td>商业</td>\n",
       "      <td>店员</td>\n",
       "      <td>3000</td>\n",
       "      <td>1500</td>\n",
       "    </tr>\n",
       "    <tr>\n",
       "      <th>17</th>\n",
       "      <td>47</td>\n",
       "      <td>女</td>\n",
       "      <td>36</td>\n",
       "      <td>本科</td>\n",
       "      <td>2003-03-24</td>\n",
       "      <td>广州</td>\n",
       "      <td>商业</td>\n",
       "      <td>主管</td>\n",
       "      <td>5000</td>\n",
       "      <td>1500</td>\n",
       "    </tr>\n",
       "  </tbody>\n",
       "</table>\n",
       "</div>"
      ],
      "text/plain": [
       "    emp_id sex  age education   firstjob region industry occupation  salary  \\\n",
       "0       30   男   30        本科 2011-07-20     广州       机械        技术员    5000   \n",
       "1      154   男   23        高中 2014-06-23     广州       机械        操作工    2500   \n",
       "2       40   女   28        大专 2011-07-20     广州       机械         文员    3800   \n",
       "3       41   女   30        本科 2011-07-20     广州       机械        技术员    4500   \n",
       "4       42   男   45       研究生 2000-09-22     广州       机械         主管    7699   \n",
       "5       43   男   37        高中 2000-03-23     广州       商业         店员    3500   \n",
       "6       44   女   36        大专 2003-03-24     广州       商业         主管    4500   \n",
       "7      165   女   25        高中 2012-07-21     长沙       机械         文员    2500   \n",
       "8      156   男   36        本科 2007-09-22     长沙       机械        技术员    4500   \n",
       "9      154   男   38       研究生 2004-08-12     长沙       机械         主管    6500   \n",
       "10      30   男   23        高中 2013-06-23     长沙       机械        操作工    2000   \n",
       "11     154   男   28        大专 2011-07-20     长沙       机械         文员    3000   \n",
       "12      40   女   37        高中 2000-03-23     长沙       商业         店员    2500   \n",
       "13     165   女   36        大专 2003-03-24     长沙       商业         主管    3500   \n",
       "14     156   男   37        高中 2013-06-23     长沙       商业         店员    2800   \n",
       "15     154   男   36        本科 2011-07-20     长沙       商业         主管    4500   \n",
       "16      46   女   28        高中 2007-03-23     广州       商业         店员    3000   \n",
       "17      47   女   36        本科 2003-03-24     广州       商业         主管    5000   \n",
       "\n",
       "    subsidy  \n",
       "0       500  \n",
       "1      1500  \n",
       "2       200  \n",
       "3       500  \n",
       "4      1000  \n",
       "5       600  \n",
       "6      1000  \n",
       "7       500  \n",
       "8       500  \n",
       "9      1000  \n",
       "10     1000  \n",
       "11      300  \n",
       "12      500  \n",
       "13     1000  \n",
       "14     1000  \n",
       "15     1000  \n",
       "16     1500  \n",
       "17     1500  "
      ]
     },
     "execution_count": 146,
     "metadata": {},
     "output_type": "execute_result"
    }
   ],
   "source": [
    "import numpy as np\n",
    "import pandas as pd\n",
    "\n",
    "df = pd.read_excel('E:\\Data\\Employee_income.xls',\n",
    "                   sheet_name='emp_income')\n",
    "df"
   ]
  },
  {
   "cell_type": "markdown",
   "metadata": {},
   "source": [
    "**按照年龄分布状况，分组统计人数、平均月薪、最低月薪、最高月薪**"
   ]
  },
  {
   "cell_type": "code",
   "execution_count": 145,
   "metadata": {
    "ExecuteTime": {
     "end_time": "2021-04-22T19:32:39.747692Z",
     "start_time": "2021-04-22T19:32:39.727746Z"
    }
   },
   "outputs": [
    {
     "name": "stdout",
     "output_type": "stream",
     "text": [
      "           min         mean     max     min\n",
      "年龄分层                                       \n",
      "20-30岁  2000.0  3287.500000  5000.0  2000.0\n",
      "31-40岁  2500.0  4144.444444  6500.0  2500.0\n",
      "41-50岁  7699.0  7699.000000  7699.0  7699.0\n",
      "51-60岁     NaN          NaN     NaN     NaN\n"
     ]
    }
   ],
   "source": [
    "import numpy as np\n",
    "import pandas as pd\n",
    "\n",
    "df = pd.read_excel('E:\\Data\\Employee_income.xls',\n",
    "                   sheet_name='emp_income')\n",
    "#年龄分布状况\n",
    "age_bins = [20,30,40,50,60]\n",
    "age_labels = ['20-30岁', '31-40岁', '41-50岁', '51-60岁']\n",
    "df['年龄分层']=pd.cut(df.age, age_bins, labels=age_labels)\n",
    "\n",
    "#分组统计人数、平均月薪、最高月薪和最低月薪\n",
    "dfg=df.groupby(by=['年龄分层'])['salary']\n",
    "aggResult = dfg.agg(['min','mean','max','min'])\n",
    "\n",
    "print(aggResult)\n"
   ]
  },
  {
   "cell_type": "markdown",
   "metadata": {},
   "source": [
    "## 交叉分析"
   ]
  },
  {
   "cell_type": "markdown",
   "metadata": {},
   "source": [
    "### 透视表"
   ]
  },
  {
   "cell_type": "markdown",
   "metadata": {},
   "source": [
    "1. 交叉分析通常是用于分析两个或两个以上分组变量之间的关系，以交叉表形式进行变量间关系的对比分析；从数据的不同维度，综合进行分组细分，进一步了解数据的构成、分布特征。\n",
    "2. 透视表\n",
    " 交叉分析有数据透视表和交叉表两种，其中，pivot_table()函数返回值是数据透视表的结果，该函数相当于excel中的数据透视表功能。\n",
    "3. 交叉表\n",
    " 交叉表（cross-tabulation, 简称crosstab）是一种用于计算分组频率的特殊透视表。 交叉表crosstab()函数"
   ]
  },
  {
   "cell_type": "markdown",
   "metadata": {},
   "source": [
    "pd.pivot_table(data,values,index,columns,aggfunc,fill_value,margins)\n",
    "\n",
    "dataframe.pivot_table(values,index,columns,aggfunc,fill_value,margins)\n",
    "\n",
    "|参数|参数说明|\n",
    "|---|--|\n",
    "|data|数据框|\n",
    "|values：|待聚合的列的名称，默认是所有数值列|\n",
    "|index：|数据透视表中的行|\n",
    "|columns：|数据透视表中的列|\n",
    "|aggfunc：|统计函数，默认是'mean',任何对groupby有效的函数|\n",
    "|fill_value：|替换结果表中的缺失值|\n",
    "|margins|添加行/列的小计和总计，默认False|\n",
    "|margins_name|行/列的小计和总计的名字|"
   ]
  },
  {
   "cell_type": "markdown",
   "metadata": {},
   "source": [
    "### 应用\n",
    "对年龄列和性别列进行交叉分析，研究不同年龄段不同性别的人数"
   ]
  },
  {
   "cell_type": "code",
   "execution_count": 153,
   "metadata": {
    "ExecuteTime": {
     "end_time": "2021-04-22T19:58:06.842859Z",
     "start_time": "2021-04-22T19:58:06.789994Z"
    }
   },
   "outputs": [
    {
     "name": "stdout",
     "output_type": "stream",
     "text": [
      "       size          \n",
      "        age          \n",
      "sex       女     男  总和\n",
      "年龄分层                 \n",
      "20-29岁  3.0   3.0   6\n",
      "30-39岁  5.0   6.0  11\n",
      "40-49岁  NaN   1.0   1\n",
      "总和      8.0  10.0  18\n"
     ]
    }
   ],
   "source": [
    "import numpy as np\n",
    "import pandas as pd\n",
    "\n",
    "\n",
    "df = pd.read_excel('E:\\Data\\Employee_income.xls',\n",
    "                   sheet_name='emp_income')\n",
    "#年龄分布状况\n",
    "age_bins = [20,30,40,50,60,70]\n",
    "age_labels = ['20-29岁', '30-39岁', '40-49岁', '50-59岁','60-69岁']\n",
    "df['年龄分层']=pd.cut(df.age, age_bins, right=False, labels=age_labels)\n",
    "\n",
    "ptResult1 = df.pivot_table(\n",
    "    values=['age'],\n",
    "    index=['年龄分层'],\n",
    "    columns=['sex'],\n",
    "    aggfunc=[np.size]\n",
    ",margins=True,margins_name='总和')\n",
    "print(ptResult1)"
   ]
  },
  {
   "cell_type": "markdown",
   "metadata": {},
   "source": [
    "### 列联表(交叉表)"
   ]
  },
  {
   "cell_type": "markdown",
   "metadata": {},
   "source": [
    "crosstab(index, columns, values=None, rownames=None, colnames=None, aggfunc=None, margins=False, dropna=True, normalize=False)\n",
    "\n",
    "1. crosstab的index和columns是必须要指定复制的参数：\n",
    "\n",
    "|参数|参数说明|\n",
    "|---|--|\n",
    "|index|接收 array、Series或数组列表，表示要在行中分组的值|\n",
    "|columns|接收 array、Series或数组列表，表示要在列中分组的值|\n",
    "|values|接受array,可选。根据因素聚合的值数组。|\n"
   ]
  },
  {
   "cell_type": "code",
   "execution_count": 154,
   "metadata": {
    "ExecuteTime": {
     "end_time": "2021-04-22T20:04:26.795036Z",
     "start_time": "2021-04-22T20:04:26.646484Z"
    }
   },
   "outputs": [
    {
     "name": "stdout",
     "output_type": "stream",
     "text": [
      "education  大专  本科  研究生  高中  All\n",
      "sex                            \n",
      "女           3   2    0   3    8\n",
      "男           1   3    2   4   10\n",
      "All         4   5    2   7   18\n"
     ]
    }
   ],
   "source": [
    "import pandas as pd\n",
    "\n",
    "df = pd.read_excel('E:\\Data\\Employee_income.xls',\n",
    "                   sheet_name='emp_income')\n",
    "\n",
    "# 按性别（sex）分组，统计各个分组中学历的频数\n",
    "ctResult = pd.crosstab(df['sex'], df['education'], margins=True)\n",
    "print(ctResult)"
   ]
  },
  {
   "cell_type": "markdown",
   "metadata": {},
   "source": [
    "### 相关分析"
   ]
  },
  {
   "cell_type": "markdown",
   "metadata": {},
   "source": [
    "1. 相关分析(correlation analysis)是研究现象之间是否存在某种依存关系，并对具体有依存关系的现象探讨其相关方向以及相关程度，是研究随机变量之间相关关系的一种统计方法。\n",
    "         \n",
    "         相关分析函数：DataFrame.corr()和Series.corr(other)\n"
   ]
  },
  {
   "cell_type": "code",
   "execution_count": 156,
   "metadata": {
    "ExecuteTime": {
     "end_time": "2021-04-22T20:09:44.559870Z",
     "start_time": "2021-04-22T20:09:44.540911Z"
    }
   },
   "outputs": [
    {
     "name": "stdout",
     "output_type": "stream",
     "text": [
      "age和salary的相关系数:\n",
      " 0.6781676305144909\n",
      "age和salary、subsidy的相关系数\n",
      "               age    salary   subsidy\n",
      "age      1.000000  0.678168  0.062137\n",
      "salary   0.678168  1.000000  0.067629\n",
      "subsidy  0.062137  0.067629  1.000000\n",
      "返回一个相关系数矩阵\n",
      "            emp_id       age    salary   subsidy\n",
      "emp_id   1.000000 -0.029849 -0.143666  0.043537\n",
      "age     -0.029849  1.000000  0.678168  0.062137\n",
      "salary  -0.143666  0.678168  1.000000  0.067629\n",
      "subsidy  0.043537  0.062137  0.067629  1.000000\n"
     ]
    }
   ],
   "source": [
    "# -*- coding: utf-8 -*-\n",
    "import pandas as pd\n",
    "\n",
    "\n",
    "df = pd.read_excel('E:\\Data\\Employee_income.xls',\n",
    "                   sheet_name='emp_income')\n",
    "#计算age和salary的相关系数\n",
    "corrResult1 = df.age.corr(df.salary)\n",
    "print('age和salary的相关系数:\\n',corrResult1)\n",
    "\n",
    "#计算age和salary、subsidy的相关系数\n",
    "corrResult2 = df.loc[:,['age', 'salary', 'subsidy']].corr()\n",
    "print('age和salary、subsidy的相关系数\\n',corrResult2)\n",
    "\n",
    "# 返回一个相关系数矩阵\n",
    "print('返回一个相关系数矩阵\\n',df.corr())"
   ]
  },
  {
   "cell_type": "markdown",
   "metadata": {},
   "source": [
    "## 排列与抽样"
   ]
  },
  {
   "cell_type": "markdown",
   "metadata": {},
   "source": [
    "1. 利用numpy.random.permutation()函数，可以返回一个序列的随机排列。\n",
    "2. 将此随机排列作为take()函数的参数，通过应用take()函数就可实现按此随机排列来调整Series对象或DataFrame对象各行的顺序。"
   ]
  },
  {
   "cell_type": "code",
   "execution_count": 158,
   "metadata": {
    "ExecuteTime": {
     "end_time": "2021-04-22T20:16:57.277803Z",
     "start_time": "2021-04-22T20:16:57.268858Z"
    }
   },
   "outputs": [
    {
     "name": "stdout",
     "output_type": "stream",
     "text": [
      "   0   1   2\n",
      "0  0   1   2\n",
      "1  3   4   5\n",
      "2  6   7   8\n",
      "3  9  10  11\n",
      "- -- -- -- -- -- -- -- -- -- -- -- -- -- -- -- -- -- -- -- -- -- -- -- -- -- -- -- -- -- -\n",
      "   0   1   2\n",
      "2  6   7   8\n",
      "3  9  10  11\n",
      "0  0   1   2\n",
      "1  3   4   5\n"
     ]
    }
   ],
   "source": [
    "import numpy as np\n",
    "import pandas as pd\n",
    "\n",
    "#创建DataFrame\n",
    "df = pd.DataFrame(np.arange(12).reshape(4,3))\n",
    "print(df)\n",
    "print('- -'*30)\n",
    "#创建随机排列\n",
    "order = np.random.permutation(4)\n",
    "#通过随机排列调整DataFrame各行顺序\n",
    "newDf = df.take(order)\n",
    "print(newDf)"
   ]
  },
  {
   "cell_type": "markdown",
   "metadata": {},
   "source": [
    "1. 随机抽样是指随机从数据中按照一定的行数或者比例抽取数据。随机抽样的函数：numpy.random.randint(start,end,size)\n",
    "2. 通过numpy.random.randint()函数产生随机抽样的数据，应用take()函数实现随机抽取Series对象或DataFrame对象中的数据。"
   ]
  },
  {
   "cell_type": "code",
   "execution_count": 160,
   "metadata": {
    "ExecuteTime": {
     "end_time": "2021-04-22T20:20:35.804994Z",
     "start_time": "2021-04-22T20:20:35.797040Z"
    }
   },
   "outputs": [
    {
     "name": "stdout",
     "output_type": "stream",
     "text": [
      "   0   1   2\n",
      "0  0   1   2\n",
      "1  3   4   5\n",
      "2  6   7   8\n",
      "3  9  10  11\n",
      "- -- -- -- -- -- -- -- -- -- -- -- -- -- -- -- -- -- -- -- -- -- -- -- -- -- -- -- -- -- -\n",
      "   0  1  2\n",
      "1  3  4  5\n",
      "2  6  7  8\n",
      "1  3  4  5\n"
     ]
    }
   ],
   "source": [
    "import numpy as np\n",
    "import pandas as pd\n",
    "\n",
    "#创建DataFrame\n",
    "df = pd.DataFrame(np.arange(12).reshape(4,3))\n",
    "print(df)\n",
    "print('- -'*30)\n",
    "#随机抽样\n",
    "order = np.random.randint(0,len(df),size=3)\n",
    "#通过随机抽样抽取DataFrame中的行\n",
    "newDf = df.take(order)\n",
    "print(newDf)"
   ]
  },
  {
   "cell_type": "markdown",
   "metadata": {
    "ExecuteTime": {
     "end_time": "2021-04-22T20:21:21.255950Z",
     "start_time": "2021-04-22T20:21:21.252952Z"
    }
   },
   "source": [
    "## 重塑层次化索引"
   ]
  },
  {
   "cell_type": "markdown",
   "metadata": {},
   "source": [
    "在数据处理时，有时需要对数据的结构进行重排，也称作是重塑(reshape)或者轴向旋转(pivot)。在pandas中提供了实现重塑的两个函数，即stack()函数和unstuck()函数。\n",
    "\n",
    "常见的数据层次化结构有两种，一种是表格，另一种是“花括号”\n",
    "\n",
    "<img src='18.png' width=\"70%\">\n",
    "1、stack()函数\n",
    "  \n",
    "  stack()函数将数据从”表格结构“变成”花括号结构“，即将其行索引变成列索引。\n",
    "2、unstack()函数\n",
    "   unstack()函数将数据从”花括号结构“变成”表格结构“，即要将其中一层的列索引变成行索引。\n",
    "\n"
   ]
  },
  {
   "cell_type": "markdown",
   "metadata": {},
   "source": [
    "1. stack() 函数的语法格式如下：stack(level=-1,dropan=True)\n",
    "\n",
    " * 函数中的参数说明如下：\n",
    "\n",
    "level：接收 int、str、list，默认为 -1，表示从列轴到索引轴堆叠的级别，定义为一个索引或标签，或者索引或标签列表；\n",
    "\n",
    "dropna：接收布尔值，默认为 True，表示是否在缺失值的结果框架/系列中删除行。将列级别堆叠到索引轴上可以创建原始数据帧中缺失的索引值和列值的组合。\n",
    "\n",
    "*函数返回值为 DataFrame 或 Series。\n",
    "2. unstack() 函数的语法格式如下：\n",
    "\n",
    "DataFrame.unstack(level=-1, fill_value=None)\n",
    "\n",
    "或\n",
    "\n",
    "Series.unstack(level=-1, fill_value=None)\n",
    "\n",
    "函数中的参数说明如下：\n",
    "\n",
    "level：接收 int、string 或其中的列表，默认为 -1(最后一级)，表示 unstack 索引的级别或级别名称。\n",
    "\n",
    "fill_value：如果取消堆栈，则用此值替换 NaN 缺失值，默认为 None。\n",
    "\n",
    "* 函数返回值为 DataFrame 或 Series。\n"
   ]
  },
  {
   "cell_type": "code",
   "execution_count": 165,
   "metadata": {
    "ExecuteTime": {
     "end_time": "2021-04-22T20:28:54.963260Z",
     "start_time": "2021-04-22T20:28:54.948346Z"
    }
   },
   "outputs": [
    {
     "name": "stdout",
     "output_type": "stream",
     "text": [
      "cols  one  two\n",
      "rows          \n",
      "row1    0    1\n",
      "row2    2    3\n",
      "- -- -- -- -- -- -- -- -- -- -- -- -- -- -- -- -- -- -- -- -- -- -- -- -- -- -- -- -- -- -\n",
      "data改变成“花括号”结构 \n",
      " rows  cols\n",
      "row1  one     0\n",
      "      two     1\n",
      "row2  one     2\n",
      "      two     3\n",
      "dtype: int32\n",
      "- -- -- -- -- -- -- -- -- -- -- -- -- -- -- -- -- -- -- -- -- -- -- -- -- -- -- -- -- -- -\n",
      "恢复到原来结构 \n",
      " cols  one  two\n",
      "rows          \n",
      "row1    0    1\n",
      "row2    2    3\n",
      "- -- -- -- -- -- -- -- -- -- -- -- -- -- -- -- -- -- -- -- -- -- -- -- -- -- -- -- -- -- -\n",
      "rows  row1  row2\n",
      "cols            \n",
      "one      0     2\n",
      "two      1     3\n",
      "- -- -- -- -- -- -- -- -- -- -- -- -- -- -- -- -- -- -- -- -- -- -- -- -- -- -- -- -- -- -\n",
      "rows  row1  row2\n",
      "cols            \n",
      "one      0     2\n",
      "two      1     3\n"
     ]
    }
   ],
   "source": [
    "import pandas as pd\n",
    "\n",
    "#创建DataFrame\n",
    "data = pd.DataFrame(np.arange(4).reshape((2, 2)),\n",
    "                 index=pd.Index(['row1', 'row2'], name='rows'),\n",
    "                 columns=pd.Index(['one', 'two'], name='cols'))\n",
    "print(data)\n",
    "print('- -'*30)\n",
    "#使用stack()函数改变data层次化结构\n",
    "result = data.stack()\n",
    "print('data改变成“花括号”结构','\\n',result)\n",
    "print('- -'*30)\n",
    "print('恢复到原来结构','\\n',result.unstack())\n",
    "print('- -'*30)\n",
    "print(result.unstack(0))\n",
    "print('- -'*30)\n",
    "print(result.unstack('rows'))\n"
   ]
  },
  {
   "cell_type": "code",
   "execution_count": 167,
   "metadata": {
    "ExecuteTime": {
     "end_time": "2021-04-22T20:39:28.195777Z",
     "start_time": "2021-04-22T20:39:28.185834Z"
    }
   },
   "outputs": [
    {
     "name": "stdout",
     "output_type": "stream",
     "text": [
      "one  a    0\n",
      "     b    1\n",
      "     c    2\n",
      "     d    3\n",
      "two  c    4\n",
      "     d    5\n",
      "     e    6\n",
      "dtype: int64\n",
      "将data2改变成表格结构 \n",
      "        a    b    c    d    e\n",
      "one  0.0  1.0  2.0  3.0  NaN\n",
      "two  NaN  NaN  4.0  5.0  6.0\n"
     ]
    }
   ],
   "source": [
    "#创建Series\n",
    "s1 = pd.Series([0, 1, 2, 3], index=['a', 'b', 'c', 'd'])\n",
    "s2 = pd.Series([4, 5, 6], index=['c', 'd', 'e'])\n",
    "data2 = pd.concat([s1, s2], keys=['one', 'two'])\n",
    "print(data2)\n",
    "print('将data2改变成表格结构','\\n',data2.unstack())\n"
   ]
  },
  {
   "cell_type": "code",
   "execution_count": 168,
   "metadata": {
    "ExecuteTime": {
     "end_time": "2021-04-22T20:39:53.050554Z",
     "start_time": "2021-04-22T20:39:53.041607Z"
    }
   },
   "outputs": [
    {
     "name": "stdout",
     "output_type": "stream",
     "text": [
      "one  a    0.0\n",
      "     b    1.0\n",
      "     c    2.0\n",
      "     d    3.0\n",
      "two  c    4.0\n",
      "     d    5.0\n",
      "     e    6.0\n",
      "dtype: float64\n",
      "one  a    0.0\n",
      "     b    1.0\n",
      "     c    2.0\n",
      "     d    3.0\n",
      "     e    NaN\n",
      "two  a    NaN\n",
      "     b    NaN\n",
      "     c    4.0\n",
      "     d    5.0\n",
      "     e    6.0\n",
      "dtype: float64\n"
     ]
    }
   ],
   "source": [
    "#使用stack()函数改变成“花括号”结构，并删除缺少值行\n",
    "print(data2.unstack().stack())\n",
    "#使用stack()函数改变成“花括号”结构，不删除缺少值行\n",
    "print(data2.unstack().stack(dropna=False))\n"
   ]
  },
  {
   "cell_type": "code",
   "execution_count": 169,
   "metadata": {
    "ExecuteTime": {
     "end_time": "2021-04-22T20:40:22.730410Z",
     "start_time": "2021-04-22T20:40:22.714453Z"
    },
    "scrolled": true
   },
   "outputs": [
    {
     "name": "stdout",
     "output_type": "stream",
     "text": [
      "side       left  right\n",
      "rows cols             \n",
      "row1 one      0      5\n",
      "     two      1      6\n",
      "row2 one      2      7\n",
      "     two      3      8\n",
      "side left      right     \n",
      "rows row1 row2  row1 row2\n",
      "cols                     \n",
      "one     0    2     5    7\n",
      "two     1    3     6    8\n",
      "rows        row1  row2\n",
      "cols side             \n",
      "one  left      0     2\n",
      "     right     5     7\n",
      "two  left      1     3\n",
      "     right     6     8\n"
     ]
    }
   ],
   "source": [
    "\n",
    "#用字典创建DataFrame\n",
    "df = pd.DataFrame({'left': result, 'right': result + 5},\n",
    "               columns=pd.Index(['left', 'right'], name='side'))\n",
    "print(df)\n",
    "#使用unstack()、stack（）函数\n",
    "print(df.unstack('rows'))\n",
    "print(df.unstack('rows').stack('side'))"
   ]
  },
  {
   "cell_type": "markdown",
   "metadata": {},
   "source": [
    "# 时间序列"
   ]
  },
  {
   "cell_type": "code",
   "execution_count": null,
   "metadata": {},
   "outputs": [],
   "source": []
  },
  {
   "cell_type": "markdown",
   "metadata": {},
   "source": [
    "## 日期转换、日期格式化和日期抽取"
   ]
  },
  {
   "cell_type": "markdown",
   "metadata": {},
   "source": [
    "**日期转换**\n",
    "\n",
    "是指将字符型的日期格式的数据转换成为日期型数据的过程。日期转换函数to_datetime()的语法格式：\n",
    "        \n",
    "        pandas.to_datetime(dateString,format)\n",
    "\n",
    "函数中的参数说明：\n",
    "dateString：表示字符型时间列。\n",
    "format：表示时间日期格式"
   ]
  },
  {
   "cell_type": "markdown",
   "metadata": {},
   "source": [
    "|代码|注释|代码|注释|\n",
    "|--|--|--|--|\n",
    "|%y| 两位数的年份表示（00-99）|%Y| 四位数的年份表示（000-9999）|\n",
    "|%m| 月份（01-12）|%d |月内中的一天（0-31）|\n",
    "|%H |24小时制小时数（0-23）|%I| 12小时制小时数（01-12）| \n",
    "|%M| 分钟数（00=59）|%S |秒（00-59）|\n",
    "|%a |本地简化星期名称|%A |本地完整星期名称|\n",
    "|%b |本地简化的月份名称|%B |本地完整的月份名称|\n",
    "|%c |本地相应的日期表示和时间表示|%j |年内的一天（001-366）|\n",
    "|%p |本地A.M.或P.M.的等价符|%U |一年中的星期数（00-53）星期天为星期的开始|\n",
    "|%w |星期（0-6），星期天为星期的开始|%W |一年中的星期数（00-53）星期一为星期的开始|\n",
    "|%x |本地相应的日期表示|%X |本地相应的时间表示|\n",
    "|%Z |当前时区的名称|%%| %号本身|"
   ]
  },
  {
   "cell_type": "markdown",
   "metadata": {},
   "source": [
    "**日期格式化**\n",
    "\n",
    " 日期格式化是将时间日期型数据，按照指定格式，转为字符型数据。日期格式化函数：\n",
    "      \n",
    "      df_dt.apply(lambda x: datetime.strftime(x, format))\n",
    "       或df_dt.dt.strftime(format)\n",
    "           \n",
    "函数中的参数说明：\n",
    "  df_dt：表示数据框中时间列名。\n",
    "  format：表示时间日期格式"
   ]
  },
  {
   "cell_type": "markdown",
   "metadata": {},
   "source": [
    "**日期抽取**\n",
    "\n",
    "日期抽取是指从日期格式里面抽取出需要的部分属性。\n",
    "   \n",
    "   抽取语法：df_dt.dt.property\n",
    "  \n",
    "  参数说明：\n",
    "  \n",
    "  df_dt：表示数据框中时间列名。 \n",
    "  property：表示时间属性\n",
    "  \n",
    "  |属性|注释|\n",
    "  |--|--|\n",
    " |second|秒，取值范围[0,61]，有闰秒|\n",
    " |minute|分钟，取值范围[0,59]|\n",
    " |hour|小时，取值范围[0,23]|\n",
    " |day|日，取值范围[01,31]|\n",
    " |month|月，取值范围[01,12]|\n",
    " |year|年|\n",
    " |weekday|用整数表示星期几，取值范围为 [0(星期天),6]|\n",
    " "
   ]
  },
  {
   "cell_type": "code",
   "execution_count": 176,
   "metadata": {
    "ExecuteTime": {
     "end_time": "2021-04-22T20:50:02.925176Z",
     "start_time": "2021-04-22T20:49:58.200749Z"
    }
   },
   "outputs": [
    {
     "name": "stdout",
     "output_type": "stream",
     "text": [
      "<class 'pandas.core.frame.DataFrame'>\n",
      "RangeIndex: 65865 entries, 0 to 65864\n",
      "Data columns (total 15 columns):\n",
      " #   Column      Non-Null Count  Dtype  \n",
      "---  ------      --------------  -----  \n",
      " 0   市场类型        65865 non-null  object \n",
      " 1   股票代码        65865 non-null  object \n",
      " 2   日期          65865 non-null  int64  \n",
      " 3   变动类型        65865 non-null  object \n",
      " 4   每10股票分红（元）  26897 non-null  float64\n",
      " 5   配股价（元）      26897 non-null  float64\n",
      " 6   每10股票送几股    26897 non-null  float64\n",
      " 7   每10股票配几股    26897 non-null  float64\n",
      " 8   前流通盘        38936 non-null  float64\n",
      " 9   后流通盘        38936 non-null  float64\n",
      " 10  前总股本        38936 non-null  float64\n",
      " 11  后总股本        38936 non-null  float64\n",
      " 12  浓缩比例        8 non-null      float64\n",
      " 13  份数          24 non-null     float64\n",
      " 14  行权价         24 non-null     float64\n",
      "dtypes: float64(11), int64(1), object(3)\n",
      "memory usage: 7.5+ MB\n",
      "None\n"
     ]
    }
   ],
   "source": [
    "# -*- coding: utf-8 -*-\n",
    "import pandas as pd\n",
    "from datetime import datetime\n",
    "#导入股票数据\n",
    "df = pd.read_excel('E:\\Data\\沪深股票股本变动数据.xlsx',\n",
    "                   sheet_name='sharedata')\n",
    "#查看df中每个字段数据类型，发现df['日期']是int64\n",
    "print(df.info())"
   ]
  },
  {
   "cell_type": "code",
   "execution_count": 179,
   "metadata": {
    "ExecuteTime": {
     "end_time": "2021-04-22T21:02:39.222791Z",
     "start_time": "2021-04-22T21:02:38.041985Z"
    }
   },
   "outputs": [
    {
     "name": "stdout",
     "output_type": "stream",
     "text": [
      "0       1990-03-01\n",
      "1       1990-09-27\n",
      "2       1990-09-27\n",
      "3       1991-02-26\n",
      "4       1991-03-12\n",
      "           ...    \n",
      "65860   2016-12-31\n",
      "65861   2016-12-31\n",
      "65862   2016-12-31\n",
      "65863   2016-12-31\n",
      "65864   2016-12-31\n",
      "Name: 时间, Length: 65865, dtype: datetime64[ns]\n",
      "0        1990.03.01\n",
      "1        1990.09.27\n",
      "2        1990.09.27\n",
      "3        1991.02.26\n",
      "4        1991.03.12\n",
      "            ...    \n",
      "65860    2016.12.31\n",
      "65861    2016.12.31\n",
      "65862    2016.12.31\n",
      "65863    2016.12.31\n",
      "65864    2016.12.31\n",
      "Name: 格式化日期1, Length: 65865, dtype: object \n",
      " 0        1990-03-01\n",
      "1        1990-09-27\n",
      "2        1990-09-27\n",
      "3        1991-02-26\n",
      "4        1991-03-12\n",
      "            ...    \n",
      "65860    2016-12-31\n",
      "65861    2016-12-31\n",
      "65862    2016-12-31\n",
      "65863    2016-12-31\n",
      "65864    2016-12-31\n",
      "Name: 格式化日期2, Length: 65865, dtype: object\n"
     ]
    }
   ],
   "source": [
    "#将int转换成str\n",
    "df_date = df['日期'].apply(str)\n",
    "#用to_datetime()函数将字符串转换成时间格式,并增加'时间'字段\n",
    "df['时间'] = pd.to_datetime(df_date,format='%Y/%m/%d')\n",
    "print(df['时间'])\n",
    "#将日期格式化，并增加'格式化日期'字段\n",
    "df['格式化日期1'] = df.时间.apply(lambda x: datetime.\n",
    "                           strftime(x, format='%Y.%m.%d'))\n",
    "df['格式化日期2'] = df.时间.dt.strftime('%Y-%m-%d')\n",
    "print(df['格式化日期1'],'\\n',df['格式化日期2'])\n",
    "\n"
   ]
  },
  {
   "cell_type": "code",
   "execution_count": null,
   "metadata": {},
   "outputs": [],
   "source": [
    "#抽取'时间'字段中的值\n",
    "df['时间.年'] = df['时间'].dt.year\n",
    "df['时间.月'] = df['时间'].dt.month\n",
    "df['时间.周'] = df['时间'].dt.weekday\n",
    "df['时间.日'] = df['时间'].dt.day\n",
    "df['时间.时'] = df['时间'].dt.hour\n",
    "df['时间.分'] = df['时间'].dt.minute\n",
    "df['时间.秒'] = df['时间'].dt.second\n",
    "print(df['时间.年'],df['时间.月'],df['时间.周'],df['时间.日'])\n",
    "print(df['时间.时'],df['时间.分'],df['时间.秒'])"
   ]
  }
 ],
 "metadata": {
  "kernelspec": {
   "display_name": "Python 3",
   "language": "python",
   "name": "python3"
  },
  "language_info": {
   "codemirror_mode": {
    "name": "ipython",
    "version": 3
   },
   "file_extension": ".py",
   "mimetype": "text/x-python",
   "name": "python",
   "nbconvert_exporter": "python",
   "pygments_lexer": "ipython3",
   "version": "3.7.6"
  },
  "latex_envs": {
   "LaTeX_envs_menu_present": true,
   "autoclose": false,
   "autocomplete": true,
   "bibliofile": "biblio.bib",
   "cite_by": "apalike",
   "current_citInitial": 1,
   "eqLabelWithNumbers": true,
   "eqNumInitial": 1,
   "hotkeys": {
    "equation": "Ctrl-E",
    "itemize": "Ctrl-I"
   },
   "labels_anchors": false,
   "latex_user_defs": false,
   "report_style_numbering": false,
   "user_envs_cfg": false
  },
  "nbTranslate": {
   "displayLangs": [
    "*"
   ],
   "hotkey": "alt-t",
   "langInMainMenu": true,
   "sourceLang": "en",
   "targetLang": "fr",
   "useGoogleTranslate": true
  },
  "toc": {
   "base_numbering": 1,
   "nav_menu": {},
   "number_sections": true,
   "sideBar": true,
   "skip_h1_title": false,
   "title_cell": "Table of Contents",
   "title_sidebar": "Contents",
   "toc_cell": false,
   "toc_position": {
    "height": "calc(100% - 180px)",
    "left": "10px",
    "top": "150px",
    "width": "281.921px"
   },
   "toc_section_display": true,
   "toc_window_display": true
  }
 },
 "nbformat": 4,
 "nbformat_minor": 4
}
