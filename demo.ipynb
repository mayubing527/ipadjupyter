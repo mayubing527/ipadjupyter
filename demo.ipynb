i=0
while i<=8:
    i+=1
    for s in range(1,10):
        if i>=s:
            print('%s*%s=%s' %(s,i,s*i),end=' ')
    print('\n')
