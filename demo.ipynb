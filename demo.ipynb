print("Hello,Wellcom")
print("my name is python")
