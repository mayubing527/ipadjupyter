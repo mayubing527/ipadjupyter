{
 "cells": [
  {
   "cell_type": "code",
   "execution_count": 85,
   "metadata": {
    "ExecuteTime": {
     "end_time": "2021-05-31T03:37:32.074583Z",
     "start_time": "2021-05-31T03:37:32.067603Z"
    }
   },
   "outputs": [],
   "source": [
    "def bmi(height,weight):\n",
    "    '''功能:计算BMI指数\n",
    "    height:表示身高,单位是米;weight:表示体重,单位是千克'''\n",
    "    bmi=weight/height**2\n",
    "    if(bmi<=18.4):\n",
    "        print('您的bmi值是%.2f,根据中国BMI分类标准，您的体重过轻'%bmi)\n",
    "    if(bmi>18.4 and bmi<=23.9):\n",
    "        print('您的bmi值是%.2f,根据中国BMI分类标准，您的体重属于正常范围'%bmi)\n",
    "    if(bmi>23.9 and bmi<=27.9):\n",
    "        print('您的bmi值是%.2f,根据中国BMI分类标准，您的体重过重'%bmi)\n",
    "    if(bmi>27.9):\n",
    "        print('您的bmi值是%.2f,根据中国BMI分类标准，您的体重肥胖'%bmi)"
   ]
  },
  {
   "cell_type": "code",
   "execution_count": 91,
   "metadata": {
    "ExecuteTime": {
     "end_time": "2021-05-31T04:09:52.430706Z",
     "start_time": "2021-05-31T04:09:52.426683Z"
    }
   },
   "outputs": [
    {
     "name": "stdout",
     "output_type": "stream",
     "text": [
      "您的bmi值是19.29,根据中国BMI分类标准，您的体重属于正常范围\n"
     ]
    }
   ],
   "source": [
    "bmi(weight=50,height=1.61)"
   ]
  },
  {
   "cell_type": "code",
   "execution_count": 107,
   "metadata": {
    "ExecuteTime": {
     "end_time": "2021-05-31T07:29:52.501214Z",
     "start_time": "2021-05-31T07:29:52.496196Z"
    }
   },
   "outputs": [
    {
     "data": {
      "text/plain": [
       "'功能:计算BMI指数 \\n    height:表示身高,单位是米;weight:表示体重,单位是千克'"
      ]
     },
     "execution_count": 107,
     "metadata": {},
     "output_type": "execute_result"
    }
   ],
   "source": [
    "bmi.__doc__"
   ]
  },
  {
   "cell_type": "code",
   "execution_count": 30,
   "metadata": {
    "ExecuteTime": {
     "end_time": "2021-05-31T00:02:02.039152Z",
     "start_time": "2021-05-31T00:02:02.032160Z"
    }
   },
   "outputs": [],
   "source": [
    "def bim(name,height,weight):\n",
    "    '''功能:计算BMI指数\n",
    "    height:表示身高,单位是米;weight:表示体重,单位是千克'''\n",
    "    bmi=weight/height**2\n",
    "    if(bmi<=18.4):\n",
    "        print('%s的bmi值是%.2f,根据中国BMI分类标准，您的体重过轻'%(name,bmi))\n",
    "    if(bmi>18.4 and bmi<=23.9):\n",
    "        print('%s的bmi值是%.2f,根据中国BMI分类标准，您的体重属于正常范围'%(name,bmi))\n",
    "    if(bmi>23.9 and bmi<=27.9):\n",
    "        print('您的bmi值是%.2f,根据中国BMI分类标准，您的体重过重'%bmi)\n",
    "    if(bmi>27.9):\n",
    "        print('您的bmi值是%.2f,根据中国BMI分类标准，您的体重肥胖'%bmi)"
   ]
  },
  {
   "cell_type": "code",
   "execution_count": 21,
   "metadata": {
    "ExecuteTime": {
     "end_time": "2021-05-30T10:43:57.763522Z",
     "start_time": "2021-05-30T10:43:57.759532Z"
    }
   },
   "outputs": [
    {
     "name": "stdout",
     "output_type": "stream",
     "text": [
      "您的bmi值是21.22,根据中国BMI分类标准，您的体重属于正常范围\n"
     ]
    }
   ],
   "source": [
    "bim(height=1.61,weight=55)"
   ]
  },
  {
   "cell_type": "code",
   "execution_count": 22,
   "metadata": {
    "ExecuteTime": {
     "end_time": "2021-05-30T10:44:16.628753Z",
     "start_time": "2021-05-30T10:44:16.623766Z"
    }
   },
   "outputs": [
    {
     "name": "stdout",
     "output_type": "stream",
     "text": [
      "您的bmi值是21.22,根据中国BMI分类标准，您的体重属于正常范围\n"
     ]
    }
   ],
   "source": [
    "bim(weight=55,height=1.61)"
   ]
  },
  {
   "cell_type": "code",
   "execution_count": 106,
   "metadata": {
    "ExecuteTime": {
     "end_time": "2021-05-31T07:29:17.529866Z",
     "start_time": "2021-05-31T07:29:17.521888Z"
    }
   },
   "outputs": [
    {
     "name": "stdout",
     "output_type": "stream",
     "text": [
      "-------------------- 不可变对象:值传递 --------------------\n",
      "函数调用前的实参值： 数据科学与大数据技术\n",
      "形参值为: 数据科学与大数据技术数据科学与大数据技术\n",
      "函数调用后的实参值： 数据科学与大数据技术\n",
      "-------------------- 可变对象:引用(地址)传递 --------------------\n",
      "函数调用前的实参值： ['数据科学大数据技术']\n",
      "形参值为: ['数据科学大数据技术', '数据科学大数据技术']\n",
      "函数调用后的实参值： ['数据科学大数据技术', '数据科学大数据技术']\n"
     ]
    }
   ],
   "source": [
    "def addOne(a):\n",
    "    a+=a\n",
    "    print(\"形参值为:\",a)\n",
    "\n",
    "print('--'*10,'不可变对象:值传递','--'*10)   \n",
    "a='数据科学与大数据技术'\n",
    "print('函数调用前的实参值：',a)\n",
    "addOne(a)\n",
    "print('函数调用后的实参值：',a)\n",
    "print('--'*10,'可变对象:引用(地址)传递','--'*10)\n",
    "a=['数据科学大数据技术']\n",
    "print('函数调用前的实参值：',a)    \n",
    "addOne(a)\n",
    "print('函数调用后的实参值：',a)"
   ]
  },
  {
   "cell_type": "code",
   "execution_count": 20,
   "metadata": {
    "ExecuteTime": {
     "end_time": "2021-05-30T10:36:49.190978Z",
     "start_time": "2021-05-30T10:36:49.184963Z"
    }
   },
   "outputs": [
    {
     "ename": "SyntaxError",
     "evalue": "non-default argument follows default argument (<ipython-input-20-3fa123b34701>, line 1)",
     "output_type": "error",
     "traceback": [
      "\u001b[1;36m  File \u001b[1;32m\"<ipython-input-20-3fa123b34701>\"\u001b[1;36m, line \u001b[1;32m1\u001b[0m\n\u001b[1;33m    def f(a=3,b,c=5):\u001b[0m\n\u001b[1;37m         ^\u001b[0m\n\u001b[1;31mSyntaxError\u001b[0m\u001b[1;31m:\u001b[0m non-default argument follows default argument\n"
     ]
    }
   ],
   "source": [
    "def f(a=3,b,c=5):\n",
    "    print(a+b+c)"
   ]
  },
  {
   "cell_type": "code",
   "execution_count": 101,
   "metadata": {
    "ExecuteTime": {
     "end_time": "2021-05-31T07:14:29.383275Z",
     "start_time": "2021-05-31T07:14:29.377257Z"
    }
   },
   "outputs": [],
   "source": [
    "def bmi2(weight,height=1.61):\n",
    "    '''功能:计算BMI指数 \n",
    "    height:表示身高,单位是米;weight:表示体重,单位是千克'''\n",
    "    bmi=weight/height**2\n",
    "    if(bmi<=18.4):\n",
    "        print('您的bmi值是%.2f,根据中国BMI分类标准，您的体重过轻'%bmi)\n",
    "    if(bmi>18.4 and bmi<=23.9):\n",
    "        print('您的bmi值是%.2f,根据中国BMI分类标准，您的体重属于正常范围'%bmi)\n",
    "    if(bmi>23.9 and bmi<=27.9):\n",
    "        print('您的bmi值是%.2f,根据中国BMI分类标准，您的体重过重'%bmi)\n",
    "    if(bmi>27.9):\n",
    "        print('您的bmi值是%.2f,根据中国BMI分类标准，您的体重肥胖'%bmi)"
   ]
  },
  {
   "cell_type": "code",
   "execution_count": 104,
   "metadata": {
    "ExecuteTime": {
     "end_time": "2021-05-31T07:19:06.222255Z",
     "start_time": "2021-05-31T07:19:06.217272Z"
    }
   },
   "outputs": [
    {
     "name": "stdout",
     "output_type": "stream",
     "text": [
      "您的bmi值是21.22,根据中国BMI分类标准，您的体重属于正常范围\n",
      "您的bmi值是20.96,根据中国BMI分类标准，您的体重属于正常范围\n"
     ]
    },
    {
     "data": {
      "text/plain": [
       "(1.61,)"
      ]
     },
     "execution_count": 104,
     "metadata": {},
     "output_type": "execute_result"
    }
   ],
   "source": [
    "bmi2(55)#计算weight=55kg，默认height为1.61米的BMI值\n",
    "bmi2(55,1.62)#计算weight=55kg，height=1.62米的BMI值\n",
    "bmi2.__defaults__"
   ]
  },
  {
   "cell_type": "code",
   "execution_count": 113,
   "metadata": {
    "ExecuteTime": {
     "end_time": "2021-05-31T08:06:41.276909Z",
     "start_time": "2021-05-31T08:06:41.271952Z"
    }
   },
   "outputs": [
    {
     "name": "stdout",
     "output_type": "stream",
     "text": [
      "[1, 2, 3, 4, '5']\n",
      "['a']\n",
      "['a', 'b']\n",
      "['a', 'b', 'aaa']\n"
     ]
    }
   ],
   "source": [
    "def demo(newitem,old_list=[]):\n",
    "    old_list.append(newitem)\n",
    "    return old_list\n",
    "\n",
    "print(demo('5',[1,2,3,4]))\n",
    "print(demo('aaa',['a','b']))\n",
    "\n",
    "print(demo('a'))\n",
    "print(demo('b'))\n"
   ]
  },
  {
   "cell_type": "code",
   "execution_count": 112,
   "metadata": {
    "ExecuteTime": {
     "end_time": "2021-05-31T08:06:31.045885Z",
     "start_time": "2021-05-31T08:06:31.039902Z"
    },
    "scrolled": true
   },
   "outputs": [
    {
     "name": "stdout",
     "output_type": "stream",
     "text": [
      "[1, 2, 3, 4, '5']\n",
      "['a']\n",
      "['b']\n",
      "['a', 'b', 'aaa']\n"
     ]
    }
   ],
   "source": [
    "def demo(newitem,old_list=None):\n",
    "    if old_list is None:\n",
    "        old_list=[]\n",
    "    new_list = old_list[:]\n",
    "    new_list.append(newitem)\n",
    "    return new_list\n",
    "\n",
    "print(demo('5',[1,2,3,4]))\n",
    "\n",
    "print(demo('a'))\n",
    "print(demo('b'))\n",
    "print(demo('aaa',['a','b']))\n"
   ]
  },
  {
   "cell_type": "code",
   "execution_count": 136,
   "metadata": {
    "ExecuteTime": {
     "end_time": "2021-05-31T08:15:25.179378Z",
     "start_time": "2021-05-31T08:15:25.175349Z"
    }
   },
   "outputs": [],
   "source": [
    "def demo(lst=[]):\n",
    "    print(lst)\n",
    "    lst.append(1)\n"
   ]
  },
  {
   "cell_type": "code",
   "execution_count": 137,
   "metadata": {
    "ExecuteTime": {
     "end_time": "2021-05-31T08:15:26.274998Z",
     "start_time": "2021-05-31T08:15:26.271008Z"
    }
   },
   "outputs": [
    {
     "name": "stdout",
     "output_type": "stream",
     "text": [
      "[]\n"
     ]
    }
   ],
   "source": [
    "demo()"
   ]
  },
  {
   "cell_type": "code",
   "execution_count": 138,
   "metadata": {
    "ExecuteTime": {
     "end_time": "2021-05-31T08:15:27.889703Z",
     "start_time": "2021-05-31T08:15:27.885699Z"
    }
   },
   "outputs": [
    {
     "name": "stdout",
     "output_type": "stream",
     "text": [
      "[1]\n"
     ]
    }
   ],
   "source": [
    "demo()"
   ]
  },
  {
   "cell_type": "code",
   "execution_count": 139,
   "metadata": {
    "ExecuteTime": {
     "end_time": "2021-05-31T08:15:29.523668Z",
     "start_time": "2021-05-31T08:15:29.519692Z"
    }
   },
   "outputs": [],
   "source": [
    "def demo(lst=None):\n",
    "    if lst==None:\n",
    "        lst=[]\n",
    "    print(lst)\n",
    "    lst.append(1)"
   ]
  },
  {
   "cell_type": "code",
   "execution_count": 140,
   "metadata": {
    "ExecuteTime": {
     "end_time": "2021-05-31T08:15:40.249645Z",
     "start_time": "2021-05-31T08:15:40.246622Z"
    }
   },
   "outputs": [
    {
     "name": "stdout",
     "output_type": "stream",
     "text": [
      "[]\n"
     ]
    }
   ],
   "source": [
    "demo()"
   ]
  },
  {
   "cell_type": "code",
   "execution_count": 141,
   "metadata": {
    "ExecuteTime": {
     "end_time": "2021-05-31T08:15:44.713923Z",
     "start_time": "2021-05-31T08:15:44.710902Z"
    }
   },
   "outputs": [
    {
     "name": "stdout",
     "output_type": "stream",
     "text": [
      "[]\n"
     ]
    }
   ],
   "source": [
    "demo()"
   ]
  },
  {
   "cell_type": "code",
   "execution_count": 188,
   "metadata": {
    "ExecuteTime": {
     "end_time": "2021-05-31T10:29:42.672026Z",
     "start_time": "2021-05-31T10:29:42.668070Z"
    },
    "run_control": {
     "marked": true
    }
   },
   "outputs": [],
   "source": [
    "def demo(*arg):\n",
    "    print('幼儿经典绘本:',arg)"
   ]
  },
  {
   "cell_type": "code",
   "execution_count": 192,
   "metadata": {
    "ExecuteTime": {
     "end_time": "2021-05-31T10:30:41.784438Z",
     "start_time": "2021-05-31T10:30:41.779450Z"
    }
   },
   "outputs": [
    {
     "name": "stdout",
     "output_type": "stream",
     "text": [
      "幼儿经典绘本: ('我的爸爸(My Dad)',)\n",
      "幼儿经典绘本: ('我的爸爸(My Dad)', '好饿的毛毛虫')\n",
      "幼儿经典绘本: ('我的爸爸(My Dad)', '好饿的毛毛虫', '逃家小兔')\n"
     ]
    }
   ],
   "source": [
    "demo('我的爸爸(My Dad)')\n",
    "demo('我的爸爸(My Dad)','好饿的毛毛虫')\n",
    "demo('我的爸爸(My Dad)','好饿的毛毛虫','逃家小兔')"
   ]
  },
  {
   "cell_type": "code",
   "execution_count": 195,
   "metadata": {
    "ExecuteTime": {
     "end_time": "2021-05-31T10:32:38.863936Z",
     "start_time": "2021-05-31T10:32:38.859976Z"
    }
   },
   "outputs": [],
   "source": [
    "lst=['我的爸爸(My Dad)','好饿的毛毛虫','逃家小兔']"
   ]
  },
  {
   "cell_type": "code",
   "execution_count": 196,
   "metadata": {
    "ExecuteTime": {
     "end_time": "2021-05-31T10:32:40.175380Z",
     "start_time": "2021-05-31T10:32:40.171390Z"
    }
   },
   "outputs": [
    {
     "name": "stdout",
     "output_type": "stream",
     "text": [
      "幼儿经典绘本: ('我的爸爸(My Dad)', '好饿的毛毛虫', '逃家小兔')\n"
     ]
    }
   ],
   "source": [
    "demo(*lst)"
   ]
  },
  {
   "cell_type": "code",
   "execution_count": 197,
   "metadata": {
    "ExecuteTime": {
     "end_time": "2021-05-31T11:08:07.166141Z",
     "start_time": "2021-05-31T11:08:07.162152Z"
    }
   },
   "outputs": [
    {
     "name": "stdout",
     "output_type": "stream",
     "text": [
      "幼儿经典绘本: (['我的爸爸(My Dad)', '好饿的毛毛虫', '逃家小兔'],)\n"
     ]
    }
   ],
   "source": [
    "demo(lst)"
   ]
  },
  {
   "cell_type": "code",
   "execution_count": 199,
   "metadata": {
    "ExecuteTime": {
     "end_time": "2021-05-31T11:52:45.533049Z",
     "start_time": "2021-05-31T11:52:45.530024Z"
    }
   },
   "outputs": [],
   "source": [
    "def demo(**kwarg):\n",
    "    for key,value in kwarg.items():\n",
    "        print(key,value) "
   ]
  },
  {
   "cell_type": "code",
   "execution_count": 201,
   "metadata": {
    "ExecuteTime": {
     "end_time": "2021-05-31T12:29:40.448332Z",
     "start_time": "2021-05-31T12:29:40.443341Z"
    }
   },
   "outputs": [
    {
     "name": "stdout",
     "output_type": "stream",
     "text": [
      "第10个月 我的爸爸(My Dad)\n",
      "第11个月 好饿的毛毛虫\n",
      "第12个月 逃家小兔\n"
     ]
    }
   ],
   "source": [
    "demo(第10个月='我的爸爸(My Dad)',第11个月='好饿的毛毛虫',第12个月='逃家小兔')  "
   ]
  },
  {
   "cell_type": "code",
   "execution_count": 203,
   "metadata": {
    "ExecuteTime": {
     "end_time": "2021-05-31T12:33:34.116171Z",
     "start_time": "2021-05-31T12:33:34.113179Z"
    }
   },
   "outputs": [],
   "source": [
    "dict={'第10个月':'我的爸爸(My Dad)','第11个月':'好饿的毛毛虫','第12个月':'逃家小兔'}"
   ]
  },
  {
   "cell_type": "code",
   "execution_count": 204,
   "metadata": {
    "ExecuteTime": {
     "end_time": "2021-05-31T12:33:40.664481Z",
     "start_time": "2021-05-31T12:33:40.656496Z"
    }
   },
   "outputs": [
    {
     "ename": "TypeError",
     "evalue": "demo() takes 0 positional arguments but 1 was given",
     "output_type": "error",
     "traceback": [
      "\u001b[1;31m---------------------------------------------------------------------------\u001b[0m",
      "\u001b[1;31mTypeError\u001b[0m                                 Traceback (most recent call last)",
      "\u001b[1;32m<ipython-input-204-95dddaaa78f8>\u001b[0m in \u001b[0;36m<module>\u001b[1;34m\u001b[0m\n\u001b[1;32m----> 1\u001b[1;33m \u001b[0mdemo\u001b[0m\u001b[1;33m(\u001b[0m\u001b[0mdict\u001b[0m\u001b[1;33m)\u001b[0m\u001b[1;33m\u001b[0m\u001b[1;33m\u001b[0m\u001b[0m\n\u001b[0m",
      "\u001b[1;31mTypeError\u001b[0m: demo() takes 0 positional arguments but 1 was given"
     ]
    }
   ],
   "source": [
    "demo(dict)"
   ]
  },
  {
   "cell_type": "code",
   "execution_count": 205,
   "metadata": {
    "ExecuteTime": {
     "end_time": "2021-05-31T12:35:20.460924Z",
     "start_time": "2021-05-31T12:35:20.456935Z"
    }
   },
   "outputs": [
    {
     "name": "stdout",
     "output_type": "stream",
     "text": [
      "第10个月 我的爸爸(My Dad)\n",
      "第11个月 好饿的毛毛虫\n",
      "第12个月 逃家小兔\n"
     ]
    }
   ],
   "source": [
    "demo(**dict)"
   ]
  },
  {
   "cell_type": "code",
   "execution_count": 214,
   "metadata": {
    "ExecuteTime": {
     "end_time": "2021-05-31T14:27:22.236252Z",
     "start_time": "2021-05-31T14:27:22.232262Z"
    }
   },
   "outputs": [],
   "source": [
    "def demo(x,y,z):\n",
    "    print(x+y+z)\n"
   ]
  },
  {
   "cell_type": "code",
   "execution_count": 207,
   "metadata": {
    "ExecuteTime": {
     "end_time": "2021-05-31T14:23:29.787925Z",
     "start_time": "2021-05-31T14:23:29.783936Z"
    }
   },
   "outputs": [
    {
     "name": "stdout",
     "output_type": "stream",
     "text": [
      "6\n"
     ]
    }
   ],
   "source": [
    "seq=[1,2,3]\n",
    "demo(*seq)"
   ]
  },
  {
   "cell_type": "code",
   "execution_count": 208,
   "metadata": {
    "ExecuteTime": {
     "end_time": "2021-05-31T14:23:49.044063Z",
     "start_time": "2021-05-31T14:23:49.040074Z"
    }
   },
   "outputs": [
    {
     "name": "stdout",
     "output_type": "stream",
     "text": [
      "6\n"
     ]
    }
   ],
   "source": [
    "demo(*tuple(seq))"
   ]
  },
  {
   "cell_type": "code",
   "execution_count": 209,
   "metadata": {
    "ExecuteTime": {
     "end_time": "2021-05-31T14:24:07.844039Z",
     "start_time": "2021-05-31T14:24:07.840050Z"
    }
   },
   "outputs": [
    {
     "name": "stdout",
     "output_type": "stream",
     "text": [
      "6\n"
     ]
    }
   ],
   "source": [
    "demo(*set(seq))"
   ]
  },
  {
   "cell_type": "code",
   "execution_count": 211,
   "metadata": {
    "ExecuteTime": {
     "end_time": "2021-05-31T14:25:14.099091Z",
     "start_time": "2021-05-31T14:25:14.096068Z"
    }
   },
   "outputs": [],
   "source": [
    "dic={1:'a',2:'b',3:'c'}"
   ]
  },
  {
   "cell_type": "code",
   "execution_count": 212,
   "metadata": {
    "ExecuteTime": {
     "end_time": "2021-05-31T14:25:24.923106Z",
     "start_time": "2021-05-31T14:25:24.919117Z"
    }
   },
   "outputs": [
    {
     "name": "stdout",
     "output_type": "stream",
     "text": [
      "6\n"
     ]
    }
   ],
   "source": [
    "demo(*dic)"
   ]
  },
  {
   "cell_type": "code",
   "execution_count": 213,
   "metadata": {
    "ExecuteTime": {
     "end_time": "2021-05-31T14:25:46.707597Z",
     "start_time": "2021-05-31T14:25:46.703638Z"
    }
   },
   "outputs": [
    {
     "name": "stdout",
     "output_type": "stream",
     "text": [
      "abc\n"
     ]
    }
   ],
   "source": [
    "demo(*dic.values())"
   ]
  },
  {
   "cell_type": "code",
   "execution_count": 229,
   "metadata": {
    "ExecuteTime": {
     "end_time": "2021-05-31T14:50:09.916381Z",
     "start_time": "2021-05-31T14:50:09.912390Z"
    }
   },
   "outputs": [
    {
     "name": "stdout",
     "output_type": "stream",
     "text": [
      "6\n"
     ]
    }
   ],
   "source": [
    "dic={'a':1,'b':2,'c':3}\n",
    "demo(**dic)"
   ]
  },
  {
   "cell_type": "code",
   "execution_count": 224,
   "metadata": {
    "ExecuteTime": {
     "end_time": "2021-05-31T14:42:37.691942Z",
     "start_time": "2021-05-31T14:42:37.687983Z"
    }
   },
   "outputs": [],
   "source": [
    "def demo(x,y,z):\n",
    "    print(x+y+z) "
   ]
  },
  {
   "cell_type": "code",
   "execution_count": 228,
   "metadata": {
    "ExecuteTime": {
     "end_time": "2021-05-31T14:49:52.043049Z",
     "start_time": "2021-05-31T14:49:52.038063Z"
    }
   },
   "outputs": [
    {
     "name": "stdout",
     "output_type": "stream",
     "text": [
      "6\n"
     ]
    }
   ],
   "source": [
    "def demo(a, b, c):\n",
    "    print(a+b+c)\n",
    "dic = {'a':1, 'b':2, 'c':3}\n",
    "demo(**dic)\n"
   ]
  },
  {
   "cell_type": "code",
   "execution_count": 231,
   "metadata": {
    "ExecuteTime": {
     "end_time": "2021-06-01T01:22:28.814971Z",
     "start_time": "2021-06-01T01:22:28.810990Z"
    }
   },
   "outputs": [
    {
     "name": "stdout",
     "output_type": "stream",
     "text": [
      "['ArithmeticError', 'AssertionError', 'AttributeError', 'BaseException', 'BlockingIOError', 'BrokenPipeError', 'BufferError', 'BytesWarning', 'ChildProcessError', 'ConnectionAbortedError', 'ConnectionError', 'ConnectionRefusedError', 'ConnectionResetError', 'DeprecationWarning', 'EOFError', 'Ellipsis', 'EnvironmentError', 'Exception', 'False', 'FileExistsError', 'FileNotFoundError', 'FloatingPointError', 'FutureWarning', 'GeneratorExit', 'IOError', 'ImportError', 'ImportWarning', 'IndentationError', 'IndexError', 'InterruptedError', 'IsADirectoryError', 'KeyError', 'KeyboardInterrupt', 'LookupError', 'MemoryError', 'ModuleNotFoundError', 'NameError', 'None', 'NotADirectoryError', 'NotImplemented', 'NotImplementedError', 'OSError', 'OverflowError', 'PendingDeprecationWarning', 'PermissionError', 'ProcessLookupError', 'RecursionError', 'ReferenceError', 'ResourceWarning', 'RuntimeError', 'RuntimeWarning', 'StopAsyncIteration', 'StopIteration', 'SyntaxError', 'SyntaxWarning', 'SystemError', 'SystemExit', 'TabError', 'TimeoutError', 'True', 'TypeError', 'UnboundLocalError', 'UnicodeDecodeError', 'UnicodeEncodeError', 'UnicodeError', 'UnicodeTranslateError', 'UnicodeWarning', 'UserWarning', 'ValueError', 'Warning', 'WindowsError', 'ZeroDivisionError', '__IPYTHON__', '__build_class__', '__debug__', '__doc__', '__import__', '__loader__', '__name__', '__package__', '__spec__', 'abs', 'all', 'any', 'ascii', 'bin', 'bool', 'breakpoint', 'bytearray', 'bytes', 'callable', 'chr', 'classmethod', 'compile', 'complex', 'copyright', 'credits', 'delattr', 'dict', 'dir', 'display', 'divmod', 'enumerate', 'eval', 'exec', 'filter', 'float', 'format', 'frozenset', 'get_ipython', 'getattr', 'globals', 'hasattr', 'hash', 'help', 'hex', 'id', 'input', 'int', 'isinstance', 'issubclass', 'iter', 'len', 'license', 'list', 'locals', 'map', 'max', 'memoryview', 'min', 'next', 'object', 'oct', 'open', 'ord', 'pow', 'print', 'property', 'range', 'repr', 'reversed', 'round', 'set', 'setattr', 'slice', 'sorted', 'staticmethod', 'str', 'sum', 'super', 'tuple', 'type', 'vars', 'zip']\n"
     ]
    }
   ],
   "source": [
    "import builtins\n",
    "print(dir(builtins))"
   ]
  },
  {
   "cell_type": "code",
   "execution_count": 237,
   "metadata": {
    "ExecuteTime": {
     "end_time": "2021-06-01T03:32:37.691003Z",
     "start_time": "2021-06-01T03:32:37.687043Z"
    }
   },
   "outputs": [],
   "source": [
    "def f(xv):\n",
    "    if xv==1:\n",
    "        print('你是谁?')\n",
    "    else:\n",
    "        print('我就是我')"
   ]
  },
  {
   "cell_type": "code",
   "execution_count": 239,
   "metadata": {
    "ExecuteTime": {
     "end_time": "2021-06-01T03:32:43.867601Z",
     "start_time": "2021-06-01T03:32:43.863613Z"
    }
   },
   "outputs": [
    {
     "name": "stdout",
     "output_type": "stream",
     "text": [
      "我就是我\n"
     ]
    }
   ],
   "source": [
    "f(2)"
   ]
  },
  {
   "cell_type": "code",
   "execution_count": 240,
   "metadata": {
    "ExecuteTime": {
     "end_time": "2021-06-01T03:32:51.063762Z",
     "start_time": "2021-06-01T03:32:51.055752Z"
    }
   },
   "outputs": [
    {
     "ename": "NameError",
     "evalue": "name 'xv' is not defined",
     "output_type": "error",
     "traceback": [
      "\u001b[1;31m---------------------------------------------------------------------------\u001b[0m",
      "\u001b[1;31mNameError\u001b[0m                                 Traceback (most recent call last)",
      "\u001b[1;32m<ipython-input-240-f984f272daf2>\u001b[0m in \u001b[0;36m<module>\u001b[1;34m\u001b[0m\n\u001b[1;32m----> 1\u001b[1;33m \u001b[0mxv\u001b[0m\u001b[1;33m\u001b[0m\u001b[1;33m\u001b[0m\u001b[0m\n\u001b[0m",
      "\u001b[1;31mNameError\u001b[0m: name 'xv' is not defined"
     ]
    }
   ],
   "source": [
    "xv"
   ]
  },
  {
   "cell_type": "code",
   "execution_count": 244,
   "metadata": {
    "ExecuteTime": {
     "end_time": "2021-06-01T07:08:01.024330Z",
     "start_time": "2021-06-01T07:08:01.020312Z"
    }
   },
   "outputs": [
    {
     "name": "stdout",
     "output_type": "stream",
     "text": [
      "函数体内:全局变量str= 谁知盘中餐, 粒粒皆辛苦.\n",
      "函数体外:全局变量str= 锄禾日当午,汗滴禾下土.\n"
     ]
    }
   ],
   "source": [
    "str ='锄禾日当午,汗滴禾下土.'\n",
    "def demo():\n",
    "    str='谁知盘中餐, 粒粒皆辛苦.'#函数体内修改全局变量的值\n",
    "    print('函数体内:全局变量str=',str)\n",
    "\n",
    "demo()\n",
    "print('函数体外:全局变量str=',str)#函数体外全局变量的值    "
   ]
  },
  {
   "cell_type": "code",
   "execution_count": 245,
   "metadata": {
    "ExecuteTime": {
     "end_time": "2021-06-01T07:18:34.864230Z",
     "start_time": "2021-06-01T07:18:34.859211Z"
    }
   },
   "outputs": [
    {
     "name": "stdout",
     "output_type": "stream",
     "text": [
      "函数体内:全局变量str= 谁知盘中餐, 粒粒皆辛苦.\n",
      "函数体外:全局变量str= 谁知盘中餐, 粒粒皆辛苦.\n"
     ]
    }
   ],
   "source": [
    "str ='锄禾日当午,汗滴禾下土.'\n",
    "def demo():\n",
    "    global str\n",
    "    str='谁知盘中餐, 粒粒皆辛苦.'#函数体内修改全局变量的值\n",
    "    print('函数体内:全局变量str=',str)\n",
    "    \n",
    "demo()\n",
    "print('函数体外:全局变量str=',str)#函数体外全局变量的值"
   ]
  },
  {
   "cell_type": "code",
   "execution_count": 282,
   "metadata": {
    "ExecuteTime": {
     "end_time": "2021-06-01T12:25:05.299145Z",
     "start_time": "2021-06-01T12:25:05.293161Z"
    }
   },
   "outputs": [
    {
     "data": {
      "text/plain": [
       "4"
      ]
     },
     "execution_count": 282,
     "metadata": {},
     "output_type": "execute_result"
    }
   ],
   "source": [
    "f=lambda x:x+2\n",
    "f(2)#错误"
   ]
  },
  {
   "cell_type": "code",
   "execution_count": 278,
   "metadata": {
    "ExecuteTime": {
     "end_time": "2021-06-01T11:18:38.336932Z",
     "start_time": "2021-06-01T11:18:38.332941Z"
    }
   },
   "outputs": [],
   "source": [
    "L=[1,2,3,4,5]\n",
    "r1=map((lambda x:x+10),L)"
   ]
  },
  {
   "cell_type": "code",
   "execution_count": 281,
   "metadata": {
    "ExecuteTime": {
     "end_time": "2021-06-01T12:22:08.080467Z",
     "start_time": "2021-06-01T12:22:08.075511Z"
    }
   },
   "outputs": [
    {
     "data": {
      "text/plain": [
       "<map at 0x22f53e9c6c8>"
      ]
     },
     "execution_count": 281,
     "metadata": {},
     "output_type": "execute_result"
    }
   ],
   "source": [
    "r1"
   ]
  },
  {
   "cell_type": "code",
   "execution_count": 247,
   "metadata": {
    "ExecuteTime": {
     "end_time": "2021-06-01T08:51:46.223985Z",
     "start_time": "2021-06-01T08:51:46.185116Z"
    }
   },
   "outputs": [],
   "source": [
    "import random"
   ]
  },
  {
   "cell_type": "code",
   "execution_count": 252,
   "metadata": {
    "ExecuteTime": {
     "end_time": "2021-06-01T08:55:55.989237Z",
     "start_time": "2021-06-01T08:55:55.984222Z"
    }
   },
   "outputs": [
    {
     "data": {
      "text/plain": [
       "[7, 9, 10, 8, 10]"
      ]
     },
     "execution_count": 252,
     "metadata": {},
     "output_type": "execute_result"
    }
   ],
   "source": [
    "[random.randint(1,10)for j in range(5)]"
   ]
  },
  {
   "cell_type": "code",
   "execution_count": 273,
   "metadata": {
    "ExecuteTime": {
     "end_time": "2021-06-01T11:13:15.660067Z",
     "start_time": "2021-06-01T11:13:15.653085Z"
    }
   },
   "outputs": [
    {
     "data": {
      "text/plain": [
       "(16, 16, 16, 16, 16)"
      ]
     },
     "execution_count": 273,
     "metadata": {},
     "output_type": "execute_result"
    }
   ],
   "source": [
    "r = []\n",
    "for x in range(5):\n",
    "    r.append(lambda: x**2)\n",
    "r[0](),r[1](),r[2](),r[3](),r[4]()"
   ]
  },
  {
   "cell_type": "code",
   "execution_count": 275,
   "metadata": {
    "ExecuteTime": {
     "end_time": "2021-06-01T11:13:33.801987Z",
     "start_time": "2021-06-01T11:13:33.797031Z"
    }
   },
   "outputs": [
    {
     "data": {
      "text/plain": [
       "list"
      ]
     },
     "execution_count": 275,
     "metadata": {},
     "output_type": "execute_result"
    }
   ],
   "source": [
    "type(r)"
   ]
  },
  {
   "cell_type": "code",
   "execution_count": 277,
   "metadata": {
    "ExecuteTime": {
     "end_time": "2021-06-01T11:17:46.464458Z",
     "start_time": "2021-06-01T11:17:46.460498Z"
    }
   },
   "outputs": [
    {
     "data": {
      "text/plain": [
       "16"
      ]
     },
     "execution_count": 277,
     "metadata": {},
     "output_type": "execute_result"
    }
   ],
   "source": [
    "r[0]()"
   ]
  },
  {
   "cell_type": "code",
   "execution_count": 285,
   "metadata": {
    "ExecuteTime": {
     "end_time": "2021-06-01T12:25:48.750056Z",
     "start_time": "2021-06-01T12:25:48.747063Z"
    }
   },
   "outputs": [],
   "source": [
    "r = []\n",
    "for x in range(5):\n",
    "    r.append(lambda x: x**2)\n"
   ]
  },
  {
   "cell_type": "code",
   "execution_count": 291,
   "metadata": {
    "ExecuteTime": {
     "end_time": "2021-06-01T12:30:47.104826Z",
     "start_time": "2021-06-01T12:30:47.099825Z"
    }
   },
   "outputs": [
    {
     "data": {
      "text/plain": [
       "(0, 1, 4, 9, 16)"
      ]
     },
     "execution_count": 291,
     "metadata": {},
     "output_type": "execute_result"
    }
   ],
   "source": [
    "r = []\n",
    "for x in range(5):\n",
    "    r.append(lambda n=x: n**2)\n",
    "    \n",
    "r[0](),r[1](),r[2](),r[3](),r[4]()"
   ]
  },
  {
   "cell_type": "code",
   "execution_count": 292,
   "metadata": {
    "ExecuteTime": {
     "end_time": "2021-06-01T13:28:24.119953Z",
     "start_time": "2021-06-01T13:28:24.103996Z"
    }
   },
   "outputs": [],
   "source": [
    "def fab(n):          # 定义斐波拉契级数\n",
    "    if n in [1, 2]:  # 如果n=1或者2\n",
    "        return 1\n",
    "    return fab(n-1)+fab(n-2)    # n>2"
   ]
  },
  {
   "cell_type": "code",
   "execution_count": 293,
   "metadata": {
    "ExecuteTime": {
     "end_time": "2021-06-01T13:28:31.207865Z",
     "start_time": "2021-06-01T13:28:31.201881Z"
    }
   },
   "outputs": [
    {
     "data": {
      "text/plain": [
       "2"
      ]
     },
     "execution_count": 293,
     "metadata": {},
     "output_type": "execute_result"
    }
   ],
   "source": [
    "fab(3)"
   ]
  },
  {
   "cell_type": "code",
   "execution_count": 297,
   "metadata": {
    "ExecuteTime": {
     "end_time": "2021-06-01T13:33:23.624233Z",
     "start_time": "2021-06-01T13:33:20.593748Z"
    }
   },
   "outputs": [
    {
     "ename": "RecursionError",
     "evalue": "maximum recursion depth exceeded in comparison",
     "output_type": "error",
     "traceback": [
      "\u001b[1;31m---------------------------------------------------------------------------\u001b[0m",
      "\u001b[1;31mRecursionError\u001b[0m                            Traceback (most recent call last)",
      "\u001b[1;32m<ipython-input-297-7872b5f6e35b>\u001b[0m in \u001b[0;36m<module>\u001b[1;34m\u001b[0m\n\u001b[1;32m----> 1\u001b[1;33m \u001b[0mfab\u001b[0m\u001b[1;33m(\u001b[0m\u001b[1;36m10000\u001b[0m\u001b[1;33m)\u001b[0m\u001b[1;33m\u001b[0m\u001b[1;33m\u001b[0m\u001b[0m\n\u001b[0m",
      "\u001b[1;32m<ipython-input-292-0d32f9991852>\u001b[0m in \u001b[0;36mfab\u001b[1;34m(n)\u001b[0m\n\u001b[0;32m      2\u001b[0m     \u001b[1;32mif\u001b[0m \u001b[0mn\u001b[0m \u001b[1;32min\u001b[0m \u001b[1;33m[\u001b[0m\u001b[1;36m1\u001b[0m\u001b[1;33m,\u001b[0m \u001b[1;36m2\u001b[0m\u001b[1;33m]\u001b[0m\u001b[1;33m:\u001b[0m  \u001b[1;31m# 如果n=1或者2\u001b[0m\u001b[1;33m\u001b[0m\u001b[1;33m\u001b[0m\u001b[0m\n\u001b[0;32m      3\u001b[0m         \u001b[1;32mreturn\u001b[0m \u001b[1;36m1\u001b[0m\u001b[1;33m\u001b[0m\u001b[1;33m\u001b[0m\u001b[0m\n\u001b[1;32m----> 4\u001b[1;33m     \u001b[1;32mreturn\u001b[0m \u001b[0mfab\u001b[0m\u001b[1;33m(\u001b[0m\u001b[0mn\u001b[0m\u001b[1;33m-\u001b[0m\u001b[1;36m1\u001b[0m\u001b[1;33m)\u001b[0m\u001b[1;33m+\u001b[0m\u001b[0mfab\u001b[0m\u001b[1;33m(\u001b[0m\u001b[0mn\u001b[0m\u001b[1;33m-\u001b[0m\u001b[1;36m2\u001b[0m\u001b[1;33m)\u001b[0m    \u001b[1;31m# n>2\u001b[0m\u001b[1;33m\u001b[0m\u001b[1;33m\u001b[0m\u001b[0m\n\u001b[0m",
      "... last 1 frames repeated, from the frame below ...\n",
      "\u001b[1;32m<ipython-input-292-0d32f9991852>\u001b[0m in \u001b[0;36mfab\u001b[1;34m(n)\u001b[0m\n\u001b[0;32m      2\u001b[0m     \u001b[1;32mif\u001b[0m \u001b[0mn\u001b[0m \u001b[1;32min\u001b[0m \u001b[1;33m[\u001b[0m\u001b[1;36m1\u001b[0m\u001b[1;33m,\u001b[0m \u001b[1;36m2\u001b[0m\u001b[1;33m]\u001b[0m\u001b[1;33m:\u001b[0m  \u001b[1;31m# 如果n=1或者2\u001b[0m\u001b[1;33m\u001b[0m\u001b[1;33m\u001b[0m\u001b[0m\n\u001b[0;32m      3\u001b[0m         \u001b[1;32mreturn\u001b[0m \u001b[1;36m1\u001b[0m\u001b[1;33m\u001b[0m\u001b[1;33m\u001b[0m\u001b[0m\n\u001b[1;32m----> 4\u001b[1;33m     \u001b[1;32mreturn\u001b[0m \u001b[0mfab\u001b[0m\u001b[1;33m(\u001b[0m\u001b[0mn\u001b[0m\u001b[1;33m-\u001b[0m\u001b[1;36m1\u001b[0m\u001b[1;33m)\u001b[0m\u001b[1;33m+\u001b[0m\u001b[0mfab\u001b[0m\u001b[1;33m(\u001b[0m\u001b[0mn\u001b[0m\u001b[1;33m-\u001b[0m\u001b[1;36m2\u001b[0m\u001b[1;33m)\u001b[0m    \u001b[1;31m# n>2\u001b[0m\u001b[1;33m\u001b[0m\u001b[1;33m\u001b[0m\u001b[0m\n\u001b[0m",
      "\u001b[1;31mRecursionError\u001b[0m: maximum recursion depth exceeded in comparison"
     ]
    }
   ],
   "source": [
    "fab(10000)"
   ]
  },
  {
   "cell_type": "code",
   "execution_count": 298,
   "metadata": {
    "ExecuteTime": {
     "end_time": "2021-06-01T13:36:25.119801Z",
     "start_time": "2021-06-01T13:36:25.115812Z"
    }
   },
   "outputs": [
    {
     "data": {
      "text/plain": [
       "3000"
      ]
     },
     "execution_count": 298,
     "metadata": {},
     "output_type": "execute_result"
    }
   ],
   "source": [
    "import sys\n",
    "sys.getrecursionlimit()   # 得到最大调用深度 # 目前值为3000"
   ]
  },
  {
   "cell_type": "code",
   "execution_count": 300,
   "metadata": {
    "ExecuteTime": {
     "end_time": "2021-06-01T13:53:09.925248Z",
     "start_time": "2021-06-01T13:53:09.921259Z"
    }
   },
   "outputs": [],
   "source": [
    "\n",
    "# outer是外部函数 a和b都是外函数的局部变量\n",
    "def outer( a ):\n",
    "    b = 10\n",
    "    def inner():# inner是内函数,在内函数中 用到了外函数的局部变量\n",
    "        print(a+b)\n",
    "# 外函数的返回值是内函数的引用\n",
    "    return inner"
   ]
  },
  {
   "cell_type": "code",
   "execution_count": 301,
   "metadata": {
    "ExecuteTime": {
     "end_time": "2021-06-01T13:53:13.571734Z",
     "start_time": "2021-06-01T13:53:13.568707Z"
    }
   },
   "outputs": [
    {
     "name": "stdout",
     "output_type": "stream",
     "text": [
      "15\n",
      "17\n"
     ]
    }
   ],
   "source": [
    "\n",
    "# 在这里我们调用外函数传入参数5\n",
    "#此时外函数两个临时变量 a是5 b是10 ，并创建了内函数，然后把内函数的引用返回存给了demo\n",
    "# 外函数结束的时候发现内部函数将会用到自己的临时变量，这两个临时变量就不会释放，会绑定给这个内部函数\n",
    "if __name__ == '__main__':\n",
    "    demo = outer(5)\n",
    "# 我们调用内部函数，看一看内部函数是不是能使用外部函数的临时变量\n",
    "# demo存了外函数的返回值，也就是inner函数的引用，这里相当于执行inner函数\n",
    "    demo() # 15\n",
    "    demo2 = outer(7)\n",
    "    demo2() #17"
   ]
  },
  {
   "cell_type": "code",
   "execution_count": null,
   "metadata": {},
   "outputs": [],
   "source": []
  }
 ],
 "metadata": {
  "kernelspec": {
   "display_name": "Python 3",
   "language": "python",
   "name": "python3"
  },
  "language_info": {
   "codemirror_mode": {
    "name": "ipython",
    "version": 3
   },
   "file_extension": ".py",
   "mimetype": "text/x-python",
   "name": "python",
   "nbconvert_exporter": "python",
   "pygments_lexer": "ipython3",
   "version": "3.7.6"
  },
  "latex_envs": {
   "LaTeX_envs_menu_present": true,
   "autoclose": false,
   "autocomplete": true,
   "bibliofile": "biblio.bib",
   "cite_by": "apalike",
   "current_citInitial": 1,
   "eqLabelWithNumbers": true,
   "eqNumInitial": 1,
   "hotkeys": {
    "equation": "Ctrl-E",
    "itemize": "Ctrl-I"
   },
   "labels_anchors": false,
   "latex_user_defs": false,
   "report_style_numbering": false,
   "user_envs_cfg": false
  },
  "nbTranslate": {
   "displayLangs": [
    "*"
   ],
   "hotkey": "alt-t",
   "langInMainMenu": true,
   "sourceLang": "en",
   "targetLang": "fr",
   "useGoogleTranslate": true
  },
  "toc": {
   "base_numbering": 1,
   "nav_menu": {},
   "number_sections": true,
   "sideBar": true,
   "skip_h1_title": false,
   "title_cell": "Table of Contents",
   "title_sidebar": "Contents",
   "toc_cell": false,
   "toc_position": {},
   "toc_section_display": true,
   "toc_window_display": false
  }
 },
 "nbformat": 4,
 "nbformat_minor": 4
}
