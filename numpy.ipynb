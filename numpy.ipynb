{
 "cells": [
  {
   "cell_type": "markdown",
   "metadata": {
    "ExecuteTime": {
     "end_time": "2021-03-29T06:53:51.980746Z",
     "start_time": "2021-03-29T06:53:51.974774Z"
    }
   },
   "source": [
    "# numpy 编程基础\n",
    "- NumPy 官网 http://www.numpy.org/\n",
    "- NumPy 源代码：https://github.com/numpy/numpy\n",
    "- 科学计算和数据分析的基础包"
   ]
  },
  {
   "cell_type": "markdown",
   "metadata": {},
   "source": [
    "- 数组是numpy库的中央数据结构。数组是值的网格，它包含有关原始数据，如何定位元素以及如何解释元素的信息。它具有可以以各种方式建立索引的元素网格。元素都是相同的类型，称为array dtype。\n",
    "- ndarray ('n维数组' 的简写)是numpy的核心概念，它是一系列<span class=\"burk\">同类型数据</span>组成的数组，可以是一维或多维数组\n",
    "- 结构数组允许异质数组结构 "
   ]
  },
  {
   "cell_type": "code",
   "execution_count": 264,
   "metadata": {
    "ExecuteTime": {
     "end_time": "2021-04-01T13:07:36.595158Z",
     "start_time": "2021-04-01T13:07:36.588145Z"
    }
   },
   "outputs": [
    {
     "name": "stdout",
     "output_type": "stream",
     "text": [
      "调用numpy 模块或函数时，应该使用np.模块或者函数名称的方式。\n",
      "- -- -- -- -- -- -- -- -- -- -- -- -- -- -- -- -- -- -- -- -- -- -- -- -- -- -- -- -- -- -\n",
      "查看numpy模块内的函数。\n",
      "- -- -- -- -- -- -- -- -- -- -- -- -- -- -- -- -- -- -- -- -- -- -- -- -- -- -- -- -- -- -\n",
      "查看numpy模块的版本。\n"
     ]
    },
    {
     "data": {
      "text/plain": [
       "'1.18.1'"
      ]
     },
     "execution_count": 264,
     "metadata": {},
     "output_type": "execute_result"
    }
   ],
   "source": [
    "import numpy as np \n",
    "print('''调用numpy 模块或函数时，应该使用np.模块或者函数名称的方式。''')\n",
    "print(\"- -\"*30)\n",
    "print('''查看numpy模块内的函数。''')\n",
    "a = dir(np)\n",
    "#print(a)\n",
    "print(\"- -\"*30)\n",
    "print('''查看numpy模块的版本。''')\n",
    "np.__version__"
   ]
  },
  {
   "cell_type": "markdown",
   "metadata": {},
   "source": [
    "# 数组的创建"
   ]
  },
  {
   "cell_type": "markdown",
   "metadata": {},
   "source": [
    "## 创建一维数组"
   ]
  },
  {
   "cell_type": "code",
   "execution_count": 35,
   "metadata": {
    "ExecuteTime": {
     "end_time": "2021-03-29T09:21:51.149201Z",
     "start_time": "2021-03-29T09:21:51.144243Z"
    }
   },
   "outputs": [
    {
     "name": "stdout",
     "output_type": "stream",
     "text": [
      "- -- -- -- -- -- -- -- -- -- -- -- -- -- -- - 用普通方法生成一维数组 - -- -- -- -- -- -- -- -- -- -- -- -- -- -- -\n",
      "[0, 0, 0, 0]\n",
      "列表中的元素类型可以不相同 ['Li', 1, 2, 3, 3.2]\n",
      "- -- -- -- -- -- -- -- -- -- -- -- -- -- -- - 下面介绍numpy模块创建数组的方法 - -- -- -- -- -- -- -- -- -- -- -- -- -- -- -\n"
     ]
    }
   ],
   "source": [
    "print(\"- -\"*15,'用普通方法生成一维数组',\"- -\"*15)  # 分割线\n",
    "num = [0 for i in range(1,5)]  # 创建一维数组\n",
    "print(num)  # 打印数组\n",
    "num1 = ['Li',1,2,3,3.2]\n",
    "print('列表中的元素类型可以不相同',num1)\n",
    "print(\"- -\"*15,'下面介绍numpy模块创建数组的方法',\"- -\"*15)  # 分割线"
   ]
  },
  {
   "cell_type": "markdown",
   "metadata": {},
   "source": [
    "### arange()方法\n",
    "- 语法    numpy.arange(start, stop, step, dtype = None)\n",
    "- 在给定间隔内返回均匀间隔的值，值在包括start但不包括stop的区间,返回的是 ndarray 。"
   ]
  },
  {
   "cell_type": "code",
   "execution_count": 38,
   "metadata": {
    "ExecuteTime": {
     "end_time": "2021-03-29T09:29:07.948572Z",
     "start_time": "2021-03-29T09:29:07.943585Z"
    }
   },
   "outputs": [
    {
     "data": {
      "text/plain": [
       "array([0, 1, 2, 3, 4, 5, 6, 7, 8, 9])"
      ]
     },
     "execution_count": 38,
     "metadata": {},
     "output_type": "execute_result"
    }
   ],
   "source": [
    "import numpy as np \n",
    "v = np.arange(10,dtype=int)\n",
    "v"
   ]
  },
  {
   "cell_type": "code",
   "execution_count": 23,
   "metadata": {
    "ExecuteTime": {
     "end_time": "2021-03-29T08:57:38.719823Z",
     "start_time": "2021-03-29T08:57:38.714808Z"
    }
   },
   "outputs": [
    {
     "data": {
      "text/plain": [
       "array([0. , 2.5, 5. , 7.5])"
      ]
     },
     "execution_count": 23,
     "metadata": {},
     "output_type": "execute_result"
    }
   ],
   "source": [
    "import numpy as np \n",
    "v = np.arange(10,step=2.5,dtype=float)\n",
    "v.dtype\n",
    "v"
   ]
  },
  {
   "cell_type": "markdown",
   "metadata": {
    "ExecuteTime": {
     "end_time": "2021-03-29T07:17:38.843586Z",
     "start_time": "2021-03-29T07:17:38.839595Z"
    }
   },
   "source": [
    "### linspace()方法: 产生等差数列\n",
    "- 语法 linspace(start, stop, num=50, endpoint=True, retstep=False, dtype=None)\n",
    "- retstep : bool. If True, return (`samples`, `step`), where `step` is the spacing between samples. retstep会改变计算的输出，输出一个元组，而元组的两个元素分别是需要生成的数列和数列的步进差值。\n"
   ]
  },
  {
   "cell_type": "code",
   "execution_count": 45,
   "metadata": {
    "ExecuteTime": {
     "end_time": "2021-03-29T09:38:42.213210Z",
     "start_time": "2021-03-29T09:38:42.208224Z"
    },
    "scrolled": true
   },
   "outputs": [
    {
     "data": {
      "text/plain": [
       "array([ 1.,  3.,  5.,  7.,  9., 11., 13., 15., 17., 19.])"
      ]
     },
     "execution_count": 45,
     "metadata": {},
     "output_type": "execute_result"
    }
   ],
   "source": [
    "a = np.linspace(1,19,10)\n",
    "a"
   ]
  },
  {
   "cell_type": "markdown",
   "metadata": {},
   "source": [
    "###  logspace()方法：产生等比数列"
   ]
  },
  {
   "cell_type": "code",
   "execution_count": 147,
   "metadata": {
    "ExecuteTime": {
     "end_time": "2021-03-29T14:50:27.717033Z",
     "start_time": "2021-03-29T14:50:27.677139Z"
    }
   },
   "outputs": [
    {
     "data": {
      "text/plain": [
       "array([  2.71828183,   7.3890561 ,  20.08553692,  54.59815003,\n",
       "       148.4131591 ])"
      ]
     },
     "execution_count": 147,
     "metadata": {},
     "output_type": "execute_result"
    }
   ],
   "source": [
    "#可直接创建一维的由等比数列组成的数组，可指定开始和结束数值，以及数列包含的数字数量\n",
    "'''np.logspace(\n",
    "    start, #序列的起始值\n",
    "    stop, #序列的终止值为：base ** stop。如果endpoint为true，该值包含于数列中\n",
    "    num=50, #要生成的等步长的样本数量，默认为50\n",
    "    endpoint=True, #该值为 true 时，数列中中包含stop值，反之不包含，默认是True。\n",
    "    base=10.0,  #对数 log 的底数。\n",
    "    dtype=None #不再赘述\n",
    ")\n",
    " '''\n",
    "import numpy as np\n",
    "from math import e\n",
    "np.logspace(1,5,5,base=e)"
   ]
  },
  {
   "cell_type": "markdown",
   "metadata": {},
   "source": [
    "### 创建对角矩阵数组"
   ]
  },
  {
   "cell_type": "code",
   "execution_count": 152,
   "metadata": {
    "ExecuteTime": {
     "end_time": "2021-03-29T14:53:59.447364Z",
     "start_time": "2021-03-29T14:53:59.442346Z"
    }
   },
   "outputs": [
    {
     "data": {
      "text/plain": [
       "2"
      ]
     },
     "execution_count": 152,
     "metadata": {},
     "output_type": "execute_result"
    }
   ],
   "source": [
    "'''#可创建对角线矩阵\n",
    "np.eye(\n",
    "    N, #指定对角矩阵的行数\n",
    "    M=None, #指定对角矩阵的列数，默认与N相等\n",
    "    k=0, #对角线的索引，默认为0，即斜对角，如果赋予正值或负值，则会相对向右上或左下移动\n",
    "    dtype=float,  #不再赘述\n",
    "    order='C'\n",
    ")'''\n",
    " \n",
    "import numpy as np\n",
    "a = np.eye(5,dtype=int)\n",
    "a.ndim"
   ]
  },
  {
   "cell_type": "markdown",
   "metadata": {
    "ExecuteTime": {
     "end_time": "2021-03-29T07:17:59.371565Z",
     "start_time": "2021-03-29T07:17:59.367599Z"
    }
   },
   "source": [
    "### 特殊数组：全0/1数组\n",
    "- zeros数组：全零数组，元素全为零。\n",
    "- ones数组：全1数组，元素全为1。\n",
    "- empty数组：创建一个内容随机且依赖于内存状态的向量。\n",
    "- 以上三个函数均可以产生多元数组。"
   ]
  },
  {
   "cell_type": "code",
   "execution_count": 77,
   "metadata": {
    "ExecuteTime": {
     "end_time": "2021-03-29T10:11:29.834129Z",
     "start_time": "2021-03-29T10:11:29.829115Z"
    }
   },
   "outputs": [
    {
     "data": {
      "text/plain": [
       "array([0., 0., 0., 0., 0., 0., 0., 0., 0., 0.])"
      ]
     },
     "execution_count": 77,
     "metadata": {},
     "output_type": "execute_result"
    }
   ],
   "source": [
    "x = np.zeros(10)\n",
    "'''语法： zeros(shape, dtype=float, order='C')'''\n",
    "'''可以产生多元数组如 np.zeros((3,4))'''\n",
    "#help(np.zeros)\n",
    "x"
   ]
  },
  {
   "cell_type": "code",
   "execution_count": 67,
   "metadata": {
    "ExecuteTime": {
     "end_time": "2021-03-29T10:07:00.164880Z",
     "start_time": "2021-03-29T10:07:00.159893Z"
    }
   },
   "outputs": [
    {
     "data": {
      "text/plain": [
       "array([1., 1., 1., 1., 1., 1., 1., 1., 1., 1., 1., 1., 1., 1., 1., 1., 1.,\n",
       "       1., 1., 1.])"
      ]
     },
     "execution_count": 67,
     "metadata": {},
     "output_type": "execute_result"
    }
   ],
   "source": [
    "x = np.ones(20)\n",
    "x"
   ]
  },
  {
   "cell_type": "code",
   "execution_count": 76,
   "metadata": {
    "ExecuteTime": {
     "end_time": "2021-03-29T10:10:45.578275Z",
     "start_time": "2021-03-29T10:10:45.573288Z"
    }
   },
   "outputs": [
    {
     "data": {
      "text/plain": [
       "array([[ 1885941401,  1073308081, -2104352480,  1073094847],\n",
       "       [ 1507217317,  1072516558,   864273760,  1067754983],\n",
       "       [ -627551566,  1072153251,  1754293168,  1073418987]])"
      ]
     },
     "execution_count": 76,
     "metadata": {},
     "output_type": "execute_result"
    }
   ],
   "source": [
    "x1 = np.empty((3,4),np.int)\n",
    "x1"
   ]
  },
  {
   "cell_type": "markdown",
   "metadata": {},
   "source": [
    "### 随机数组"
   ]
  },
  {
   "cell_type": "code",
   "execution_count": 83,
   "metadata": {
    "ExecuteTime": {
     "end_time": "2021-03-29T10:17:26.615506Z",
     "start_time": "2021-03-29T10:17:26.607527Z"
    }
   },
   "outputs": [
    {
     "name": "stdout",
     "output_type": "stream",
     "text": [
      "- -- -- -- -- -- -- -- -- -- -- -- -- -- -- - 高斯分布的随机数(一) - -- -- -- -- -- -- -- -- -- -- -- -- -- -- -\n",
      "标准高斯分布的随机数+二维数组 [[ 1.02451632  2.14325302 -0.96544785]\n",
      " [-0.25607679  1.12515145 -0.40051724]]\n",
      "- -- -- -- -- -- -- -- -- -- -- -- -- -- -- - 高斯分布的随机数(二) - -- -- -- -- -- -- -- -- -- -- -- -- -- -- -\n",
      "一般的高斯分布的随机数 [-0.93870094 -0.52932362  1.74854311  0.49922881  1.28462598  0.92733802\n",
      "  0.42558788  0.44365482  0.97052676  1.54326362]\n",
      "一般的高斯分布的随机数+二维数组 [[ 1.67724202  2.52283387  1.88909515]\n",
      " [ 0.59776421 -0.13757208  2.13721878]]\n"
     ]
    }
   ],
   "source": [
    "print(\"- -\"*15,'高斯分布的随机数(一)',\"- -\"*15)\n",
    "'''np.random.randn(d0,d1,...dn)：生成对应的标准的高斯分布随机数'''\n",
    "print('标准高斯分布的随机数+二维数组',np.random.randn(2,3))\n",
    "\n",
    "print(\"- -\"*15,'高斯分布的随机数(二)',\"- -\"*15)\n",
    "'''np.random.normal(loc, scale, size)：生成均值为loc，标准差为scale，大小为size的高斯分布随机数'''\n",
    "x = np.random.normal(1,1,10)\n",
    "print(\"一般的高斯分布的随机数\",x)\n",
    "x = np.random.normal(1,1,(2,3))\n",
    "print(\"一般的高斯分布的随机数+二维数组\",x)"
   ]
  },
  {
   "cell_type": "code",
   "execution_count": 85,
   "metadata": {
    "ExecuteTime": {
     "end_time": "2021-03-29T10:22:15.602385Z",
     "start_time": "2021-03-29T10:22:15.595403Z"
    }
   },
   "outputs": [
    {
     "name": "stdout",
     "output_type": "stream",
     "text": [
      "- -- -- -- -- -- -- -- -- -- -- -- -- -- -- - 均匀分布的随机数(一) - -- -- -- -- -- -- -- -- -- -- -- -- -- -- -\n",
      "[[0.74545452 0.20294491 0.20069759]\n",
      " [0.14923271 0.75442628 0.70120174]]\n",
      "- -- -- -- -- -- -- -- -- -- -- -- -- -- -- - 均匀分布的随机数(二) - -- -- -- -- -- -- -- -- -- -- -- -- -- -- -\n",
      "[0.4427768  0.28877574 0.4876246  0.06657145 0.47267468 0.27346376\n",
      " 0.81062662 0.56814251 0.34885429 0.36801066]\n"
     ]
    },
    {
     "data": {
      "text/plain": [
       "'如何产生其它分布的随机数？'"
      ]
     },
     "execution_count": 85,
     "metadata": {},
     "output_type": "execute_result"
    }
   ],
   "source": [
    "print(\"- -\"*15,'均匀分布的随机数(一)',\"- -\"*15)\n",
    "'''np.random.rand(shape)：生成对应形状（shape）的[0,1]均匀分布的随机数'''\n",
    "x = np.random.rand(2,3)\n",
    "print(x)\n",
    "print(\"- -\"*15,'均匀分布的随机数(二)',\"- -\"*15)\n",
    "'''np.random.uniform(low, high, size)：生成一个从[low, high)中随即采样的，样本数量为size的均匀分布随机数'''\n",
    "x1 = np.random.uniform(0,1,10)\n",
    "print(x1)\n",
    "'''如何产生其它分布的随机数？'''"
   ]
  },
  {
   "cell_type": "markdown",
   "metadata": {
    "ExecuteTime": {
     "end_time": "2021-03-29T10:16:11.876076Z",
     "start_time": "2021-03-29T10:16:11.872087Z"
    }
   },
   "source": [
    "## 二维数组"
   ]
  },
  {
   "cell_type": "code",
   "execution_count": 106,
   "metadata": {
    "ExecuteTime": {
     "end_time": "2021-03-29T10:29:35.853160Z",
     "start_time": "2021-03-29T10:29:35.847176Z"
    }
   },
   "outputs": [
    {
     "name": "stdout",
     "output_type": "stream",
     "text": [
      "[[1, 1, 1, 1], [1, 1, 1, 1], [1, 1, 1, 1], [1, 1, 1, 1]]\n",
      "--------------------------------------------------\n"
     ]
    },
    {
     "data": {
      "text/plain": [
       "array([[1, 1, 1, 1],\n",
       "       [1, 1, 1, 1],\n",
       "       [1, 1, 1, 1],\n",
       "       [1, 1, 1, 1]])"
      ]
     },
     "execution_count": 106,
     "metadata": {},
     "output_type": "execute_result"
    }
   ],
   "source": [
    "'''普通方法生成'''\n",
    "num = [[1 for i in range(1,5)]for j in range(1,5)]\n",
    "print(num)  # 打印数组\n",
    "print(\"- -\"*50)  # 分割线\n",
    "\n",
    "'''等价的方法'''\n",
    "np.ones((4,4),dtype=int)"
   ]
  },
  {
   "cell_type": "code",
   "execution_count": 154,
   "metadata": {
    "ExecuteTime": {
     "end_time": "2021-03-29T15:01:37.221541Z",
     "start_time": "2021-03-29T15:01:37.217553Z"
    }
   },
   "outputs": [
    {
     "name": "stdout",
     "output_type": "stream",
     "text": [
      "import numpy as np\n",
      "np.array(\n",
      "    object, #传入列表、元组来创建一维数组，或列表、元组的嵌套创建多维数组\n",
      "    dtype = None, #设置数组元素的数据类型，可以是内置的数据类型，也可是自定义的结构化数据类型\n",
      "    copy = True,  #设置传入的对象是否需要复制，默认是True，如果设置为False，则会直接引用，一般用不到\n",
      "    order = None, #设置创建数组的样式，C为行方向，F为列方向，A为任意方向（默认）,一般无需显示设置\n",
      "    subok = False, #默认返回一个与基类类型一致的数组，暂时还未用到过\n",
      "    ndmin = 0 #指定生成数组的最小维度，如果传入的object维度没达到最小维度，则会自定转变为最小维度的数组\n",
      ")\n"
     ]
    }
   ],
   "source": [
    "#一般使用array构造函数创建ndarray\n",
    "print('''import numpy as np\n",
    "np.array(\n",
    "    object, #传入列表、元组来创建一维数组，或列表、元组的嵌套创建多维数组\n",
    "    dtype = None, #设置数组元素的数据类型，可以是内置的数据类型，也可是自定义的结构化数据类型\n",
    "    copy = True,  #设置传入的对象是否需要复制，默认是True，如果设置为False，则会直接引用，一般用不到\n",
    "    order = None, #设置创建数组的样式，C为行方向，F为列方向，A为任意方向（默认）,一般无需显示设置\n",
    "    subok = False, #默认返回一个与基类类型一致的数组，暂时还未用到过\n",
    "    ndmin = 0 #指定生成数组的最小维度，如果传入的object维度没达到最小维度，则会自定转变为最小维度的数组\n",
    ")''')"
   ]
  },
  {
   "cell_type": "code",
   "execution_count": 118,
   "metadata": {
    "ExecuteTime": {
     "end_time": "2021-03-29T12:46:21.025742Z",
     "start_time": "2021-03-29T12:46:21.017727Z"
    }
   },
   "outputs": [
    {
     "name": "stdout",
     "output_type": "stream",
     "text": [
      "[[ 1  2  3]\n",
      " [ 4  5  6]\n",
      " [ 7  8  9]\n",
      " [10 11 12]\n",
      " [13 14 15]\n",
      " [16 17 18]]\n",
      "- -- -- -- -- -- -- -- -- -- -- -- -- -- -- - array要求数据的类型相同 - -- -- -- -- -- -- -- -- -- -- -- -- -- -- -\n",
      "[['1' '2' '3']\n",
      " ['4' '5' '6']\n",
      " ['7' '8' '9']\n",
      " ['10' '11' '12']\n",
      " ['13' '14' '15']\n",
      " ['16' '17' '18']\n",
      " ['li' 'liu' 'zhang']]\n",
      "- -- -- -- -- -- -- -- -- -- -- -- -- -- -- - 描述数据的元组数据组成 - -- -- -- -- -- -- -- -- -- -- -- -- -- -- -\n",
      "(6, 3)\n",
      "2\n",
      "44\n"
     ]
    }
   ],
   "source": [
    "import numpy as np\n",
    "m1= np.array([np.arange(1,4),np.arange(4,7),np.arange(7,10),np.arange(10,13),np.arange(13,16),np.arange(16,19)])  # 创建6行3列的二维数组\n",
    "print(m1)\n",
    "print(\"- -\"*15,'array要求数据的类型相同',\"- -\"*15) \n",
    "m2= np.array([np.arange(1,4),np.arange(4,7),np.arange(7,10),np.arange(10,13),np.arange(13,16),np.arange(16,19),['li','liu','zhang']])  \n",
    "print(m2)"
   ]
  },
  {
   "cell_type": "markdown",
   "metadata": {},
   "source": [
    "## 结构数组"
   ]
  },
  {
   "cell_type": "code",
   "execution_count": 137,
   "metadata": {
    "ExecuteTime": {
     "end_time": "2021-03-29T14:29:09.678371Z",
     "start_time": "2021-03-29T14:29:09.672418Z"
    }
   },
   "outputs": [
    {
     "data": {
      "text/plain": [
       "{'姓名': ['Alice', 'Bob', 'Cathy', 'Doug'],\n",
       " '年龄': [25, 45, 37, 19],\n",
       " '体重': [55.0, 85.5, 68.0, 61.5]}"
      ]
     },
     "execution_count": 137,
     "metadata": {},
     "output_type": "execute_result"
    }
   ],
   "source": [
    "name = ['Alice','Bob','Cathy','Doug']\n",
    "age = [25,45,37,19]\n",
    "weight = [55.0, 85.5, 68.0, 61.5]\n",
    "dict(姓名=name,年龄=age,体重=weight)\n"
   ]
  },
  {
   "cell_type": "code",
   "execution_count": 138,
   "metadata": {
    "ExecuteTime": {
     "end_time": "2021-03-29T14:32:02.071701Z",
     "start_time": "2021-03-29T14:32:02.064719Z"
    }
   },
   "outputs": [
    {
     "name": "stdout",
     "output_type": "stream",
     "text": [
      "[('name', '<U10'), ('age', '<i4'), ('weight', '<f8')]\n",
      "[('name', '<U10'), ('age', '<i4'), ('weight', '<f4')]\n",
      "[('name', 'S10'), ('age', '<i4'), ('weight', '<f8')]\n",
      "[('abc', 21, 50.) ('xyz', 18, 75.)]\n"
     ]
    }
   ],
   "source": [
    "'''numpy 模块如何存储不同类型的数据?\n",
    "\n",
    "结构化数组的数据类型有多种制定方式：'''\n",
    "# 1. 采用字典的方法：两个键：names(定义每个字段的名称)和formats（）定义每个字段的类型\n",
    "array1 = np.dtype({'names':('name', 'age', 'weight'),'formats':('U10', 'i4', 'f8')})\n",
    "print(array1)\n",
    "# 2. 数值数据类型可以用Python类型和Numpy的dtype类型指定：\n",
    "array2 = np.dtype({'names':('name', 'age', 'weight'),'formats':((np.str_, 10), int, np.float32)})\n",
    "print(array2)\n",
    "# 3. 使用元组的方式：\n",
    "array3 = np.dtype([('name', 'S10'), ('age', 'i4'), ('weight', 'f8')])\n",
    "print(array3)\n",
    "a = np.array([('abc', 21, 50),('xyz', 18, 75)], dtype =array1) \n",
    "print(a)"
   ]
  },
  {
   "cell_type": "markdown",
   "metadata": {},
   "source": [
    "## 从已有的数据创建数组"
   ]
  },
  {
   "cell_type": "code",
   "execution_count": 141,
   "metadata": {
    "ExecuteTime": {
     "end_time": "2021-03-29T14:36:30.308325Z",
     "start_time": "2021-03-29T14:36:30.304306Z"
    }
   },
   "outputs": [
    {
     "name": "stdout",
     "output_type": "stream",
     "text": [
      "np.asarray(a, dtype = None, order = None)\n",
      "a:任意形式的输入参数，可以是，列表, 列表的元组, 元组, 元组的元组, 元组的列表，\n",
      "多维数组\n",
      "order: \"C\"和\"F\"两个选项,分别代表，行优先和列优先，在计算机内存中的存储元素的顺序。\n"
     ]
    }
   ],
   "source": [
    "print('''np.asarray(a, dtype = None, order = None)\n",
    "a:任意形式的输入参数，可以是，列表, 列表的元组, 元组, 元组的元组, 元组的列表，\n",
    "多维数组\n",
    "order: \"C\"和\"F\"两个选项,分别代表，行优先和列优先，在计算机内存中的存储元素的顺序。''')"
   ]
  },
  {
   "cell_type": "code",
   "execution_count": 287,
   "metadata": {
    "ExecuteTime": {
     "end_time": "2021-04-01T14:07:13.250284Z",
     "start_time": "2021-04-01T14:07:13.245297Z"
    }
   },
   "outputs": [
    {
     "name": "stdout",
     "output_type": "stream",
     "text": [
      "[(1, 2, 3) (4, 5)]\n",
      "[(1, 2, 3) (4, 5)]\n"
     ]
    }
   ],
   "source": [
    "x =  [(1,2,3),(4,5)] \n",
    "a = np.asarray(x)  \n",
    "print (a)\n",
    "a.shape\n",
    "a.ndim\n",
    "print(np.array(x))"
   ]
  },
  {
   "cell_type": "markdown",
   "metadata": {},
   "source": [
    "# 索引和切片"
   ]
  },
  {
   "cell_type": "markdown",
   "metadata": {},
   "source": [
    "## 基本索引与切片"
   ]
  },
  {
   "cell_type": "code",
   "execution_count": 163,
   "metadata": {
    "ExecuteTime": {
     "end_time": "2021-03-29T15:06:50.142757Z",
     "start_time": "2021-03-29T15:06:50.138767Z"
    }
   },
   "outputs": [
    {
     "name": "stdout",
     "output_type": "stream",
     "text": [
      "[[ 1  2  3]\n",
      " [ 4  5  6]\n",
      " [ 7  8  9]\n",
      " [10 11 12]\n",
      " [13 14 15]\n",
      " [16 17 18]]\n"
     ]
    }
   ],
   "source": [
    "'''因矩阵或数组，其实本质是由列表组成，故也可以使用与访问Python列表元素相同的方式对数组进行切片和索引访问。'''\n",
    "import numpy as np\n",
    "m1= np.array([np.arange(1,4),np.arange(4,7),np.arange(7,10),np.arange(10,13),np.arange(13,16),np.arange(16,19)])  # 创建6行3列的二维数组\n",
    "print(m1)"
   ]
  },
  {
   "cell_type": "code",
   "execution_count": 176,
   "metadata": {
    "ExecuteTime": {
     "end_time": "2021-03-29T15:23:28.862727Z",
     "start_time": "2021-03-29T15:23:28.857740Z"
    }
   },
   "outputs": [],
   "source": [
    "import numpy as np\n",
    "m1= np.array([np.arange(1,4),np.arange(4,7),np.arange(7,10),np.arange(10,13),np.arange(13,16),np.arange(16,19)])  # 创建6行3列的二维数组"
   ]
  },
  {
   "cell_type": "code",
   "execution_count": 181,
   "metadata": {
    "ExecuteTime": {
     "end_time": "2021-03-30T02:05:42.213159Z",
     "start_time": "2021-03-30T02:05:42.185203Z"
    },
    "scrolled": true
   },
   "outputs": [
    {
     "name": "stdout",
     "output_type": "stream",
     "text": [
      "- -- -- -- -- - 提取1到6行每隔1行取一行，及1到2列的数据 - -- -- -- -- -\n",
      "[[ 1  2]\n",
      " [ 7  8]\n",
      " [13 14]]\n",
      "- -- -- -- -- - 提取第3行的数据 - -- -- -- -- -\n",
      "[7 8 9]\n",
      "- -- -- -- -- - 提取第3列 - -- -- -- -- -\n",
      "[ 3  6  9 12 15 18]\n",
      "- -- -- -- -- - 提取第2行的第二列元素 - -- -- -- -- -\n",
      "5\n",
      "- -- -- -- -- - 当要提取某一整行或整列时，其效果与：完全相同 - -- -- -- -- -\n",
      "m1[:,2] 等同于m1[...,2]:即提取数组的第二列数据\n",
      " [ 3  6  9 12 15 18]\n",
      "m1[2,:] 等同于m1[2,...]:即提取数组的第二行数据\n",
      " [7 8 9]\n"
     ]
    },
    {
     "data": {
      "text/plain": [
       "slice(1, 3, None)"
      ]
     },
     "execution_count": 181,
     "metadata": {},
     "output_type": "execute_result"
    }
   ],
   "source": [
    "'''1、使用索引切片访问和提取数组的一部分'''\n",
    "print('- -'*5,'提取1到6行每隔1行取一行，及1到2列的数据','- -'*5)\n",
    "\n",
    "print(m1[0:5:2,0:2]) #会并组成一个2*3矩阵\n",
    "\n",
    "'''2、提取指定的行、列: 用，表示不同的维度'''\n",
    "print('- -'*5,'提取第3行的数据','- -'*5)\n",
    "print(m1[2,:]) \n",
    "print('- -'*5,'提取第3列','- -'*5)\n",
    "print(m1[:,2])\n",
    "\n",
    "'''3、提取指定的元素''' \n",
    "print('- -'*5,'提取第2行的第二列元素','- -'*5)\n",
    "print(m1[1,1])\n",
    " \n",
    "'''4、一维及更高维，同理，比如提取shape为3*4*5的矩阵，则即a[k,m,n]，其中京k、m、n即可以是索引值，也可以是由索引值构成的切片'''\n",
    "'''5、切片中省略号的用法''' \n",
    "\n",
    "print('- -'*5,'当要提取某一整行或整列时，其效果与：完全相同','- -'*5)\n",
    "print('m1[:,2] 等同于m1[...,2]:即提取数组的第二列数据\\n',m1[...,2])\n",
    "\n",
    "print('m1[2,:] 等同于m1[2,...]:即提取数组的第二行数据\\n',m1[2,...])\n",
    "\n",
    " \n",
    "'''6、切片对象可以通过内置的 slice 函数，并设置 start, stop 及 step 参数进行，从原数组中切割出一个新数组。'''\n",
    "s=slice(1,3)\n",
    "m1[s] #等同于m1[1:3]"
   ]
  },
  {
   "cell_type": "markdown",
   "metadata": {},
   "source": [
    "## 花式索引访问\n",
    "- 指利用整数数组进行索引，使用指定顺序对数组提取子集。\n",
    "- 使用一维整型数组作为索引时，\n",
    "  如果目标是一维数组，那么索引的结果就是对应位置的元素（类似索引访问）；\n",
    "  如果目标是二维数组，那么就是对应下标的行（类似直接取对应的行）"
   ]
  },
  {
   "cell_type": "code",
   "execution_count": 182,
   "metadata": {
    "ExecuteTime": {
     "end_time": "2021-03-30T02:18:39.821377Z",
     "start_time": "2021-03-30T02:18:39.793452Z"
    }
   },
   "outputs": [
    {
     "data": {
      "text/plain": [
       "array([2, 3, 4])"
      ]
     },
     "execution_count": 182,
     "metadata": {},
     "output_type": "execute_result"
    }
   ],
   "source": [
    "'''1.原数组为一维数组，传入1个一维数组作为索引.'''\n",
    "a=np.array([1,2,3,4,5,6])\n",
    "a[[1,2,3]] #得到a的第2、3、4个元素并组成一个新的一维数组"
   ]
  },
  {
   "cell_type": "code",
   "execution_count": 201,
   "metadata": {
    "ExecuteTime": {
     "end_time": "2021-03-30T02:52:38.457065Z",
     "start_time": "2021-03-30T02:52:38.451052Z"
    }
   },
   "outputs": [
    {
     "data": {
      "text/plain": [
       "array([[1, 2, 3],\n",
       "       [4, 5, 6]])"
      ]
     },
     "execution_count": 201,
     "metadata": {},
     "output_type": "execute_result"
    }
   ],
   "source": [
    "'''2.原数组为二维数组，传入1个一维数组作为索引'''\n",
    "a=np.array([\n",
    "    [1,2,3],\n",
    "    [4,5,6],\n",
    "    [7,8,9]\n",
    "])\n",
    "a[[1,2]] #得到a的第2和第3行组成的2*3数组\n"
   ]
  },
  {
   "cell_type": "code",
   "execution_count": 218,
   "metadata": {
    "ExecuteTime": {
     "end_time": "2021-03-30T03:25:49.340049Z",
     "start_time": "2021-03-30T03:25:49.334095Z"
    }
   },
   "outputs": [
    {
     "name": "stdout",
     "output_type": "stream",
     "text": [
      "[[[ 0  1  2  3]\n",
      "  [ 4  5  6  7]\n",
      "  [ 8  9 10 11]]\n",
      "\n",
      " [[12 13 14 15]\n",
      "  [16 17 18 19]\n",
      "  [20 21 22 23]]]\n",
      "- -- -- -- -- - 提取第0层第1行第2列、第0层第2行第3列的数据集 - -- -- -- -- -- -- -- -- -- -\n",
      "[ 6 11]\n"
     ]
    }
   ],
   "source": [
    "'''3.原数组为多维数组，传入多个一维数组作为索引'''\n",
    "b = np.arange(24).reshape(2,3,4)\n",
    "print(b)\n",
    "print(\"- -\"*5, '提取第0层第1行第2列、第0层第2行第3列的数据集','- -'*10)\n",
    "index = [[0],[1,2],[2,3]]#将被弃用\n",
    "#b[index]\n",
    "index = ([0],[1,2],[2,3])#将多个一维数组放在元组内；层，行列，行列\n",
    "print(b[index])"
   ]
  },
  {
   "cell_type": "code",
   "execution_count": 221,
   "metadata": {
    "ExecuteTime": {
     "end_time": "2021-03-30T03:28:13.429375Z",
     "start_time": "2021-03-30T03:28:13.424387Z"
    }
   },
   "outputs": [
    {
     "name": "stdout",
     "output_type": "stream",
     "text": [
      "[[[ 6  7]\n",
      "  [10 11]]]\n",
      "- -- -- -- -- - 第0层的第1行的第2列和第3列,和第2行的的第2列和第3列元素 - -- -- -- -- -- -- -- -- -- -\n"
     ]
    }
   ],
   "source": [
    "'''4. 原数组为多维数组，传入多个一维数组作为索引，且使用ix_ 函数\n",
    "ix_函数将多个一维数组转换为一个用于选取矩形区域的索引器\n",
    "#pandas内的iloc索引方式，其本质即ix_的索引方式'''\n",
    "index = np.ix_([0],[1,2],[2,3]) #层，行，列\n",
    "print(b[index])\n",
    "print(\"- -\"*5, '''第0层的第1行的第2列和第3列,和第2行的的第2列和第3列元素''','- -'*10)"
   ]
  },
  {
   "cell_type": "code",
   "execution_count": 212,
   "metadata": {
    "ExecuteTime": {
     "end_time": "2021-03-30T03:20:57.752568Z",
     "start_time": "2021-03-30T03:20:57.747585Z"
    }
   },
   "outputs": [
    {
     "data": {
      "text/plain": [
       "array([[[20, 23, 22],\n",
       "        [16, 19, 18]],\n",
       "\n",
       "       [[ 8, 11, 10],\n",
       "        [ 4,  7,  6]]])"
      ]
     },
     "execution_count": 212,
     "metadata": {},
     "output_type": "execute_result"
    }
   ],
   "source": [
    "index1 = np.ix_([1,0],[2,1],[0,3,2])\n",
    "b[index1]"
   ]
  },
  {
   "cell_type": "markdown",
   "metadata": {},
   "source": [
    "## 逻辑索引\n",
    "- 使用布尔型索引、条件索引"
   ]
  },
  {
   "cell_type": "code",
   "execution_count": 222,
   "metadata": {
    "ExecuteTime": {
     "end_time": "2021-03-30T03:33:26.536938Z",
     "start_time": "2021-03-30T03:33:26.507018Z"
    }
   },
   "outputs": [
    {
     "data": {
      "text/plain": [
       "array([15, 16, 17, 18, 19, 20, 21, 22, 23])"
      ]
     },
     "execution_count": 222,
     "metadata": {},
     "output_type": "execute_result"
    }
   ],
   "source": [
    "b = np.arange(24).reshape(2,3,4)\n",
    "b[b>=15]"
   ]
  },
  {
   "cell_type": "code",
   "execution_count": 227,
   "metadata": {
    "ExecuteTime": {
     "end_time": "2021-03-30T03:37:46.615781Z",
     "start_time": "2021-03-30T03:37:46.596802Z"
    }
   },
   "outputs": [
    {
     "data": {
      "text/plain": [
       "array([ 0,  1,  2,  3,  4,  5,  6,  7,  8,  9, 10, 11, 12, 13, 14])"
      ]
     },
     "execution_count": 227,
     "metadata": {},
     "output_type": "execute_result"
    }
   ],
   "source": [
    "b = np.arange(24).reshape(2,3,4)\n",
    "b[~(b>=15)]"
   ]
  },
  {
   "cell_type": "code",
   "execution_count": 232,
   "metadata": {
    "ExecuteTime": {
     "end_time": "2021-03-30T03:41:05.005169Z",
     "start_time": "2021-03-30T03:41:04.999185Z"
    }
   },
   "outputs": [
    {
     "data": {
      "text/plain": [
       "'and 和 or 布尔数组中无效'"
      ]
     },
     "execution_count": 232,
     "metadata": {},
     "output_type": "execute_result"
    }
   ],
   "source": [
    "b = np.arange(24).reshape(2,3,4)\n",
    "b[(b<20)&(b>=15)]\n",
    "b[(b>20)|(b>=15)]\n",
    "'''and 和 or 布尔数组中无效'''"
   ]
  },
  {
   "cell_type": "code",
   "execution_count": 233,
   "metadata": {
    "ExecuteTime": {
     "end_time": "2021-03-30T03:42:21.266145Z",
     "start_time": "2021-03-30T03:42:21.261159Z"
    }
   },
   "outputs": [
    {
     "data": {
      "text/plain": [
       "'\\n#布尔索引，可以使用布尔表达式（条件表达式）来检索出某个数组符合指定条件的元素，并返回由这些元素组成的一维数组\\n\\n#布尔索引在理解pandas相关条件检索操作时，很有用，可以说pandas的条件检索，本质就是布尔索引\\n#其本质的运算逻辑即对数组进行遍历，找出满足条件的元素对应的索引值，最后返回索引值对应的元素\\n'"
      ]
     },
     "execution_count": 233,
     "metadata": {},
     "output_type": "execute_result"
    }
   ],
   "source": [
    "'''\n",
    "#布尔索引，可以使用布尔表达式（条件表达式）来检索出某个数组符合指定条件的元素，并返回由这些元素组成的一维数组\n",
    "\n",
    "#布尔索引在理解pandas相关条件检索操作时，很有用，可以说pandas的条件检索，本质就是布尔索引\n",
    "\n",
    "#其本质的运算逻辑即对数组进行遍历，找出满足条件的元素对应的索引值，最后返回索引值对应的元素\n",
    "'''"
   ]
  },
  {
   "cell_type": "markdown",
   "metadata": {},
   "source": [
    "# 数组的属性"
   ]
  },
  {
   "cell_type": "code",
   "execution_count": 123,
   "metadata": {
    "ExecuteTime": {
     "end_time": "2021-03-29T14:09:49.022843Z",
     "start_time": "2021-03-29T14:09:48.990929Z"
    }
   },
   "outputs": [
    {
     "name": "stdout",
     "output_type": "stream",
     "text": [
      "- -- -- -- -- -- -- -- -- -- -- -- -- -- -- - 数组的属性 - -- -- -- -- -- -- -- -- -- -- -- -- -- -- -\n",
      "(6, 3)\n",
      "2\n",
      "44\n"
     ]
    }
   ],
   "source": [
    "import numpy as np\n",
    "m1= np.array([np.arange(1,4),np.arange(4,7),np.arange(7,10),np.arange(10,13),np.arange(13,16),np.arange(16,19)])  # 创建6行3列的二维数组\n",
    "#print(m1)\n",
    "print(\"- -\"*15,'数组的属性',\"- -\"*15) \n",
    "print(m1.shape)#shape属性表示数组的形状\n",
    "print(m1.ndim)#ndim属性表示数组的维数\n",
    "print(m2.itemsize)#itemsize 属性表示元素大小：即该数组内元素占据内存大小，字节单位"
   ]
  },
  {
   "cell_type": "code",
   "execution_count": 125,
   "metadata": {
    "ExecuteTime": {
     "end_time": "2021-03-29T14:11:14.622157Z",
     "start_time": "2021-03-29T14:11:14.619166Z"
    }
   },
   "outputs": [
    {
     "name": "stdout",
     "output_type": "stream",
     "text": [
      "其它的数组属性\n",
      "ndarray.ndim\t秩，即轴的数量或维度的数量\n",
      "ndarray.shape\t数组的维度，对于矩阵，n 行 m 列\n",
      "ndarray.size\t数组元素的总个数，相当于 .shape 中 n*m 的值\n",
      "ndarray.dtype\tndarray 对象的元素类型\n",
      "ndarray.itemsize\tndarray 对象中每个元素的大小，以字节为单位\n",
      "ndarray.flags\tndarray 对象的内存信息\n",
      "ndarray.real\tndarray元素的实部\n",
      "ndarray.imag\tndarray 元素的虚部\n",
      "ndarray.data\t包含实际数组元素的缓冲区，由于一般通过数组的索引获取元素，所以通常不需要使用这个属性。\n"
     ]
    }
   ],
   "source": [
    "print('''其它的数组属性\n",
    "ndarray.ndim\t秩，即轴的数量或维度的数量\n",
    "ndarray.shape\t数组的维度，对于矩阵，n 行 m 列\n",
    "ndarray.size\t数组元素的总个数，相当于 .shape 中 n*m 的值\n",
    "ndarray.dtype\tndarray 对象的元素类型\n",
    "ndarray.itemsize\tndarray 对象中每个元素的大小，以字节为单位\n",
    "ndarray.flags\tndarray 对象的内存信息\n",
    "ndarray.real\tndarray元素的实部\n",
    "ndarray.imag\tndarray 元素的虚部\n",
    "ndarray.data\t包含实际数组元素的缓冲区，由于一般通过数组的索引获取元素，所以通常不需要使用这个属性。''')"
   ]
  },
  {
   "cell_type": "markdown",
   "metadata": {},
   "source": [
    "#  数组操作"
   ]
  },
  {
   "cell_type": "markdown",
   "metadata": {},
   "source": [
    "numpy 中包含了一些函数用于处理数组，大概可分为以下几类：\n",
    "\n",
    "- 修改数组形状\n",
    "- 翻转数组\n",
    "- 修改数组维度\n",
    "- 连接数组\n",
    "- 分割数组\n",
    "- 数组元素的添加与删除"
   ]
  },
  {
   "cell_type": "markdown",
   "metadata": {},
   "source": [
    "## 修改数组形状"
   ]
  },
  {
   "cell_type": "code",
   "execution_count": 235,
   "metadata": {
    "ExecuteTime": {
     "end_time": "2021-04-01T12:43:38.403166Z",
     "start_time": "2021-04-01T12:43:38.381199Z"
    }
   },
   "outputs": [
    {
     "name": "stdout",
     "output_type": "stream",
     "text": [
      "\n",
      "函数\t描述\n",
      "reshape\t不改变数据的条件下修改形状\n",
      "flat\t数组元素迭代器\n",
      "flatten\t返回一份数组拷贝，对拷贝所做的修改不会影响原始数组\n",
      "ravel\t返回展开数组\n"
     ]
    }
   ],
   "source": [
    "print('''\n",
    "函数\t描述\n",
    "reshape\t不改变数据的条件下修改形状\n",
    "flat\t数组元素迭代器\n",
    "flatten\t返回一份数组拷贝，对拷贝所做的修改不会影响原始数组\n",
    "ravel\t返回展开数组''')"
   ]
  },
  {
   "cell_type": "code",
   "execution_count": 236,
   "metadata": {
    "ExecuteTime": {
     "end_time": "2021-04-01T12:46:18.354192Z",
     "start_time": "2021-04-01T12:46:18.350173Z"
    }
   },
   "outputs": [
    {
     "name": "stdout",
     "output_type": "stream",
     "text": [
      "np.reshape 函数可以在不改变数据的条件下修改形状，格式如下： \n",
      "          np.reshape(arr, newshape, order='C')\n",
      "arr：要修改形状的数组\n",
      "newshape：整数或者整数数组，新的形状应当兼容原有形状\n",
      "order：'C' -- 按行，'F' -- 按列，'A' -- 原顺序，'k' -- 元素在内存中的出现顺序。\n"
     ]
    }
   ],
   "source": [
    "print('''np.reshape 函数可以在不改变数据的条件下修改形状，格式如下： \n",
    "          np.reshape(arr, newshape, order='C')\n",
    "arr：要修改形状的数组\n",
    "newshape：整数或者整数数组，新的形状应当兼容原有形状\n",
    "order：'C' -- 按行，'F' -- 按列，'A' -- 原顺序，'k' -- 元素在内存中的出现顺序。''')"
   ]
  },
  {
   "cell_type": "code",
   "execution_count": 242,
   "metadata": {
    "ExecuteTime": {
     "end_time": "2021-04-01T12:48:50.566514Z",
     "start_time": "2021-04-01T12:48:50.548529Z"
    }
   },
   "outputs": [
    {
     "name": "stdout",
     "output_type": "stream",
     "text": [
      "原始数组： [0 1 2 3 4 5 6 7 8 9] \n",
      "\n",
      "- -- -- -- -- -- -- -- -- -- -- -- -- -- -- -- -- -- -- -- -\n",
      "修改后的数组：\n",
      " [[0 1 2 3 4]\n",
      " [5 6 7 8 9]]\n"
     ]
    }
   ],
   "source": [
    "import numpy as np \n",
    "a = np.arange(10)\n",
    "print ('原始数组：',a,'\\n')\n",
    "print(\"- -\"*20) \n",
    "b = a.reshape(2,5)\n",
    "print ('修改后的数组：\\n',b)"
   ]
  },
  {
   "cell_type": "code",
   "execution_count": 255,
   "metadata": {
    "ExecuteTime": {
     "end_time": "2021-04-01T13:01:28.801697Z",
     "start_time": "2021-04-01T13:01:28.796679Z"
    }
   },
   "outputs": [
    {
     "name": "stdout",
     "output_type": "stream",
     "text": [
      "原始数组：\n",
      "[0 1 2 3 4]\n",
      "[5 6 7 8 9]\n",
      "- -- -- -- -- -- -- -- -- -- -- -- -- -- -- -- -- -- -- -- -- -- -- -- -- -- -- -- -- -- -\n",
      "<numpy.flatiter object at 0x000001662106A230>\n"
     ]
    }
   ],
   "source": [
    "import numpy as np\n",
    " \n",
    "a = np.arange(10).reshape(2,5) \n",
    "print ('原始数组：')\n",
    "for row in a:\n",
    "    print (row)\n",
    "print(\"- -\"*30)  \n",
    "print(a.flat)"
   ]
  },
  {
   "cell_type": "code",
   "execution_count": null,
   "metadata": {},
   "outputs": [],
   "source": [
    "'''对数组中每个元素都进行处理，可以使用flat属性，该属性是一个数组元素迭代器：'''\n",
    "print ('迭代后的数组：')\n",
    "for element in a.flat:\n",
    "    print (element)"
   ]
  },
  {
   "cell_type": "code",
   "execution_count": 265,
   "metadata": {
    "ExecuteTime": {
     "end_time": "2021-04-01T13:10:13.118632Z",
     "start_time": "2021-04-01T13:10:13.115639Z"
    }
   },
   "outputs": [
    {
     "name": "stdout",
     "output_type": "stream",
     "text": [
      "numpy.ndarray.flatten 返回一份数组拷贝，对拷贝所做的修改不会影响原始数组，格式如下：\n",
      "\n",
      "ndarray.flatten(order='C')\n",
      "参数说明：\n",
      "\n",
      "order：'C' -- 按行，'F' -- 按列，'A' -- 原顺序，'K' -- 元素在内存中的出现顺序。\n"
     ]
    }
   ],
   "source": [
    "print('''numpy.ndarray.flatten 返回一份数组拷贝，对拷贝所做的修改不会影响原始数组，格式如下：\n",
    "\n",
    "ndarray.flatten(order='C')\n",
    "参数说明：\n",
    "\n",
    "order：'C' -- 按行，'F' -- 按列，'A' -- 原顺序，'K' -- 元素在内存中的出现顺序。''')"
   ]
  },
  {
   "cell_type": "code",
   "execution_count": 266,
   "metadata": {
    "ExecuteTime": {
     "end_time": "2021-04-01T13:12:31.364834Z",
     "start_time": "2021-04-01T13:12:31.349875Z"
    }
   },
   "outputs": [
    {
     "name": "stdout",
     "output_type": "stream",
     "text": [
      "原数组： [[0 1 2 3 4]\n",
      " [5 6 7 8 9]]\n",
      "- -- -- -- -- -- -- -- -- -- -- -- -- -- -- -- -- -- -- -- -- -- -- -- -- -- -- -- -- -- -\n",
      "展开的数组： [0 1 2 3 4 5 6 7 8 9]\n",
      "- -- -- -- -- -- -- -- -- -- -- -- -- -- -- -- -- -- -- -- -- -- -- -- -- -- -- -- -- -- -\n",
      "以 F 风格顺序展开的数组： [0 5 1 6 2 7 3 8 4 9]\n"
     ]
    }
   ],
   "source": [
    "import numpy as np\n",
    " \n",
    "a = np.arange(10).reshape(2,5)\n",
    " \n",
    "print ('原数组：',a)\n",
    "print(\"- -\"*30) \n",
    "\n",
    "print ('展开的数组：',a.flatten())\n",
    "print(\"- -\"*30) \n",
    " \n",
    "print ('以 F 风格顺序展开的数组：',a.flatten(order = 'F'))\n"
   ]
  },
  {
   "cell_type": "markdown",
   "metadata": {},
   "source": [
    "## 反转数组"
   ]
  },
  {
   "cell_type": "code",
   "execution_count": 270,
   "metadata": {
    "ExecuteTime": {
     "end_time": "2021-04-01T13:18:20.831123Z",
     "start_time": "2021-04-01T13:18:20.828113Z"
    }
   },
   "outputs": [
    {
     "name": "stdout",
     "output_type": "stream",
     "text": [
      "\n",
      "函数\t           描述\n",
      "transpose\t对换数组的维度\n",
      "ndarray.T\t和 self.transpose() 相同\n",
      "rollaxis\t向后滚动指定的轴\n",
      "swapaxes\t对换数组的两个轴\n"
     ]
    }
   ],
   "source": [
    "print('''\n",
    "函数\t           描述\n",
    "transpose\t对换数组的维度\n",
    "ndarray.T\t和 self.transpose() 相同\n",
    "rollaxis\t向后滚动指定的轴\n",
    "swapaxes\t对换数组的两个轴''')"
   ]
  },
  {
   "cell_type": "code",
   "execution_count": 271,
   "metadata": {
    "ExecuteTime": {
     "end_time": "2021-04-01T13:20:06.784201Z",
     "start_time": "2021-04-01T13:20:06.781202Z"
    }
   },
   "outputs": [
    {
     "name": "stdout",
     "output_type": "stream",
     "text": [
      "numpy.transpose 函数用于对换数组的维度，格式如下：\n",
      "\n",
      "         numpy.transpose(arr, axes)\n",
      "参数说明:\n",
      "arr：要操作的数组\n",
      "axes：整数列表，对应维度，通常所有维度都会对换。\n"
     ]
    }
   ],
   "source": [
    "print('''numpy.transpose 函数用于对换数组的维度，格式如下：\n",
    "\n",
    "         numpy.transpose(arr, axes)\n",
    "参数说明:\n",
    "arr：要操作的数组\n",
    "axes：整数列表，对应维度，通常所有维度都会对换。''')"
   ]
  },
  {
   "cell_type": "code",
   "execution_count": 273,
   "metadata": {
    "ExecuteTime": {
     "end_time": "2021-04-01T13:22:53.425960Z",
     "start_time": "2021-04-01T13:22:53.420016Z"
    }
   },
   "outputs": [
    {
     "name": "stdout",
     "output_type": "stream",
     "text": [
      "原数组：\n",
      " [[ 0  1  2  3]\n",
      " [ 4  5  6  7]\n",
      " [ 8  9 10 11]]\n",
      "- -- -- -- -- -- -- -- -- -- -- -- -- -- -- -- -- -- -- -- -- -- -- -- -- -- -- -- -- -- -\n",
      "对换数组：\n",
      "[[ 0  4  8]\n",
      " [ 1  5  9]\n",
      " [ 2  6 10]\n",
      " [ 3  7 11]]\n"
     ]
    }
   ],
   "source": [
    "import numpy as np\n",
    " \n",
    "a = np.arange(12).reshape(3,4)\n",
    "print ('原数组：\\n',a)\n",
    "print(\"- -\"*30)\n",
    "b = np.transpose(a) \n",
    "print ('反转数组：')\n",
    "print (b)"
   ]
  },
  {
   "cell_type": "markdown",
   "metadata": {},
   "source": [
    "## 数组整合"
   ]
  },
  {
   "cell_type": "code",
   "execution_count": 274,
   "metadata": {
    "ExecuteTime": {
     "end_time": "2021-04-01T13:42:47.937028Z",
     "start_time": "2021-04-01T13:42:47.933039Z"
    }
   },
   "outputs": [
    {
     "name": "stdout",
     "output_type": "stream",
     "text": [
      "\n",
      "函数\t            描述\n",
      "concatenate\t   连接沿现有轴的数组序列\n",
      "stack\t       沿着新的轴加入一系列数组。\n",
      "hstack\t       水平堆叠序列中的数组（列方向）\n",
      "vstack\t       竖直堆叠序列中的数组（行方向）\n"
     ]
    }
   ],
   "source": [
    "print('''\n",
    "函数\t            描述\n",
    "concatenate\t   连接沿现有轴的数组序列\n",
    "stack\t       沿着新的轴加入一系列数组。\n",
    "hstack\t       水平堆叠序列中的数组（列方向）\n",
    "vstack\t       竖直堆叠序列中的数组（行方向）''')"
   ]
  },
  {
   "cell_type": "markdown",
   "metadata": {},
   "source": [
    "### 水平组合\n",
    "- hstack 函数\n",
    "- concatenate函数"
   ]
  },
  {
   "cell_type": "code",
   "execution_count": 285,
   "metadata": {
    "ExecuteTime": {
     "end_time": "2021-04-01T13:58:51.263674Z",
     "start_time": "2021-04-01T13:58:51.255695Z"
    }
   },
   "outputs": [
    {
     "name": "stdout",
     "output_type": "stream",
     "text": [
      "第一个数组：\n",
      " [[1 2]\n",
      " [3 4]]\n",
      "\n",
      "\n",
      "第二个数组：\n",
      " [[5 6]\n",
      " [7 8]]\n",
      "- -- -- -- -- -- -- -- -- -- -- -- -- -- -- -- -- -- -- -- -- -- -- -- -- -- -- -- -- -- - 行数相同\n",
      "hstack函数处理的对象是元组,所以需要两层括号:\n",
      " [[1 2 5 6]\n",
      " [3 4 7 8]]\n"
     ]
    }
   ],
   "source": [
    "import numpy as np\n",
    " \n",
    "a = np.array([[1,2],[3,4]])\n",
    " \n",
    "print ('第一个数组：\\n',a)\n",
    "\n",
    "print ('\\n')\n",
    "b = np.array([[5,6],[7,8]])\n",
    " \n",
    "print ('第二个数组：\\n',b)\n",
    "print(\"- -\"*30,'行数相同')\n",
    "h_ab = np.hstack((a,b))\n",
    "print(\"hstack函数处理的对象是元组,所以需要两层括号:\\n\",h_ab)"
   ]
  },
  {
   "cell_type": "code",
   "execution_count": 275,
   "metadata": {
    "ExecuteTime": {
     "end_time": "2021-04-01T13:44:02.073217Z",
     "start_time": "2021-04-01T13:44:02.069259Z"
    }
   },
   "outputs": [
    {
     "name": "stdout",
     "output_type": "stream",
     "text": [
      "\n",
      "np.concatenate 函数用于沿指定轴连接相同形状的两个或多个数组，格式如下：\n",
      "               np.concatenate((a1, a2, ...), axis)\n",
      "参数说明：\n",
      "\n",
      "a1, a2, ...：相同类型的数组\n",
      "axis：沿着它连接数组的轴，默认为 0\n"
     ]
    }
   ],
   "source": [
    "print('''\n",
    "np.concatenate 函数用于沿指定轴连接相同形状的两个或多个数组，格式如下：\n",
    "               np.concatenate((a1, a2, ...), axis)\n",
    "参数说明：\n",
    "\n",
    "a1, a2, ...：相同类型的数组\n",
    "axis：沿着它连接数组的轴，默认为 0''')"
   ]
  },
  {
   "cell_type": "code",
   "execution_count": 278,
   "metadata": {
    "ExecuteTime": {
     "end_time": "2021-04-01T13:45:45.979891Z",
     "start_time": "2021-04-01T13:45:45.973907Z"
    }
   },
   "outputs": [
    {
     "name": "stdout",
     "output_type": "stream",
     "text": [
      "第一个数组：\n",
      " [[1 2]\n",
      " [3 4]]\n",
      "\n",
      "\n",
      "第二个数组：\n",
      " [[5 6]\n",
      " [7 8]]\n",
      "\n",
      "\n",
      "沿轴 0 连接两个数组：\n",
      "[[1 2]\n",
      " [3 4]\n",
      " [5 6]\n",
      " [7 8]]\n",
      "\n",
      "\n",
      "沿轴 1 连接两个数组：\n",
      "[[1 2 5 6]\n",
      " [3 4 7 8]]\n"
     ]
    }
   ],
   "source": [
    "import numpy as np\n",
    " \n",
    "a = np.array([[1,2],[3,4]])\n",
    " \n",
    "print ('第一个数组：\\n',a)\n",
    "\n",
    "print ('\\n')\n",
    "b = np.array([[5,6],[7,8]])\n",
    " \n",
    "print ('第二个数组：\\n',b)\n",
    "\n",
    "print ('\\n')\n",
    "# 两个数组的维度相同\n",
    " \n",
    "print ('沿轴 1 连接两个数组：行数相同')\n",
    "print (np.concatenate((a,b),axis = 1))"
   ]
  },
  {
   "cell_type": "markdown",
   "metadata": {},
   "source": [
    "### 垂直组合"
   ]
  },
  {
   "cell_type": "code",
   "execution_count": 283,
   "metadata": {
    "ExecuteTime": {
     "end_time": "2021-04-01T13:56:40.856076Z",
     "start_time": "2021-04-01T13:56:40.850066Z"
    }
   },
   "outputs": [
    {
     "name": "stdout",
     "output_type": "stream",
     "text": [
      "第一个数组： [[1 2]\n",
      " [3 4]]\n",
      "\n",
      "\n",
      "第二个数组： [[5 6]\n",
      " [7 8]]\n",
      "\n",
      "\n",
      "- -- -- -- -- -- -- -- -- -- -- -- -- -- -- -- -- -- -- -- -- -- -- -- -- -- -- -- -- -- -\n",
      "竖直堆叠：\n",
      "[[1 2]\n",
      " [3 4]\n",
      " [5 6]\n",
      " [7 8]]\n"
     ]
    }
   ],
   "source": [
    "import numpy as np\n",
    " \n",
    "a = np.array([[1,2],[3,4]])\n",
    " \n",
    "print ('第一个数组：',a)\n",
    "print ('\\n')\n",
    "b = np.array([[5,6],[7,8]])\n",
    " \n",
    "print ('第二个数组：',b)\n",
    "print ('\\n')\n",
    "print(\"- -\"*30)\n",
    "print ('竖直堆叠：列数相同')\n",
    "v_ab = np.vstack((a,b))\n",
    "print (v_ab)"
   ]
  },
  {
   "cell_type": "code",
   "execution_count": 282,
   "metadata": {
    "ExecuteTime": {
     "end_time": "2021-04-01T13:54:59.267998Z",
     "start_time": "2021-04-01T13:54:59.262979Z"
    }
   },
   "outputs": [
    {
     "name": "stdout",
     "output_type": "stream",
     "text": [
      "第一个数组：\n",
      " [[1 2]\n",
      " [3 4]]\n",
      "\n",
      "\n",
      "第二个数组：\n",
      " [[5 6]\n",
      " [7 8]]\n",
      "\n",
      "\n",
      "沿轴 0 连接两个数组：\n",
      "[[1 2]\n",
      " [3 4]\n",
      " [5 6]\n",
      " [7 8]]\n",
      "\n",
      "\n"
     ]
    }
   ],
   "source": [
    "import numpy as np\n",
    " \n",
    "a = np.array([[1,2],[3,4]])\n",
    " \n",
    "print ('第一个数组：\\n',a)\n",
    "\n",
    "print ('\\n')\n",
    "b = np.array([[5,6],[7,8]])\n",
    " \n",
    "print ('第二个数组：\\n',b)\n",
    "\n",
    "print ('\\n')\n",
    "\n",
    " \n",
    "print ('沿轴 0 连接两个数组：列数应该相同')\n",
    "print (np.concatenate((a,b)))\n",
    "print ('\\n')"
   ]
  },
  {
   "cell_type": "markdown",
   "metadata": {},
   "source": [
    "## 分割数组"
   ]
  },
  {
   "cell_type": "code",
   "execution_count": 288,
   "metadata": {
    "ExecuteTime": {
     "end_time": "2021-04-01T14:22:09.858110Z",
     "start_time": "2021-04-01T14:22:09.854121Z"
    }
   },
   "outputs": [
    {
     "name": "stdout",
     "output_type": "stream",
     "text": [
      "\n",
      "函数\t  数组及操作\n",
      "split\t将一个数组分割为多个子数组\n",
      "hsplit\t将一个数组水平分割为多个子数组（按列）\n",
      "vsplit\t将一个数组垂直分割为多个子数组（按行）\n"
     ]
    }
   ],
   "source": [
    "print('''\n",
    "函数\t  数组及操作\n",
    "split\t将一个数组分割为多个子数组\n",
    "hsplit\t将一个数组水平分割为多个子数组（按列）\n",
    "vsplit\t将一个数组垂直分割为多个子数组（按行）''')"
   ]
  },
  {
   "cell_type": "code",
   "execution_count": 290,
   "metadata": {
    "ExecuteTime": {
     "end_time": "2021-04-01T14:23:35.296962Z",
     "start_time": "2021-04-01T14:23:35.292941Z"
    }
   },
   "outputs": [
    {
     "name": "stdout",
     "output_type": "stream",
     "text": [
      "\n",
      "np.split 函数沿特定的轴将数组分割为子数组，格式如下：\n",
      "\n",
      "np.split(ary, indices_or_sections, axis)\n",
      "参数说明：\n",
      "\n",
      "ary：被分割的数组\n",
      "indices_or_sections：是一个整数，就用该数平均切分，如果是一个数组，为沿轴切分的位置（左开右闭）\n",
      "axis：设置沿着哪个方向进行切分，默认为 0，横向切分，即水平方向。为 1 时，纵向切分，即竖直方向。\n"
     ]
    }
   ],
   "source": [
    "print('''\n",
    "np.split 函数沿特定的轴将数组分割为子数组，格式如下：\n",
    "\n",
    "np.split(ary, indices_or_sections, axis)\n",
    "参数说明：\n",
    "\n",
    "ary：被分割的数组\n",
    "indices_or_sections：是一个整数，就用该数平均切分，如果是一个数组，为沿轴切分的位置（左开右闭）\n",
    "axis：设置沿着哪个方向进行切分，默认为 0，横向切分，即水平方向。为 1 时，纵向切分，即竖直方向。''')"
   ]
  },
  {
   "cell_type": "code",
   "execution_count": 298,
   "metadata": {
    "ExecuteTime": {
     "end_time": "2021-04-01T14:27:16.564449Z",
     "start_time": "2021-04-01T14:27:16.556474Z"
    }
   },
   "outputs": [
    {
     "name": "stdout",
     "output_type": "stream",
     "text": [
      "第一个数组： [0 1 2 3 4 5 6 7 8]\n",
      "- -- -- -- -- -- -- -- -- -- -- -- -- -- -- -- -- -- -- -- -- -- -- -- -- -- -- -- -- -- -\n",
      "将数组分为三个大小相等的子数组：\n",
      "[array([0, 1, 2]), array([3, 4, 5]), array([6, 7, 8])]\n",
      "\n",
      "\n",
      "- -- -- -- -- -- -- -- -- -- -- -- -- -- -- -- -- -- -- -- -- -- -- -- -- -- -- -- -- -- -\n",
      "将数组在一维数组中表明的位置分割：\n",
      "[array([0, 1, 2, 3]), array([4, 5, 6]), array([7, 8])]\n",
      "\n",
      "\n",
      "- -- -- -- -- -- -- -- -- -- -- -- -- -- -- -- -- -- -- -- -- -- -- -- -- -- -- -- -- -- -\n",
      "split 返回的是一个列表： <class 'list'>\n"
     ]
    }
   ],
   "source": [
    "import numpy as np\n",
    " \n",
    "a = np.arange(9)\n",
    " \n",
    "print ('第一个数组：',a)\n",
    "print(\"- -\"*30)\n",
    "print ('将数组分为三个大小相等的子数组：')\n",
    "b = np.split(a,3)\n",
    "print (b)\n",
    "print ('\\n')\n",
    "print(\"- -\"*30) \n",
    "print ('将数组在一维数组中表明的位置分割：')\n",
    "b = np.split(a,[4,7])\n",
    "print (b)\n",
    "print ('\\n')\n",
    "print(\"- -\"*30) \n",
    "print('split 返回的是一个列表：', type(b))"
   ]
  },
  {
   "cell_type": "code",
   "execution_count": 310,
   "metadata": {
    "ExecuteTime": {
     "end_time": "2021-04-01T14:35:56.636061Z",
     "start_time": "2021-04-01T14:35:56.630076Z"
    }
   },
   "outputs": [
    {
     "name": "stdout",
     "output_type": "stream",
     "text": [
      "第一个数组：\n",
      "[[ 0  1  2  3]\n",
      " [ 4  5  6  7]\n",
      " [ 8  9 10 11]\n",
      " [12 13 14 15]]\n",
      "\n",
      "\n",
      "默认分割（0轴）：\n",
      "[array([[0, 1, 2, 3],\n",
      "       [4, 5, 6, 7]]), array([[ 8,  9, 10, 11],\n",
      "       [12, 13, 14, 15]])]\n",
      "\n",
      "\n",
      "沿垂直方向分割：\n",
      "[array([[ 0,  1],\n",
      "       [ 4,  5],\n",
      "       [ 8,  9],\n",
      "       [12, 13]]), array([[ 2,  3],\n",
      "       [ 6,  7],\n",
      "       [10, 11],\n",
      "       [14, 15]])]\n",
      "\n",
      "\n",
      "[array([[ 0,  1,  2,  3],\n",
      "       [ 4,  5,  6,  7],\n",
      "       [ 8,  9, 10, 11],\n",
      "       [12, 13, 14, 15]]), array([], shape=(0, 4), dtype=int32), array([], shape=(0, 4), dtype=int32)]\n"
     ]
    }
   ],
   "source": [
    "import numpy as np\n",
    "\n",
    "a = np.arange(16).reshape(4, 4)\n",
    "print('第一个数组：')\n",
    "print(a)\n",
    "print('\\n')\n",
    "print('默认分割（0轴）：')\n",
    "b = np.split(a,2)\n",
    "print(b)\n",
    "print('\\n')\n",
    "\n",
    "print('沿垂直方向分割：')\n",
    "c = np.split(a,2,1)\n",
    "print(c)\n",
    "print('\\n')\n",
    "\n"
   ]
  },
  {
   "cell_type": "code",
   "execution_count": null,
   "metadata": {
    "ExecuteTime": {
     "end_time": "2021-04-01T14:32:50.937707Z",
     "start_time": "2021-04-01T14:32:50.925736Z"
    }
   },
   "outputs": [],
   "source": []
  },
  {
   "cell_type": "markdown",
   "metadata": {},
   "source": [
    "##  数组元素的添加与删除"
   ]
  },
  {
   "cell_type": "code",
   "execution_count": 311,
   "metadata": {
    "ExecuteTime": {
     "end_time": "2021-04-01T14:36:56.711412Z",
     "start_time": "2021-04-01T14:36:56.708388Z"
    }
   },
   "outputs": [
    {
     "name": "stdout",
     "output_type": "stream",
     "text": [
      "\n",
      "函数\t     元素及描述\n",
      "resize\t返回指定形状的新数组\n",
      "append\t将值添加到数组末尾\n",
      "insert\t沿指定轴将值插入到指定下标之前\n",
      "delete\t删掉某个轴的子数组，并返回删除后的新数组\n",
      "unique\t查找数组内的唯一元素\n"
     ]
    }
   ],
   "source": [
    "print('''\n",
    "函数\t     元素及描述\n",
    "resize\t返回指定形状的新数组\n",
    "append\t将值添加到数组末尾\n",
    "insert\t沿指定轴将值插入到指定下标之前\n",
    "delete\t删掉某个轴的子数组，并返回删除后的新数组\n",
    "unique\t查找数组内的唯一元素''')"
   ]
  },
  {
   "cell_type": "code",
   "execution_count": 312,
   "metadata": {
    "ExecuteTime": {
     "end_time": "2021-04-01T14:37:47.927296Z",
     "start_time": "2021-04-01T14:37:47.895412Z"
    }
   },
   "outputs": [
    {
     "name": "stdout",
     "output_type": "stream",
     "text": [
      "np.resize 函数返回指定大小的新数组。\n",
      "\n",
      "如果新数组大小大于原始大小，则包含原始数组中的元素的副本。\n",
      "\n",
      "numpy.resize(arr, shape)\n",
      "参数说明：\n",
      "\n",
      "arr：要修改大小的数组\n",
      "shape：返回数组的新形状\n",
      "第一个数组：\n",
      "[[1 2 3]\n",
      " [4 5 6]]\n",
      "\n",
      "\n",
      "第一个数组的形状：\n",
      "(2, 3)\n",
      "\n",
      "\n",
      "第二个数组：\n",
      "[[1 2]\n",
      " [3 4]\n",
      " [5 6]]\n",
      "\n",
      "\n",
      "第二个数组的形状：\n",
      "(3, 2)\n",
      "\n",
      "\n",
      "修改第二个数组的大小：\n",
      "[[1 2 3]\n",
      " [4 5 6]\n",
      " [1 2 3]]\n"
     ]
    }
   ],
   "source": [
    "print('''np.resize 函数返回指定大小的新数组。\n",
    "\n",
    "如果新数组大小大于原始大小，则包含原始数组中的元素的副本。\n",
    "\n",
    "numpy.resize(arr, shape)\n",
    "参数说明：\n",
    "\n",
    "arr：要修改大小的数组\n",
    "shape：返回数组的新形状'''\n",
    ")"
   ]
  },
  {
   "cell_type": "code",
   "execution_count": 313,
   "metadata": {
    "ExecuteTime": {
     "end_time": "2021-04-01T14:38:23.748939Z",
     "start_time": "2021-04-01T14:38:23.740929Z"
    }
   },
   "outputs": [
    {
     "name": "stdout",
     "output_type": "stream",
     "text": [
      "第一个数组：\n",
      "[[1 2 3]\n",
      " [4 5 6]]\n",
      "\n",
      "\n",
      "第一个数组的形状：\n",
      "(2, 3)\n",
      "\n",
      "\n",
      "第二个数组： [[1 2]\n",
      " [3 4]\n",
      " [5 6]]\n",
      "\n",
      "\n",
      "第二个数组的形状：\n",
      "(3, 2)\n",
      "\n",
      "\n",
      "修改第二个数组的大小：\n",
      "[[1 2 3]\n",
      " [4 5 6]\n",
      " [1 2 3]]\n"
     ]
    }
   ],
   "source": [
    "import numpy as np\n",
    " \n",
    "a = np.array([[1,2,3],[4,5,6]])\n",
    " \n",
    "print ('第一个数组：')\n",
    "print (a)\n",
    "print ('\\n')\n",
    " \n",
    "print ('第一个数组的形状：')\n",
    "print (a.shape)\n",
    "print ('\\n')\n",
    "b = np.resize(a, (3,2))\n",
    " \n",
    "print ('第二个数组：',b)\n",
    "\n",
    "print ('\\n')\n",
    " \n",
    "print ('第二个数组的形状：')\n",
    "print (b.shape)\n",
    "print ('\\n')\n",
    "# 要注意 a 的第一行在 b 中重复出现，因为尺寸变大了\n",
    " \n",
    "print ('修改第二个数组的大小：')\n",
    "b = np.resize(a,(3,3))\n",
    "print (b)"
   ]
  },
  {
   "cell_type": "code",
   "execution_count": null,
   "metadata": {},
   "outputs": [],
   "source": []
  }
 ],
 "metadata": {
  "kernelspec": {
   "display_name": "Python 3",
   "language": "python",
   "name": "python3"
  },
  "language_info": {
   "codemirror_mode": {
    "name": "ipython",
    "version": 3
   },
   "file_extension": ".py",
   "mimetype": "text/x-python",
   "name": "python",
   "nbconvert_exporter": "python",
   "pygments_lexer": "ipython3",
   "version": "3.7.6"
  },
  "latex_envs": {
   "LaTeX_envs_menu_present": true,
   "autoclose": false,
   "autocomplete": true,
   "bibliofile": "biblio.bib",
   "cite_by": "apalike",
   "current_citInitial": 1,
   "eqLabelWithNumbers": true,
   "eqNumInitial": 1,
   "hotkeys": {
    "equation": "Ctrl-E",
    "itemize": "Ctrl-I"
   },
   "labels_anchors": false,
   "latex_user_defs": false,
   "report_style_numbering": false,
   "user_envs_cfg": false
  },
  "toc": {
   "base_numbering": 1,
   "nav_menu": {},
   "number_sections": true,
   "sideBar": true,
   "skip_h1_title": false,
   "title_cell": "Table of Contents",
   "title_sidebar": "Contents",
   "toc_cell": false,
   "toc_position": {
    "height": "calc(100% - 180px)",
    "left": "10px",
    "top": "150px",
    "width": "384px"
   },
   "toc_section_display": true,
   "toc_window_display": true
  }
 },
 "nbformat": 4,
 "nbformat_minor": 4
}
