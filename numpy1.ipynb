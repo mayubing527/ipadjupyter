{
 "cells": [
  {
   "cell_type": "markdown",
   "metadata": {},
   "source": [
    "# numpy 编程基础(续)"
   ]
  },
  {
   "cell_type": "markdown",
   "metadata": {},
   "source": [
    "- matrix 是 numpy 提供的另外一种数据类型\n",
    "- matrix 是继承自 numpy 的二维 ndarray 对象，不仅具有二维ndarray 的属性、方法与函数，还拥有诸多特有的属性与方法. "
   ]
  },
  {
   "cell_type": "markdown",
   "metadata": {},
   "source": [
    "## 创建numpy矩阵"
   ]
  },
  {
   "cell_type": "code",
   "execution_count": 30,
   "metadata": {
    "ExecuteTime": {
     "end_time": "2021-04-05T02:28:29.081855Z",
     "start_time": "2021-04-05T02:28:29.074873Z"
    }
   },
   "outputs": [
    {
     "name": "stdout",
     "output_type": "stream",
     "text": [
      "- -- -- -- -- -- -- -- -- -- -- -- -- -- -- -- -- -- -- -- - 使用mat 、matrix或者bmat 函数创建矩阵 - -- -- -- -- -- -- -- -- -- -\n",
      "= = = = = = = = = = = = = = = = = = = =  matrix()的语法 = == == == == == == == == == =\n",
      "np.matrix(data，dtype = None，copy = True )\n",
      "          data: 数组的对象或数据字符串.如果data为字符串，则将其解释为矩阵，其中用逗号或空格分隔列，用分号分隔行.\n",
      "          dtype:输出矩阵的数据类型。\n",
      "          copy:如果data已经是ndarray，则此标志确定是否复制数据（默认值）或是否构造了视图。\n",
      "                              \n",
      "- -- -- -- -- -- -- -- -- -- -- -- -- -- -- -- -- -- -- -- - 字符串矩创建矩阵（一） - -- -- -- -- -- -- -- -- -- -\n",
      "mat1:\n",
      " [[1 2 3]\n",
      " [4 5 6]\n",
      " [7 8 9]]\n",
      "- -- -- -- -- -- -- -- -- -- -- -- -- -- -- -- -- -- -- -- - 字符串矩创建矩阵（二） - -- -- -- -- -- -- -- -- -- -\n",
      "mat2:\n",
      " [[1 2 3]\n",
      " [4 5 6]\n",
      " [7 8 9]]\n",
      "- -- -- -- -- -- -- -- -- -- -- -- -- -- -- -- -- -- -- -- - 数组创建矩阵 - -- -- -- -- -- -- -- -- -- -\n",
      "mat3:\n",
      " [[1 2 3]\n",
      " [4 5 6]\n",
      " [7 8 9]]\n"
     ]
    }
   ],
   "source": [
    "print('- -'*20,'''使用mat 、matrix或者bmat 函数创建矩阵''','- -'*10)\n",
    "\n",
    "print('= = '*10,'''matrix()的语法''','= ='*10)\n",
    "print('''np.matrix(data，dtype = None，copy = True )\n",
    "          data: 数组的对象或数据字符串.如果data为字符串，则将其解释为矩阵，其中用逗号或空格分隔列，用分号分隔行.\n",
    "          dtype:输出矩阵的数据类型。\n",
    "          copy:如果data已经是ndarray，则此标志确定是否复制数据（默认值）或是否构造了视图。\n",
    "                              ''')\n",
    "import numpy as np\n",
    "print('- -'*20,'''字符串矩创建矩阵（一）''','- -'*10)\n",
    "mat1 = np.matrix('1,2,3;4,5,6;7,8,9')\n",
    "print(\"mat1:\\n\",mat1)\n",
    "print('- -'*20,'''字符串矩创建矩阵（二）''','- -'*10)\n",
    "mat2 = np.matrix('1 2 3;4 5 6;7 8 9')\n",
    "print(\"mat2:\\n\",mat2)\n",
    "print('- -'*20,'''数组创建矩阵''','- -'*10)\n",
    "mat3 = np.matrix([[1,2,3],[4,5,6],[7,8,9]])\n",
    "print(\"mat3:\\n\",mat3)"
   ]
  },
  {
   "cell_type": "code",
   "execution_count": 21,
   "metadata": {
    "ExecuteTime": {
     "end_time": "2021-04-08T20:12:31.383658Z",
     "start_time": "2021-04-08T20:12:31.375679Z"
    }
   },
   "outputs": [
    {
     "name": "stdout",
     "output_type": "stream",
     "text": [
      "[[1. 0. 0.]\n",
      " [0. 1. 0.]\n",
      " [0. 0. 1.]]\n",
      "[[3. 0. 0.]\n",
      " [0. 3. 0.]\n",
      " [0. 0. 3.]]\n"
     ]
    },
    {
     "data": {
      "text/plain": [
       "matrix([[1., 0., 0., 3., 0., 0.],\n",
       "        [0., 1., 0., 0., 3., 0.],\n",
       "        [0., 0., 1., 0., 0., 3.],\n",
       "        [1., 0., 0., 3., 0., 0.],\n",
       "        [0., 1., 0., 0., 3., 0.],\n",
       "        [0., 0., 1., 0., 0., 3.]])"
      ]
     },
     "execution_count": 21,
     "metadata": {},
     "output_type": "execute_result"
    }
   ],
   "source": [
    "'''大块矩阵的连接'''\n",
    "import numpy as np\n",
    "ar1 = np.eye(3);print(ar1)\n",
    "ar2 = 3*ar1;print(ar2)\n",
    "mat = np.bmat(\"ar1 ar2; ar1 ar2\")\n",
    "mat\n",
    "#help(np.bmat)"
   ]
  },
  {
   "cell_type": "markdown",
   "metadata": {},
   "source": [
    "## 矩阵的属性和基本运算"
   ]
  },
  {
   "cell_type": "code",
   "execution_count": 9,
   "metadata": {
    "ExecuteTime": {
     "end_time": "2021-04-08T19:55:26.715940Z",
     "start_time": "2021-04-08T19:55:26.710954Z"
    },
    "scrolled": true
   },
   "outputs": [
    {
     "name": "stdout",
     "output_type": "stream",
     "text": [
      "[[0 2]\n",
      " [1 3]] \n",
      " [[0 2]\n",
      " [1 3]] \n",
      " [[-1.5  0.5]\n",
      " [ 1.   0. ]]\n"
     ]
    }
   ],
   "source": [
    "import numpy as np\n",
    "mat =np.matrix(np.arange(4).reshape(2,2))\n",
    "mT = mat.T #转置\n",
    "mH=mat.H#共轭转置\n",
    "mI=mat.I #逆矩阵\n",
    "print(mT,'\\n',mH,'\\n',mI)"
   ]
  },
  {
   "cell_type": "code",
   "execution_count": 41,
   "metadata": {
    "ExecuteTime": {
     "end_time": "2021-04-08T21:31:42.075587Z",
     "start_time": "2021-04-08T21:31:42.052648Z"
    }
   },
   "outputs": [
    {
     "name": "stdout",
     "output_type": "stream",
     "text": [
      "[[1 2 3]\n",
      " [4 5 6]]\n",
      "- -- -- -- -- -- -- -- -- -- -- -- -- -- -- -- -- -- -- -- -- -- -- -- -- -- -- -- -- -- -\n",
      "[[2 3]\n",
      " [4 5]\n",
      " [6 7]]\n",
      "[[28 34]\n",
      " [64 79]] # matmul(a, b)\n"
     ]
    }
   ],
   "source": [
    "'''使用matmul来实现两个矩阵的乘法计算，数学公式如下所示。\n",
    "\n",
    "Cm×q=Am×q×Bq×n 注意两矩阵能相乘，要求A的列等于B的行。'''\n",
    "\n",
    "import numpy as np\n",
    "a = np.arange(1, 7).reshape([2, 3])\n",
    "b = np.arange(2, 8).reshape([3, 2])\n",
    "print(a)\n",
    "print('- -'*30)\n",
    "print(b)\n",
    "print(np.matmul(a, b),\"# matmul(a, b)\")"
   ]
  },
  {
   "cell_type": "code",
   "execution_count": null,
   "metadata": {},
   "outputs": [],
   "source": [
    "'''numpy.linalg模块，提高供线性代数所需要的功能，如计算逆矩阵、求解线性方程组、求特征值、奇异值分解及求解行列式'''"
   ]
  },
  {
   "cell_type": "code",
   "execution_count": 10,
   "metadata": {
    "ExecuteTime": {
     "end_time": "2021-04-08T20:00:08.672075Z",
     "start_time": "2021-04-08T20:00:08.347469Z"
    }
   },
   "outputs": [
    {
     "data": {
      "text/plain": [
       "matrix([[1., 0., 0.],\n",
       "        [0., 1., 0.],\n",
       "        [0., 0., 1.]])"
      ]
     },
     "execution_count": 10,
     "metadata": {},
     "output_type": "execute_result"
    }
   ],
   "source": [
    "mat = np.mat('1 1 1;1 2 3;1 3 6')\n",
    "inverse = np.linalg.inv(mat)\n",
    "A = np.dot(mat,inverse)\n",
    "A"
   ]
  },
  {
   "cell_type": "code",
   "execution_count": 11,
   "metadata": {
    "ExecuteTime": {
     "end_time": "2021-04-08T20:02:03.105888Z",
     "start_time": "2021-04-08T20:02:03.100900Z"
    }
   },
   "outputs": [
    {
     "data": {
      "text/plain": [
       "array([1., 1., 4.])"
      ]
     },
     "execution_count": 11,
     "metadata": {},
     "output_type": "execute_result"
    }
   ],
   "source": [
    "mat = np.mat('1 -1 1;2 1 0;2 1 -1')\n",
    "b =np.array([4,3,-1])\n",
    "x = np.linalg.solve(mat,b)\n",
    "x"
   ]
  },
  {
   "cell_type": "code",
   "execution_count": null,
   "metadata": {},
   "outputs": [],
   "source": [
    "\n",
    "mat = np.mat('1 -0 2;0 3 0;2 0 1')\n",
    "mat_value,mat_vector =np.linalg.eig(A)"
   ]
  },
  {
   "cell_type": "code",
   "execution_count": 19,
   "metadata": {
    "ExecuteTime": {
     "end_time": "2021-04-08T20:09:35.923452Z",
     "start_time": "2021-04-08T20:09:35.918471Z"
    }
   },
   "outputs": [
    {
     "data": {
      "text/plain": [
       "(matrix([[-0.9486833 , -0.31622777],\n",
       "         [-0.31622777,  0.9486833 ]]),\n",
       " array([18.97366596,  9.48683298]),\n",
       " matrix([[-0.33333333, -0.66666667, -0.66666667],\n",
       "         [ 0.66666667,  0.33333333, -0.66666667]]))"
      ]
     },
     "execution_count": 19,
     "metadata": {},
     "output_type": "execute_result"
    }
   ],
   "source": [
    "import numpy as np\n",
    "A = np.mat('4.0,11.0,14.0;8.0,7.0,-2.0')\n",
    "U,Sigma,V =np.linalg.svd(A,full_matrices=False)\n",
    "U,Sigma,V\n"
   ]
  },
  {
   "cell_type": "code",
   "execution_count": 20,
   "metadata": {
    "ExecuteTime": {
     "end_time": "2021-04-08T20:10:31.262000Z",
     "start_time": "2021-04-08T20:10:31.231083Z"
    }
   },
   "outputs": [
    {
     "data": {
      "text/plain": [
       "-2.0000000000000004"
      ]
     },
     "execution_count": 20,
     "metadata": {},
     "output_type": "execute_result"
    }
   ],
   "source": [
    "import numpy as np\n",
    "A = np.mat('3 4;5 6')\n",
    "a =np.linalg.det(A)\n",
    "a"
   ]
  },
  {
   "cell_type": "code",
   "execution_count": 38,
   "metadata": {
    "ExecuteTime": {
     "end_time": "2021-04-08T21:28:09.228930Z",
     "start_time": "2021-04-08T21:28:09.212938Z"
    }
   },
   "outputs": [
    {
     "name": "stdout",
     "output_type": "stream",
     "text": [
      "2.0\n"
     ]
    }
   ],
   "source": [
    "import numpy as np\n",
    "x = np.array([1, 0, -2])\n",
    "n0 = np.linalg.norm(x, ord = 0)\n",
    "print( n0)\n",
    "import numpy as np\n",
    "x = np.array([2, 0, -4])\n",
    "n1 = np.linalg.norm(x, ord = 1)\n",
    "import numpy as np\n",
    "x = np.array([3, 0, -4])\n",
    "n = np.linalg.norm(x, ord = np.inf)#所有向量元素绝对值中的最大值。\n",
    "import numpy as np\n",
    "x = np.array([3, 0, -4])\n",
    "n2 = np.linalg.norm(x, ord = 2)"
   ]
  },
  {
   "cell_type": "markdown",
   "metadata": {},
   "source": [
    "## 文件读写"
   ]
  },
  {
   "cell_type": "markdown",
   "metadata": {},
   "source": [
    "### 读写 txt 或 csv 文件"
   ]
  },
  {
   "cell_type": "code",
   "execution_count": 26,
   "metadata": {
    "ExecuteTime": {
     "end_time": "2021-04-08T20:16:14.863801Z",
     "start_time": "2021-04-08T20:16:14.854856Z"
    }
   },
   "outputs": [
    {
     "name": "stdout",
     "output_type": "stream",
     "text": [
      "[[ 0  1  2  3  4]\n",
      " [ 5  6  7  8  9]\n",
      " [10 11 12 13 14]\n",
      " [15 16 17 18 19]]\n",
      "[[ 0  1  2  3  4]\n",
      " [ 5  6  7  8  9]\n",
      " [10 11 12 13 14]\n",
      " [15 16 17 18 19]]\n"
     ]
    },
    {
     "data": {
      "text/plain": [
       "'只能保存一维和二维 numpy 数组，当 numpy 数组 a 有多维时，需要将其 a.reshape((a.shape[0], -1)) 后才能用这种方式保存。\\n不能追加保存，即每次 np.savetxt() 都会覆盖之前的内容。'"
      ]
     },
     "execution_count": 26,
     "metadata": {},
     "output_type": "execute_result"
    }
   ],
   "source": [
    "import numpy as np\n",
    "\n",
    "a = np.array(range(20)).reshape((4, 5))\n",
    "print(a)\n",
    "\n",
    "# 后缀改为 .txt 一样\n",
    "filename = 'a.csv'\n",
    "# 写文件\n",
    "np.savetxt(filename, a, fmt='%d', delimiter=',')\n",
    "\n",
    "# 读文件\n",
    "b = np.loadtxt(filename, dtype=np.int32, delimiter=',')\n",
    "print(b)\n",
    "'''只能保存一维和二维 numpy 数组，当 numpy 数组 a 有多维时，需要将其 a.reshape((a.shape[0], -1)) 后才能用这种方式保存。\n",
    "不能追加保存，即每次 np.savetxt() 都会覆盖之前的内容。'''"
   ]
  },
  {
   "cell_type": "markdown",
   "metadata": {},
   "source": [
    "### 读写 npy 或 npz 文件"
   ]
  },
  {
   "cell_type": "code",
   "execution_count": 28,
   "metadata": {
    "ExecuteTime": {
     "end_time": "2021-04-08T20:18:35.206097Z",
     "start_time": "2021-04-08T20:18:35.198119Z"
    }
   },
   "outputs": [
    {
     "name": "stdout",
     "output_type": "stream",
     "text": [
      "[[[ 0  1  2  3  4]\n",
      "  [ 5  6  7  8  9]]\n",
      "\n",
      " [[10 11 12 13 14]\n",
      "  [15 16 17 18 19]]]\n",
      "[[[ 0  1  2  3  4]\n",
      "  [ 5  6  7  8  9]]\n",
      "\n",
      " [[10 11 12 13 14]\n",
      "  [15 16 17 18 19]]]\n",
      "(2, 2, 5)\n"
     ]
    },
    {
     "data": {
      "text/plain": [
       "'优点：\\n\\nnpy 文件可以保存任意维度的 numpy 数组，不限于一维和二维；\\nnpy 保存了 numpy 数组的结构，保存的时候是什么 shape 和 dtype，取出来时就是什么样的 shape 和 dtype。\\n缺点：\\n\\n只能保存一个 numpy 数组，每次保存会覆盖掉之前文件中存在的内容（如果有的话）。'"
      ]
     },
     "execution_count": 28,
     "metadata": {},
     "output_type": "execute_result"
    }
   ],
   "source": [
    "import numpy as np\n",
    "\n",
    "a = np.array(range(20)).reshape((2, 2, 5))\n",
    "print(a)\n",
    "\n",
    "filename = 'a.npy'\n",
    "# 写文件\n",
    "np.save(filename, a)\n",
    "\n",
    "# 读文件\n",
    "b = np.load(filename)\n",
    "print(b)\n",
    "print(b.shape)\n",
    "'''优点：\n",
    "\n",
    "npy 文件可以保存任意维度的 numpy 数组，不限于一维和二维；\n",
    "npy 保存了 numpy 数组的结构，保存的时候是什么 shape 和 dtype，取出来时就是什么样的 shape 和 dtype。\n",
    "缺点：\n",
    "\n",
    "只能保存一个 numpy 数组，每次保存会覆盖掉之前文件中存在的内容（如果有的话）。'''"
   ]
  },
  {
   "cell_type": "code",
   "execution_count": 29,
   "metadata": {
    "ExecuteTime": {
     "end_time": "2021-04-08T20:21:02.144585Z",
     "start_time": "2021-04-08T20:21:01.978348Z"
    }
   },
   "outputs": [
    {
     "name": "stdout",
     "output_type": "stream",
     "text": [
      "a:\n",
      " [[[ 0  1  2  3  4]\n",
      "  [ 5  6  7  8  9]]\n",
      "\n",
      " [[10 11 12 13 14]\n",
      "  [15 16 17 18 19]]]\n",
      "b:\n",
      " [[[20 21 22 23]\n",
      "  [24 25 26 27]\n",
      "  [28 29 30 31]]\n",
      "\n",
      " [[32 33 34 35]\n",
      "  [36 37 38 39]\n",
      "  [40 41 42 43]]]\n",
      "keys of NpzFile c:\n",
      " KeysView(<numpy.lib.npyio.NpzFile object at 0x000001CDB537B208>)\n",
      "c['arr_0']:\n",
      " [[[ 0  1  2  3  4]\n",
      "  [ 5  6  7  8  9]]\n",
      "\n",
      " [[10 11 12 13 14]\n",
      "  [15 16 17 18 19]]]\n",
      "c['b']:\n",
      " [[[20 21 22 23]\n",
      "  [24 25 26 27]\n",
      "  [28 29 30 31]]\n",
      "\n",
      " [[32 33 34 35]\n",
      "  [36 37 38 39]\n",
      "  [40 41 42 43]]]\n"
     ]
    },
    {
     "data": {
      "text/plain": [
       "'优点：\\n\\nnpy 文件可以保存任意维度的 numpy 数组，不限于一维和二维；\\nnpy 保存了 numpy 数组的结构，保存的时候是什么 shape 和 dtype，取出来时就是什么样的 shape 和 dtype；\\n可以同时保存多个 numpy 数组；\\n可以指定保存 numpy 数组的 key，读取的时候很方便，不会混乱。\\n缺点：\\n\\n保存多个 numpy 数组时，只能同时保存，即 np.savez(filename, a, b=b)。每次保存会覆盖掉之前文件中存在的内容（如果有的话）。'"
      ]
     },
     "execution_count": 29,
     "metadata": {},
     "output_type": "execute_result"
    }
   ],
   "source": [
    "import numpy as np\n",
    "\n",
    "a = np.array(range(20)).reshape((2, 2, 5))\n",
    "b = np.array(range(20, 44)).reshape(2, 3 ,4)\n",
    "print('a:\\n', a)\n",
    "print('b:\\n', b)\n",
    "\n",
    "filename = 'a.npz'\n",
    "# 写文件， 如果不指定key，那么默认key为'arr_0'、'arr_1'，一直排下去。\n",
    "np.savez(filename, a, b=b)\n",
    "\n",
    "# 读文件\n",
    "c = np.load(filename)\n",
    "print('keys of NpzFile c:\\n', c.keys())\n",
    "print(\"c['arr_0']:\\n\", c['arr_0'])\n",
    "print(\"c['b']:\\n\", c['b'])\n",
    "'''优点：\n",
    "\n",
    "npy 文件可以保存任意维度的 numpy 数组，不限于一维和二维；\n",
    "npy 保存了 numpy 数组的结构，保存的时候是什么 shape 和 dtype，取出来时就是什么样的 shape 和 dtype；\n",
    "可以同时保存多个 numpy 数组；\n",
    "可以指定保存 numpy 数组的 key，读取的时候很方便，不会混乱。\n",
    "缺点：\n",
    "\n",
    "保存多个 numpy 数组时，只能同时保存，即 np.savez(filename, a, b=b)。每次保存会覆盖掉之前文件中存在的内容（如果有的话）。'''"
   ]
  },
  {
   "cell_type": "code",
   "execution_count": 34,
   "metadata": {
    "ExecuteTime": {
     "end_time": "2021-04-08T21:20:51.367227Z",
     "start_time": "2021-04-08T21:20:51.364206Z"
    }
   },
   "outputs": [
    {
     "name": "stdout",
     "output_type": "stream",
     "text": [
      "矩阵matrix和array的区别主要有两点：\n",
      "\n",
      "1). 乘法规则有所不同， 如果是array那么乘法是对应元素的乘积作为结果对应位置上的值，\n",
      "而如果是matrix则需要满足第一个矩阵的列等于第二个矩阵的行的要求才能乘。\n"
     ]
    }
   ],
   "source": [
    "print('''矩阵matrix和array的区别主要有两点：\n",
    "\n",
    "1). 乘法规则有所不同， 如果是array那么乘法是对应元素的乘积作为结果对应位置上的值，\n",
    "而如果是matrix则需要满足第一个矩阵的列等于第二个矩阵的行的要求才能乘。''')"
   ]
  },
  {
   "cell_type": "code",
   "execution_count": 37,
   "metadata": {
    "ExecuteTime": {
     "end_time": "2021-04-08T21:26:26.573655Z",
     "start_time": "2021-04-08T21:26:26.564642Z"
    },
    "scrolled": true
   },
   "outputs": [
    {
     "name": "stdout",
     "output_type": "stream",
     "text": [
      "multi\n",
      " [[  0   3  12  27]\n",
      " [  4  20  42  70]\n",
      " [ 16  45  80 121]] <class 'numpy.ndarray'>\n",
      "matrix multi\n",
      " [[ 42  48  54]\n",
      " [114 136 158]\n",
      " [186 224 262]]\n",
      "\n",
      "\n",
      "[[1 3 5]\n",
      " [2 4 6]] (2, 3) <class 'numpy.matrix'> # x.shape\n",
      "[[ 7  9 11]\n",
      " [ 8 10 12]] (2, 3) # y.shape\n",
      "\n",
      "\n",
      "[[ 89  98]\n",
      " [116 128]] # x * y.T\n",
      "[[ 89  98]\n",
      " [116 128]] # np.matmul(x, y.T)\n",
      "[[ 7 27 55]\n",
      " [16 40 72]] # matrix multiply\n"
     ]
    }
   ],
   "source": [
    "import numpy as np\n",
    "a = np.arange(12).reshape([3, 4])\n",
    "b = np.arange(12).reshape([4, 3])\n",
    "# wrong\n",
    "#print a * b\n",
    "print (\"multi\\n\", a * b.T,type(a))\n",
    "print (\"matrix multi\\n\", np.matmul(a, b))\n",
    "print('\\n')\n",
    "'''和b都是ndarray数组，a * b.T是数组相乘，要求*前后的操作数的shape必须是一致。而matmul(a, b)则是把第一个形参a和b看作矩阵做矩阵的乘法，\n",
    "要求a的列等与b的行。 x和y是matrix，x * y.T等价于matmul函数。 '''\n",
    "x = np.matrix([[1, 3, 5], [2, 4, 6]])\n",
    "print(x, x.shape,type(x), \"# x.shape\")\n",
    "y = np.matrix([[7, 9, 11], [8, 10, 12]])\n",
    "print(y, y.shape, \"# y.shape\")\n",
    "# wrong \n",
    "#print x * y\n",
    "print('\\n')\n",
    "print( x * y.T, \"# x * y.T\")\n",
    "print(np.matmul(x, y.T), \"# np.matmul(x, y.T)\")\n",
    "print(np.multiply(x, y), \"# matrix multiply\")"
   ]
  },
  {
   "cell_type": "code",
   "execution_count": 36,
   "metadata": {
    "ExecuteTime": {
     "end_time": "2021-04-08T21:23:50.688106Z",
     "start_time": "2021-04-08T21:23:50.683118Z"
    }
   },
   "outputs": [
    {
     "name": "stdout",
     "output_type": "stream",
     "text": [
      "ndarray (3,) (3,)\n",
      "matrix  (1, 3) (3, 1)\n"
     ]
    }
   ],
   "source": [
    "'''2). 数组和矩阵的shape不同。'''\n",
    "import numpy as np\n",
    "w = np.array([1, 2, 4])\n",
    "print( \"ndarray\", w.shape,w.T.shape)\n",
    "v = np.matrix([1, 2, 4])\n",
    "print( \"matrix \", v.shape,v.T.shape)"
   ]
  },
  {
   "cell_type": "code",
   "execution_count": null,
   "metadata": {},
   "outputs": [],
   "source": []
  }
 ],
 "metadata": {
  "kernelspec": {
   "display_name": "Python 3",
   "language": "python",
   "name": "python3"
  },
  "language_info": {
   "codemirror_mode": {
    "name": "ipython",
    "version": 3
   },
   "file_extension": ".py",
   "mimetype": "text/x-python",
   "name": "python",
   "nbconvert_exporter": "python",
   "pygments_lexer": "ipython3",
   "version": "3.7.6"
  },
  "latex_envs": {
   "LaTeX_envs_menu_present": true,
   "autoclose": false,
   "autocomplete": true,
   "bibliofile": "biblio.bib",
   "cite_by": "apalike",
   "current_citInitial": 1,
   "eqLabelWithNumbers": true,
   "eqNumInitial": 1,
   "hotkeys": {
    "equation": "Ctrl-E",
    "itemize": "Ctrl-I"
   },
   "labels_anchors": false,
   "latex_user_defs": false,
   "report_style_numbering": false,
   "user_envs_cfg": false
  },
  "toc": {
   "base_numbering": 1,
   "nav_menu": {},
   "number_sections": true,
   "sideBar": true,
   "skip_h1_title": false,
   "title_cell": "Table of Contents",
   "title_sidebar": "Contents",
   "toc_cell": false,
   "toc_position": {},
   "toc_section_display": true,
   "toc_window_display": true
  }
 },
 "nbformat": 4,
 "nbformat_minor": 4
}
