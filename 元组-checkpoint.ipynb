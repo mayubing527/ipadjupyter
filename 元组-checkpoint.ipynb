{
 "cells": [
  {
   "cell_type": "markdown",
   "metadata": {},
   "source": [
    "# 元组"
   ]
  },
  {
   "cell_type": "markdown",
   "metadata": {},
   "source": [
    "## 元组创建与删除"
   ]
  },
  {
   "cell_type": "code",
   "execution_count": 2,
   "metadata": {
    "ExecuteTime": {
     "end_time": "2021-03-14T09:27:00.321919Z",
     "start_time": "2021-03-14T09:27:00.317897Z"
    }
   },
   "outputs": [
    {
     "name": "stdout",
     "output_type": "stream",
     "text": [
      "方法一：使用“=”将一个元组赋值给变量\n",
      "('a', 'b', 'mpilgrim', 'z', 'example')\n"
     ]
    }
   ],
   "source": [
    "print(\"方法一：使用“=”将一个元组赋值给变量\")\n",
    "a_tuple = ('a', 'b', 'mpilgrim', 'z', 'example')\n",
    "print(a_tuple)"
   ]
  },
  {
   "cell_type": "code",
   "execution_count": 4,
   "metadata": {
    "ExecuteTime": {
     "end_time": "2021-03-14T09:28:12.488595Z",
     "start_time": "2021-03-14T09:28:12.485604Z"
    }
   },
   "outputs": [
    {
     "name": "stdout",
     "output_type": "stream",
     "text": [
      "(3,)\n",
      "(3,)\n"
     ]
    }
   ],
   "source": [
    "print(\"包含一个元素的元组，最后必须多写个逗号\")\n",
    "a1 = (3,)              \n",
    "a2 = 3,                #也可以这样创建元组\n",
    "print(a1)\n",
    "print(a2)\n"
   ]
  },
  {
   "cell_type": "code",
   "execution_count": 5,
   "metadata": {
    "ExecuteTime": {
     "end_time": "2021-03-14T09:30:25.690794Z",
     "start_time": "2021-03-14T09:30:25.686797Z"
    }
   },
   "outputs": [
    {
     "name": "stdout",
     "output_type": "stream",
     "text": [
      "方法而二：使用tuple函数将其他序列转换为元组\n",
      "('a', 'b', 'c', 'd', 'e', 'f', 'g')\n",
      "(-1, -4, 6, 7.5, -2.3, 9, -11)\n"
     ]
    }
   ],
   "source": [
    "print(\"方法而二：使用tuple函数将其他序列转换为元组\")\n",
    "print(tuple('abcdefg'))                    #把字符串转换为元组\n",
    "aList = [-1, -4, 6, 7.5, -2.3, 9, -11]\n",
    "print(tuple(aList))                        #把列表转换为元组"
   ]
  },
  {
   "cell_type": "code",
   "execution_count": 6,
   "metadata": {
    "ExecuteTime": {
     "end_time": "2021-03-14T09:31:33.872832Z",
     "start_time": "2021-03-14T09:31:33.869838Z"
    }
   },
   "outputs": [
    {
     "name": "stdout",
     "output_type": "stream",
     "text": [
      "()\n"
     ]
    }
   ],
   "source": [
    "\"创建空元组\"\n",
    "x=()\n",
    "s = tuple()                                #空元组\n",
    "print(s)"
   ]
  },
  {
   "cell_type": "code",
   "execution_count": 7,
   "metadata": {
    "ExecuteTime": {
     "end_time": "2021-03-14T09:33:17.368694Z",
     "start_time": "2021-03-14T09:33:17.305891Z"
    }
   },
   "outputs": [
    {
     "name": "stdout",
     "output_type": "stream",
     "text": [
      "删除整个元组对象\n"
     ]
    },
    {
     "ename": "NameError",
     "evalue": "name 'tup' is not defined",
     "output_type": "error",
     "traceback": [
      "\u001b[1;31m---------------------------------------------------------------------------\u001b[0m",
      "\u001b[1;31mNameError\u001b[0m                                 Traceback (most recent call last)",
      "\u001b[1;32m<ipython-input-7-b7c1252b2479>\u001b[0m in \u001b[0;36m<module>\u001b[1;34m\u001b[0m\n\u001b[0;32m      2\u001b[0m \u001b[0mtup\u001b[0m \u001b[1;33m=\u001b[0m \u001b[1;33m(\u001b[0m\u001b[1;34m'a'\u001b[0m\u001b[1;33m,\u001b[0m \u001b[1;34m'b'\u001b[0m\u001b[1;33m,\u001b[0m \u001b[1;34m'mpilgrim'\u001b[0m\u001b[1;33m,\u001b[0m \u001b[1;34m'z'\u001b[0m\u001b[1;33m,\u001b[0m \u001b[1;34m'example'\u001b[0m\u001b[1;33m)\u001b[0m\u001b[1;33m\u001b[0m\u001b[1;33m\u001b[0m\u001b[0m\n\u001b[0;32m      3\u001b[0m \u001b[1;32mdel\u001b[0m \u001b[0mtup\u001b[0m\u001b[1;33m\u001b[0m\u001b[1;33m\u001b[0m\u001b[0m\n\u001b[1;32m----> 4\u001b[1;33m \u001b[0mprint\u001b[0m\u001b[1;33m(\u001b[0m\u001b[0mtup\u001b[0m\u001b[1;33m)\u001b[0m\u001b[1;33m\u001b[0m\u001b[1;33m\u001b[0m\u001b[0m\n\u001b[0m",
      "\u001b[1;31mNameError\u001b[0m: name 'tup' is not defined"
     ]
    }
   ],
   "source": [
    "print(\"删除整个元组对象\")\n",
    "tup = ('a', 'b', 'mpilgrim', 'z', 'example')\n",
    "del tup\n",
    "print(tup)"
   ]
  },
  {
   "cell_type": "markdown",
   "metadata": {},
   "source": [
    "## 序列解包"
   ]
  },
  {
   "cell_type": "code",
   "execution_count": null,
   "metadata": {},
   "outputs": [],
   "source": [
    "# 可以使用序列解包功能对多个变量同时赋值。\n",
    "x, y, z = 1, 2, 3             #多个变量同时赋值\n",
    "v_tuple = (False, 3.5, 'exp')\n",
    "(x, y, z) = v_tuple\n",
    "x, y, z = v_tuple\n",
    "x, y, z = range(3)            #可以对range对象进行序列解包\n",
    "x, y, z = iter([1, 2, 3])     #使用迭代器对象进行序列解包\n",
    "x, y, z = map(str, range(3))  #使用可迭代的map对象进行序列解包\n",
    "a, b = 1, 2\n",
    "a, b = b, a                   #交换两个变量的值\n",
    "x, y, z = sorted([1, 3, 2])   #sorted()函数返回排序后的列表\n",
    "a, b, c = 'ABC'               #字符串也支持序列解包\n",
    "x = [1, 2, 3, 4, 5, 6]\n",
    "x[:3] = map(str, range(5))    #切片也支持序列解包"
   ]
  }
 ],
 "metadata": {
  "kernelspec": {
   "display_name": "Python 3",
   "language": "python",
   "name": "python3"
  },
  "language_info": {
   "codemirror_mode": {
    "name": "ipython",
    "version": 3
   },
   "file_extension": ".py",
   "mimetype": "text/x-python",
   "name": "python",
   "nbconvert_exporter": "python",
   "pygments_lexer": "ipython3",
   "version": "3.7.6"
  },
  "latex_envs": {
   "LaTeX_envs_menu_present": true,
   "autoclose": false,
   "autocomplete": true,
   "bibliofile": "biblio.bib",
   "cite_by": "apalike",
   "current_citInitial": 1,
   "eqLabelWithNumbers": true,
   "eqNumInitial": 1,
   "hotkeys": {
    "equation": "Ctrl-E",
    "itemize": "Ctrl-I"
   },
   "labels_anchors": false,
   "latex_user_defs": false,
   "report_style_numbering": false,
   "user_envs_cfg": false
  },
  "toc": {
   "base_numbering": 1,
   "nav_menu": {},
   "number_sections": true,
   "sideBar": true,
   "skip_h1_title": false,
   "title_cell": "Table of Contents",
   "title_sidebar": "Contents",
   "toc_cell": false,
   "toc_position": {},
   "toc_section_display": true,
   "toc_window_display": false
  }
 },
 "nbformat": 4,
 "nbformat_minor": 4
}
