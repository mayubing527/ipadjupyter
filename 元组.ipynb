{
 "cells": [
  {
   "cell_type": "markdown",
   "metadata": {},
   "source": [
    "# 元组\n",
    "- 有序序列：\n",
    "- 不可变序列"
   ]
  },
  {
   "cell_type": "markdown",
   "metadata": {},
   "source": [
    "## 元组创建与删除"
   ]
  },
  {
   "cell_type": "markdown",
   "metadata": {},
   "source": [
    "### 元组的创建"
   ]
  },
  {
   "cell_type": "code",
   "execution_count": 2,
   "metadata": {
    "ExecuteTime": {
     "end_time": "2021-03-14T09:27:00.321919Z",
     "start_time": "2021-03-14T09:27:00.317897Z"
    },
    "scrolled": true
   },
   "outputs": [
    {
     "name": "stdout",
     "output_type": "stream",
     "text": [
      "方法一：使用“=”将一个元组赋值给变量\n",
      "('a', 'b', 'mpilgrim', 'z', 'example')\n"
     ]
    }
   ],
   "source": [
    "print(\"方法一：使用“=”将一个元组赋值给变量\")\n",
    "a_tuple = ('a', 'b', 'mpilgrim', 'z', 'example')\n",
    "print(a_tuple)"
   ]
  },
  {
   "cell_type": "code",
   "execution_count": 5,
   "metadata": {
    "ExecuteTime": {
     "end_time": "2021-03-14T09:30:25.690794Z",
     "start_time": "2021-03-14T09:30:25.686797Z"
    }
   },
   "outputs": [
    {
     "name": "stdout",
     "output_type": "stream",
     "text": [
      "方法而二：使用tuple函数将其他序列转换为元组\n",
      "('a', 'b', 'c', 'd', 'e', 'f', 'g')\n",
      "(-1, -4, 6, 7.5, -2.3, 9, -11)\n"
     ]
    }
   ],
   "source": [
    "print(\"方法而二：使用tuple函数将其他序列转换为元组\")\n",
    "print(tuple('abcdefg'))                    #把字符串转换为元组\n",
    "aList = [-1, -4, 6, 7.5, -2.3, 9, -11]\n",
    "print(tuple(aList))                        #把列表转换为元组"
   ]
  },
  {
   "cell_type": "markdown",
   "metadata": {},
   "source": [
    "### 单元素元组的创建"
   ]
  },
  {
   "cell_type": "code",
   "execution_count": 4,
   "metadata": {
    "ExecuteTime": {
     "end_time": "2021-03-14T09:28:12.488595Z",
     "start_time": "2021-03-14T09:28:12.485604Z"
    }
   },
   "outputs": [
    {
     "name": "stdout",
     "output_type": "stream",
     "text": [
      "(3,)\n",
      "(3,)\n"
     ]
    }
   ],
   "source": [
    "print(\"包含一个元素的元组，最后必须多写个逗号\")\n",
    "a1 = (3,)              \n",
    "a2 = 3,                #也可以这样创建元组\n",
    "print(a1)\n",
    "print(a2)"
   ]
  },
  {
   "cell_type": "code",
   "execution_count": 6,
   "metadata": {
    "ExecuteTime": {
     "end_time": "2021-03-14T09:31:33.872832Z",
     "start_time": "2021-03-14T09:31:33.869838Z"
    }
   },
   "outputs": [
    {
     "name": "stdout",
     "output_type": "stream",
     "text": [
      "()\n"
     ]
    }
   ],
   "source": [
    "\"创建空元组\"\n",
    "x=()\n",
    "s = tuple()                                #空元组\n",
    "print(s)"
   ]
  },
  {
   "cell_type": "markdown",
   "metadata": {},
   "source": [
    "### 元组删除\n",
    "- 仅支持整个元组删除"
   ]
  },
  {
   "cell_type": "code",
   "execution_count": 7,
   "metadata": {
    "ExecuteTime": {
     "end_time": "2021-03-14T09:33:17.368694Z",
     "start_time": "2021-03-14T09:33:17.305891Z"
    }
   },
   "outputs": [
    {
     "name": "stdout",
     "output_type": "stream",
     "text": [
      "删除整个元组对象\n"
     ]
    },
    {
     "ename": "NameError",
     "evalue": "name 'tup' is not defined",
     "output_type": "error",
     "traceback": [
      "\u001b[1;31m---------------------------------------------------------------------------\u001b[0m",
      "\u001b[1;31mNameError\u001b[0m                                 Traceback (most recent call last)",
      "\u001b[1;32m<ipython-input-7-b7c1252b2479>\u001b[0m in \u001b[0;36m<module>\u001b[1;34m\u001b[0m\n\u001b[0;32m      2\u001b[0m \u001b[0mtup\u001b[0m \u001b[1;33m=\u001b[0m \u001b[1;33m(\u001b[0m\u001b[1;34m'a'\u001b[0m\u001b[1;33m,\u001b[0m \u001b[1;34m'b'\u001b[0m\u001b[1;33m,\u001b[0m \u001b[1;34m'mpilgrim'\u001b[0m\u001b[1;33m,\u001b[0m \u001b[1;34m'z'\u001b[0m\u001b[1;33m,\u001b[0m \u001b[1;34m'example'\u001b[0m\u001b[1;33m)\u001b[0m\u001b[1;33m\u001b[0m\u001b[1;33m\u001b[0m\u001b[0m\n\u001b[0;32m      3\u001b[0m \u001b[1;32mdel\u001b[0m \u001b[0mtup\u001b[0m\u001b[1;33m\u001b[0m\u001b[1;33m\u001b[0m\u001b[0m\n\u001b[1;32m----> 4\u001b[1;33m \u001b[0mprint\u001b[0m\u001b[1;33m(\u001b[0m\u001b[0mtup\u001b[0m\u001b[1;33m)\u001b[0m\u001b[1;33m\u001b[0m\u001b[1;33m\u001b[0m\u001b[0m\n\u001b[0m",
      "\u001b[1;31mNameError\u001b[0m: name 'tup' is not defined"
     ]
    }
   ],
   "source": [
    "print(\"删除整个元组对象\")\n",
    "tup = ('a', 'b', 'mpilgrim', 'z', 'example')\n",
    "del tup\n",
    "print(tup)"
   ]
  },
  {
   "cell_type": "markdown",
   "metadata": {},
   "source": [
    "### 元素重复"
   ]
  },
  {
   "cell_type": "code",
   "execution_count": 38,
   "metadata": {
    "ExecuteTime": {
     "end_time": "2021-03-17T01:41:02.298452Z",
     "start_time": "2021-03-17T01:41:02.293433Z"
    }
   },
   "outputs": [
    {
     "data": {
      "text/plain": [
       "(1, 2, 1, 2, 1, 2)"
      ]
     },
     "execution_count": 38,
     "metadata": {},
     "output_type": "execute_result"
    }
   ],
   "source": [
    "a= (1,2)*3\n",
    "a"
   ]
  },
  {
   "cell_type": "markdown",
   "metadata": {},
   "source": [
    "## 两个元组的内建方法"
   ]
  },
  {
   "cell_type": "code",
   "execution_count": 45,
   "metadata": {
    "ExecuteTime": {
     "end_time": "2021-03-17T01:53:56.328500Z",
     "start_time": "2021-03-17T01:53:56.323483Z"
    }
   },
   "outputs": [
    {
     "name": "stdout",
     "output_type": "stream",
     "text": [
      "2\n",
      "3\n"
     ]
    }
   ],
   "source": [
    "atup= (1, 3, 7, 8, 7,  4, 6, 8, 5,5,5)\n",
    "'''index() 方法查找指定值的第一次出现。'''\n",
    "x=atup.index(7)\n",
    "print(x)\n",
    "'''count() 方法返回指定值在元组中出现的次数。'''\n",
    "y = atup.count(5) \n",
    "print(y)"
   ]
  },
  {
   "cell_type": "markdown",
   "metadata": {},
   "source": [
    "## 常用内置函数"
   ]
  },
  {
   "cell_type": "code",
   "execution_count": 112,
   "metadata": {
    "ExecuteTime": {
     "end_time": "2021-03-17T07:31:47.022432Z",
     "start_time": "2021-03-17T07:31:47.016415Z"
    }
   },
   "outputs": [
    {
     "name": "stdout",
     "output_type": "stream",
     "text": [
      "all() 函数用于判断给定的可迭代参数 iterable 中的所有元素是否都为 TRUE，如果是返回 True，否则返回 False。\n",
      "元素除了是 0、空、None、False 外都算 True。\n"
     ]
    },
    {
     "data": {
      "text/plain": [
       "(1, 2, 3, 4, 5, False, None)"
      ]
     },
     "execution_count": 112,
     "metadata": {},
     "output_type": "execute_result"
    }
   ],
   "source": [
    "print('''all() 函数用于判断给定的可迭代参数 iterable 中的所有元素是否都为 TRUE，如果是返回 True，否则返回 False。\n",
    "元素除了是 0、空、None、False 外都算 True。''')\n",
    "x = (1,2,3,4,5,False,None)\n",
    "any(x)\n",
    "x"
   ]
  },
  {
   "cell_type": "markdown",
   "metadata": {},
   "source": [
    "## 元组的索引与切片"
   ]
  },
  {
   "cell_type": "code",
   "execution_count": 36,
   "metadata": {
    "ExecuteTime": {
     "end_time": "2021-03-17T01:39:57.802416Z",
     "start_time": "2021-03-17T01:39:57.798417Z"
    }
   },
   "outputs": [
    {
     "name": "stdout",
     "output_type": "stream",
     "text": [
      "访问某一元素方法：索引 2\n"
     ]
    }
   ],
   "source": [
    "a = (1,2,4,5,6)\n",
    "print('访问某一元素方法：索引',a[1])"
   ]
  },
  {
   "cell_type": "code",
   "execution_count": 37,
   "metadata": {
    "ExecuteTime": {
     "end_time": "2021-03-17T01:39:59.667012Z",
     "start_time": "2021-03-17T01:39:59.663024Z"
    }
   },
   "outputs": [
    {
     "name": "stdout",
     "output_type": "stream",
     "text": [
      "访问某组元素方法:切片 (1, 4, 6)\n"
     ]
    }
   ],
   "source": [
    "a = (1,2,4,5,6)\n",
    "print('访问某组元素方法:切片',a[::2])"
   ]
  },
  {
   "cell_type": "markdown",
   "metadata": {},
   "source": [
    "### 元组的拼接\n",
    "- 复制产生新的列表；逻辑运算符+，+="
   ]
  },
  {
   "cell_type": "code",
   "execution_count": 32,
   "metadata": {
    "ExecuteTime": {
     "end_time": "2021-03-17T01:34:03.397169Z",
     "start_time": "2021-03-17T01:34:03.365910Z"
    }
   },
   "outputs": [
    {
     "ename": "NameError",
     "evalue": "name '指定位置拼接' is not defined",
     "output_type": "error",
     "traceback": [
      "\u001b[1;31m---------------------------------------------------------------------------\u001b[0m",
      "\u001b[1;31mNameError\u001b[0m                                 Traceback (most recent call last)",
      "\u001b[1;32m<ipython-input-32-4a5b749beb0c>\u001b[0m in \u001b[0;36m<module>\u001b[1;34m\u001b[0m\n\u001b[0;32m      1\u001b[0m \u001b[0mtup\u001b[0m \u001b[1;33m=\u001b[0m \u001b[1;33m(\u001b[0m\u001b[1;34m'光头强'\u001b[0m\u001b[1;33m,\u001b[0m\u001b[1;34m'喜羊羊'\u001b[0m\u001b[1;33m,\u001b[0m\u001b[1;34m'佩奇'\u001b[0m\u001b[1;33m,\u001b[0m\u001b[1;34m'乔治'\u001b[0m\u001b[1;33m)\u001b[0m\u001b[1;33m\u001b[0m\u001b[1;33m\u001b[0m\u001b[0m\n\u001b[1;32m----> 2\u001b[1;33m \u001b[0mprint\u001b[0m\u001b[1;33m(\u001b[0m\u001b[0m指定位置拼接\u001b[0m\u001b[1;33m,\u001b[0m\u001b[0mid\u001b[0m\u001b[1;33m(\u001b[0m\u001b[0mtup\u001b[0m\u001b[1;33m)\u001b[0m\u001b[1;33m)\u001b[0m\u001b[1;33m\u001b[0m\u001b[1;33m\u001b[0m\u001b[0m\n\u001b[0m\u001b[0;32m      3\u001b[0m \u001b[1;33m\u001b[0m\u001b[0m\n\u001b[0;32m      4\u001b[0m \u001b[0mtup\u001b[0m \u001b[1;33m=\u001b[0m \u001b[0mtup\u001b[0m\u001b[1;33m[\u001b[0m\u001b[1;33m:\u001b[0m\u001b[1;36m2\u001b[0m\u001b[1;33m]\u001b[0m\u001b[1;33m+\u001b[0m\u001b[1;33m(\u001b[0m\u001b[1;34m'美少女战士'\u001b[0m\u001b[1;33m,\u001b[0m\u001b[1;33m)\u001b[0m\u001b[1;33m+\u001b[0m\u001b[0mtup\u001b[0m\u001b[1;33m[\u001b[0m\u001b[1;36m2\u001b[0m\u001b[1;33m:\u001b[0m\u001b[1;33m]\u001b[0m\u001b[1;33m\u001b[0m\u001b[1;33m\u001b[0m\u001b[0m\n\u001b[0;32m      5\u001b[0m \u001b[0mprint\u001b[0m\u001b[1;33m(\u001b[0m\u001b[0mid\u001b[0m\u001b[1;33m(\u001b[0m\u001b[0mtup\u001b[0m\u001b[1;33m)\u001b[0m\u001b[1;33m)\u001b[0m\u001b[1;33m\u001b[0m\u001b[1;33m\u001b[0m\u001b[0m\n",
      "\u001b[1;31mNameError\u001b[0m: name '指定位置拼接' is not defined"
     ]
    }
   ],
   "source": [
    "tup = ('光头强','喜羊羊','佩奇','乔治')\n",
    "print(id(tup))\n",
    "'''指定位置拼接'''\n",
    "tup = tup[:2]+('美少女战士',)+tup[2:]\n",
    "print(id(tup))\n",
    "tup\n",
    "'''尾部拼接'''\n",
    "tup+=(\"最喜欢的动画片角色\",)\n",
    "tup\n",
    "print(id(tup))"
   ]
  },
  {
   "cell_type": "markdown",
   "metadata": {},
   "source": [
    "### 元组中包含可变序列"
   ]
  },
  {
   "cell_type": "code",
   "execution_count": 53,
   "metadata": {
    "ExecuteTime": {
     "end_time": "2021-03-17T02:56:22.156301Z",
     "start_time": "2021-03-17T02:56:22.151309Z"
    }
   },
   "outputs": [
    {
     "name": "stdout",
     "output_type": "stream",
     "text": [
      "查看元组的第一元素列表 [1, 2]\n"
     ]
    },
    {
     "data": {
      "text/plain": [
       "list"
      ]
     },
     "execution_count": 53,
     "metadata": {},
     "output_type": "execute_result"
    }
   ],
   "source": [
    "x = ([1,2],3)\n",
    "print(\"查看元组的第一元素列表\",x[0])\n",
    "type(x[0])"
   ]
  },
  {
   "cell_type": "code",
   "execution_count": 50,
   "metadata": {
    "ExecuteTime": {
     "end_time": "2021-03-17T02:54:39.717095Z",
     "start_time": "2021-03-17T02:54:39.713113Z"
    }
   },
   "outputs": [
    {
     "name": "stdout",
     "output_type": "stream",
     "text": [
      "查看元组的第一元素列表中的第一个元素 1\n"
     ]
    }
   ],
   "source": [
    "print(\"查看元组的第一元素列表中的第一个元素\",x[0][0])"
   ]
  },
  {
   "cell_type": "code",
   "execution_count": 67,
   "metadata": {
    "ExecuteTime": {
     "end_time": "2021-03-17T03:09:06.585573Z",
     "start_time": "2021-03-17T03:09:06.581555Z"
    }
   },
   "outputs": [
    {
     "ename": "SyntaxError",
     "evalue": "invalid syntax (<ipython-input-67-54c671334748>, line 2)",
     "output_type": "error",
     "traceback": [
      "\u001b[1;36m  File \u001b[1;32m\"<ipython-input-67-54c671334748>\"\u001b[1;36m, line \u001b[1;32m2\u001b[0m\n\u001b[1;33m    print(x)'''的电脑无法运行'''\u001b[0m\n\u001b[1;37m                        ^\u001b[0m\n\u001b[1;31mSyntaxError\u001b[0m\u001b[1;31m:\u001b[0m invalid syntax\n"
     ]
    }
   ],
   "source": [
    "x[0]=x[0]+[10]\n",
    "print(x)'''的电脑无法运行'''"
   ]
  },
  {
   "cell_type": "code",
   "execution_count": 63,
   "metadata": {
    "ExecuteTime": {
     "end_time": "2021-03-17T03:01:29.164810Z",
     "start_time": "2021-03-17T03:01:29.160806Z"
    }
   },
   "outputs": [
    {
     "data": {
      "text/plain": [
       "[1, 2, 10]"
      ]
     },
     "execution_count": 63,
     "metadata": {},
     "output_type": "execute_result"
    }
   ],
   "source": [
    "'''可行的修改'''\n",
    "y =x[0]\n",
    "y=y+[10];y"
   ]
  },
  {
   "cell_type": "markdown",
   "metadata": {},
   "source": [
    "## 成员资格判断\n",
    "- 列表、元组、字典、range对象、字符串、集合等"
   ]
  },
  {
   "cell_type": "code",
   "execution_count": 66,
   "metadata": {
    "ExecuteTime": {
     "end_time": "2021-03-17T03:08:07.987777Z",
     "start_time": "2021-03-17T03:08:07.983792Z"
    }
   },
   "outputs": [
    {
     "data": {
      "text/plain": [
       "True"
      ]
     },
     "execution_count": 66,
     "metadata": {},
     "output_type": "execute_result"
    }
   ],
   "source": [
    "tup = ('光头强','喜羊羊','佩奇','乔治')\n",
    "'美少女战士' in tup\n",
    "'黑猫精警长' not in tup"
   ]
  },
  {
   "cell_type": "markdown",
   "metadata": {},
   "source": [
    "## 序列解包\n",
    "- 用于元组、列表、字典、enumerate对象、filter对象等等，但是对字典使用时，默认是对字典“键”进行操作，如果需要对“键:值”对进行操作，需要使用字典的items()方法说明，如果需要对字典“值”进行操作，则需要使用字典的values()方法明确指定。\n",
    "- 可以使用非常简洁的形式完成复杂的功能，大幅度提高了代码的可读性，减少了程序员的代码输入量。"
   ]
  },
  {
   "cell_type": "code",
   "execution_count": 72,
   "metadata": {
    "ExecuteTime": {
     "end_time": "2021-03-17T03:23:10.441761Z",
     "start_time": "2021-03-17T03:23:10.436805Z"
    }
   },
   "outputs": [
    {
     "name": "stdout",
     "output_type": "stream",
     "text": [
      "把多个值赋给一个变量时，Python会自动的把多个值封装成元组，称为序列封包。\n"
     ]
    },
    {
     "data": {
      "text/plain": [
       "tuple"
      ]
     },
     "execution_count": 72,
     "metadata": {},
     "output_type": "execute_result"
    }
   ],
   "source": [
    "print(\"把多个值赋给一个变量时，Python会自动的把多个值封装成元组，称为序列封包。\")\n",
    "xyz =1,2,3\n",
    "type(xyz)"
   ]
  },
  {
   "cell_type": "code",
   "execution_count": 80,
   "metadata": {
    "ExecuteTime": {
     "end_time": "2021-03-17T04:29:34.798406Z",
     "start_time": "2021-03-17T04:29:34.793419Z"
    }
   },
   "outputs": [
    {
     "name": "stdout",
     "output_type": "stream",
     "text": [
      "1\n"
     ]
    }
   ],
   "source": [
    "'''把一个序列（列表、元组、字符串等）直接赋给多个变量，此时会把序列中的各个元素依次赋值给每个变量，\n",
    "   但是元素的个数需要和变量个数相同，这称为序列解包'''\n",
    "x,y,z = 1,2,3\n",
    "print(x)"
   ]
  },
  {
   "cell_type": "code",
   "execution_count": 86,
   "metadata": {
    "ExecuteTime": {
     "end_time": "2021-03-17T06:48:51.275642Z",
     "start_time": "2021-03-17T06:48:51.270656Z"
    }
   },
   "outputs": [
    {
     "name": "stdout",
     "output_type": "stream",
     "text": [
      "可以使用序列解包交换变量值\n",
      "4 2\n",
      "(4, 3) (2, 4, 5)\n"
     ]
    }
   ],
   "source": [
    "print('''可以使用序列解包交换变量值''')\n",
    "x =2\n",
    "y =4\n",
    "x,y=y,x\n",
    "print(x,y)\n",
    "'''元组交换，两个元组包含的元素个数不一样也可以交换'''\n",
    "x =(2,4,5)\n",
    "y =(4,3)\n",
    "x,y=y,x\n",
    "print(x,y)"
   ]
  },
  {
   "cell_type": "code",
   "execution_count": 100,
   "metadata": {
    "ExecuteTime": {
     "end_time": "2021-03-17T07:18:03.599280Z",
     "start_time": "2021-03-17T07:18:03.595322Z"
    }
   },
   "outputs": [
    {
     "name": "stdout",
     "output_type": "stream",
     "text": [
      "[3, 4]\n"
     ]
    }
   ],
   "source": [
    "'''可以使用*来收集多余的值，带星号的变量最终包含的总是一个列表'''\n",
    "a,b,*rest = 1,2,3,4\n",
    "print(rest)   "
   ]
  },
  {
   "cell_type": "code",
   "execution_count": 105,
   "metadata": {
    "ExecuteTime": {
     "end_time": "2021-03-17T07:24:56.816356Z",
     "start_time": "2021-03-17T07:24:56.810379Z"
    }
   },
   "outputs": [
    {
     "name": "stdout",
     "output_type": "stream",
     "text": [
      "zip对象： (('one', 1), ('two', 2), ('three', 3))\n",
      "one 1\n",
      "two 2\n",
      "three 3\n"
     ]
    }
   ],
   "source": [
    "seq = ('one', 'two', 'three')\n",
    "seq1=(1,2,3)\n",
    "print('zip对象：',tuple(zip(seq,seq1)))\n",
    "'''同时遍历多个序列'''\n",
    "for k,v in zip(seq,seq1):\n",
    "    print(k,v)"
   ]
  },
  {
   "cell_type": "code",
   "execution_count": 107,
   "metadata": {
    "ExecuteTime": {
     "end_time": "2021-03-17T07:27:53.969560Z",
     "start_time": "2021-03-17T07:27:53.962579Z"
    }
   },
   "outputs": [
    {
     "data": {
      "text/plain": [
       "['0', '1', '2', '3', '4', 4, 5, 6]"
      ]
     },
     "execution_count": 107,
     "metadata": {},
     "output_type": "execute_result"
    }
   ],
   "source": [
    "'''序列解包在其它对象中的应用'''\n",
    "x, y, z = range(3)            #可以对range对象进行序列解包\n",
    "x, y, z = iter([1, 2, 3])     #使用迭代器对象进行序列解包\n",
    "x, y, z = map(str, range(3))  #使用可迭代的map对象进行序列解包\n",
    "a, b = 1, 2\n",
    "a, b = b, a                   #交换两个变量的值\n",
    "x, y, z = sorted([1, 3, 2])   #sorted()函数返回排序后的列表\n",
    "a, b, c = 'ABC'               #字符串也支持序列解包\n",
    "x = [1, 2, 3, 4, 5, 6]\n",
    "x[:3] = map(str, range(5))    #切片也支持序列解包\n",
    "x"
   ]
  },
  {
   "cell_type": "markdown",
   "metadata": {},
   "source": [
    "## 生成器表达式"
   ]
  },
  {
   "cell_type": "markdown",
   "metadata": {},
   "source": [
    "- 生成器表达式（generator expression）也叫生成器推导式或生成器解析式，用法与列表推导式非常相似，在形式上生成器推导式使用圆括号（parentheses）作为定界符，而不是列表推导式所使用的方括号（square brackets）。\n",
    "\n",
    "- 与列表推导式最大的不同是，生成器推导式的结果是一个生成器对象。生成器对象类似于迭代器对象，具有惰性求值的特点，只在需要时生成新元素，比列表推导式具有更高的效率，空间占用非常少，尤其适合大数据处理的场合。\n",
    "\n",
    "- 使用生成器对象的元素时，可以根据需要将其转化为列表或元组，也可以使用生成器对象的_ _next()_ _方法或者内置函数next()进行遍历，或者直接使用for循环来遍历其中的元素。但是不管用哪种方法访问其元素，只能从前往后正向访问每个元素，不能再次访问\n",
    "\n",
    "- 已访问过的元素，也不支持使用下标访问其中的元素。当所有元素访问结束以后，如果需要重新访问其中的元素，必须重新创建该生成器对象，enumerate、filter、map、zip等其他迭代器对象也具有同样的特点。"
   ]
  },
  {
   "cell_type": "code",
   "execution_count": 117,
   "metadata": {
    "ExecuteTime": {
     "end_time": "2021-03-17T08:18:02.596231Z",
     "start_time": "2021-03-17T08:18:02.590248Z"
    }
   },
   "outputs": [
    {
     "name": "stdout",
     "output_type": "stream",
     "text": [
      "<generator object <genexpr> at 0x000002261BC889C8>\n",
      "[4, 9, 16, 25, 36, 49, 64, 81, 100, 121]\n"
     ]
    }
   ],
   "source": [
    "g = ((i+2)**2 for i in range(10)) #创建生成器对象\n",
    "print(g)\n",
    "\n",
    "h = [(i+2)**2 for i in range(10)] #列表推导式\n",
    "print(h)"
   ]
  },
  {
   "cell_type": "code",
   "execution_count": 120,
   "metadata": {
    "ExecuteTime": {
     "end_time": "2021-03-17T08:19:05.217406Z",
     "start_time": "2021-03-17T08:19:05.212419Z"
    }
   },
   "outputs": [
    {
     "name": "stdout",
     "output_type": "stream",
     "text": [
      "将生成器对象转换为元组: ()\n"
     ]
    },
    {
     "data": {
      "text/plain": [
       "()"
      ]
     },
     "execution_count": 120,
     "metadata": {},
     "output_type": "execute_result"
    }
   ],
   "source": [
    "print(\"将生成器对象转换为元组:\",tuple(g))   \n",
    "tuple(g)\n",
    "\"元素已经遍历结束\"\n",
    "tuple(g)#不能再次访问"
   ]
  },
  {
   "cell_type": "code",
   "execution_count": 18,
   "metadata": {
    "ExecuteTime": {
     "end_time": "2021-03-14T10:25:18.093790Z",
     "start_time": "2021-03-14T10:25:18.089763Z"
    }
   },
   "outputs": [
    {
     "name": "stdout",
     "output_type": "stream",
     "text": [
      "将生成器对象转换为列表: [4, 9, 16, 25, 36, 49, 64, 81, 100, 121]\n",
      "[]\n"
     ]
    }
   ],
   "source": [
    "g = ((i+2)**2 for i in range(10))  #重新创建生成器对象\n",
    "print(\"将生成器对象转换为列表:\",list(g))\n",
    "print(list(g))                              #生成器对象已遍历结束"
   ]
  },
  {
   "cell_type": "code",
   "execution_count": 21,
   "metadata": {
    "ExecuteTime": {
     "end_time": "2021-03-14T10:26:34.358052Z",
     "start_time": "2021-03-14T10:26:34.353093Z"
    }
   },
   "outputs": [
    {
     "name": "stdout",
     "output_type": "stream",
     "text": [
      "4\n",
      "9\n",
      "16\n"
     ]
    }
   ],
   "source": [
    "g = ((i+2)**2 for i in range(10)) #重新创建生成器对象\n",
    "print(g.__next__())           #使用生成器对象的__next__()方法获取元素\n",
    "print(g.__next__())             #获取下一个元素\n",
    "print(next(g))                #使用函数next()获取生成器对象中的元素"
   ]
  },
  {
   "cell_type": "code",
   "execution_count": 22,
   "metadata": {
    "ExecuteTime": {
     "end_time": "2021-03-14T10:27:02.775431Z",
     "start_time": "2021-03-14T10:27:02.770453Z"
    }
   },
   "outputs": [
    {
     "name": "stdout",
     "output_type": "stream",
     "text": [
      "4 9 16 25 36 49 64 81 100 121 "
     ]
    }
   ],
   "source": [
    "g = ((i+2)**2 for i in range(10))\n",
    "for item in g:          #使用循环直接遍历生成器对象中的元素\n",
    "    print(item, end=' ')"
   ]
  },
  {
   "cell_type": "code",
   "execution_count": 24,
   "metadata": {
    "ExecuteTime": {
     "end_time": "2021-03-14T10:28:35.123718Z",
     "start_time": "2021-03-14T10:28:35.119718Z"
    }
   },
   "outputs": [
    {
     "name": "stdout",
     "output_type": "stream",
     "text": [
      "False\n"
     ]
    }
   ],
   "source": [
    "print('8' in g)"
   ]
  },
  {
   "cell_type": "code",
   "execution_count": 1,
   "metadata": {
    "ExecuteTime": {
     "end_time": "2021-03-17T00:16:42.527882Z",
     "start_time": "2021-03-17T00:16:42.519868Z"
    }
   },
   "outputs": [
    {
     "name": "stdout",
     "output_type": "stream",
     "text": [
      "4\t 9\t 16\t 25\t 36\t 49\t 64\t 81\t 100\t 121\t "
     ]
    }
   ],
   "source": [
    "g = ((i+2)**2 for i in range(10))\n",
    "for item in g:          #使用循环直接遍历生成器对象中的元素\n",
    "    print(item, end='\\t ')"
   ]
  },
  {
   "cell_type": "markdown",
   "metadata": {},
   "source": [
    "## 关于制表符\\t\n",
    "- 补齐8个字符位置的倍数\n",
    "- 如果字符只有一到七个，则补齐缺的位数，比如输出两个字符再输出制表符，此时制表符输出6个空格。如果输出8个字符，此时制表符输出8个空格。"
   ]
  },
  {
   "cell_type": "code",
   "execution_count": 3,
   "metadata": {
    "ExecuteTime": {
     "end_time": "2021-03-17T00:24:05.847754Z",
     "start_time": "2021-03-17T00:24:05.843763Z"
    },
    "scrolled": true
   },
   "outputs": [
    {
     "name": "stdout",
     "output_type": "stream",
     "text": [
      "a\t*\n",
      "aa\t*\n",
      "aaa\t*\n",
      "aaaa\t*\n",
      "aaaaa\t*\n",
      "aaaaaa\t*\n",
      "aaaaaaa\t*\n",
      "aaaaaaaa\t*\n"
     ]
    }
   ],
   "source": [
    "print(\"a\\t*\")\n",
    "print(\"aa\\t*\")\n",
    "print(\"aaa\\t*\")\n",
    "print(\"aaaa\\t*\")\n",
    "print(\"aaaaa\\t*\")\n",
    "print(\"aaaaaa\\t*\")\n",
    "print(\"aaaaaaa\\t*\")#7个a\n",
    "print(\"aaaaaaaa\\t*\")"
   ]
  },
  {
   "cell_type": "markdown",
   "metadata": {},
   "source": [
    "## 计算运行时间"
   ]
  },
  {
   "cell_type": "code",
   "execution_count": 93,
   "metadata": {
    "ExecuteTime": {
     "end_time": "2021-03-17T06:56:59.692153Z",
     "start_time": "2021-03-17T06:56:59.652232Z"
    }
   },
   "outputs": [
    {
     "name": "stdout",
     "output_type": "stream",
     "text": [
      "0.03593277931213379\n"
     ]
    }
   ],
   "source": [
    "import time\n",
    "start = time.time()\n",
    "'''运行某段程序后'''\n",
    "x = list(range(1000000))\n",
    "end = time.time()\n",
    "keep = end-start\n",
    "print(keep)"
   ]
  },
  {
   "cell_type": "code",
   "execution_count": 92,
   "metadata": {
    "ExecuteTime": {
     "end_time": "2021-03-17T06:56:57.409426Z",
     "start_time": "2021-03-17T06:56:57.380504Z"
    }
   },
   "outputs": [
    {
     "name": "stdout",
     "output_type": "stream",
     "text": [
      "0.024962425231933594\n"
     ]
    }
   ],
   "source": [
    "import time\n",
    "start = time.time()\n",
    "'''运行某段程序后'''\n",
    "x = tuple(range(1000000))\n",
    "end = time.time()\n",
    "keep = end-start\n",
    "print(keep)"
   ]
  },
  {
   "cell_type": "code",
   "execution_count": null,
   "metadata": {},
   "outputs": [],
   "source": []
  }
 ],
 "metadata": {
  "kernelspec": {
   "display_name": "Python 3",
   "language": "python",
   "name": "python3"
  },
  "language_info": {
   "codemirror_mode": {
    "name": "ipython",
    "version": 3
   },
   "file_extension": ".py",
   "mimetype": "text/x-python",
   "name": "python",
   "nbconvert_exporter": "python",
   "pygments_lexer": "ipython3",
   "version": "3.7.6"
  },
  "latex_envs": {
   "LaTeX_envs_menu_present": true,
   "autoclose": false,
   "autocomplete": true,
   "bibliofile": "biblio.bib",
   "cite_by": "apalike",
   "current_citInitial": 1,
   "eqLabelWithNumbers": true,
   "eqNumInitial": 1,
   "hotkeys": {
    "equation": "Ctrl-E",
    "itemize": "Ctrl-I"
   },
   "labels_anchors": false,
   "latex_user_defs": false,
   "report_style_numbering": false,
   "user_envs_cfg": false
  },
  "toc": {
   "base_numbering": 1,
   "nav_menu": {},
   "number_sections": true,
   "sideBar": true,
   "skip_h1_title": false,
   "title_cell": "Table of Contents",
   "title_sidebar": "Contents",
   "toc_cell": false,
   "toc_position": {
    "height": "calc(100% - 180px)",
    "left": "10px",
    "top": "150px",
    "width": "384px"
   },
   "toc_section_display": true,
   "toc_window_display": true
  }
 },
 "nbformat": 4,
 "nbformat_minor": 4
}
