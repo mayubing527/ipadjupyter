{
 "cells": [
  {
   "cell_type": "markdown",
   "metadata": {},
   "source": [
    "# 列表"
   ]
  },
  {
   "cell_type": "markdown",
   "metadata": {
    "ExecuteTime": {
     "end_time": "2021-03-11T10:06:05.713466Z",
     "start_time": "2021-03-11T10:06:05.704489Z"
    }
   },
   "source": [
    "- 列表是Python中内置有序、可变序列，列表的所有元素放在一对中括号[ ]中，并使用逗号分隔开\n",
    "- 列表中的数据类型可以各不相同，可以同时分别为整数、实数、字符串等基本类型，甚至是列表、元组、字典、集合以及其他自定义类型的对象"
   ]
  },
  {
   "cell_type": "markdown",
   "metadata": {},
   "source": [
    "## 列表创建与删除"
   ]
  },
  {
   "cell_type": "code",
   "execution_count": 18,
   "metadata": {
    "ExecuteTime": {
     "end_time": "2021-03-11T10:31:04.993889Z",
     "start_time": "2021-03-11T10:31:04.863840Z"
    }
   },
   "outputs": [
    {
     "name": "stdout",
     "output_type": "stream",
     "text": [
      "方法一：中括号[ ]创建\n",
      "['a', 'b']\n",
      "方法二：list()函数将元组、range对象、字符串或其他类型的可迭代对象类型的数据转换为列表\n",
      "[1, 2, 3]\n",
      "[1, 3, 5, 7, 9]\n",
      "['H', 'e', 'l', 'l', 'o', ' ', 'W', 'o', 'r', 'l', 'd', '!']\n",
      "方法三：列表推导式快速生成满足特定需求的列表\n",
      "列表删除\n"
     ]
    },
    {
     "ename": "NameError",
     "evalue": "name 'lst4' is not defined",
     "output_type": "error",
     "traceback": [
      "\u001b[1;31m---------------------------------------------------------------------------\u001b[0m",
      "\u001b[1;31mNameError\u001b[0m                                 Traceback (most recent call last)",
      "\u001b[1;32m<ipython-input-18-33608b790c59>\u001b[0m in \u001b[0;36m<module>\u001b[1;34m\u001b[0m\n\u001b[0;32m     14\u001b[0m \u001b[0mprint\u001b[0m\u001b[1;33m(\u001b[0m\u001b[1;34m'列表删除'\u001b[0m\u001b[1;33m)\u001b[0m\u001b[1;33m\u001b[0m\u001b[1;33m\u001b[0m\u001b[0m\n\u001b[0;32m     15\u001b[0m \u001b[1;32mdel\u001b[0m \u001b[0mlst4\u001b[0m\u001b[1;33m\u001b[0m\u001b[1;33m\u001b[0m\u001b[0m\n\u001b[1;32m---> 16\u001b[1;33m \u001b[0mlst4\u001b[0m\u001b[1;33m\u001b[0m\u001b[1;33m\u001b[0m\u001b[0m\n\u001b[0m",
      "\u001b[1;31mNameError\u001b[0m: name 'lst4' is not defined"
     ]
    }
   ],
   "source": [
    "print('方法一：中括号[ ]创建')\n",
    "lst = ['a','b']\n",
    "print(lst)\n",
    "lst1 = []#创建空列表\n",
    "print('方法二：list()函数将元组、range对象、字符串或其他类型的可迭代对象类型的数据转换为列表')\n",
    "lst2 = list((1,2,3))\n",
    "print(lst2)\n",
    "lst3 = list(range(1,10,2))\n",
    "print(lst3)\n",
    "lst4 = list('Hello World!')#空格\n",
    "print(lst4)\n",
    "lst5 = list()#创建空列表\n",
    "print('方法三：列表推导式快速生成满足特定需求的列表')\n",
    "print('列表删除')\n",
    "del lst4\n",
    "lst4"
   ]
  },
  {
   "cell_type": "markdown",
   "metadata": {
    "ExecuteTime": {
     "end_time": "2021-03-11T12:28:26.986069Z",
     "start_time": "2021-03-11T12:28:26.981112Z"
    }
   },
   "source": [
    "\n",
    "## 列表元素访问\n",
    "- python 中用索引运算符[]来访问列表的每一个元素\n",
    "\n",
    "- <span class=\"mark\">\n",
    "索引从左到右是从0开始的，从右向左是从-1开始的\n",
    "<div class=\"burk\"></span>\n",
    "- 指定下标不存在，则抛出异常提示下标越界"
   ]
  },
  {
   "cell_type": "code",
   "execution_count": 91,
   "metadata": {
    "ExecuteTime": {
     "end_time": "2021-03-11T16:16:23.112048Z",
     "start_time": "2021-03-11T16:16:23.102104Z"
    },
    "scrolled": false
   },
   "outputs": [
    {
     "ename": "IndexError",
     "evalue": "list index out of range",
     "output_type": "error",
     "traceback": [
      "\u001b[1;31m---------------------------------------------------------------------------\u001b[0m",
      "\u001b[1;31mIndexError\u001b[0m                                Traceback (most recent call last)",
      "\u001b[1;32m<ipython-input-91-820b4eb5fe1c>\u001b[0m in \u001b[0;36m<module>\u001b[1;34m\u001b[0m\n\u001b[0;32m      2\u001b[0m \u001b[0mstudent\u001b[0m\u001b[1;33m[\u001b[0m\u001b[1;33m-\u001b[0m\u001b[1;36m1\u001b[0m\u001b[1;33m]\u001b[0m\u001b[1;33m\u001b[0m\u001b[1;33m\u001b[0m\u001b[0m\n\u001b[0;32m      3\u001b[0m \u001b[1;31m#student[0]\u001b[0m\u001b[1;33m\u001b[0m\u001b[1;33m\u001b[0m\u001b[1;33m\u001b[0m\u001b[0m\n\u001b[1;32m----> 4\u001b[1;33m \u001b[0mstudent\u001b[0m\u001b[1;33m[\u001b[0m\u001b[1;36m4\u001b[0m\u001b[1;33m]\u001b[0m\u001b[1;33m\u001b[0m\u001b[1;33m\u001b[0m\u001b[0m\n\u001b[0m",
      "\u001b[1;31mIndexError\u001b[0m: list index out of range"
     ]
    }
   ],
   "source": [
    "student =[\"李莉\",\"刘三姐\",\"张萌\"]\n",
    "student[-1]\n",
    "#student[0]\n",
    "student[4]"
   ]
  },
  {
   "cell_type": "markdown",
   "metadata": {},
   "source": [
    "## 列表切片"
   ]
  },
  {
   "cell_type": "markdown",
   "metadata": {},
   "source": [
    "- 切片适用于列表、元组、字符串、range对象等类型，但作用于列表时功能最强大。可以使用切片来截取列表中的任何部分，得到一个新列表，也可以通过切片来修改和删除列表中部分元素，甚至可以通过切片操作为列表对象增加元素。\n",
    "- 切片使用2个冒号分隔的3个数字来完成：[start:stop:step]\n",
    "\n",
    "  1.) 第一个数字表示切片开始位置（默认为0）。\n",
    "\n",
    "  2.)第二个数字表示切片截止（但不包含）位置（默认为列表长度）。\n",
    "\n",
    "  3.) 第三个数字表示切片的步长（默认为1），当步长省略时可以顺便省略最后一个冒号。\n",
    "\n",
    "- 切片操作不会因为下标越界而抛出异常，而是简单地在列表尾部截断或者返回一个空列表，代码具有更强的健壮性。"
   ]
  },
  {
   "cell_type": "code",
   "execution_count": 34,
   "metadata": {
    "ExecuteTime": {
     "end_time": "2021-03-14T09:13:06.212909Z",
     "start_time": "2021-03-14T09:13:06.207940Z"
    }
   },
   "outputs": [
    {
     "name": "stdout",
     "output_type": "stream",
     "text": [
      "返回列表的所有元素 [3, 4, 5, 6, 7, 9, 11, 13, 15, 17]\n",
      "前100个元素，自动截断 [3, 4, 5, 6, 7, 9, 11, 13, 15, 17]\n",
      " 下标100之后的所有元素，自动截断 []\n"
     ]
    }
   ],
   "source": [
    "aList = [3, 4, 5, 6, 7, 9, 11, 13, 15, 17]\n",
    "print(\"返回列表的所有元素\",aList[::])                          \n",
    "\n",
    "aList[::-1]                          #逆序的所有元素\n",
    "\n",
    "aList[::2]                           #偶数位置，隔一个取一个\n",
    "\n",
    "aList[1::2]                          #奇数位置，隔一个取一个\n",
    "\n",
    "aList[3::]                           #从下标3开始的所有元素\n",
    "\n",
    "aList[3:6]                           #下标在[3, 6)之间的所有元素\n",
    "\n",
    "print(\"前100个元素，自动截断\",aList[0:100:1])                       \n",
    "\n",
    "print(\" 下标100之后的所有元素，自动截断\",aList[100:]) \n",
    "\n",
    "#aList[100]                           #直接使用下标访问会发生越界"
   ]
  },
  {
   "cell_type": "markdown",
   "metadata": {},
   "source": [
    "### 切片原地修改列表内容\n",
    "- 增、改、删、查以及元素替换等\n"
   ]
  },
  {
   "cell_type": "code",
   "execution_count": 33,
   "metadata": {
    "ExecuteTime": {
     "end_time": "2021-03-14T09:11:39.581914Z",
     "start_time": "2021-03-14T09:11:39.457134Z"
    }
   },
   "outputs": [
    {
     "ename": "ValueError",
     "evalue": "attempt to assign sequence of size 3 to extended slice of size 5",
     "output_type": "error",
     "traceback": [
      "\u001b[1;31m---------------------------------------------------------------------------\u001b[0m",
      "\u001b[1;31mValueError\u001b[0m                                Traceback (most recent call last)",
      "\u001b[1;32m<ipython-input-33-cb510008deaa>\u001b[0m in \u001b[0;36m<module>\u001b[1;34m\u001b[0m\n\u001b[0;32m      5\u001b[0m \u001b[1;33m\u001b[0m\u001b[0m\n\u001b[0;32m      6\u001b[0m \u001b[1;33m[\u001b[0m\u001b[1;36m0\u001b[0m\u001b[1;33m,\u001b[0m \u001b[1;36m1\u001b[0m\u001b[1;33m,\u001b[0m \u001b[1;36m0\u001b[0m\u001b[1;33m,\u001b[0m \u001b[1;36m3\u001b[0m\u001b[1;33m,\u001b[0m \u001b[1;36m0\u001b[0m\u001b[1;33m,\u001b[0m \u001b[1;36m5\u001b[0m\u001b[1;33m,\u001b[0m \u001b[1;36m0\u001b[0m\u001b[1;33m,\u001b[0m \u001b[1;36m7\u001b[0m\u001b[1;33m,\u001b[0m \u001b[1;36m0\u001b[0m\u001b[1;33m,\u001b[0m \u001b[1;36m9\u001b[0m\u001b[1;33m]\u001b[0m\u001b[1;33m\u001b[0m\u001b[1;33m\u001b[0m\u001b[0m\n\u001b[1;32m----> 7\u001b[1;33m \u001b[0maList\u001b[0m\u001b[1;33m[\u001b[0m\u001b[1;33m:\u001b[0m\u001b[1;33m:\u001b[0m\u001b[1;36m2\u001b[0m\u001b[1;33m]\u001b[0m \u001b[1;33m=\u001b[0m \u001b[1;33m[\u001b[0m\u001b[1;36m0\u001b[0m\u001b[1;33m]\u001b[0m\u001b[1;33m*\u001b[0m\u001b[1;36m3\u001b[0m            \u001b[1;31m#切片不连续，两侧元素个数必须一样多\u001b[0m\u001b[1;33m\u001b[0m\u001b[1;33m\u001b[0m\u001b[0m\n\u001b[0m",
      "\u001b[1;31mValueError\u001b[0m: attempt to assign sequence of size 3 to extended slice of size 5"
     ]
    }
   ],
   "source": [
    "aList = list(range(10))\n",
    "\n",
    "[0, 1, 2, 3, 4, 5, 6, 7, 8, 9]\n",
    "aList[::2] = [0]*5            #替换偶数位置上的元素\n",
    "\n",
    "[0, 1, 0, 3, 0, 5, 0, 7, 0, 9]\n",
    "aList[::2] = [0]*3            #切片不连续，两侧元素个数必须一样多"
   ]
  },
  {
   "cell_type": "markdown",
   "metadata": {},
   "source": [
    "## 列表元素的增加"
   ]
  },
  {
   "cell_type": "code",
   "execution_count": 28,
   "metadata": {
    "ExecuteTime": {
     "end_time": "2021-03-17T12:52:30.590773Z",
     "start_time": "2021-03-17T12:52:30.584789Z"
    }
   },
   "outputs": [
    {
     "name": "stdout",
     "output_type": "stream",
     "text": [
      "方法一：运算符+\n",
      "增加元素前的内存地址： 1945671880584\n",
      "[140710473474512, 140710473474544, 140710473474576]\n",
      "增加元素后的内存地址： 1945676251912\n",
      "[140710473474512, 140710473474544, 140710473474576, 140710473474640]\n"
     ]
    }
   ],
   "source": [
    "print('方法一：运算符+')\n",
    "alst = [3,4,5]\n",
    "print(\"增加元素前的内存地址：\",id(alst))\n",
    "print([id(item) for item in alst])\n",
    "alst = [3,4,5]+[7]\n",
    "print(\"增加元素后的内存地址：\",id(alst))\n",
    "print([id(item) for item in alst])"
   ]
  },
  {
   "cell_type": "code",
   "execution_count": 61,
   "metadata": {
    "ExecuteTime": {
     "end_time": "2021-03-11T12:20:04.865397Z",
     "start_time": "2021-03-11T12:20:04.859412Z"
    }
   },
   "outputs": [
    {
     "name": "stdout",
     "output_type": "stream",
     "text": [
      "方法二：列表方法append()\n",
      "增加元素前的内存地址： 2270489066440\n",
      "[3, 4, 5, 9]\n",
      "增加元素后的内存地址： 2270491274760\n"
     ]
    }
   ],
   "source": [
    "print('方法二：列表方法append()')\n",
    "print(\"增加元素前的内存地址：\",id(alst))\n",
    "alst = [3,4,5]\n",
    "alst.append(9)\n",
    "print(alst)\n",
    "print(\"增加元素后的内存地址：\",id(alst))"
   ]
  },
  {
   "cell_type": "code",
   "execution_count": 63,
   "metadata": {
    "ExecuteTime": {
     "end_time": "2021-03-11T12:20:14.113252Z",
     "start_time": "2021-03-11T12:20:14.108296Z"
    }
   },
   "outputs": [
    {
     "name": "stdout",
     "output_type": "stream",
     "text": [
      "方法三：列表的extend()方法可以将另一个迭代对象的所有元素添加至该列表对象尾部\n",
      "增加加元素前的内存地址： 2270485294984\n",
      "[1, 2, 3, 7, 8, 9]\n",
      "增加元素后的内存地址： 2270485294984\n",
      "尝试用运算符+=，结果会是？\n"
     ]
    }
   ],
   "source": [
    "('方法三：列表的extend()方法可以将另一个迭代对象的所有元素添加至该列表对象尾部')\n",
    "alst = [1,2,3]\n",
    "print(\"增加加元素前的内存地址：\",id(alst))\n",
    "alst.extend([7,8,9])\n",
    "print(alst)\n",
    "print(\"增加元素后的内存地址：\",id(alst))\n",
    "print('尝试用运算符+=，结果会是？')"
   ]
  },
  {
   "cell_type": "code",
   "execution_count": 86,
   "metadata": {
    "ExecuteTime": {
     "end_time": "2021-03-11T15:38:18.321139Z",
     "start_time": "2021-03-11T15:38:18.316151Z"
    }
   },
   "outputs": [
    {
     "name": "stdout",
     "output_type": "stream",
     "text": [
      "extend() 和 append() 的不同之处在于：extend() 不会把列表或者元祖视为一个整体，而是把它们包含的元素逐个添加到列表中。\n",
      "['Python', 'C++', 'Java', ('JavaScript', 'C#', 'Go')]\n",
      "['Python', 'C++', 'Java', ('JavaScript', 'C#', 'Go'), 'Ruby', 'SQL']\n"
     ]
    }
   ],
   "source": [
    "print('extend() 和 append() 的不同之处在于：extend() 不会把列表或者元祖视为一个整体，而是把它们包含的元素逐个添加到列表中。')\n",
    "alst = ['Python', 'C++', 'Java']\n",
    "t1= ('JavaScript', 'C#', 'Go')\n",
    "alst1 = ['Ruby', 'SQL']\n",
    "alst.append(t1);print(alst)\n",
    "alst.extend(alst1);print(alst)"
   ]
  },
  {
   "cell_type": "code",
   "execution_count": 64,
   "metadata": {
    "ExecuteTime": {
     "end_time": "2021-03-11T12:20:16.400356Z",
     "start_time": "2021-03-11T12:20:16.395369Z"
    }
   },
   "outputs": [
    {
     "name": "stdout",
     "output_type": "stream",
     "text": [
      "方法四：列表的insert()方法将元素添加至列表的指定位置\n",
      "[1, 2, 3, 7, 8, 9]\n",
      "增加加元素前的内存地址： 2270492843720\n",
      "增加加元素后的内存地址： 2270492843720\n",
      "[1, 2, 3, 100000, 7, 8, 9]\n"
     ]
    }
   ],
   "source": [
    "print('方法四：列表的insert()方法将元素添加至列表的指定位置')\n",
    "alst = [1,2,3,7,8,9]\n",
    "print(alst)\n",
    "print(\"增加加元素前的内存地址：\",id(alst))\n",
    "alst.insert(3,100000)\n",
    "print(\"增加加元素后的内存地址：\",id(alst))\n",
    "print(alst)"
   ]
  },
  {
   "cell_type": "code",
   "execution_count": 66,
   "metadata": {
    "ExecuteTime": {
     "end_time": "2021-03-11T12:23:05.454178Z",
     "start_time": "2021-03-11T12:23:05.448194Z"
    }
   },
   "outputs": [
    {
     "name": "stdout",
     "output_type": "stream",
     "text": [
      "[3, 5, 7, 3, 5, 7, 3, 5, 7]\n"
     ]
    },
    {
     "data": {
      "text/plain": [
       "'此处*标表示重%alias列表元素的次数'"
      ]
     },
     "execution_count": 66,
     "metadata": {},
     "output_type": "execute_result"
    }
   ],
   "source": [
    "alst =[3,5,7]*3\n",
    "print(alst)\n",
    "'''此处*标表示重%alias列表元素的次数'''"
   ]
  },
  {
   "cell_type": "markdown",
   "metadata": {
    "ExecuteTime": {
     "end_time": "2021-03-11T12:47:21.490579Z",
     "start_time": "2021-03-11T12:47:21.486589Z"
    }
   },
   "source": [
    "## 列表元素的删除"
   ]
  },
  {
   "cell_type": "code",
   "execution_count": 88,
   "metadata": {
    "ExecuteTime": {
     "end_time": "2021-03-11T16:03:31.663288Z",
     "start_time": "2021-03-11T16:03:31.657277Z"
    }
   },
   "outputs": [
    {
     "name": "stdout",
     "output_type": "stream",
     "text": [
      "方法一  del：根据索引值删除元素\n",
      "删除单个元素: ['Python', 'C++', 'PHP', 'Ruby', 'MATLAB']\n",
      "删除连续元素 ['Python', 'Ruby', 'MATLAB']\n"
     ]
    }
   ],
   "source": [
    "print(\"方法一  del：根据索引值删除元素\")\n",
    "lang = [\"Python\", \"C++\", \"Java\", \"PHP\", \"Ruby\", \"MATLAB\"]\n",
    "del lang[2]\n",
    "print(\"删除单个元素:\",lang)\n",
    "lang = [\"Python\", \"C++\", \"Java\", \"PHP\", \"Ruby\", \"MATLAB\"]\n",
    "del lang[1: 4]\n",
    "print(\"删除连续元素\",lang)"
   ]
  },
  {
   "cell_type": "markdown",
   "metadata": {},
   "source": [
    "# 学生问题"
   ]
  },
  {
   "cell_type": "markdown",
   "metadata": {},
   "source": [
    "## 删除列表中指定元素的所有重复\n",
    "- 循环+remove():代码可以运行但结果是错的；代码不稳定（对某些数据处理结果是正确的，另外一些数据处理结果却错误）\n",
    "- 原因：列表的内存自动管理功能，在删除列表中的元素时，python会自动对列表内存进行收缩，并移动列表中的元素以保证元素之间没有间隙，所以使用“循环+remove（）方法”来删除列表中某一重复元素时，如果存在相邻的该元素，在删除前面一个元素后，后一个元素会被移动到刚被删除的这个元素的位置，这样这个元素就“躲过了删除”"
   ]
  },
  {
   "cell_type": "code",
   "execution_count": 26,
   "metadata": {
    "ExecuteTime": {
     "end_time": "2021-03-14T09:03:22.688042Z",
     "start_time": "2021-03-14T09:03:22.683087Z"
    }
   },
   "outputs": [
    {
     "name": "stdout",
     "output_type": "stream",
     "text": [
      "1\n",
      "[2, 3, 4, 5]\n",
      "3\n",
      "[2, 4, 5]\n",
      "5\n",
      "[2, 4]\n"
     ]
    }
   ],
   "source": [
    "a=[1,2,3,4,5]\n",
    "for i in a:\n",
    "    print(i) \n",
    "    a.remove(i)\n",
    "    print(a)"
   ]
  },
  {
   "cell_type": "code",
   "execution_count": 24,
   "metadata": {
    "ExecuteTime": {
     "end_time": "2021-03-14T08:41:44.563257Z",
     "start_time": "2021-03-14T08:41:44.557301Z"
    }
   },
   "outputs": [
    {
     "name": "stdout",
     "output_type": "stream",
     "text": [
      "1\n",
      "[2, 3, 4, 5]\n",
      "2\n",
      "[3, 4, 5]\n",
      "3\n",
      "[4, 5]\n",
      "4\n",
      "[5]\n",
      "5\n",
      "[]\n"
     ]
    }
   ],
   "source": [
    "a=[1,2,3,4,5]\n",
    "for i in a[::]:\n",
    "    print(i) \n",
    "    a.remove(i)\n",
    "    print(a)"
   ]
  },
  {
   "cell_type": "markdown",
   "metadata": {
    "ExecuteTime": {
     "end_time": "2021-03-14T09:06:18.827569Z",
     "start_time": "2021-03-14T09:06:18.824570Z"
    }
   },
   "source": [
    "## *作用于包含列表的列表"
   ]
  },
  {
   "cell_type": "code",
   "execution_count": 10,
   "metadata": {
    "ExecuteTime": {
     "end_time": "2021-03-17T12:13:47.532766Z",
     "start_time": "2021-03-17T12:13:47.528778Z"
    }
   },
   "outputs": [
    {
     "name": "stdout",
     "output_type": "stream",
     "text": [
      "[[5, 1]]\n",
      "<class 'list'>\n",
      "False\n",
      "1 2\n"
     ]
    }
   ],
   "source": [
    "x = [[1]*2]*1\n",
    "x[0][0]=5\n",
    "print(x)\n",
    "print(type(x))\n",
    "y=[5,1]\n",
    "print(x==y)\n",
    "print(len(x),len(y))"
   ]
  },
  {
   "cell_type": "markdown",
   "metadata": {},
   "source": [
    "## 关于深复制与浅复制"
   ]
  },
  {
   "cell_type": "code",
   "execution_count": 39,
   "metadata": {
    "ExecuteTime": {
     "end_time": "2021-03-17T13:06:11.515831Z",
     "start_time": "2021-03-17T13:06:11.507852Z"
    }
   },
   "outputs": [
    {
     "name": "stdout",
     "output_type": "stream",
     "text": [
      "原来的列表 [3, 5, 7]\n",
      "两个列表的元素完全一样 True\n",
      "但不是同一个对象 False\n",
      "切片复制的列表 [3, 5, 7]\n",
      "第一个列表内存地址： 1945674314760\n",
      "第一个列表每个元素的内存地址： [140710473474512, 140710473474576, 140710473474640]\n",
      "切片复制的列表内存地址： 1945674153224\n",
      "切片复制的列表每个元素的内存地址： [140710473474512, 140710473474576, 140710473474640]\n",
      "[3, 5, 7, 8]\n",
      "[3, 5, 7]\n"
     ]
    },
    {
     "data": {
      "text/plain": [
       "'原来列表只包含整数、实数、复数等基本类型或元组、字符串等不可变类型的数据'"
      ]
     },
     "execution_count": 39,
     "metadata": {},
     "output_type": "execute_result"
    }
   ],
   "source": [
    "'''#切片返回的是浅复制。所谓浅复制，是指生成一个新的列表，并且把原列表中所选元素的引用\n",
    "都复制到新列表中。如果原列表中只包含整数、实数、复数等基本类型或元组、字符串这样的不可\n",
    "变类型的数据，一般是没有问题的。\n",
    "'''\n",
    "a= [3, 5, 7]\n",
    "print('原来的列表',a)\n",
    "b = a[::]                        #切片，浅复制\n",
    "print('两个列表的元素完全一样',a == b)                    \n",
    "print('但不是同一个对象',a is b)                    \n",
    "print('切片复制的列表',b)\n",
    "print(\"第一个列表内存地址：\",id(a))\n",
    "print(\"第一个列表每个元素的内存地址：\",[id(item) for item in a])\n",
    "print(\"切片复制的列表内存地址：\",id(b))\n",
    "print(\"切片复制的列表每个元素的内存地址：\",[id(item) for item in b])\n",
    "b.append(8)                             #修改其中一个不会影响另一个\n",
    "print(b)\n",
    "print(a)#a的值不变\n",
    "'''原来列表只包含整数、实数、复数等基本类型或元组、字符串等不可变类型的数据'''"
   ]
  },
  {
   "cell_type": "code",
   "execution_count": 36,
   "metadata": {
    "ExecuteTime": {
     "end_time": "2021-03-17T12:59:40.235474Z",
     "start_time": "2021-03-17T12:59:40.228493Z"
    }
   },
   "outputs": [
    {
     "name": "stdout",
     "output_type": "stream",
     "text": [
      "第一个列表内存地址： 1945700571848\n",
      "第一个列表每个元素的内存地址： [140710473474512, 1945700571208, 140710473474640]\n",
      "切片复制的列表内存地址： 1945700570952\n",
      "切片复制的列表每个元素的内存地址： [140710473474512, 1945700571208, 140710473474640]\n",
      "切片复制的列表修改某个元素的内存地址： [140710473474512, 1945700571208, 140710473474640]\n",
      "切片复制的列表修改元素的内存地址： 1945700570952\n",
      "[3, [5, 8], 7]\n",
      "[3, [5, 8], 7]\n"
     ]
    }
   ],
   "source": [
    "'''原来的列表含有可变类型的数据'''\n",
    "a= [3, [5], 7]\n",
    "b = a[::]                        #切片，浅复制                   \n",
    "print(\"第一个列表内存地址：\",id(a))\n",
    "print(\"第一个列表每个元素的内存地址：\",[id(item) for item in a])\n",
    "print(\"切片复制的列表内存地址：\",id(b))\n",
    "print(\"切片复制的列表每个元素的内存地址：\",[id(item) for item in b])\n",
    "b[1].append(8)                           #修改其中一个会影响另一个\n",
    "#b[1]=b[1]+[8] #这样修改不会影响a\n",
    "print(\"切片复制的列表修改某个元素的内存地址：\",[id(item) for item in b])\n",
    "print(\"切片复制的列表修改元素的内存地址：\",id(b))\n",
    "print(b)\n",
    "print(a)#a的值不变"
   ]
  },
  {
   "cell_type": "code",
   "execution_count": 1,
   "metadata": {
    "ExecuteTime": {
     "end_time": "2021-03-18T12:29:04.221459Z",
     "start_time": "2021-03-18T12:29:04.212505Z"
    },
    "scrolled": true
   },
   "outputs": [
    {
     "name": "stdout",
     "output_type": "stream",
     "text": [
      "第一个列表内存地址： 1301072396104\n",
      "第一个列表每个元素的内存地址： [140713221988816, 1301072395912, 140713221988944]\n",
      "切片复制的列表内存地址： 1301072395848\n",
      "切片复制的列表每个元素的内存地址： [140713221988816, 1301072449608, 140713221988944]\n",
      "切片复制的列表修改某个元素的内存地址： [140713221988816, 1301072449608, 140713221988944]\n",
      "切片复制的列表修改元素的内存地址： 1301072395848\n",
      "[3, [5, 8], 7]\n",
      "[3, [5], 7]\n"
     ]
    }
   ],
   "source": [
    "'''深复制deepcopy:对可变元素重新开辟新的地址，不可变元素原内存地址'''\n",
    "import copy \n",
    "a = [3, [5], 7]\n",
    "b = copy.deepcopy(a)\n",
    "print(\"第一个列表内存地址：\",id(a))\n",
    "print(\"第一个列表每个元素的内存地址：\",[id(item) for item in a])\n",
    "print(\"切片复制的列表内存地址：\",id(b))\n",
    "print(\"切片复制的列表每个元素的内存地址：\",[id(item) for item in b])\n",
    "b[1].append(8)                           #修改其中一个会影响另一个\n",
    "#b[1]=b[1]+[8] #这样修改不会影响a\n",
    "print(\"切片复制的列表修改某个元素的内存地址：\",[id(item) for item in b])\n",
    "print(\"切片复制的列表修改元素的内存地址：\",id(b))\n",
    "print(b)\n",
    "print(a)#a的值不变"
   ]
  },
  {
   "cell_type": "markdown",
   "metadata": {},
   "source": [
    "## 列表的应用"
   ]
  },
  {
   "cell_type": "code",
   "execution_count": 2,
   "metadata": {
    "ExecuteTime": {
     "end_time": "2021-03-18T12:29:06.840208Z",
     "start_time": "2021-03-18T12:29:06.835190Z"
    }
   },
   "outputs": [
    {
     "name": "stdout",
     "output_type": "stream",
     "text": [
      "you are      my love\n",
      "my  age is 20\n"
     ]
    }
   ],
   "source": [
    "'''“%s”% 是一种字符串格式化的语法， 基本用法是将值插入到%s占位符的字符串中。\n",
    "\n",
    "常用的格式符：  %s字符串，%d 整型，%f 浮点型，%.2f保留两位小数'''\n",
    "x = 'my'\n",
    "print('you are %7s love'%x)\n",
    "\n",
    "x=20\n",
    "print('my  age is %d'%x)"
   ]
  },
  {
   "cell_type": "code",
   "execution_count": 7,
   "metadata": {
    "ExecuteTime": {
     "end_time": "2021-03-18T12:31:04.263705Z",
     "start_time": "2021-03-18T12:31:04.259701Z"
    }
   },
   "outputs": [],
   "source": [
    "'''\n",
    "以下是本次课程的案例：学生信息录入项目\n",
    "功能：录入信息，存入到列表中\n",
    "\n",
    "'''\n",
    "#声明三个列表用来存放信息\n",
    "name_list = []\n",
    "age_list = []\n",
    "class_name_list= []\n",
    "#输入信息提示命令\n"
   ]
  },
  {
   "cell_type": "code",
   "execution_count": null,
   "metadata": {
    "ExecuteTime": {
     "start_time": "2021-03-18T12:31:07.138Z"
    }
   },
   "outputs": [
    {
     "name": "stdout",
     "output_type": "stream",
     "text": [
      "请开始输入您的学生信息\n"
     ]
    }
   ],
   "source": [
    "print(\"请开始输入您的学生信息\")\n",
    "name=input(\"请输入姓名\")\n",
    "age=input(\"请输入年龄\")\n",
    "class_name=input(\"请输入班级\")\n",
    "#追加输入值到列表中\n",
    "name_list.append(name)\n",
    "age_list.append(age)\n",
    "class_name_list.append (class_name)\n",
    "\n",
    "print(\"您输入的姓名是：%s,年龄是%d,班级是%s\"%(name,int(age),class_name))\n",
    "\n",
    "#因为input只能输入字符串\n",
    "#print(\"\"格式字符串%(值列表))#值列表和字符串之间一定要用%连接\n",
    "#常用的格式符：  %s字符串，%d 整型，%f 浮点型，%.2f保留两位小数\n"
   ]
  }
 ],
 "metadata": {
  "kernelspec": {
   "display_name": "Python 3",
   "language": "python",
   "name": "python3"
  },
  "language_info": {
   "codemirror_mode": {
    "name": "ipython",
    "version": 3
   },
   "file_extension": ".py",
   "mimetype": "text/x-python",
   "name": "python",
   "nbconvert_exporter": "python",
   "pygments_lexer": "ipython3",
   "version": "3.7.6"
  },
  "latex_envs": {
   "LaTeX_envs_menu_present": true,
   "autoclose": false,
   "autocomplete": true,
   "bibliofile": "biblio.bib",
   "cite_by": "apalike",
   "current_citInitial": 1,
   "eqLabelWithNumbers": true,
   "eqNumInitial": 1,
   "hotkeys": {
    "equation": "Ctrl-E",
    "itemize": "Ctrl-I"
   },
   "labels_anchors": false,
   "latex_user_defs": false,
   "report_style_numbering": false,
   "user_envs_cfg": false
  },
  "toc": {
   "base_numbering": 1,
   "nav_menu": {},
   "number_sections": true,
   "sideBar": true,
   "skip_h1_title": false,
   "title_cell": "Table of Contents",
   "title_sidebar": "Contents",
   "toc_cell": false,
   "toc_position": {
    "height": "calc(100% - 180px)",
    "left": "10px",
    "top": "150px",
    "width": "384px"
   },
   "toc_section_display": true,
   "toc_window_display": false
  }
 },
 "nbformat": 4,
 "nbformat_minor": 4
}
