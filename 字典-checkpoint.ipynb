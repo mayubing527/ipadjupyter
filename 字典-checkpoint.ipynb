{
 "cells": [
  {
   "cell_type": "markdown",
   "metadata": {},
   "source": [
    "# 字典\n",
    "- 无序可变序列"
   ]
  },
  {
   "cell_type": "markdown",
   "metadata": {},
   "source": [
    "- 字典的每个键值对(key:value)用冒号(:)分割，每个键值对之间用逗号(，)分割，整个字典包括在花括号{}中 "
   ]
  },
  {
   "cell_type": "markdown",
   "metadata": {},
   "source": [
    "## 字典的创建与删除"
   ]
  },
  {
   "cell_type": "markdown",
   "metadata": {},
   "source": [
    "- 键可以是任意不可变数据，如整数、实数、复数、字符串、元组等，不允许重复（会将前面的覆盖掉）\n",
    "- 值可以取任意的数据类型，且可以重复"
   ]
  },
  {
   "cell_type": "code",
   "execution_count": 23,
   "metadata": {
    "ExecuteTime": {
     "end_time": "2021-03-17T09:11:00.124617Z",
     "start_time": "2021-03-17T09:11:00.119623Z"
    }
   },
   "outputs": [
    {
     "name": "stdout",
     "output_type": "stream",
     "text": [
      "方法一：使用'='创建字典\n"
     ]
    },
    {
     "data": {
      "text/plain": [
       "{'姓名': '李莉', '年龄': 20, '爱好': ['钢琴', '唱歌', '跳舞']}"
      ]
     },
     "execution_count": 23,
     "metadata": {},
     "output_type": "execute_result"
    }
   ],
   "source": [
    "print(\"方法一：使用'='创建字典\")\n",
    "adict={\"姓名\":\"李莉\",\"年龄\":20,\"爱好\":['钢琴','唱歌','跳舞']}\n",
    "# adict={\"姓名\":\"李莉\",\"年龄\":20,\"爱好\":['钢琴','唱歌','跳舞'],\"姓名\":\"李辰\"}\n",
    "adict"
   ]
  },
  {
   "cell_type": "code",
   "execution_count": 15,
   "metadata": {
    "ExecuteTime": {
     "end_time": "2021-03-17T09:00:28.591313Z",
     "start_time": "2021-03-17T09:00:28.585297Z"
    }
   },
   "outputs": [
    {
     "name": "stdout",
     "output_type": "stream",
     "text": [
      "方法二：使用内置函数dict()创建字典\n",
      "{'姓名': '王武', '年龄': 22, '爱好': ['篮球', '唱歌', '跳舞']}\n"
     ]
    },
    {
     "data": {
      "text/plain": [
       "{'姓名': '张文', '年龄': 30, '爱好': ['乒乓球', '小提琴']}"
      ]
     },
     "execution_count": 15,
     "metadata": {},
     "output_type": "execute_result"
    }
   ],
   "source": [
    "print(\"方法二：使用内置函数dict()创建字典\")\n",
    "'''1.通过已有数据快速创建字典'''\n",
    "keys = (\"姓名\",\"年龄\",\"爱好\")\n",
    "values = (\"王武\",22,['篮球','唱歌','跳舞'])\n",
    "adict1 =dict(zip(keys,values))\n",
    "print(adict1)\n",
    "'''2.给定的键：值'''\n",
    "adict2 = dict(姓名='张文',年龄=30,爱好=['乒乓球','小提琴'])\n",
    "adict2"
   ]
  },
  {
   "cell_type": "markdown",
   "metadata": {},
   "source": [
    "### 创建空字典"
   ]
  },
  {
   "cell_type": "code",
   "execution_count": 13,
   "metadata": {
    "ExecuteTime": {
     "end_time": "2021-03-17T08:58:47.759572Z",
     "start_time": "2021-03-17T08:58:47.754586Z"
    }
   },
   "outputs": [
    {
     "data": {
      "text/plain": [
       "{'姓名': None, '爱好': None, '年龄': None}"
      ]
     },
     "execution_count": 13,
     "metadata": {},
     "output_type": "execute_result"
    }
   ],
   "source": [
    "'''创建空字典'''\n",
    "x=dict()\n",
    "x={}\n",
    "'''创建值为空的字典'''\n",
    "adict3 = dict.fromkeys(['姓名','爱好','年龄'])\n",
    "adict3\n"
   ]
  },
  {
   "cell_type": "code",
   "execution_count": 88,
   "metadata": {
    "ExecuteTime": {
     "end_time": "2021-03-17T11:11:51.323355Z",
     "start_time": "2021-03-17T11:11:51.318369Z"
    }
   },
   "outputs": [
    {
     "name": "stdout",
     "output_type": "stream",
     "text": [
      "('name', 'sex')\n",
      "{'name': None, 'sex': None}\n"
     ]
    }
   ],
   "source": [
    "'''生成值为空的字典：作用同fromkeys；想法来自字典的应用'''\n",
    "z=('name','sex')\n",
    "print(z)\n",
    "d = dict()        #字典中的“键”表示字符，“值”表示出现的次数\n",
    "for ch in z:\n",
    "    d[ch] = None\n",
    "print(d)"
   ]
  },
  {
   "cell_type": "markdown",
   "metadata": {},
   "source": [
    "### 删除字典"
   ]
  },
  {
   "cell_type": "code",
   "execution_count": 24,
   "metadata": {
    "ExecuteTime": {
     "end_time": "2021-03-17T09:12:32.980144Z",
     "start_time": "2021-03-17T09:12:32.976124Z"
    }
   },
   "outputs": [],
   "source": [
    "a_dict = {'server': 'db.diveintopython3.org', 'database': 'mysql'}\n",
    "del a_dict"
   ]
  },
  {
   "cell_type": "markdown",
   "metadata": {},
   "source": [
    "## 字典元素的读取"
   ]
  },
  {
   "cell_type": "code",
   "execution_count": 25,
   "metadata": {
    "ExecuteTime": {
     "end_time": "2021-03-17T09:59:33.784053Z",
     "start_time": "2021-03-17T09:59:33.780032Z"
    }
   },
   "outputs": [
    {
     "name": "stdout",
     "output_type": "stream",
     "text": [
      "Dong\n"
     ]
    }
   ],
   "source": [
    "'''\n",
    "方法一：以键作为下标可以读取字典元素，若键不存在则抛出异常\n",
    "'''\n",
    "aDict = {'name':'Dong', 'sex':'male', 'age':37}\n",
    "print(aDict['name'])\n",
    "#print(aDict['tel'])                     #键不存在，抛出异常"
   ]
  },
  {
   "cell_type": "code",
   "execution_count": 61,
   "metadata": {
    "ExecuteTime": {
     "end_time": "2021-03-17T10:36:28.886329Z",
     "start_time": "2021-03-17T10:36:28.880347Z"
    }
   },
   "outputs": [
    {
     "name": "stdout",
     "output_type": "stream",
     "text": [
      "Dong\n",
      "None\n",
      "不存在\n",
      "不存在\n"
     ]
    }
   ],
   "source": [
    "'''方法二：使用字典对象的get()方法获取指定键对应的值，且可在键不存在的时候返回指定值。'''\n",
    "aDict = {'name':'Dong', 'sex':'male', 'age':37}\n",
    "print(aDict.get('name'))\n",
    "print(aDict.get('address'))\n",
    "print(aDict.get('address', '不存在'))#键不存在的时候返回指定值\n",
    "'''类似地，还有setdefault'''\n",
    "print(aDict.setdefault('爱好', '不存在'))"
   ]
  },
  {
   "attachments": {},
   "cell_type": "markdown",
   "metadata": {},
   "source": [
    "'''方法三：\n",
    "- 使用字典对象的items()方法可以返回字典的元素。\n",
    "- 使用字典对象的keys()方法可以返回字典的“键”。\n",
    "- 使用字典对象的values()方法可以返回字典的“值”。'''"
   ]
  },
  {
   "cell_type": "code",
   "execution_count": 34,
   "metadata": {
    "ExecuteTime": {
     "end_time": "2021-03-17T10:08:25.437721Z",
     "start_time": "2021-03-17T10:08:25.433760Z"
    }
   },
   "outputs": [
    {
     "name": "stdout",
     "output_type": "stream",
     "text": [
      "返回所有“键”: dict_keys(['name', 'sex', 'age'])\n",
      "返回所有“值”: dict_values(['Dong', 'male', 37])\n",
      "返回所有“键：值”对: dict_items([('name', 'Dong'), ('sex', 'male'), ('age', 37)])\n"
     ]
    }
   ],
   "source": [
    "aDict = {'name':'Dong', 'sex':'male', 'age':37}\n",
    "print(\"返回所有“键”:\",aDict.keys())                           \n",
    "print(\"返回所有“值”:\",aDict.values())                        \n",
    "print(\"返回所有“键：值”对:\",aDict.items())  "
   ]
  },
  {
   "cell_type": "code",
   "execution_count": 40,
   "metadata": {
    "ExecuteTime": {
     "end_time": "2021-03-17T10:12:04.363623Z",
     "start_time": "2021-03-17T10:12:04.360602Z"
    }
   },
   "outputs": [
    {
     "name": "stdout",
     "output_type": "stream",
     "text": [
      "('name', 'Dong')\n",
      "('sex', 'male')\n",
      "('age', 37)\n"
     ]
    }
   ],
   "source": [
    "aDict = {'name':'Dong', 'sex':'male', 'age':37}\n",
    "for item in aDict.items():\n",
    "    print(item)"
   ]
  },
  {
   "cell_type": "markdown",
   "metadata": {},
   "source": [
    "### 序列解包"
   ]
  },
  {
   "cell_type": "code",
   "execution_count": 41,
   "metadata": {
    "ExecuteTime": {
     "end_time": "2021-03-17T10:14:06.491438Z",
     "start_time": "2021-03-17T10:14:06.488416Z"
    }
   },
   "outputs": [
    {
     "name": "stdout",
     "output_type": "stream",
     "text": [
      "name:Dong\n",
      "sex:male\n",
      "age:37\n"
     ]
    }
   ],
   "source": [
    "for key,value in aDict.items():\n",
    "    print(key,value,sep=':')"
   ]
  },
  {
   "cell_type": "markdown",
   "metadata": {},
   "source": [
    "## 字典元素的添加与修改"
   ]
  },
  {
   "cell_type": "code",
   "execution_count": 43,
   "metadata": {
    "ExecuteTime": {
     "end_time": "2021-03-17T10:21:08.220264Z",
     "start_time": "2021-03-17T10:21:08.216274Z"
    }
   },
   "outputs": [
    {
     "name": "stdout",
     "output_type": "stream",
     "text": [
      "{'name': 'Dong', 'sex': 'male', 'age': 38}\n",
      "{'name': 'Dong', 'sex': 'male', 'age': 38, 'address': 'SDIBT'}\n"
     ]
    }
   ],
   "source": [
    "'''\n",
    "当以指定键为下标为字典赋值时：1）若键存在，则可以修改该键的值；2）若不存在，则表示添加一个键、值对。\n",
    "'''\n",
    "aDict = {'name':'Dong', 'sex':'male', 'age':37}\n",
    "'''修改元素值'''\n",
    "aDict['age'] = 38                 \n",
    "print(aDict)\n",
    "aDict['address'] = 'SDIBT'        \n",
    "'''增加新元素'''\n",
    "print(aDict)"
   ]
  },
  {
   "cell_type": "code",
   "execution_count": 53,
   "metadata": {
    "ExecuteTime": {
     "end_time": "2021-03-17T10:26:55.479467Z",
     "start_time": "2021-03-17T10:26:55.474451Z"
    }
   },
   "outputs": [
    {
     "data": {
      "text/plain": [
       "{'name': 'Dong', 'sex': 'male', 'age': 37, '爱好': '足球', '籍贯': '山东'}"
      ]
     },
     "execution_count": 53,
     "metadata": {},
     "output_type": "execute_result"
    }
   ],
   "source": [
    "'''字典对象的update()方法将另一个字典的键、值对添加到当前字典对象'''\n",
    "aDict = {'name':'Dong', 'sex':'male', 'age':37}\n",
    "aDict.update({'爱好':'足球','籍贯':'山东'})\n",
    "aDict"
   ]
  },
  {
   "cell_type": "code",
   "execution_count": 56,
   "metadata": {
    "ExecuteTime": {
     "end_time": "2021-03-17T10:27:55.295181Z",
     "start_time": "2021-03-17T10:27:55.288198Z"
    },
    "scrolled": true
   },
   "outputs": [
    {
     "name": "stdout",
     "output_type": "stream",
     "text": [
      "字典对象的update()方法：两个字典中存在相同的“键”\n"
     ]
    },
    {
     "data": {
      "text/plain": [
       "{'name': '钱三一', 'sex': 'male', 'age': 37, '爱好': '足球', '籍贯': '山东'}"
      ]
     },
     "execution_count": 56,
     "metadata": {},
     "output_type": "execute_result"
    }
   ],
   "source": [
    "print('''字典对象的update()方法：两个字典中存在相同的“键”''')\n",
    "aDict = {'name':'Dong', 'sex':'male', 'age':37}\n",
    "aDict.update({'爱好':'足球','籍贯':'山东','name':'钱三一'})\n",
    "aDict"
   ]
  },
  {
   "cell_type": "markdown",
   "metadata": {},
   "source": [
    "### 字典元素的删除"
   ]
  },
  {
   "cell_type": "markdown",
   "metadata": {},
   "source": [
    "- 使用del删除字典中指定键的元素\n",
    "- 使用字典对象的clear()方法来删除字典中所有元素\n",
    "- 使用字典对象的pop()方法删除并返回指定键的元素\n",
    "- 使用字典对象的popitem()方法删除并返回字典中的一个元素"
   ]
  },
  {
   "cell_type": "markdown",
   "metadata": {},
   "source": [
    "## 字典的应用"
   ]
  },
  {
   "cell_type": "code",
   "execution_count": 80,
   "metadata": {
    "ExecuteTime": {
     "end_time": "2021-03-17T11:05:55.161033Z",
     "start_time": "2021-03-17T11:05:55.156077Z"
    }
   },
   "outputs": [
    {
     "name": "stdout",
     "output_type": "stream",
     "text": [
      "['o', 'd', 'd', 'n']\n",
      "{'o': 1, 'd': 2, 'n': 1}\n"
     ]
    }
   ],
   "source": [
    "from random import choices\n",
    "z=choices(\"Icandoit!\",k=4)\n",
    "print(z)\n",
    "d = dict()        #字典中的“键”表示字符，“值”表示出现的次数\n",
    "for ch in z:\n",
    "    d[ch] = d.get(ch,0) + 1\n",
    "print(d)"
   ]
  },
  {
   "cell_type": "code",
   "execution_count": 73,
   "metadata": {
    "ExecuteTime": {
     "end_time": "2021-03-17T10:53:48.310617Z",
     "start_time": "2021-03-17T10:53:48.301624Z"
    }
   },
   "outputs": [
    {
     "name": "stdout",
     "output_type": "stream",
     "text": [
      "r-u-n-o-o-b\n",
      "choices()函数使用与结果： ['!', 'n']\n",
      "{'r': 16, 's': 14, 'h': 22, 'K': 15, 'O': 15, 'x': 16, 'p': 14, '4': 20, 'V': 22, 'X': 18, 'n': 22, '2': 15, '1': 20, 'A': 17, 'E': 23, '7': 20, 'M': 17, 'L': 22, 'H': 13, 'f': 14, 'v': 14, '5': 22, 'c': 16, '0': 9, 'R': 11, 'B': 12, 'Z': 20, 'd': 14, 't': 18, 'C': 14, 'w': 14, 'u': 16, '6': 14, 'i': 20, 'l': 13, 'Y': 21, 'I': 24, 'J': 17, 'g': 17, 'G': 22, 'F': 10, 'j': 13, 'q': 12, 'P': 18, 'm': 10, '9': 18, 'z': 14, '3': 18, 'T': 17, 'k': 14, 'o': 17, 'S': 22, 'Q': 9, 'U': 17, 'y': 15, 'D': 17, '8': 13, 'N': 19, 'W': 11, 'a': 17, 'b': 8, 'e': 8}\n"
     ]
    },
    {
     "data": {
      "text/plain": [
       "['N', 'k', 'H', 'n', 'Q', 'T', 'U', 'I', '7', '7']"
      ]
     },
     "execution_count": 73,
     "metadata": {},
     "output_type": "execute_result"
    }
   ],
   "source": [
    "'''首先生成包含1000个随机字符的字符串，然后统计每个字符的出现次数。'''\n",
    "from random import choices\n",
    "from string import ascii_letters, digits\n",
    "# join() 方法用于将序列中的元素以指定的字符连接生成一个新的字符串。\n",
    "s1 = \"-\";seq = (\"r\", \"u\", \"n\", \"o\", \"o\", \"b\") # 字符串序列\n",
    "print (s1.join( seq ))\n",
    "#choices()从非空序列中随机选取k个数据并带回，该序列可以是list、tuple、str、set.\n",
    "print(\"choices()函数使用与结果：\",choices(\"Icandoit!\",k=2))\n",
    "z = ''.join(choices(ascii_letters+digits, k=100))\n",
    "#ascii_letters+digits：大小写字母+0-9数字\n",
    "#join将大小字母和数字放在单引号里面\n",
    "d = dict()        #字典中的“键”表示字符，“值”表示出现的次数\n",
    "for ch in z:\n",
    "    d[ch] = d.get(ch,0) + 1\n",
    "print(d)"
   ]
  },
  {
   "cell_type": "markdown",
   "metadata": {},
   "source": [
    "## 字典推导式"
   ]
  },
  {
   "cell_type": "code",
   "execution_count": 89,
   "metadata": {
    "ExecuteTime": {
     "end_time": "2021-03-17T11:56:53.699580Z",
     "start_time": "2021-03-17T11:56:53.694593Z"
    }
   },
   "outputs": [
    {
     "name": "stdout",
     "output_type": "stream",
     "text": [
      "{'张三': '白羊座', '李四': '双鱼座', '王五': '狮子座', '李六': '处女座'}\n"
     ]
    }
   ],
   "source": [
    "name = [\"张三\", \"李四\", \"王五\", \"李六\"]  # 保存名字列表\n",
    "sign = [\"白羊座\", \"双鱼座\", \"狮子座\", \"处女座\"]  #保存星座列表\n",
    "dict1 = {i : j for i, j in zip(name, sign)}    # 字典推导式\n",
    "print(dict1)"
   ]
  },
  {
   "cell_type": "code",
   "execution_count": null,
   "metadata": {},
   "outputs": [],
   "source": []
  }
 ],
 "metadata": {
  "kernelspec": {
   "display_name": "Python 3",
   "language": "python",
   "name": "python3"
  },
  "language_info": {
   "codemirror_mode": {
    "name": "ipython",
    "version": 3
   },
   "file_extension": ".py",
   "mimetype": "text/x-python",
   "name": "python",
   "nbconvert_exporter": "python",
   "pygments_lexer": "ipython3",
   "version": "3.7.6"
  },
  "latex_envs": {
   "LaTeX_envs_menu_present": true,
   "autoclose": false,
   "autocomplete": true,
   "bibliofile": "biblio.bib",
   "cite_by": "apalike",
   "current_citInitial": 1,
   "eqLabelWithNumbers": true,
   "eqNumInitial": 1,
   "hotkeys": {
    "equation": "Ctrl-E",
    "itemize": "Ctrl-I"
   },
   "labels_anchors": false,
   "latex_user_defs": false,
   "report_style_numbering": false,
   "user_envs_cfg": false
  },
  "toc": {
   "base_numbering": 1,
   "nav_menu": {},
   "number_sections": true,
   "sideBar": true,
   "skip_h1_title": false,
   "title_cell": "Table of Contents",
   "title_sidebar": "Contents",
   "toc_cell": false,
   "toc_position": {},
   "toc_section_display": true,
   "toc_window_display": true
  }
 },
 "nbformat": 4,
 "nbformat_minor": 4
}
