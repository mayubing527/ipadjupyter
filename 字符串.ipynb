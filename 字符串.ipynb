{
 "cells": [
  {
   "cell_type": "markdown",
   "metadata": {},
   "source": [
    "#  字符串"
   ]
  },
  {
   "cell_type": "code",
   "execution_count": 95,
   "metadata": {
    "ExecuteTime": {
     "end_time": "2021-03-25T16:07:44.692571Z",
     "start_time": "2021-03-25T16:07:44.688580Z"
    }
   },
   "outputs": [
    {
     "name": "stdout",
     "output_type": "stream",
     "text": [
      "李莉\n"
     ]
    }
   ],
   "source": [
    "'''Python 3.x 完全支持中文，无论是一个数字、英文字母还是一个汉字，均按照一个字符处理；\n",
    "中文课可作为变量名'''\n",
    "s='数据科学与大数据技术'\n",
    "len(s)\n",
    "姓名='李莉'\n",
    "print(姓名)"
   ]
  },
  {
   "cell_type": "markdown",
   "metadata": {},
   "source": [
    "# 转义字符\n",
    "- 字符串可以使用\"\\\\\"对特定字符进行转义，实现特殊功能."
   ]
  },
  {
   "cell_type": "code",
   "execution_count": 96,
   "metadata": {
    "ExecuteTime": {
     "end_time": "2021-03-25T16:07:48.532988Z",
     "start_time": "2021-03-25T16:07:48.529968Z"
    }
   },
   "outputs": [
    {
     "name": "stdout",
     "output_type": "stream",
     "text": [
      "C:\\program files\n",
      "omal\n"
     ]
    }
   ],
   "source": [
    "ch=\"C:\\program files\\nomal\"\n",
    "print(ch)"
   ]
  },
  {
   "cell_type": "code",
   "execution_count": 97,
   "metadata": {
    "ExecuteTime": {
     "end_time": "2021-03-25T16:07:50.293104Z",
     "start_time": "2021-03-25T16:07:50.289114Z"
    }
   },
   "outputs": [
    {
     "name": "stdout",
     "output_type": "stream",
     "text": [
      "C:\\program files\\nomal\n"
     ]
    }
   ],
   "source": [
    "ch=r\"C:\\program files\\nomal\"\n",
    "print(ch)"
   ]
  },
  {
   "cell_type": "code",
   "execution_count": 98,
   "metadata": {
    "ExecuteTime": {
     "end_time": "2021-03-25T16:07:53.509567Z",
     "start_time": "2021-03-25T16:07:53.505544Z"
    }
   },
   "outputs": [
    {
     "name": "stdout",
     "output_type": "stream",
     "text": [
      "C:\\program files\\nomal\n"
     ]
    }
   ],
   "source": [
    "ch=\"C:\\program files\\\\nomal\"\n",
    "print(ch)"
   ]
  },
  {
   "cell_type": "code",
   "execution_count": 99,
   "metadata": {
    "ExecuteTime": {
     "end_time": "2021-03-25T16:07:55.710108Z",
     "start_time": "2021-03-25T16:07:55.705090Z"
    }
   },
   "outputs": [
    {
     "ename": "SyntaxError",
     "evalue": "EOL while scanning string literal (<ipython-input-99-1baea5a6dc07>, line 1)",
     "output_type": "error",
     "traceback": [
      "\u001b[1;36m  File \u001b[1;32m\"<ipython-input-99-1baea5a6dc07>\"\u001b[1;36m, line \u001b[1;32m1\u001b[0m\n\u001b[1;33m    ch=\"abcdefghhhhhhhhhhhhhhhhhhhhhhhhhhhhhhhhhhhhhhhhhhhhhhhhhhhhhhhhhhhhhhhhhhhhhhhhhhhhhhhhhhhhhhhhhhhhhhhhhhhhhhhhhhhhhhhhhhhhhhhhhhhhhhh\u001b[0m\n\u001b[1;37m                                                                                                                                              ^\u001b[0m\n\u001b[1;31mSyntaxError\u001b[0m\u001b[1;31m:\u001b[0m EOL while scanning string literal\n"
     ]
    }
   ],
   "source": [
    "ch=\"abcdefghhhhhhhhhhhhhhhhhhhhhhhhhhhhhhhhhhhhhhhhhhhhhhhhhhhhhhhhhhhhhhhhhhhhhhhhhhhhhhhhhhhhhhhhhhhhhhhhhhhhhhhhhhhhhhhhhhhhhhhhhhhhhhh\n",
    "hhhh\"\n",
    "print(ch)"
   ]
  },
  {
   "cell_type": "code",
   "execution_count": 24,
   "metadata": {
    "ExecuteTime": {
     "end_time": "2021-03-25T13:52:04.604054Z",
     "start_time": "2021-03-25T13:52:04.600078Z"
    }
   },
   "outputs": [
    {
     "name": "stdout",
     "output_type": "stream",
     "text": [
      "abcdefghhhhhhhhhhhhhhhhhhhhhhhhhhhhhhhhhhhhhhhhhhhhhhhhhhhhhhhhhhhhhhhhhhhhhhhhhhhhhhhhhhhhhhhhhhhhhhhhhhhhhhhhhhhhhhhhhhhhhhhhhhhhhhhh\n",
      "\\还表示续行符\n"
     ]
    }
   ],
   "source": [
    "ch=\"abcdefghhhhhhhhhhhhhhhhhhhhhhhhhhhhhhhhhhhhhhhhhhhhhhhhhhhhhhhhhhhhhhhhhhhhhhhhhhhhhhhhhhhhhhhhhhhhhhhhhhhhhhhhhhhhhhhhhhhhhhhhhhhh\\\n",
    "hhhh\"\n",
    "print(ch)\n",
    " \n",
    "print('\\还表示续行符')"
   ]
  },
  {
   "cell_type": "code",
   "execution_count": 28,
   "metadata": {},
   "outputs": [
    {
     "data": {
      "text/plain": [
       "23"
      ]
     },
     "execution_count": 28,
     "metadata": {},
     "output_type": "execute_result"
    }
   ],
   "source": [
    "'''\\还表示续行符'''\n",
    "a = 2+3+\\\n",
    "5+6\\\n",
    "+7\n",
    "a\n"
   ]
  },
  {
   "cell_type": "markdown",
   "metadata": {},
   "source": [
    "# 字符串格式化\n",
    "- 方法一：用转义说明符%，只是一个占位符，它会被后面表达式（变量、常量、数字、字符串、加减乘除等各种形式）的值代替。\n",
    "- 方法二：用format()方法\n",
    "- 方法三：f-string（自Python3.6.x开始）"
   ]
  },
  {
   "cell_type": "markdown",
   "metadata": {},
   "source": [
    "##  转义说明符%"
   ]
  },
  {
   "cell_type": "code",
   "execution_count": 32,
   "metadata": {},
   "outputs": [
    {
     "name": "stdout",
     "output_type": "stream",
     "text": [
      "你的年龄是20岁了！\n"
     ]
    }
   ],
   "source": [
    "age = 20\n",
    "print(\"你的年龄是%d岁了！\" % age)"
   ]
  },
  {
   "cell_type": "code",
   "execution_count": 35,
   "metadata": {},
   "outputs": [
    {
     "name": "stdout",
     "output_type": "stream",
     "text": [
      "您输入的姓名是：李丽,年龄是20,班级是数据科学与大数据技术1班\n"
     ]
    }
   ],
   "source": [
    "'''1.格式化字符串中也可以包含多个转换说明符，这个时候也得提供多个表达式，用以替换对应的转换说明符；多个表达式必须使用小括号( )包围起来。\n",
    "   2.有几个占位符，后面就得跟着几个表达式。'''\n",
    "name=\"李丽\"\n",
    "age=20\n",
    "class_name=\"数据科学与大数据技术1班\"\n",
    "print(\"您输入的姓名是：%s,年龄是%d,班级是%s\"%(name,int(age),class_name))"
   ]
  },
  {
   "cell_type": "code",
   "execution_count": 55,
   "metadata": {},
   "outputs": [
    {
     "name": "stdout",
     "output_type": "stream",
     "text": [
      "转换说明符\t解释\n",
      "\n",
      "%d、%i\t转换为带符号的十进制整数\n",
      "%o\t   转换为带符号的八进制整数\n",
      "%x、%X\t转换为带符号的十六进制整数\n",
      "%e\t   转化为科学计数法表示的浮点数（e 小写）\n",
      "%E\t   转化为科学计数法表示的浮点数（E 大写）\n",
      "%f、%F\t转化为十进制浮点数\n",
      "%g\t智能选择使用 %f 或 %e 格式\n",
      "%G\t智能选择使用 %F 或 %E 格式\n",
      "%c\t格式化字符及其 ASCII 码\n",
      "%r\t使用 repr() 函数将表达式转换为字符串\n",
      "%s\t使用 str() 函数将表达式转换为字符串\n"
     ]
    }
   ],
   "source": [
    "print('''转换说明符\t解释\\n\n",
    "%d、%i\t转换为带符号的十进制整数\n",
    "%o\t   转换为带符号的八进制整数\n",
    "%x、%X\t转换为带符号的十六进制整数\n",
    "%e\t   转化为科学计数法表示的浮点数（e 小写）\n",
    "%E\t   转化为科学计数法表示的浮点数（E 大写）\n",
    "%f、%F\t转化为十进制浮点数\n",
    "%g\t智能选择使用 %f 或 %e 格式\n",
    "%G\t智能选择使用 %F 或 %E 格式\n",
    "%c\t格式化字符及其 ASCII 码\n",
    "%r\t使用 repr() 函数将表达式转换为字符串\n",
    "%s\t使用 str() 函数将表达式转换为字符串''')"
   ]
  },
  {
   "cell_type": "markdown",
   "metadata": {},
   "source": [
    "### 指定最小输出宽度\n",
    "-可以使用下面的格式指定最小输出宽度（至少占用多少个字符的位置）：\n",
    " %10d 表示输出的整数宽度至少为 10；\n",
    " %20s 表示输出的字符串宽度至少为 20。"
   ]
  },
  {
   "cell_type": "code",
   "execution_count": 40,
   "metadata": {},
   "outputs": [
    {
     "name": "stdout",
     "output_type": "stream",
     "text": [
      "n(10):  12345678.\n",
      "n(5):12345678.\n",
      "url(35): https://www.sdufe.edu.cn/index.htm.\n"
     ]
    },
    {
     "data": {
      "text/plain": [
       "'对于整数和字符串，当数据的实际宽度小于指定宽度时，会在左侧以空格补齐；当数据的实际宽度大于指定宽度时，会按照数据的实际宽度输出。'"
      ]
     },
     "execution_count": 40,
     "metadata": {},
     "output_type": "execute_result"
    }
   ],
   "source": [
    "n = 12345678\n",
    "print(\"n(10):%10d.\" % n)\n",
    "print(\"n(5):%5d.\" % n)\n",
    "url = \"https://www.sdufe.edu.cn/index.htm\"\n",
    "print(\"url(35):%35s.\" % url)\n",
    "'''对于整数和字符串，当数据的实际宽度小于指定宽度时，会在左侧以空格补齐；当数据的实际宽度大于指定宽度时，会按照数据的实际宽度输出。'''"
   ]
  },
  {
   "cell_type": "markdown",
   "metadata": {},
   "source": [
    "###  指定对齐方式"
   ]
  },
  {
   "cell_type": "markdown",
   "metadata": {},
   "source": [
    "- 默认情况下，print() 输出的数据总是右对齐的。也就是说，当数据不够宽时，数据总是靠右边输出，而在左边补充空格以达到指定的宽度。Python 允许在最小宽度之前增加一个标志来改变对齐方式，Python 支持的标志如下： -\t指定左对齐 ；+ 表示输出的数字总要带着符号；正数带+，负数带-；0表示宽度不足时补充 0，而不是补充空格。"
   ]
  },
  {
   "cell_type": "code",
   "execution_count": 53,
   "metadata": {},
   "outputs": [
    {
     "name": "stdout",
     "output_type": "stream",
     "text": [
      "n(09):001234567\n",
      "n(+9): +1234567\n",
      "f(-0):166.500000\n",
      "s(-10):Hello     .\n",
      "s(-10):     Hello.\n",
      "s(-10):     Hello\n",
      "n(09):1234567                                                                                   \n"
     ]
    }
   ],
   "source": [
    "n = 1234567\n",
    "# %09d 表示最小宽度为9，左边补0\n",
    "print(\"n(09):%09d\" % n)\n",
    "# %+9d 表示最小宽度为9，带上符号\n",
    "print(\"n(+9):%+9d\" % n)\n",
    "f = 166.5\n",
    "# %-010f 表示最小宽度为10，左对齐\n",
    "print(\"f(-0):%-010f\" % f)\n",
    "s = \"Hello\"\n",
    "# %-10s 表示最小宽度为10，左对齐\n",
    "print(\"s(-10):%-10s.\" % s)\n",
    "print(\"s(-10):%10s.\" % s)\n",
    "print(\"s(-10):%10s\" % s)#格式化后的.\n",
    "'''1.对于整数，指定左对齐时，在右边补 0 是没有效果的，因为这样会改变整数的值。\n",
    "   2.对于小数，以上三个标志可以同时存在。\n",
    "   3.对于字符串，只能使用-标志，因为符号对于字符串没有意义，而补 0 会改变字符串的值。'''\n",
    "print(\"n(09):%-9d\"%n)"
   ]
  },
  {
   "cell_type": "markdown",
   "metadata": {},
   "source": [
    "###  指定小数精度"
   ]
  },
  {
   "cell_type": "markdown",
   "metadata": {},
   "source": [
    "对于小数（浮点数）,print() 还允许指定小数点后的数字位数，也即指定小数的输出精度。\n",
    "\n",
    "精度值需要放在最小宽度之后，中间用点号.隔开；也可以不写最小宽度，只写精度。具体格式：%m.nf 和 %.nf"
   ]
  },
  {
   "cell_type": "code",
   "execution_count": 54,
   "metadata": {},
   "outputs": [
    {
     "name": "stdout",
     "output_type": "stream",
     "text": [
      "   3.142\n",
      "0003.142\n",
      "+003.142\n"
     ]
    }
   ],
   "source": [
    "f = 3.1415926\n",
    "# 最小宽度为8，小数点后保留3位\n",
    "print(\"%8.3f\" % f)\n",
    "# 最小宽度为8，小数点后保留3位，左边补0\n",
    "print(\"%08.3f\" % f)\n",
    "# 最小宽度为8，小数点后保留3位，左边补0，带符号\n",
    "print(\"%+08.3f\" % f)"
   ]
  },
  {
   "cell_type": "markdown",
   "metadata": {},
   "source": [
    "##  str.format()方法"
   ]
  },
  {
   "cell_type": "markdown",
   "metadata": {},
   "source": [
    "###  序数占位符"
   ]
  },
  {
   "cell_type": "code",
   "execution_count": 66,
   "metadata": {},
   "outputs": [
    {
     "name": "stdout",
     "output_type": "stream",
     "text": [
      "Tom is our new teacher, welcome Tom.\n",
      "Tom is our new teacher, welcome Tom.\n",
      "Tom is our new teacher, welcome Tom.\n"
     ]
    }
   ],
   "source": [
    "a ='{0} is our new {1}, welcome {0}.'.format('Tom','teacher')\n",
    "print(a)\n",
    "args=('Tom','teacher')\n",
    "b = '{0} is our new {1}, welcome {0}.'.format(*args)#*args表示任何多个无名参数,是tuple类型;\n",
    "#**表示关键字参数,是dict类型;\n",
    "print(b)\n",
    "b1= '{0[0]} is our new {0[1]}, welcome {0[0]}.'.format(args)#不加*需要告诉python如何去取值\n",
    "print(b1)"
   ]
  },
  {
   "cell_type": "markdown",
   "metadata": {},
   "source": [
    "###  命名占位符"
   ]
  },
  {
   "cell_type": "code",
   "execution_count": 59,
   "metadata": {
    "scrolled": true
   },
   "outputs": [
    {
     "name": "stdout",
     "output_type": "stream",
     "text": [
      "Lily is a lovly girl, she likes apple and rice.\n",
      "Lily is a lovly girl, she likes apple and rice.\n"
     ]
    }
   ],
   "source": [
    "a = '{name} is a lovly girl, she likes {fruit} and {food}.'.format(name='Lily',fruit='apple',food='rice')\n",
    "print(a)\n",
    "kws=dict(name='Lily',fruit='apple',food='rice')\n",
    "b ='{name} is a lovly girl, she likes {fruit} and {food}.'.format(**kws)\n",
    "print(b)"
   ]
  },
  {
   "cell_type": "markdown",
   "metadata": {},
   "source": [
    "### 格式字符使用"
   ]
  },
  {
   "cell_type": "code",
   "execution_count": 9,
   "metadata": {
    "ExecuteTime": {
     "end_time": "2021-03-25T13:38:08.678282Z",
     "start_time": "2021-03-25T13:38:08.672299Z"
    }
   },
   "outputs": [
    {
     "name": "stdout",
     "output_type": "stream",
     "text": [
      "The number 10 in hex is: 0xa, the number 10 in oct is 0o12\n",
      "3.3333\n",
      "65      ,   65   ,      65\n",
      "1_000_000,0xf_4240\n"
     ]
    }
   ],
   "source": [
    "'''转换成十六进制、八进制'''\n",
    "print(\"The number {0:,} in hex is: {0:#x}, the number {1} in oct is {1:#o}\".format(10,10))\n",
    "'''指定小数位数'''\n",
    "print('{0:.4f}'.format(10/3))\n",
    "'''设置对齐方式:>居右；<居左；^居中'''\n",
    "a = '{0:<8d},{0:^8d},{0:>8d}'.format(65) \n",
    "print(a)\n",
    "'''下划线作为分隔符连接'''\n",
    "b = '{0:_},{0:#_x}'.format(1000000)\n",
    "print(b)"
   ]
  },
  {
   "cell_type": "markdown",
   "metadata": {},
   "source": [
    "##  f-string方法"
   ]
  },
  {
   "cell_type": "code",
   "execution_count": 60,
   "metadata": {},
   "outputs": [
    {
     "data": {
      "text/plain": [
       "'Hello,my name is dong'"
      ]
     },
     "execution_count": 60,
     "metadata": {},
     "output_type": "execute_result"
    }
   ],
   "source": [
    "'''f-string用大括号 {} 表示被替换字段，其中直接填入替换内容：'''\n",
    "name = 'dong'\n",
    "f'Hello,my name is {name}'"
   ]
  },
  {
   "cell_type": "code",
   "execution_count": 11,
   "metadata": {
    "ExecuteTime": {
     "end_time": "2021-03-25T13:43:04.782836Z",
     "start_time": "2021-03-25T13:43:04.777849Z"
    }
   },
   "outputs": [
    {
     "name": "stdout",
     "output_type": "stream",
     "text": [
      "my name is Lily, I like apple and rice\n"
     ]
    }
   ],
   "source": [
    "name='Lily';fruit='apple';food='rice'\n",
    "\n",
    "print(f'my name is {name}, I like {fruit} and {food}')  "
   ]
  },
  {
   "cell_type": "code",
   "execution_count": 61,
   "metadata": {},
   "outputs": [
    {
     "data": {
      "text/plain": [
       "'A total number of 60'"
      ]
     },
     "execution_count": 61,
     "metadata": {},
     "output_type": "execute_result"
    }
   ],
   "source": [
    "'''f-string的大括号 {} 可以填入表达式或调用函数，Python会求出其结果并填入返回的字符串内：'''\n",
    "f'A total number of {7* 8 + 4}'"
   ]
  },
  {
   "cell_type": "code",
   "execution_count": 13,
   "metadata": {
    "ExecuteTime": {
     "end_time": "2021-03-25T13:43:51.340261Z",
     "start_time": "2021-03-25T13:43:51.336240Z"
    }
   },
   "outputs": [
    {
     "data": {
      "text/plain": [
       "'f-string大括号内所用的引号不能和大括号外的引号定界符冲突，可根据情况灵活切换 \\' 和 \"：'"
      ]
     },
     "execution_count": 13,
     "metadata": {},
     "output_type": "execute_result"
    }
   ],
   "source": [
    "'''f-string大括号内所用的引号不能和大括号外的引号定界符冲突，可根据情况灵活切换 ' 和 \"：'''\n",
    " #f'I am {'Eric'}'"
   ]
  },
  {
   "cell_type": "code",
   "execution_count": 14,
   "metadata": {
    "ExecuteTime": {
     "end_time": "2021-03-25T13:43:54.988669Z",
     "start_time": "2021-03-25T13:43:54.984679Z"
    }
   },
   "outputs": [
    {
     "name": "stdout",
     "output_type": "stream",
     "text": [
      "He'll say You can do it!\n",
      "newprint: a\n",
      "b\n"
     ]
    }
   ],
   "source": [
    "'''大括号外的引号还可以使用 \\ 转义，f-string大括号内根本就不允许出现 \\。如果确实需要 \\，\n",
    "则应首先将包含 \\ 的内容用一个变量表示，再在f-string大括号内填入变量名：'''\n",
    "\n",
    "a = f'''He\\'ll say {\"You can do it!\"}''';print(a)\n",
    "#= f\"newline: {('a\\nb')}\"\n",
    "#Error\n",
    "new = 'a\\nb'\n",
    "b1 = f'newprint: {new}';print(b1)"
   ]
  },
  {
   "cell_type": "markdown",
   "metadata": {},
   "source": [
    "# 字符串常用的方法"
   ]
  },
  {
   "cell_type": "code",
   "execution_count": 26,
   "metadata": {
    "ExecuteTime": {
     "end_time": "2021-03-25T13:54:25.939865Z",
     "start_time": "2021-03-25T13:54:25.936879Z"
    }
   },
   "outputs": [
    {
     "name": "stdout",
     "output_type": "stream",
     "text": [
      "['__add__', '__class__', '__contains__', '__delattr__', '__dir__', '__doc__', '__eq__', '__format__', '__ge__', '__getattribute__', '__getitem__', '__getnewargs__', '__gt__', '__hash__', '__init__', '__init_subclass__', '__iter__', '__le__', '__len__', '__lt__', '__mod__', '__mul__', '__ne__', '__new__', '__reduce__', '__reduce_ex__', '__repr__', '__rmod__', '__rmul__', '__setattr__', '__sizeof__', '__str__', '__subclasshook__', 'capitalize', 'casefold', 'center', 'count', 'encode', 'endswith', 'expandtabs', 'find', 'format', 'format_map', 'index', 'isalnum', 'isalpha', 'isascii', 'isdecimal', 'isdigit', 'isidentifier', 'islower', 'isnumeric', 'isprintable', 'isspace', 'istitle', 'isupper', 'join', 'ljust', 'lower', 'lstrip', 'maketrans', 'partition', 'replace', 'rfind', 'rindex', 'rjust', 'rpartition', 'rsplit', 'rstrip', 'split', 'splitlines', 'startswith', 'strip', 'swapcase', 'title', 'translate', 'upper', 'zfill']\n"
     ]
    }
   ],
   "source": [
    "'''查看字符串操作的所有方法列表'''\n",
    "a = dir(\"\")\n",
    "print(a)"
   ]
  },
  {
   "cell_type": "code",
   "execution_count": 28,
   "metadata": {
    "ExecuteTime": {
     "end_time": "2021-03-25T13:57:32.915902Z",
     "start_time": "2021-03-25T13:57:32.912881Z"
    }
   },
   "outputs": [
    {
     "name": "stdout",
     "output_type": "stream",
     "text": [
      "/ospto.r\n"
     ]
    }
   ],
   "source": [
    "'''截取字符串（字符串切片）方法'''\n",
    "url = 'https://docs.python.org/zh-cn/3/library/text.html'\n",
    "#获取索引从3处22（不包含22）的子串\n",
    "print(url[7: 22:2]) # 输出 zy"
   ]
  },
  {
   "cell_type": "markdown",
   "metadata": {},
   "source": [
    "## 分割字符串"
   ]
  },
  {
   "cell_type": "code",
   "execution_count": 31,
   "metadata": {
    "ExecuteTime": {
     "end_time": "2021-03-25T14:07:11.950793Z",
     "start_time": "2021-03-25T14:07:11.945835Z"
    }
   },
   "outputs": [
    {
     "name": "stdout",
     "output_type": "stream",
     "text": [
      "split() 方法可以实现将一个字符串按照指定的分隔符切分成多个子串，这些子串会被保存到列表中（不包含分隔符），作为方法的返回值反馈回来。\n",
      "该方法的基本语法格式如下：\n",
      "                                     str.split(sep,maxsplit)\n",
      "\n",
      "此方法中各部分参数的含义分别是：\n",
      "str：表示要进行分割的字符串；\n",
      "sep：用于指定分隔符，可以包含多个字符。此参数默认为 None，表示所有空字符，包括空格、换行符“\\n”、制表符“\\t”等。\n",
      "maxsplit：可选参数，用于指定分割的次数，最后列表中子串的个数最多为 maxsplit+1。如果不指定或者指定为 -1，则表示分割次数没有限制。\n"
     ]
    }
   ],
   "source": [
    "print('''split() 方法可以实现将一个字符串按照指定的分隔符切分成多个子串，这些子串会被保存到列表中（不包含分隔符），作为方法的返回值反馈回来。\n",
    "该方法的基本语法格式如下：\n",
    "                                     str.split(sep,maxsplit)\n",
    "\n",
    "此方法中各部分参数的含义分别是：\n",
    "str：表示要进行分割的字符串；\n",
    "sep：用于指定分隔符，可以包含多个字符。此参数默认为 None，表示所有空字符，包括空格、换行符“\\\\n”、制表符“\\\\t”等。\n",
    "maxsplit：可选参数，用于指定分割的次数，最后列表中子串的个数最多为 maxsplit+1。如果不指定或者指定为 -1，则表示分割次数没有限制。''')"
   ]
  },
  {
   "cell_type": "code",
   "execution_count": 42,
   "metadata": {
    "ExecuteTime": {
     "end_time": "2021-03-25T14:15:31.477383Z",
     "start_time": "2021-03-25T14:15:31.472403Z"
    }
   },
   "outputs": [
    {
     "name": "stdout",
     "output_type": "stream",
     "text": [
      "['apple,peach,banana,pear', '1', '23']\n"
     ]
    },
    {
     "data": {
      "text/plain": [
       "['apple,pe', 'ach,banana,pe', 'ar.', '1.23']"
      ]
     },
     "execution_count": 42,
     "metadata": {},
     "output_type": "execute_result"
    }
   ],
   "source": [
    "a ='apple,peach,banana,pear.1.23'\n",
    "li =a.split('.');print(li)\n",
    "a ='apple,pe ach,banana,pe ar. 1.23'\n",
    "a.split()# 任何空白符号（包括空格、换行符、制表符等）"
   ]
  },
  {
   "cell_type": "markdown",
   "metadata": {
    "ExecuteTime": {
     "end_time": "2021-03-25T14:13:38.524105Z",
     "start_time": "2021-03-25T14:13:38.520115Z"
    }
   },
   "source": [
    "## 合并字符串"
   ]
  },
  {
   "cell_type": "code",
   "execution_count": 44,
   "metadata": {
    "ExecuteTime": {
     "end_time": "2021-03-25T14:23:52.164573Z",
     "start_time": "2021-03-25T14:23:52.160584Z"
    }
   },
   "outputs": [
    {
     "name": "stdout",
     "output_type": "stream",
     "text": [
      "join() 方法会将列表（或其它可迭代对象）中多个字符串采用固定的分隔符连接在一起。\n",
      "join() 方法的语法格式如下：\n",
      "                newstr = str.join(iterable)\n",
      "此方法中各参数的含义如下：\n",
      "newstr：表示合并后生成的新字符串；\n",
      "str：用于指定合并时的分隔符；\n",
      "iterable：做合并操作的源字符串数据，允许以列表、元组等形式提供。\n",
      "\n"
     ]
    }
   ],
   "source": [
    "print('''join() 方法会将列表（或其它可迭代对象）中多个字符串采用固定的分隔符连接在一起。\n",
    "join() 方法的语法格式如下：\n",
    "                newstr = str.join(iterable)\n",
    "此方法中各参数的含义如下：\n",
    "newstr：表示合并后生成的新字符串；\n",
    "str：用于指定合并时的分隔符；\n",
    "iterable：做合并操作的源字符串数据，允许以列表、元组等形式提供。\n",
    "''')"
   ]
  },
  {
   "cell_type": "code",
   "execution_count": 48,
   "metadata": {
    "ExecuteTime": {
     "end_time": "2021-03-25T14:25:16.323937Z",
     "start_time": "2021-03-25T14:25:16.319982Z"
    }
   },
   "outputs": [
    {
     "name": "stdout",
     "output_type": "stream",
     "text": [
      "apple\tpeach\tbanana\n"
     ]
    }
   ],
   "source": [
    "li =['apple','peach','banana']\n",
    "s ='\\t'.join(li);\n",
    "print(s)"
   ]
  },
  {
   "cell_type": "markdown",
   "metadata": {},
   "source": [
    "## eval()函数\n",
    "- 尝试将任意字符串转化为python表达式并求值"
   ]
  },
  {
   "cell_type": "code",
   "execution_count": 49,
   "metadata": {
    "ExecuteTime": {
     "end_time": "2021-03-25T14:31:32.033507Z",
     "start_time": "2021-03-25T14:31:32.028521Z"
    }
   },
   "outputs": [
    {
     "data": {
      "text/plain": [
       "7"
      ]
     },
     "execution_count": 49,
     "metadata": {},
     "output_type": "execute_result"
    }
   ],
   "source": [
    "eval('3+4')"
   ]
  },
  {
   "cell_type": "code",
   "execution_count": 52,
   "metadata": {
    "ExecuteTime": {
     "end_time": "2021-03-25T14:33:40.525459Z",
     "start_time": "2021-03-25T14:33:40.521470Z"
    }
   },
   "outputs": [
    {
     "data": {
      "text/plain": [
       "1.7320508075688772"
      ]
     },
     "execution_count": 52,
     "metadata": {},
     "output_type": "execute_result"
    }
   ],
   "source": [
    "import math\n",
    "eval('math.sqrt(3)')#调用函数"
   ]
  },
  {
   "cell_type": "code",
   "execution_count": 50,
   "metadata": {
    "ExecuteTime": {
     "end_time": "2021-03-25T14:32:40.844772Z",
     "start_time": "2021-03-25T14:32:40.840746Z"
    }
   },
   "outputs": [
    {
     "data": {
      "text/plain": [
       "120"
      ]
     },
     "execution_count": 50,
     "metadata": {},
     "output_type": "execute_result"
    }
   ],
   "source": [
    "eval('*'.join(map(str, range(1, 6))))  #5的阶乘 "
   ]
  },
  {
   "attachments": {},
   "cell_type": "markdown",
   "metadata": {},
   "source": [
    "## 大小写转换"
   ]
  },
  {
   "cell_type": "code",
   "execution_count": 55,
   "metadata": {
    "ExecuteTime": {
     "end_time": "2021-03-25T14:37:32.251153Z",
     "start_time": "2021-03-25T14:37:32.248180Z"
    }
   },
   "outputs": [
    {
     "name": "stdout",
     "output_type": "stream",
     "text": [
      "title() 方法用于将字符串中每个单词的首字母转为大写，其他字母全部转为小写，转换完成后，此方法会返回转换得到的字符串。\n",
      "如果字符串中没有需要被转换的字符，此方法会将字符串原封不动地返回。\n",
      "title() 方法的语法格式如下：\n",
      "                                 str.title()\n"
     ]
    }
   ],
   "source": [
    "print('''title() 方法用于将字符串中每个单词的首字母转为大写，其他字母全部转为小写，转换完成后，此方法会返回转换得到的字符串。\n",
    "如果字符串中没有需要被转换的字符，此方法会将字符串原封不动地返回。\n",
    "title() 方法的语法格式如下：\n",
    "                                 str.title()''')"
   ]
  },
  {
   "cell_type": "code",
   "execution_count": 57,
   "metadata": {
    "ExecuteTime": {
     "end_time": "2021-03-25T14:38:21.461789Z",
     "start_time": "2021-03-25T14:38:21.457794Z"
    }
   },
   "outputs": [
    {
     "data": {
      "text/plain": [
       "'What Is Your Name?'"
      ]
     },
     "execution_count": 57,
     "metadata": {},
     "output_type": "execute_result"
    }
   ],
   "source": [
    "s = \"what is your name?\"\n",
    "s.title()"
   ]
  },
  {
   "cell_type": "markdown",
   "metadata": {},
   "source": [
    "## 替换与删除"
   ]
  },
  {
   "cell_type": "code",
   "execution_count": 59,
   "metadata": {
    "ExecuteTime": {
     "end_time": "2021-03-25T14:43:32.885538Z",
     "start_time": "2021-03-25T14:43:32.879523Z"
    }
   },
   "outputs": [
    {
     "data": {
      "text/plain": [
       "'这句***里含有***内容'"
      ]
     },
     "execution_count": 59,
     "metadata": {},
     "output_type": "execute_result"
    }
   ],
   "source": [
    "'''replace()替换指定字符或字符串的所有重复出现，每次只能替换一个字符或一个字符串'''\n",
    "words = ('测试', '非法', '暴力', '话')\n",
    "text = '这句话里含有非法内容'\n",
    "for word in words:\n",
    "    if word in text:\n",
    "        text = text.replace(word, '***')\t\t\n",
    "text"
   ]
  },
  {
   "cell_type": "code",
   "execution_count": 60,
   "metadata": {
    "ExecuteTime": {
     "end_time": "2021-03-25T14:44:17.934565Z",
     "start_time": "2021-03-25T14:44:17.929578Z"
    }
   },
   "outputs": [
    {
     "data": {
      "text/plain": [
       "'字符串对象的maketrans()方法用来生成字符映射表，\\n而translate()方法用来根据映射表中定义的对应关系转换字符串并替换其中的字符，使用这两个方法的组合可以同时处理多个字符'"
      ]
     },
     "execution_count": 60,
     "metadata": {},
     "output_type": "execute_result"
    }
   ],
   "source": [
    "'''字符串对象的maketrans()方法用来生成字符映射表，\n",
    "而translate()方法用来根据映射表中定义的对应关系转换字符串并替换其中的字符，使用这两个方法的组合可以同时处理多个字符'''\n"
   ]
  },
  {
   "cell_type": "code",
   "execution_count": 65,
   "metadata": {
    "ExecuteTime": {
     "end_time": "2021-03-25T14:48:30.205787Z",
     "start_time": "2021-03-25T14:48:30.201770Z"
    }
   },
   "outputs": [
    {
     "data": {
      "text/plain": [
       "'壹柒玖贰点叁捌'"
      ]
     },
     "execution_count": 65,
     "metadata": {},
     "output_type": "execute_result"
    }
   ],
   "source": [
    "#创建映射表，将字符\"abcdef123\"一一对应地转换为\"uvwxyz@#$\"\n",
    "table = ''.maketrans('0123456789.', '零壹贰叁肆伍陆柒捌玖点')\n",
    "s ='1792.38'\n",
    "s.translate(table) #按映射表进行替换"
   ]
  },
  {
   "cell_type": "code",
   "execution_count": 67,
   "metadata": {
    "ExecuteTime": {
     "end_time": "2021-03-25T14:51:26.821478Z",
     "start_time": "2021-03-25T14:51:26.816492Z"
    }
   },
   "outputs": [
    {
     "data": {
      "text/plain": [
       "'ssddfaaa'"
      ]
     },
     "execution_count": 67,
     "metadata": {},
     "output_type": "execute_result"
    }
   ],
   "source": [
    "'''strip()、rstrip()、lstrip()删除字符：\n",
    "   这三个方法的参数指定的字符串并不作为一个整体对待，\n",
    "   而是在原字符串的两侧、右侧、左侧删除参数字符串中包含的所有字符，一层一层地从外往里扒。\n",
    "'''\n",
    "\n",
    "'\\n\\nhello world   \\n\\n'.strip()      #删除空白字符\n",
    "\n",
    "\"aaaassddf\".strip(\"a\")                #删除指定字符\n",
    "\n",
    "\"aaaassddfaaa\".rstrip(\"a\")            #删除字符串右端指定字符\n",
    "\n",
    "\"aaaassddfaaa\".lstrip(\"a\")            #删除字符串左端指定字符\n"
   ]
  },
  {
   "cell_type": "code",
   "execution_count": 68,
   "metadata": {
    "ExecuteTime": {
     "end_time": "2021-03-25T14:54:38.320518Z",
     "start_time": "2021-03-25T14:54:38.314566Z"
    }
   },
   "outputs": [
    {
     "data": {
      "text/plain": [
       "''"
      ]
     },
     "execution_count": 68,
     "metadata": {},
     "output_type": "execute_result"
    }
   ],
   "source": [
    "'aabbccddeeeffg'.strip('af')  #字母f不在字符串两侧，所以不删除\n",
    "\n",
    "'aabbccddeeeffg'.strip('gaf')\n",
    "\n",
    "'aabbccddeeeffg'.strip('gaef')\n",
    "\n",
    "'aabbccddeeeffg'.strip('gbaef')\n",
    "\n",
    "'aabbccddeeeffg'.strip('gbaefcd')\n"
   ]
  },
  {
   "cell_type": "markdown",
   "metadata": {},
   "source": [
    "## 检测字符串中是否包含某子串"
   ]
  },
  {
   "cell_type": "code",
   "execution_count": 102,
   "metadata": {
    "ExecuteTime": {
     "end_time": "2021-03-25T16:26:52.725240Z",
     "start_time": "2021-03-25T16:26:52.722246Z"
    },
    "scrolled": true
   },
   "outputs": [
    {
     "name": "stdout",
     "output_type": "stream",
     "text": [
      "find() 方法用于检索字符串中是否包含目标字符串，如果包含，则返回第一次出现该字符串的索引；反之，则返回 -1。\n",
      "\n",
      "        find() 方法的语法格式如下：\n",
      "                                  str.find(sub,start,end)\n",
      "\n",
      "此格式中各参数的含义如下：\n",
      "str：表示原字符串；\n",
      "sub：表示要检索的目标字符串；\n",
      "start：表示开始检索的起始位置。如果不指定，则默认从头开始检索；\n",
      "end：表示结束检索的结束位置。如果不指定，则默认一直检索到结尾。\n",
      "\n"
     ]
    }
   ],
   "source": [
    "print('''find() 方法用于检索字符串中是否包含目标字符串，如果包含，则返回第一次出现该字符串的索引；反之，则返回 -1。\n",
    "\n",
    "        find() 方法的语法格式如下：\n",
    "                                  str.find(sub,start,end)\n",
    "\n",
    "此格式中各参数的含义如下：\n",
    "str：表示原字符串；\n",
    "sub：表示要检索的目标字符串；\n",
    "start：表示开始检索的起始位置。如果不指定，则默认从头开始检索；\n",
    "end：表示结束检索的结束位置。如果不指定，则默认一直检索到结尾。\n",
    "''')"
   ]
  },
  {
   "cell_type": "code",
   "execution_count": 107,
   "metadata": {
    "ExecuteTime": {
     "end_time": "2021-03-25T16:28:07.055138Z",
     "start_time": "2021-03-25T16:28:07.050183Z"
    }
   },
   "outputs": [
    {
     "data": {
      "text/plain": [
       "4"
      ]
     },
     "execution_count": 107,
     "metadata": {},
     "output_type": "execute_result"
    }
   ],
   "source": [
    "str = \"http://localhost:8888/tree/%E6%9A%91%E6%9C%9FPython%E8%AE%AD%E7%BB%83%E8%90%A5\"\n",
    "str.find(':',2,10)"
   ]
  },
  {
   "cell_type": "code",
   "execution_count": 108,
   "metadata": {
    "ExecuteTime": {
     "end_time": "2021-03-25T16:29:08.646691Z",
     "start_time": "2021-03-25T16:29:08.642668Z"
    }
   },
   "outputs": [
    {
     "name": "stdout",
     "output_type": "stream",
     "text": [
      "Python 还提供了 rfind() 方法，与 find() 方法最大的不同在于，rfind() 是从字符串右边开始检索。\n"
     ]
    },
    {
     "data": {
      "text/plain": [
       "16"
      ]
     },
     "execution_count": 108,
     "metadata": {},
     "output_type": "execute_result"
    }
   ],
   "source": [
    "print('''Python 还提供了 rfind() 方法，与 find() 方法最大的不同在于，rfind() 是从字符串右边开始检索。''')\n",
    "str.rfind(':')"
   ]
  },
  {
   "cell_type": "code",
   "execution_count": 112,
   "metadata": {
    "ExecuteTime": {
     "end_time": "2021-03-25T16:31:26.199154Z",
     "start_time": "2021-03-25T16:31:26.193172Z"
    },
    "scrolled": true
   },
   "outputs": [
    {
     "name": "stdout",
     "output_type": "stream",
     "text": [
      "同 find方法类似，index方法也可以用于检索是否包含指定的字符串，不同之处在于，当指定的字符串不存在时，index方法会抛出异常。\n",
      "\n"
     ]
    },
    {
     "data": {
      "text/plain": [
       "4"
      ]
     },
     "execution_count": 112,
     "metadata": {},
     "output_type": "execute_result"
    }
   ],
   "source": [
    "print('''同 find方法类似，index方法也可以用于检索是否包含指定的字符串，不同之处在于，当指定的字符串不存在时，index方法会抛出异常。\n",
    "''')\n",
    "str = \"http://localhost:8888/tree/%E6%9A%91%E6%9C%9FPython%E8%AE%AD%E7%BB%83%E8%90%A5\"\n",
    "str.index('.')"
   ]
  },
  {
   "cell_type": "markdown",
   "metadata": {},
   "source": [
    "## 对齐"
   ]
  },
  {
   "cell_type": "code",
   "execution_count": 120,
   "metadata": {
    "ExecuteTime": {
     "end_time": "2021-03-25T16:36:55.561090Z",
     "start_time": "2021-03-25T16:36:55.555076Z"
    }
   },
   "outputs": [
    {
     "name": "stdout",
     "output_type": "stream",
     "text": [
      "Python ljust()方法\n",
      "ljust() 方法的功能是向指定字符串的右侧填充指定字符，从而达到左对齐文本的目的。\n",
      "\n",
      "ljust() 方法的基本格式如下：\n",
      "S.ljust(width, fillchar)\n",
      "\n",
      "其中各个参数的含义如下：\n",
      "S：表示要进行填充的字符串；\n",
      "width：表示包括 S 本身长度在内，字符串要占的总长度；\n",
      "fillchar：作为可选参数，用来指定填充字符串时所用的字符，默认情况使用空格。\n",
      "https://www.jb51.net/article/163317.htm------\n",
      "https://www.jb51.net/article/163318.htm      \n"
     ]
    },
    {
     "data": {
      "text/plain": [
       "'rjust() 和 ljust() 方法类似，唯一的不同在于，rjust() 方法是向字符串的左侧填充指定字符，从而达到右对齐文本的目的。\\n   center() 字符串方法与 ljust() 和 rjust() 的用法类似，但它让文本居中，而不是左对齐或右对齐。'"
      ]
     },
     "execution_count": 120,
     "metadata": {},
     "output_type": "execute_result"
    }
   ],
   "source": [
    "print('''Python ljust()方法\n",
    "ljust() 方法的功能是向指定字符串的右侧填充指定字符，从而达到左对齐文本的目的。\n",
    "\n",
    "ljust() 方法的基本格式如下：\n",
    "S.ljust(width, fillchar)\n",
    "\n",
    "其中各个参数的含义如下：\n",
    "S：表示要进行填充的字符串；\n",
    "width：表示包括 S 本身长度在内，字符串要占的总长度；\n",
    "fillchar：作为可选参数，用来指定填充字符串时所用的字符，默认情况使用空格。''')\n",
    "\n",
    "S = 'https://www.jb51.net/article/163317.htm'\n",
    "addr = 'https://www.jb51.net/article/163318.htm'\n",
    "print(S.ljust(45,'-'))\n",
    "print(addr.ljust(45))\n",
    "\n",
    "'''rjust() 和 ljust() 方法类似，唯一的不同在于，rjust() 方法是向字符串的左侧填充指定字符，从而达到右对齐文本的目的。\n",
    "   center() 字符串方法与 ljust() 和 rjust() 的用法类似，但它让文本居中，而不是左对齐或右对齐。'''"
   ]
  },
  {
   "cell_type": "markdown",
   "metadata": {},
   "source": [
    "## 其它的"
   ]
  },
  {
   "cell_type": "code",
   "execution_count": 124,
   "metadata": {
    "ExecuteTime": {
     "end_time": "2021-03-25T16:50:35.531059Z",
     "start_time": "2021-03-25T16:50:35.524108Z"
    }
   },
   "outputs": [
    {
     "name": "stdout",
     "output_type": "stream",
     "text": [
      "a,b,c: (True, False, True)\n",
      "True\n",
      "count 方法用于检索指定字符串在另一字符串中出现的次数，如果检索的字符串不存在，则返回 0，否则返回出现的次数。\n",
      "\n",
      "count 方法的语法格式如下：\n",
      "                           str.count(sub,start,end)\n",
      "此方法中，各参数的具体含义如下：\n",
      "str：表示原字符串；\n",
      "sub：表示要检索的字符串；\n",
      "start：指定检索的起始位置，也就是从什么位置开始检测。如果不指定，默认从头开始检索；\n",
      "end：指定检索的终止位置，如果不指定，则表示一直检索到结尾。\n"
     ]
    },
    {
     "data": {
      "text/plain": [
       "4"
      ]
     },
     "execution_count": 124,
     "metadata": {},
     "output_type": "execute_result"
    }
   ],
   "source": [
    "'''s.startswith(t)、s.endswith(t)，判断字符串是否以指定字符串开始或结束'''\n",
    "s = 'Beautiful is better than ugly.'\n",
    "a = s.startswith('Be')           #检测整个字符串\n",
    "b = s.startswith('Be', 5)        #指定检测范围起始位置\n",
    "c = s.startswith('Be', 0, 5)     #指定检测范围起始和结束位置\n",
    "print(\"a,b,c:\",(a,b,c))\n",
    "'''成员判断，关键字in\n",
    "'''\n",
    "print(\"a\" in \"abcde\")     #测试一个字符中是否存在于另一个字符串中\n",
    "print('''count 方法用于检索指定字符串在另一字符串中出现的次数，如果检索的字符串不存在，则返回 0，否则返回出现的次数。\n",
    "\n",
    "count 方法的语法格式如下：\n",
    "                           str.count(sub,start,end)\n",
    "此方法中，各参数的具体含义如下：\n",
    "str：表示原字符串；\n",
    "sub：表示要检索的字符串；\n",
    "start：指定检索的起始位置，也就是从什么位置开始检测。如果不指定，默认从头开始检索；\n",
    "end：指定检索的终止位置，如果不指定，则表示一直检索到结尾。''')\n",
    "S = 'https://www.jb51.net/article/163317.htm'\n",
    "S.count('w')\n",
    "s='banana,apple,pear,bear,arrange,lear'\n",
    "s.count('ar')"
   ]
  },
  {
   "cell_type": "markdown",
   "metadata": {},
   "source": [
    "# 中文分词与拼音处理"
   ]
  },
  {
   "cell_type": "code",
   "execution_count": 75,
   "metadata": {
    "ExecuteTime": {
     "end_time": "2021-03-25T15:13:38.919263Z",
     "start_time": "2021-03-25T15:13:36.493570Z"
    }
   },
   "outputs": [
    {
     "name": "stdout",
     "output_type": "stream",
     "text": [
      "Note: you may need to restart the kernel to use updated packages.\n"
     ]
    },
    {
     "name": "stderr",
     "output_type": "stream",
     "text": [
      "ERROR: unknown command \"jieba\"\n",
      "\n"
     ]
    }
   ],
   "source": [
    "pip jieba"
   ]
  },
  {
   "cell_type": "code",
   "execution_count": 74,
   "metadata": {
    "ExecuteTime": {
     "end_time": "2021-03-25T15:07:15.481172Z",
     "start_time": "2021-03-25T15:07:15.473164Z"
    }
   },
   "outputs": [
    {
     "ename": "ModuleNotFoundError",
     "evalue": "No module named 'jieba'",
     "output_type": "error",
     "traceback": [
      "\u001b[1;31m---------------------------------------------------------------------------\u001b[0m",
      "\u001b[1;31mModuleNotFoundError\u001b[0m                       Traceback (most recent call last)",
      "\u001b[1;32m<ipython-input-74-c2712e40877f>\u001b[0m in \u001b[0;36m<module>\u001b[1;34m\u001b[0m\n\u001b[1;32m----> 1\u001b[1;33m \u001b[1;32mimport\u001b[0m \u001b[0mjieba\u001b[0m                     \u001b[1;31m#导入jieba模块\u001b[0m\u001b[1;33m\u001b[0m\u001b[1;33m\u001b[0m\u001b[0m\n\u001b[0m\u001b[0;32m      2\u001b[0m \u001b[0mx\u001b[0m \u001b[1;33m=\u001b[0m \u001b[1;34m'分词的准确度直接影响了后续文本处理和挖掘算法的最终效果。'\u001b[0m\u001b[1;33m\u001b[0m\u001b[1;33m\u001b[0m\u001b[0m\n\u001b[0;32m      3\u001b[0m \u001b[0ma\u001b[0m \u001b[1;33m=\u001b[0m \u001b[0mjieba\u001b[0m\u001b[1;33m.\u001b[0m\u001b[0mcut\u001b[0m\u001b[1;33m(\u001b[0m\u001b[0mx\u001b[0m\u001b[1;33m)\u001b[0m\u001b[1;33m\u001b[0m\u001b[1;33m\u001b[0m\u001b[0m\n\u001b[0;32m      4\u001b[0m \u001b[0mprint\u001b[0m\u001b[1;33m(\u001b[0m\u001b[1;34m'使用默认词库进行分词:'\u001b[0m\u001b[1;33m,\u001b[0m\u001b[0ma\u001b[0m\u001b[1;33m)\u001b[0m\u001b[1;33m\u001b[0m\u001b[1;33m\u001b[0m\u001b[0m\n",
      "\u001b[1;31mModuleNotFoundError\u001b[0m: No module named 'jieba'"
     ]
    }
   ],
   "source": [
    ">>> import jieba                     #导入jieba模块\n",
    ">>> x = '分词的准确度直接影响了后续文本处理和挖掘算法的最终效果。'\n",
    ">>> jieba.cut(x)                     #使用默认词库进行分词\n",
    "<generator object Tokenizer.cut at 0x000000000342C990>\n",
    ">>> list(_)\n",
    "['分词', '的', '准确度', '直接', '影响', '了', '后续', '文本处理', '和', '挖掘', '算法', '的', '最终', '效果', '。']\n",
    ">>> jieba.lcut('Python可以这样学，Python程序设计开发宝典') #直接给出列表\n",
    "Dumping model to file cache C:\\Users\\d\\AppData\\Local\\Temp\\jieba.cache\n",
    "['Python', '可以', '这样', '学', '，', 'Python', '程序设计', '开发', '宝典']\n",
    ">>> list(jieba.cut('花纸杯'))\n",
    "['花', '纸杯']\n",
    ">>> jieba.add_word('花纸杯')         #增加词条\n",
    ">>> list(jieba.cut('花纸杯'))        #使用新词库进行分词\n",
    "['花纸杯']                   "
   ]
  },
  {
   "cell_type": "code",
   "execution_count": null,
   "metadata": {},
   "outputs": [],
   "source": [
    ">>> from pypinyin import lazy_pinyin, pinyin\n",
    ">>> lazy_pinyin('董付国')               #返回拼音\n",
    "['dong', 'fu', 'guo']\n",
    ">>> lazy_pinyin('董付国', 1)            #带声调的拼音\n",
    "['dǒng', 'fù', 'guó']\n",
    ">>> lazy_pinyin('董付国', 2)            #另一种拼音形式，数字表示前面字母的声调\n",
    "['do3ng', 'fu4', 'guo2']\n",
    ">>> lazy_pinyin('董付国', 3)            #只返回拼音首字母\n",
    "['d', 'f', 'g']\n",
    ">>> lazy_pinyin('重要', 1)              #能够根据词组智能识别多音字\n",
    "['zhòng', 'yào']\n",
    ">>> lazy_pinyin('重阳', 1)\n",
    "['chóng', 'yáng']\n",
    ">>> pinyin('重阳')                      #返回拼音\n",
    "[['chóng'], ['yáng']]\n",
    ">>> pinyin('重阳节', heteronym=True)    #返回多音字的所有读音\n",
    "[['zhòng', 'chóng', 'tóng'], ['yáng'], ['jié', 'jiē']]\n"
   ]
  },
  {
   "cell_type": "markdown",
   "metadata": {},
   "source": [
    "# 案例应用"
   ]
  },
  {
   "cell_type": "code",
   "execution_count": 78,
   "metadata": {
    "ExecuteTime": {
     "end_time": "2021-03-25T15:32:22.734820Z",
     "start_time": "2021-03-25T15:32:22.730835Z"
    }
   },
   "outputs": [
    {
     "name": "stdout",
     "output_type": "stream",
     "text": [
      "\n",
      "给定任意字符串，查找其中每个字符的最后一次出现，\n",
      "并按每个字符最后一次出现的先后顺序依次存入列表。例如对于字符串'abcda'的处理结果为['b', 'c', 'd', 'a']，\n",
      "而字符串'abcbda'的处理结果为['c', 'b', 'd', 'a']。\n",
      "\n"
     ]
    }
   ],
   "source": [
    "print('''\n",
    "给定任意字符串，查找其中每个字符的最后一次出现，\n",
    "并按每个字符最后一次出现的先后顺序依次存入列表。例如对于字符串'abcda'的处理结果为['b', 'c', 'd', 'a']，\n",
    "而字符串'abcbda'的处理结果为['c', 'b', 'd', 'a']。\n",
    "''')"
   ]
  },
  {
   "cell_type": "code",
   "execution_count": 82,
   "metadata": {
    "ExecuteTime": {
     "end_time": "2021-03-25T15:37:15.581472Z",
     "start_time": "2021-03-25T15:37:15.576456Z"
    }
   },
   "outputs": [
    {
     "name": "stdout",
     "output_type": "stream",
     "text": [
      "['a']\n",
      "['a']\n",
      "['a']\n",
      "['a']\n",
      "['a', 'b']\n",
      "['a', 'b', 'c']\n",
      "['a', 'b', 'c', 'd']\n",
      "['b', 'c', 'd', 'a']\n",
      "['b', 'c', 'd', 'a', 'w']\n",
      "['b', 'c', 'd', 'a', 'w', 'e']\n",
      "['b', 'c', 'd', 'a', 'w', 'e', 'r']\n",
      "['b', 'c', 'd', 'w', 'e', 'r', 'a']\n",
      "['b', 'c', 'd', 'w', 'e', 'r', 'a', 's']\n",
      "['b', 'c', 'w', 'e', 'r', 'a', 's', 'd']\n",
      "['b', 'c', 'w', 'e', 'r', 'a', 's', 'd', 'f']\n",
      "['b', 'c', 'w', 'e', 'r', 's', 'd', 'f', 'a']\n",
      "['b', 'c', 'w', 'e', 'r', 'd', 'f', 'a', 's']\n",
      "['b', 'c', 'w', 'e', 'r', 'f', 'a', 's', 'd']\n",
      "['b', 'c', 'w', 'e', 'r', 'a', 's', 'd', 'f']\n",
      "['b', 'c', 'e', 'r', 'a', 's', 'd', 'f', 'w']\n",
      "['b', 'c', 'r', 'a', 's', 'd', 'f', 'w', 'e']\n",
      "['b', 'c', 'a', 's', 'd', 'f', 'w', 'e', 'r']\n",
      "['b', 'c', 'a', 's', 'd', 'f', 'w', 'e', 'r', 'n']\n",
      "['b', 'c', 'a', 's', 'd', 'f', 'w', 'e', 'r', 'n', 'g']\n",
      "['b', 'c', 'a', 'd', 'f', 'w', 'e', 'r', 'n', 'g', 's']\n",
      "['b', 'c', 'a', 'd', 'f', 'w', 'e', 'r', 'g', 's', 'n']\n",
      "['b', 'c', 'a', 'd', 'f', 'w', 'e', 'r', 'g', 's', 'n']\n",
      "['b', 'c', 'a', 'd', 'f', 'w', 'e', 'r', 'g', 's', 'n', 'v']\n",
      "['b', 'c', 'a', 'd', 'f', 'w', 'e', 'r', 'g', 's', 'n', 'v', 'A']\n",
      "['b', 'c', 'a', 'd', 'f', 'w', 'e', 'r', 'g', 's', 'n', 'v', 'A']\n",
      "['b', 'c', 'a', 'd', 'f', 'w', 'e', 'r', 'g', 's', 'n', 'v', 'A']\n",
      "['b', 'c', 'a', 'd', 'f', 'e', 'r', 'g', 's', 'n', 'v', 'A', 'w']\n",
      "['b', 'c', 'a', 'd', 'f', 'r', 'g', 's', 'n', 'v', 'A', 'w', 'e']\n",
      "['b', 'c', 'a', 'd', 'f', 'r', 'g', 's', 'n', 'v', 'A', 'w', 'e', 'B']\n",
      "['b', 'c', 'a', 'd', 'f', 'r', 'g', 's', 'n', 'v', 'A', 'w', 'e', 'B', '3']\n",
      "['b', 'c', 'd', 'f', 'r', 'g', 's', 'n', 'v', 'A', 'w', 'e', 'B', '3', 'a']\n",
      "最终的处理结构果: ['b', 'c', 'd', 'f', 'r', 'g', 's', 'n', 'v', 'A', 'w', 'e', 'B', '3', 'a']\n"
     ]
    }
   ],
   "source": [
    "s = 'aaaabcdawerasdfasdfwerngsnnvAAAweB3a'\n",
    "\n",
    "# 使用列表\n",
    "result = []\n",
    "for ch in s:\n",
    "    if ch in result:\n",
    "        result.remove(ch)\n",
    "    result.append(ch)\n",
    "    print(result)\n",
    "print('最终的处理结构果:',result)\n"
   ]
  },
  {
   "cell_type": "code",
   "execution_count": 83,
   "metadata": {
    "ExecuteTime": {
     "end_time": "2021-03-25T15:39:22.749848Z",
     "start_time": "2021-03-25T15:39:22.745859Z"
    }
   },
   "outputs": [
    {
     "name": "stdout",
     "output_type": "stream",
     "text": [
      "有一些句子和一些关键词，现在想找出包含至少一个关键词的那些句子（文本嗅探），\n",
      "或者想进一步计算每个句子中的关键词占比（句子中所有关键词长度之和/句子长度）。\n",
      "关键词占比是比较常用的一个文本分类标准。\n"
     ]
    }
   ],
   "source": [
    "print('''有一些句子和一些关键词，现在想找出包含至少一个关键词的那些句子（文本嗅探），\n",
    "或者想进一步计算每个句子中的关键词占比（句子中所有关键词长度之和/句子长度）。\n",
    "关键词占比是比较常用的一个文本分类标准。''')"
   ]
  },
  {
   "cell_type": "code",
   "execution_count": 84,
   "metadata": {
    "ExecuteTime": {
     "end_time": "2021-03-25T15:42:22.927552Z",
     "start_time": "2021-03-25T15:42:22.922562Z"
    }
   },
   "outputs": [],
   "source": [
    "def check(sentences, words):\n",
    "    '''返回包含至少一个关键词的句子列表'''\n",
    "    return [sentence \\\n",
    "            for sentence in sentences\\\n",
    "            if sum(sentence.count(word) for word in words)>0]\n"
   ]
  },
  {
   "cell_type": "code",
   "execution_count": 85,
   "metadata": {
    "ExecuteTime": {
     "end_time": "2021-03-25T15:42:26.007523Z",
     "start_time": "2021-03-25T15:42:26.003534Z"
    }
   },
   "outputs": [],
   "source": [
    "sentences = ['This is a test.',\n",
    "             'Beautiful is better than ugly.',\n",
    "             'Explicit is better than implicit.',\n",
    "             'Simple is better than complex.',\n",
    "             'Sparse is better than dense.',\n",
    "             'Readability counts.',\n",
    "             'Now is better than never.']\n",
    "words = ['test', 'count', 'dense', 'is', 'simple']\n"
   ]
  },
  {
   "cell_type": "code",
   "execution_count": 88,
   "metadata": {
    "ExecuteTime": {
     "end_time": "2021-03-25T15:42:59.199865Z",
     "start_time": "2021-03-25T15:42:59.193912Z"
    }
   },
   "outputs": [
    {
     "name": "stdout",
     "output_type": "stream",
     "text": [
      "This is a test.\n",
      "Beautiful is better than ugly.\n",
      "Explicit is better than implicit.\n",
      "Simple is better than complex.\n",
      "Sparse is better than dense.\n",
      "Readability counts.\n",
      "Now is better than never.\n",
      "- - - - - - - - - - - - - - - - - - - - - - - - - - - - - - - - - - - - - - - - - - - - - - - - - - - - - - - - - - - - \n",
      "('This is a test.', 0.533)\n",
      "('Beautiful is better than ugly.', 0.067)\n",
      "('Explicit is better than implicit.', 0.061)\n",
      "('Simple is better than complex.', 0.067)\n",
      "('Sparse is better than dense.', 0.25)\n",
      "('Readability counts.', 0.263)\n",
      "('Now is better than never.', 0.08)\n"
     ]
    }
   ],
   "source": [
    "result = check(sentences, words)\n",
    "for item in result:\n",
    "    print(item)\n",
    "\n",
    "print('- - - '*20)\n",
    "# 计算每个句子中所有关键字总长度的占比\n",
    "d = {sentence:round(sum(sentence.count(word)*len(word)\\\n",
    "                        for word in words)/len(sentence),3)\\\n",
    "     for sentence in result}\n",
    "for item in d.items():\n",
    "    print(item)\n"
   ]
  },
  {
   "cell_type": "code",
   "execution_count": null,
   "metadata": {},
   "outputs": [],
   "source": []
  }
 ],
 "metadata": {
  "kernelspec": {
   "display_name": "Python 3",
   "language": "python",
   "name": "python3"
  },
  "language_info": {
   "codemirror_mode": {
    "name": "ipython",
    "version": 3
   },
   "file_extension": ".py",
   "mimetype": "text/x-python",
   "name": "python",
   "nbconvert_exporter": "python",
   "pygments_lexer": "ipython3",
   "version": "3.7.6"
  },
  "latex_envs": {
   "LaTeX_envs_menu_present": true,
   "autoclose": false,
   "autocomplete": true,
   "bibliofile": "biblio.bib",
   "cite_by": "apalike",
   "current_citInitial": 1,
   "eqLabelWithNumbers": true,
   "eqNumInitial": 1,
   "hotkeys": {
    "equation": "Ctrl-E",
    "itemize": "Ctrl-I"
   },
   "labels_anchors": false,
   "latex_user_defs": false,
   "report_style_numbering": false,
   "user_envs_cfg": false
  },
  "toc": {
   "base_numbering": 1,
   "nav_menu": {},
   "number_sections": true,
   "sideBar": true,
   "skip_h1_title": false,
   "title_cell": "Table of Contents",
   "title_sidebar": "Contents",
   "toc_cell": false,
   "toc_position": {},
   "toc_section_display": true,
   "toc_window_display": false
  }
 },
 "nbformat": 4,
 "nbformat_minor": 4
}
