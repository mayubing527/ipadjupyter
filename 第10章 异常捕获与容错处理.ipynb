{
 "cells": [
  {
   "cell_type": "markdown",
   "metadata": {},
   "source": [
    "# 第10章 异常捕获与容错处理\n",
    "\n",
    "## 10.1 语法错误与异常\n",
    "* Python中两种错误是最常见的：语法错误和异常。\n",
    "    * 其实，语法错误本质上属于异常。\n",
    "\n",
    "### （1）语法错误\n",
    "* **语法错误**：也称为**解析错误**，是最常见的错误。\n",
    "* 当程序运行过程中遇到语法错误时，会提示**“SyntaxError”**；\n",
    "    * 解析器会显示有问题的行并用**箭头**指向检测到错误的行中**最早出现错误的位置**。"
   ]
  },
  {
   "cell_type": "code",
   "execution_count": null,
   "metadata": {},
   "outputs": [],
   "source": [
    "if True print(\"Hello, world!')"
   ]
  },
  {
   "cell_type": "markdown",
   "metadata": {},
   "source": [
    "### （2）异常\n",
    "* **异常**：即**非正常状态**，程序运行期间检测到的错误。\n",
    "    * 语句或表达式在语法上是正确的，但在尝试执行它时可能会导致错误，这种情况即为异常。\n",
    "* 在Python中使用**异常对象**来表示异常。\n",
    "* 当程序运行过程中遇到异常时，会提示**“TypeError”**。"
   ]
  },
  {
   "cell_type": "code",
   "execution_count": null,
   "metadata": {},
   "outputs": [],
   "source": [
    "s=5050\n",
    "print(\"Sum is\"+s)"
   ]
  },
  {
   "cell_type": "markdown",
   "metadata": {},
   "source": [
    "* Python中，所有异常都必须是继承自BaseException类的实例，其**标准异常**如**表10-1**所示。\n",
    "\n",
    "#### 表10-1：标准异常"
   ]
  },
  {
   "cell_type": "markdown",
   "metadata": {},
   "source": [
    "## 10.2 异常处理\n",
    "* 当程序在运行过程中出现异常和错误时，可以使用异常处理方法来进行**程序调试**。\n",
    "\n",
    "### 10.2.1 触发异常\n",
    "\n",
    "#### （1）raise语句\n",
    "* Python中可以使用**raise语句**抛出一个指定的通用异常。\n",
    "    * raise关键字后跟**异常的名称**，异常名称能够表示出异常类的对象。\n",
    "* **注意：一旦执行raise语句，程序就会被终止。**"
   ]
  },
  {
   "cell_type": "code",
   "execution_count": null,
   "metadata": {},
   "outputs": [],
   "source": [
    "def raisetest(obj):\n",
    "    if obj!=\"Jing Ruan\":\n",
    "        raise ValueError(\"This is Invalid Value!\")\n",
    "\n",
    "raisetest(\"Ruan Jing\")"
   ]
  },
  {
   "cell_type": "markdown",
   "metadata": {},
   "source": [
    "#### （2）assert语句：断言\n",
    "* **断言**：根据表达式的真假来控制程序流，是一种常用的防御性编程。\n",
    "    * 主要用于运行时对程序逻辑的检测，合约性检查以及程序中常量、文档的检查等。\n",
    "* **assert语句**可以根据其后面的表达式的真假来控制程序流。\n",
    "    * 若为True，则继续往下执行；\n",
    "    * 若为False，则中断程序并调用默认的异常处理器，同时输出指定的提示信息。"
   ]
  },
  {
   "cell_type": "code",
   "execution_count": null,
   "metadata": {},
   "outputs": [],
   "source": [
    "assert 2==1, \"2不等于1\""
   ]
  },
  {
   "cell_type": "markdown",
   "metadata": {},
   "source": [
    "### 10.2.2 捕获异常：try…except…else…finally语句\n",
    "* 异常被触发时只是提示用户异常发生的位置，但并未告知该如何处理。\n",
    "    * 一个正常的程序不仅能抛出异常，而且还能根据异常的情况进行处理。\n",
    "* Python中**捕获异常**可以使用**try…except…else…finally语句**，具体语法为："
   ]
  },
  {
   "cell_type": "code",
   "execution_count": null,
   "metadata": {},
   "outputs": [],
   "source": [
    "try:\n",
    "    可能触发异常的语句块\n",
    "except:\n",
    "    没有指定异常类型，捕获任意异常\n",
    "else:\n",
    "    没有触发异常时执行的语句块\n",
    "finally:\n",
    "    不管代码块是否触发异常都会执行的语句块"
   ]
  },
  {
   "cell_type": "markdown",
   "metadata": {},
   "source": [
    "* except的程序块中的语句没有数量限制，但使用多个语句捕获异常时，如果异常类之间具有继承关系，则**子类应该写在前面**。\n",
    "    * 否则父类将会直接截获子类异常，而放在后面的子类异常也就不会执行。"
   ]
  },
  {
   "cell_type": "code",
   "execution_count": null,
   "metadata": {},
   "outputs": [],
   "source": [
    "try:\n",
    "    100/0\n",
    "except:\n",
    "    print(\"除数不能为零！\")\n",
    "else:\n",
    "    print(\"没有异常。\")\n",
    "finally:\n",
    "    print(\"为什么最后总要执行我？\")"
   ]
  },
  {
   "cell_type": "markdown",
   "metadata": {},
   "source": [
    "#### 练习：设计一个while循环，计算输入数字的平方；当且仅当计算所得平方数值小于50时退出循环。\n",
    "* 要求：用try…except…else…finally语句处理input()函数可能发生的异常。"
   ]
  },
  {
   "cell_type": "code",
   "execution_count": null,
   "metadata": {},
   "outputs": [],
   "source": [
    "while True:\n",
    "    try:\n",
    "        n=float(input(\"请输入一个数字：\"))\n",
    "    except:\n",
    "        print(\"输入错误！请输入一个数字：\")\n",
    "        continue\n",
    "    else:\n",
    "        print(\"输入数字的平方为：\",n**2)\n",
    "        if n**2<50:\n",
    "            print(\"输入数字的平方小于50，退出。\")\n",
    "            break"
   ]
  },
  {
   "cell_type": "code",
   "execution_count": null,
   "metadata": {},
   "outputs": [],
   "source": [
    "while True:\n",
    "    try:\n",
    "        n=float(input(\"请输入一个数字：\"))\n",
    "    except:\n",
    "        print(\"输入错误！请输入一个数字：\")\n",
    "        continue\n",
    "    print(\"输入数字的平方为：\",n**2)\n",
    "    if n**2<50:\n",
    "        print(\"输入数字的平方小于50，退出。\")\n",
    "        break"
   ]
  },
  {
   "cell_type": "markdown",
   "metadata": {},
   "source": [
    "### 10.2.3 其他处理：with语句\n",
    "* 在程序设计的过程中，往往有一些任务可能事先需要设置，事后做清理工作。\n",
    "* **with语句**适用于对资源进行访问的场合，确保不管使用过程中是否发生异常都会执行必要的“清理”操作，从而进行资源释放；\n",
    "    * 如：文件使用后的自动关闭、线程中锁的自动获取和释放等。\n",
    "\n",
    "#### 例：使用繁琐的try语句。"
   ]
  },
  {
   "cell_type": "code",
   "execution_count": null,
   "metadata": {},
   "outputs": [],
   "source": [
    "file=open(\"note.txt\")\n",
    "try:\n",
    "    data=file.read()\n",
    "finally:\n",
    "    file.close()"
   ]
  },
  {
   "cell_type": "markdown",
   "metadata": {},
   "source": [
    "* 使用with语句可以轻松解决这一问题："
   ]
  },
  {
   "cell_type": "code",
   "execution_count": null,
   "metadata": {},
   "outputs": [],
   "source": [
    "with open(\"note.txt\") as file:\n",
    "    data=file.read()"
   ]
  },
  {
   "cell_type": "markdown",
   "metadata": {},
   "source": [
    "* **with语句的设计目的**，就是为了使得之前需要通过try…finally解决的清理资源问题变得简单清晰。"
   ]
  }
 ],
 "metadata": {
  "kernelspec": {
   "display_name": "Python 3",
   "language": "python",
   "name": "python3"
  },
  "language_info": {
   "codemirror_mode": {
    "name": "ipython",
    "version": 3
   },
   "file_extension": ".py",
   "mimetype": "text/x-python",
   "name": "python",
   "nbconvert_exporter": "python",
   "pygments_lexer": "ipython3",
   "version": "3.8.3"
  }
 },
 "nbformat": 4,
 "nbformat_minor": 4
}
