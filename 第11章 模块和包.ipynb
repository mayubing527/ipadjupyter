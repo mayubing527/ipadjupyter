{
 "cells": [
  {
   "cell_type": "markdown",
   "metadata": {},
   "source": [
    "# 第11章 模块和包\n",
    "* **模块**：在Python中，一个\\*.py文件就称之为一个模块(Module)。\n",
    "* **包**：为了避免模块名冲突，Python又引入了按目录来组织模块的方法，称为包(Package)。\n",
    "* 模块和包都能够提高代码的可维护性和复用性。\n",
    "\n",
    "## 11.1 模块\n",
    "* Python中的模块对应的就是与模块名称相同的*.py文件。\n",
    "* 在所创建的\\*.py文件中如果定义了函数和变量，便可在其他程序中导入模块（即：导入\\*.py文件）；\n",
    "    * 可用**“模块名.函数名”**或**模块名.变量名**的方式重新使用模块中的函数和变量。\n",
    "* Python中导入模块的方法主要有两种：**导入整个模块**和**导入模块中的部件**(类、方法、函数、变量等)。\n",
    "    * 模块的部件可以使用**dir(模块名)**的方式来查看。\n",
    "\n",
    "#### 常用的导入方式如下(module表示模块名，XX表示模块的部件名)：\n",
    "\n",
    "|导入方式|功能|调用部件方式|备注|\n",
    "|--|--|--|--|\n",
    "|import module|直接导入模块|module.XX||\n",
    "|import module as xx|将导入的模块重命名为xx|xx.XX|一般在模块名较长时使用|\n",
    "|from module import XX|直接导入模块的指定部件|XX|需要知道部件名称|\n",
    "|from module import \\*|导入模块的全部部件|XX|不推荐，可能覆盖用户自行编制的对象且运行效率低|"
   ]
  },
  {
   "cell_type": "markdown",
   "metadata": {},
   "source": [
    "### （1）内置模块\n",
    "* **内置模块**：可以使用import语句直接调用。\n",
    "\n",
    "#### 表11-1：常用内置模块及其功能\n",
    "\n",
    "|内置模块名称|功能|\n",
    "|--|--|\n",
    "|math|提供浮点数学运算函数和常量|\n",
    "|random|提供生成随机数的工具|\n",
    "|itertools|提供用来产生或操作不同类型迭代器的函数|\n",
    "|functools|用于高阶函数：作用于或返回其他函数的函数|\n",
    "|time|提供处理日期和一天内时间的函数|\n",
    "|timeit|提供测试一段代码运行时间的功能|"
   ]
  },
  {
   "cell_type": "code",
   "execution_count": null,
   "metadata": {},
   "outputs": [],
   "source": [
    "import math\n",
    "math.sqrt(4)"
   ]
  },
  {
   "cell_type": "code",
   "execution_count": null,
   "metadata": {},
   "outputs": [],
   "source": [
    "import math as m\n",
    "m.sqrt(4)"
   ]
  },
  {
   "cell_type": "code",
   "execution_count": null,
   "metadata": {},
   "outputs": [],
   "source": [
    "from math import sqrt\n",
    "sqrt(4)"
   ]
  },
  {
   "cell_type": "code",
   "execution_count": null,
   "metadata": {},
   "outputs": [],
   "source": [
    "from math import *\n",
    "sqrt(4)"
   ]
  },
  {
   "cell_type": "code",
   "execution_count": null,
   "metadata": {},
   "outputs": [],
   "source": [
    "dir(math)"
   ]
  },
  {
   "cell_type": "markdown",
   "metadata": {},
   "source": [
    "### （2）非内置模块\n",
    "* 非内置模块：存在于用户自行安装的第三方包或工具库中。\n",
    "    * 可供调用的模块所来自的第三方包应当事先在Python中进行安装。\n",
    "* 最常见的包的安装方式是在终端中使用**pip命令**进行的。\n",
    "\n",
    "#### 表：pip 中最常用的命令：\n",
    "\n",
    "|命令|说明|\n",
    "|--|--|\n",
    "|pip --version|显示版本和路径|\n",
    "|pip --help|获取帮助|\n",
    "|pip install -U pip|升级 pip|\n",
    "|pip install SomePackage|安装包的最新版本|\n",
    "|pip install SomePackage==1.0.4|安装包的指定版本|\n",
    "|pip install 'SomePackage>=1.0.4'|安装包的最小版本|\n",
    "|pip install --upgrade SomePackage|升级包|\n",
    "|pip uninstall SomePackage|卸载包|\n",
    "|pip search SomePackage|搜索包|\n",
    "|pip show -f SomePackage|查看指定包的详细信息|\n",
    "|pip list|列出已安装的包|\n",
    "|pip list -o|查看可升级的包|"
   ]
  },
  {
   "cell_type": "code",
   "execution_count": null,
   "metadata": {},
   "outputs": [],
   "source": [
    "pip --help"
   ]
  },
  {
   "cell_type": "code",
   "execution_count": null,
   "metadata": {},
   "outputs": [],
   "source": [
    "pip list"
   ]
  },
  {
   "cell_type": "markdown",
   "metadata": {},
   "source": [
    "## 11.2 包\n",
    "* **包**或**分析工具库**实际上就是一堆模块或子包的集合，是一个有层次的文件目录结构。\n",
    "\n",
    "### 11.2.1 包的组成与调用\n",
    "\n",
    "### （1）包的组成与创建\n",
    "* 包其实就是按照文件目录来组织模块的一种方法。\n",
    "* 每个包目录下都**必须**会有一个\\_\\_init\\_\\_.py文件：\n",
    "    * 该文件可以是空文件，也可含有Python代码；\n",
    "    * \\_\\_init\\_\\_.py文件本身就是一个模块，其模块名为包名。\n",
    "* 当包的目录有多级时就形成了多级层次的包结构。\n",
    "\n",
    "#### 例：创建一个名为mypkg的包。\n",
    "* 第1步：新建一个文件夹，名为mypkg。\n",
    "* 第2步：在mypkg文件夹下新建一个空的\\_\\_init\\_\\_.py文件。\n",
    "* 第3步：在mypkg文件夹下新建若干个*.py文件。如：分别命名为a.py、b.py和anyname.py。\n",
    "\n",
    "#### 这样就可得到一个名为mypkg的包，其含有三个模块：mypkg.a、mypkg.b和mypkg.anyname。"
   ]
  },
  {
   "cell_type": "markdown",
   "metadata": {},
   "source": [
    "### （2）包的调用\n",
    "* 包的导入和使用，与模块的导入和使用没有本质区别。\n",
    "\n",
    "#### 例：导入mypkg包中的anyname模块。"
   ]
  },
  {
   "cell_type": "code",
   "execution_count": null,
   "metadata": {},
   "outputs": [],
   "source": [
    "import mypkg.anyname"
   ]
  },
  {
   "cell_type": "code",
   "execution_count": null,
   "metadata": {},
   "outputs": [],
   "source": [
    "from mypkg import anyname"
   ]
  },
  {
   "cell_type": "markdown",
   "metadata": {},
   "source": [
    "### 11.2.2 常用的数据分析工具库\n",
    "\n",
    "#### （1）scipy：用于科学计算的重要工具\n",
    "\n",
    "#### （2）statsmodels：探索性数据分析、统计检验及统计模型估计的类和函数\n",
    "\n",
    "#### （3）sklearn：机器学习\n",
    "* sklearn是建立在numpy、scipy和matplotlib基础上的，因此安装时需事先安装这三个模块。\n",
    "\n",
    "#### （4）tensorflow：第二代深度学习开源框架\n",
    "* 包括：自然语言处理、机器翻译、图像描述、图像分类等。\n",
    "\n",
    "#### 表11-2：常见第三方数据分析包或工具库及其功能"
   ]
  }
 ],
 "metadata": {
  "kernelspec": {
   "display_name": "Python 3",
   "language": "python",
   "name": "python3"
  },
  "language_info": {
   "codemirror_mode": {
    "name": "ipython",
    "version": 3
   },
   "file_extension": ".py",
   "mimetype": "text/x-python",
   "name": "python",
   "nbconvert_exporter": "python",
   "pygments_lexer": "ipython3",
   "version": "3.8.3"
  }
 },
 "nbformat": 4,
 "nbformat_minor": 4
}
