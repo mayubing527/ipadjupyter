{
 "cells": [
  {
   "cell_type": "markdown",
   "metadata": {},
   "source": [
    "# 第12章 文件I/O\n",
    "* I/O(input or output)：包括数据输入输出和文件操作。\n",
    "\n",
    "## 12.1 数据输入输出\n",
    "* 数据输入输出包主要包括：\n",
    "    * （1）print()函数\n",
    "    * （2）input()函数\n",
    "    * （3）raw_input()函数*\n",
    "\n",
    "### 12.1.1 print函数\n",
    "* print函数将传递的表达式参数转换成一个**字符串表达式**并输出；\n",
    "    * 若有多个表达式则用逗号隔开即可；\n",
    "    * sep参数：多个逗号隔开的表达式拼接为一个字符串时的间隔符号，默认为空格；\n",
    "    * end参数：print输出字符串的结尾符号，默认为换行符\\\\n。"
   ]
  },
  {
   "cell_type": "code",
   "execution_count": 2,
   "metadata": {},
   "outputs": [],
   "source": [
    "?print"
   ]
  },
  {
   "cell_type": "code",
   "execution_count": 3,
   "metadata": {},
   "outputs": [
    {
     "name": "stdout",
     "output_type": "stream",
     "text": [
      "a=1?"
     ]
    }
   ],
   "source": [
    "a=1\n",
    "print(\"a\",a,sep=\"=\",end=\"?\")"
   ]
  },
  {
   "cell_type": "markdown",
   "metadata": {},
   "source": [
    "### 12.1.2 input函数\n",
    "* Python3.x中input()函数接受一个标准输入数据，返回为string类型。"
   ]
  },
  {
   "cell_type": "code",
   "execution_count": 13,
   "metadata": {},
   "outputs": [
    {
     "name": "stdout",
     "output_type": "stream",
     "text": [
      "请输入：[x*5 for x in range(2,10,2)]\n",
      "你输入的内容是: [x*5 for x in range(2,10,2)]\n"
     ]
    }
   ],
   "source": [
    "str=input(\"请输入：\")\n",
    "print(\"你输入的内容是:\", str)"
   ]
  },
  {
   "cell_type": "markdown",
   "metadata": {},
   "source": [
    "## 12.2 文件操作\n",
    "* 文件操作主要包括：\n",
    "    * （1）open函数\n",
    "    * （2）file对象\n",
    "    * （3）内置os模块的目录、文件操作\n",
    "\n",
    "### 12.2.1 open函数\n",
    "* open()函数用于打开一个文件，并创建一个file对象。其基本语法为：  \n",
    "**open(file_name [,access_mode][,buffering])**\n",
    "* file_name：一个包含要访问的文件名称的字符串，即文件的绝对路径。\n",
    "* buffering：\n",
    "* access_mode：打开文件的模式，所有可取值如表12-1所示。\n",
    "\n",
    "#### 表12-1：文件读取模式\n",
    "|mode|作用|\n",
    "|--|--|\n",
    "|r|**默认模式**，以只读方式打开文件，文件的指针将会放在文件的开头|\n",
    "|r+|打开一个文件用于读写，文件的指针将会放在文件的开头|\n",
    "|w|打开一个文件只用于写入。如果该文件已存在则将其覆盖；如该文件不存在则创建新文件|\n",
    "|w+|打开一个文件用于读写。如果该文件已存在则将其覆盖；如该文件不存在则创建新文件|"
   ]
  },
  {
   "cell_type": "code",
   "execution_count": null,
   "metadata": {},
   "outputs": [],
   "source": [
    "f=open(\"food.txt\", \"w\")  #在当前工作目录中打开一个文件 "
   ]
  },
  {
   "cell_type": "markdown",
   "metadata": {},
   "source": [
    "### 12.2.2 file对象\n",
    "\n",
    "#### （1）file对象的属性\n",
    "* 文件被打开之后，就得到一个file对象，其主要属性有：\n",
    "    * closed：如果文件已被关闭则返回True，否则返回False；\n",
    "    * mode：返回被打开文件的访问模式；\n",
    "    * name：返回文件的名称。"
   ]
  },
  {
   "cell_type": "code",
   "execution_count": null,
   "metadata": {},
   "outputs": [],
   "source": [
    "type(f)  #f是一个file对象"
   ]
  },
  {
   "cell_type": "code",
   "execution_count": null,
   "metadata": {},
   "outputs": [],
   "source": [
    "f.closed"
   ]
  },
  {
   "cell_type": "code",
   "execution_count": null,
   "metadata": {},
   "outputs": [],
   "source": [
    "f.mode"
   ]
  },
  {
   "cell_type": "code",
   "execution_count": null,
   "metadata": {},
   "outputs": [],
   "source": [
    "f.name"
   ]
  },
  {
   "cell_type": "markdown",
   "metadata": {},
   "source": [
    "#### （2）file对象的方法\n",
    "* **file对象的主要操作方法**有：\n",
    "    * close()：刷新缓冲区里任何未写入的信息，并关闭文件。\n",
    "    * read()：从打开文件中读取指定长度的字符串。\n",
    "    * readlines()：从打开文件中读取指定长度的每一行作为元素的列表。\n",
    "    * write()：将字符串写入打开文件。\n",
    "    * tell()：返回文件内的当前位置。\n",
    "    * seek(offset [,from])：改变当前文件的位置。"
   ]
  },
  {
   "cell_type": "code",
   "execution_count": null,
   "metadata": {},
   "outputs": [],
   "source": [
    "f.write(\"西安火锅真棒。\\n我喜欢西安的火锅!!\\n\")  #在文件中写入两行话\n",
    "f.close()  #关闭打开的文件"
   ]
  },
  {
   "cell_type": "markdown",
   "metadata": {},
   "source": [
    "### 12.2.3 os模块\n",
    "* Python中的os模块提供了执行文件及目录（文件夹）处理操作的方法。\n",
    "\n",
    "|os模块中的方法|功能|\n",
    "|--|--|\n",
    "|os.sep|取代操作系统特定的路径分隔符|\n",
    "|os.name|指示你正在使用的工作平台。比如对于Windows，它是'nt'，而对于Linux/Unix用户，它是'posix'。|\n",
    "|os.getcwd()|得到当前工作目录，即当前python脚本工作的目录路径|\n",
    "|os.listdir()|返回指定目录下的所有文件和目录名|\n",
    "|os.remove(file)|删除一个文件|\n",
    "|os.stat(file)|获得文件属性|\n",
    "|os.mkdir(name)|创建目录|\n",
    "|os.rmdir(name)|删除目录|\n",
    "|os.exit()|终止当前进程|\n",
    "|os.listdir(dirname)|列出dirname下的目录和文件|\n",
    "|os.getcwd()|获得当前工作目录|\n",
    "|os.curdir|返回当前目录（'.'）|\n",
    "|os.chdir(dirname)|改变工作目录到dirname|\n",
    "|os.path.basename(path)|返回文件名|\n",
    "|os.path.dirname(path)|返回文件路径|"
   ]
  },
  {
   "cell_type": "code",
   "execution_count": null,
   "metadata": {},
   "outputs": [],
   "source": [
    "import os\n",
    "os.getcwd()  #查看现在的工作目录\n",
    "os.chdir('XXXXX')  #此处请将路径换成自己电脑中数据的存放位置\n",
    "os.getcwd()  #重新查看"
   ]
  },
  {
   "cell_type": "markdown",
   "metadata": {},
   "source": [
    "* 更多关于os模块的文件处理操作方法，请自行查阅相关文档学习。"
   ]
  }
 ],
 "metadata": {
  "kernelspec": {
   "display_name": "Python 3",
   "language": "python",
   "name": "python3"
  },
  "language_info": {
   "codemirror_mode": {
    "name": "ipython",
    "version": 3
   },
   "file_extension": ".py",
   "mimetype": "text/x-python",
   "name": "python",
   "nbconvert_exporter": "python",
   "pygments_lexer": "ipython3",
   "version": "3.8.3"
  }
 },
 "nbformat": 4,
 "nbformat_minor": 4
}
