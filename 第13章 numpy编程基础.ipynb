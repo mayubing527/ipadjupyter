{
 "cells": [
  {
   "cell_type": "markdown",
   "metadata": {},
   "source": [
    "# 第13章 numpy编程基础\n",
    "* 利用Python进行数据分析，主要用到numpy、panda、scipy、matplotlib、statsmodels、sklearn等包或分析工具库。\n",
    "\n",
    "## 13.1 关于numpy\n",
    "* **numpy**(Numerical Python)工具库：提供便于进行数据分析的数据结构，如向量、数组、矩阵等。\n",
    "* Numpy本身并没有提供很多高级的数据分析功能，但是Numpy却成为了数据科学实践中最常用的模块。\n",
    "    * 其原因是它是众多数据科学模块所需要的基础模块。\n",
    "\n",
    "### 13.1.1 numpy的安装\n",
    "* 一般安装Python时会自动安装numpy工具库。\n",
    "* 安装numpy最简单的方法就是使用pip安装包的命令："
   ]
  },
  {
   "cell_type": "code",
   "execution_count": null,
   "metadata": {},
   "outputs": [],
   "source": [
    "#pip3 install --user numpy"
   ]
  },
  {
   "cell_type": "markdown",
   "metadata": {},
   "source": [
    "### 13.1.2 导入numpy\n",
    "* numpy在使用前需要用import语句导入："
   ]
  },
  {
   "cell_type": "code",
   "execution_count": null,
   "metadata": {},
   "outputs": [],
   "source": [
    "from numpy import *"
   ]
  },
  {
   "cell_type": "markdown",
   "metadata": {},
   "source": [
    "* 为了更简洁的调用numpy中的模块或函数，通常会在导入的同时对numpy重命名为np："
   ]
  },
  {
   "cell_type": "code",
   "execution_count": null,
   "metadata": {},
   "outputs": [],
   "source": [
    "import numpy as np  #重命名模块名"
   ]
  },
  {
   "cell_type": "markdown",
   "metadata": {},
   "source": [
    "### 13.1.3 numpy的矢量化运算\n",
    "* numpy可以不用循环直接对数据执行**矢量化运算**(vectorization)。\n",
    "\n",
    "#### 例：使用Python基本库中的列表存储数据，并进行每个数据都乘以2的运算过程如下："
   ]
  },
  {
   "cell_type": "code",
   "execution_count": null,
   "metadata": {},
   "outputs": [],
   "source": [
    "list_data=[1,2,3,4,5]\n",
    "for i in range(len(list_data)):\n",
    "    list_data[i]*=2\n",
    "list_data"
   ]
  },
  {
   "cell_type": "markdown",
   "metadata": {},
   "source": [
    "* numpy中提供的数据类型可以实现元素级别的操作。"
   ]
  },
  {
   "cell_type": "code",
   "execution_count": null,
   "metadata": {},
   "outputs": [],
   "source": [
    "numpy_data=np.array([1,2,3,4,5])\n",
    "2*numpy_data"
   ]
  },
  {
   "cell_type": "markdown",
   "metadata": {},
   "source": [
    "* 这种特性在数据分析过程中会极大地提升运算效率。\n",
    "\n",
    "#### 例：分别利用Python基本库和numpy工具库定义功能相同的函数，对比其运行时间。"
   ]
  },
  {
   "cell_type": "code",
   "execution_count": null,
   "metadata": {},
   "outputs": [],
   "source": [
    "def Python_multi(n):\n",
    "    a=b=list(range(n))\n",
    "    c=[]\n",
    "    for i in range(len(a)):\n",
    "        a[i]=i**2\n",
    "        b[i]=i**3\n",
    "        c.append(a[i]*b[i])\n",
    "    return c\n",
    "\n",
    "def numpy_multi(n):\n",
    "    c=np.arange(n)**2*np.arange(n)**3\n",
    "    return c"
   ]
  },
  {
   "cell_type": "code",
   "execution_count": null,
   "metadata": {},
   "outputs": [],
   "source": [
    "%timeit Python_multi(10000)\n",
    "%timeit numpy_multi(10000)"
   ]
  },
  {
   "cell_type": "markdown",
   "metadata": {},
   "source": [
    "### 13.1.4 数组对象ndarray\n",
    "* Numpy提供了两种基本对象：ndarray和ufunc。\n",
    "    * ndarray为数组，其特点是只能存储单一数据类型；\n",
    "    * ufunc是对数组进行处理的函数。\n",
    "* 数组对象ndarray是numpy最为核心的数据结构。\n",
    "* **数组的元素一般是同质的**，但可以有异质数组元素存在（即：结构数组）。\n",
    "\n",
    "### 数组的创建：\n",
    "* numpy中常用的创建数组的函数：\n",
    "\n",
    "|函数|功能|\n",
    "|--|--|\n",
    "|**array**|将输入数据（列表、元组、数组或其他序列）转换成ndarray|\n",
    "|asarray|将输入转换为ndarray|\n",
    "|arange|类似Python内置的range，但返回一个ndarray是不可迭代对象|\n",
    "|linspace|创建等差数列一维数组|\n",
    "|logspace|创建等比数列一维数组|\n",
    "|ones|根据指定形状和dtype创建一个数据全为1的数组|\n",
    "|zeros|根据指定形状和dtype创建一个数据全为0的数组|\n",
    "|eye或identity|创建单位阵|\n",
    "|fromfunction|通过指定函数创建数组|\n",
    "\n",
    "* 对于上述函数都可以用help()或?来查询帮助文件。"
   ]
  },
  {
   "cell_type": "code",
   "execution_count": null,
   "metadata": {},
   "outputs": [],
   "source": [
    "?np.array"
   ]
  },
  {
   "cell_type": "code",
   "execution_count": null,
   "metadata": {},
   "outputs": [],
   "source": [
    "a1=np.array([1,2,10,4])  #利用列表构建一维数组，可以理解为列向量\n",
    "a1"
   ]
  },
  {
   "cell_type": "code",
   "execution_count": null,
   "metadata": {},
   "outputs": [],
   "source": [
    "a2=np.array([[1,2,3,4],[4,15,6,17]])  #利用列表构建二维数组，可以理解为矩阵\n",
    "a2"
   ]
  },
  {
   "cell_type": "code",
   "execution_count": null,
   "metadata": {},
   "outputs": [],
   "source": [
    "a3=np.array([(1,2,3,4),(4,15,6,17)])  #利用元组构建二维数组，可以理解为矩阵\n",
    "a3"
   ]
  },
  {
   "cell_type": "markdown",
   "metadata": {},
   "source": [
    "* 创建好的数组，作为一个数据类型是有自己的属性变量的。\n",
    "    * ndim：表示数组的维度\n",
    "    * shape：表示数组的维度，即行列数\n",
    "    * size：表示数组中元素的总个数\n",
    "    * dtype：表示数组中元素的数据类型"
   ]
  },
  {
   "cell_type": "code",
   "execution_count": null,
   "metadata": {},
   "outputs": [],
   "source": [
    "print(a1.ndim)\n",
    "print(a1.shape)\n",
    "print(a1.size)\n",
    "print(a1.dtype)"
   ]
  },
  {
   "cell_type": "code",
   "execution_count": null,
   "metadata": {},
   "outputs": [],
   "source": [
    "print(a2.ndim)\n",
    "print(a2.shape)\n",
    "print(a2.size)\n",
    "print(a2.dtype)"
   ]
  },
  {
   "cell_type": "code",
   "execution_count": null,
   "metadata": {},
   "outputs": [],
   "source": [
    "def add(i,j): return(i+j)\n",
    "np.fromfunction(add,(5,5))  #第二个参数(5,5)表示数组的维度shape，同时其也作为实参传入add函数中。"
   ]
  },
  {
   "cell_type": "markdown",
   "metadata": {},
   "source": [
    "* **注意：因为数组的shape属性值是二维的，因此np.fromfunction(func,shape=(a,b))中func函数的参数个数必须是两个**。"
   ]
  },
  {
   "cell_type": "markdown",
   "metadata": {},
   "source": [
    "## 13.2 向量\n",
    "* **向量：即一维数组**。\n",
    "\n",
    "|常用创建向量的函数|功能|格式|\n",
    "|--|--|--|\n",
    "|array|将输入数据（列表、元组、数组或其他序列）转换成ndarray|np.array(object)|\n",
    "|arange|类似Python内置的range，但返回一个ndarray是不可迭代对象|np.arange([start],end[,step)]|\n",
    "|linspace|创建等差数列一维数组|np.linspace(start,end,num=50)|\n",
    "|logspace|创建等比数列一维数组|np.logspace(start,end,num=50)|\n",
    "|ones|根据指定形状和dtype创建一个数据全为1的数组|np.ones(shape,dtype)|\n",
    "|zeros|根据指定形状和dtype创建一个数据全为0的数组|np.zeros(shape,dtype)|\n",
    "|empty|创建一个内容随机并且依赖于内存状态的向量||\n",
    "|random|创建随机数向量，如random.randn创建正态分布随机数||\n",
    "|fromstring|根据字符的ASCII编码将字符串转换为向量|np.fromstring(string,dtype=float)|\n",
    "\n",
    "* 用**arange函数**创建向量是最简单最常用的方式之一。\n",
    "* arange函数的用法类似于range函数，可以通过指定**初始值、终止值**和**步长**来创建一维数组。"
   ]
  },
  {
   "cell_type": "code",
   "execution_count": null,
   "metadata": {},
   "outputs": [],
   "source": [
    "v=np.arange(0,10,2)\n",
    "v"
   ]
  },
  {
   "cell_type": "code",
   "execution_count": null,
   "metadata": {},
   "outputs": [],
   "source": [
    "s=\"123 ABC abc\"\n",
    "np.fromstring(s, dtype=np.int8)"
   ]
  },
  {
   "cell_type": "code",
   "execution_count": null,
   "metadata": {},
   "outputs": [],
   "source": [
    "np.fromstring(s, dtype=np.int8, sep=' ')  #空格作为元素分隔符"
   ]
  },
  {
   "cell_type": "code",
   "execution_count": null,
   "metadata": {},
   "outputs": [],
   "source": [
    "np.fromstring(\"1 2 3\", dtype=np.int8, sep=' ')"
   ]
  },
  {
   "cell_type": "markdown",
   "metadata": {},
   "source": [
    "* **向量的矢量化运算**：向量可以直接对每一个元素进行运算。"
   ]
  },
  {
   "cell_type": "code",
   "execution_count": null,
   "metadata": {},
   "outputs": [],
   "source": [
    "v=np.arange(0,10,2)\n",
    "v*10"
   ]
  },
  {
   "cell_type": "markdown",
   "metadata": {},
   "source": [
    "## 13.3 数组\n",
    "* **数组**(ndarray)由实际数据和描述这些数据的元数据组成。如："
   ]
  },
  {
   "cell_type": "code",
   "execution_count": null,
   "metadata": {},
   "outputs": [],
   "source": [
    "a=np.array([np.arange(3),np.arange(3)])\n",
    "print(a)\n",
    "print(a.shape)\n",
    "print(a.ndim)"
   ]
  },
  {
   "cell_type": "markdown",
   "metadata": {},
   "source": [
    "* 数组可以由列表、元组等序列构造；\n",
    "* 数组也可以通过**tolist方法**转换为列表。"
   ]
  },
  {
   "cell_type": "code",
   "execution_count": null,
   "metadata": {},
   "outputs": [],
   "source": [
    "print(a.tolist())\n",
    "type(a.tolist())"
   ]
  },
  {
   "cell_type": "markdown",
   "metadata": {},
   "source": [
    "### 13.3.1 数据类型和结构数组\n",
    "\n",
    "### （1）数组的数据类型\n",
    "* Numpy中提供了逻辑、整数、浮点数等多种数据类型，并且每种数据类型的名称均对应其转换函数。\n",
    "* 可以使用“**np.数据类型()**”的方式**直接转换**对应类型的数据对象："
   ]
  },
  {
   "cell_type": "code",
   "execution_count": null,
   "metadata": {},
   "outputs": [],
   "source": [
    "np.float(50) # 返回值50.0"
   ]
  },
  {
   "cell_type": "code",
   "execution_count": null,
   "metadata": {},
   "outputs": [],
   "source": [
    "np.int(50.35)# 返回值50"
   ]
  },
  {
   "cell_type": "markdown",
   "metadata": {},
   "source": [
    "#### 表13-1：numpy数据类型及其符号\n",
    "\n",
    "|数据类型|描述|符号表示|\n",
    "|--|--|--|\n",
    "|bool\\_|布尔|?|\n",
    "|int8|8位整数，即-128~127的整数|i|\n",
    "|uint8|0~255无符号整数|u|\n",
    "|float16|5位指数10位尾数的半精度浮点数|f|\n",
    "|str\\_|字符型|U|"
   ]
  },
  {
   "cell_type": "markdown",
   "metadata": {},
   "source": [
    "### （2）结构数组\n",
    "* **数组的数据类型也可以有用户自己定义。**\n",
    "* 自定义数据类型是一种**异质结构**数据类型，通常用来记录一行数据或一系列数据，即**结构数组**。\n",
    "* **结构数据的定义方式：先定义dtype类型，再定义结构数组**。\n",
    "* 而**dtype类型的声明方式**主要有两种：\n",
    "    * 直接声明：np.dtype([(列标题1,数据类型1),(列标题2,数据类型2),…])\n",
    "    * 借用字典：np.dtype({\"names\":[列标题1,列标题2,…], \"formats\":[数据类型1,数据类型2,…]})\n",
    "\n",
    "#### 例：要创建一个火锅团购的信息清单，它包含的字段有团购名称、团购人数与团购价。\n",
    "* 第一步：使用dtype函数字来定义这些字段的类型。"
   ]
  },
  {
   "cell_type": "code",
   "execution_count": null,
   "metadata": {},
   "outputs": [],
   "source": [
    "hot=np.dtype([('name',np.str_,10),('number',np.int64),('price',np.float64)])\n",
    "hot"
   ]
  },
  {
   "cell_type": "code",
   "execution_count": null,
   "metadata": {},
   "outputs": [],
   "source": [
    "hot=np.dtype({\"names\":['name','number','price'], \"formats\":[(np.str_,10),np.int64,np.float64]})\n",
    "hot"
   ]
  },
  {
   "cell_type": "markdown",
   "metadata": {},
   "source": [
    "* 第2步：定义好数据类型之后，就可以构造结构数据了。\n",
    "* 这是类似我们平时数据分析的数据形式。"
   ]
  },
  {
   "cell_type": "code",
   "execution_count": null,
   "metadata": {},
   "outputs": [],
   "source": [
    "hotbuy=np.array([('双人餐','35','98'),('100元代金券','43','79'),('酸汤鱼火锅','1','165')])\n",
    "hotbuy"
   ]
  },
  {
   "cell_type": "code",
   "execution_count": null,
   "metadata": {},
   "outputs": [],
   "source": [
    "hotbuy=np.array([('双人餐','35','98'),('100元代金券','43','79'),('酸汤鱼火锅','1','165')],dtype=hot)\n",
    "hotbuy"
   ]
  },
  {
   "cell_type": "markdown",
   "metadata": {},
   "source": [
    "### 13.3.2 索引与切片\n",
    "* 数组的索引主要包括以下几种：\n",
    "    1. 基本索引\n",
    "    * 逻辑索引\n",
    "    * 花式索引\n",
    "\n",
    "#### 13.3.2.1 基本索引与切片\n",
    "* 数组的索引与切片与Python基础库中序列的索引与切片方式完全一样：\n",
    "    * 数值“0,1,2,…”或“-1,-2,…”表示索引；\n",
    "    * 用**中括号**“[]”选定下标来实现；\n",
    "    * 同时采用**冒号**“:”分隔起止位置和步长。"
   ]
  },
  {
   "cell_type": "code",
   "execution_count": null,
   "metadata": {},
   "outputs": [],
   "source": [
    "a=np.arange(1,10,1)\n",
    "print(a)\n",
    "print(a[3])\n",
    "print(a[1:4])\n",
    "print(a[:2])\n",
    "print(a[-2])\n",
    "print(a[::-1])"
   ]
  },
  {
   "cell_type": "markdown",
   "metadata": {},
   "source": [
    "* 对于**多维数组**还有其他符号用于索引和切片：\n",
    "    * 用**逗号**“,”表示不同维度；\n",
    "    * 用“...”表示遍历剩下的维度。"
   ]
  },
  {
   "cell_type": "code",
   "execution_count": null,
   "metadata": {},
   "outputs": [],
   "source": [
    "b=np.arange(24).reshape(2,3,4)  #使用数组的reshape方法需要注意，元素总数一定要满足切分条件\n",
    "print(b)\n",
    "print(b.shape)"
   ]
  },
  {
   "cell_type": "code",
   "execution_count": null,
   "metadata": {},
   "outputs": [],
   "source": [
    "b[1,2,3]  #选择第2层第3行第4列的元素"
   ]
  },
  {
   "cell_type": "code",
   "execution_count": null,
   "metadata": {},
   "outputs": [],
   "source": [
    "b[0,2,1:2]"
   ]
  },
  {
   "cell_type": "code",
   "execution_count": null,
   "metadata": {},
   "outputs": [],
   "source": [
    "b[0,2,:]"
   ]
  },
  {
   "cell_type": "code",
   "execution_count": null,
   "metadata": {},
   "outputs": [],
   "source": [
    "b[0,2]"
   ]
  },
  {
   "cell_type": "code",
   "execution_count": null,
   "metadata": {},
   "outputs": [],
   "source": [
    "b[0,:,:]"
   ]
  },
  {
   "cell_type": "code",
   "execution_count": null,
   "metadata": {},
   "outputs": [],
   "source": [
    "b[0,...]  #多个冒号可以用...代替"
   ]
  },
  {
   "cell_type": "code",
   "execution_count": null,
   "metadata": {},
   "outputs": [],
   "source": [
    "b[...]"
   ]
  },
  {
   "cell_type": "code",
   "execution_count": null,
   "metadata": {},
   "outputs": [],
   "source": [
    "b[0,::2,-2]  #用步长实现间隔选取元素"
   ]
  },
  {
   "cell_type": "markdown",
   "metadata": {},
   "source": [
    "* **结构数组可以直接使用字段名进行索引和切片**。"
   ]
  },
  {
   "cell_type": "code",
   "execution_count": null,
   "metadata": {},
   "outputs": [],
   "source": [
    "print(hotbuy)\n",
    "hotbuy[\"name\"]"
   ]
  },
  {
   "cell_type": "code",
   "execution_count": null,
   "metadata": {},
   "outputs": [],
   "source": [
    "hotbuy[\"name\"][2]"
   ]
  },
  {
   "cell_type": "code",
   "execution_count": null,
   "metadata": {},
   "outputs": [],
   "source": [
    "hotbuy[2][\"name\"]"
   ]
  },
  {
   "cell_type": "markdown",
   "metadata": {},
   "source": [
    "#### 13.3.2.2 逻辑索引\n",
    "* **逻辑索引**：即**布尔型索引**或**条件索引**，可以通过指定**布尔数组**或**条件**进行索引。"
   ]
  },
  {
   "cell_type": "code",
   "execution_count": null,
   "metadata": {},
   "outputs": [],
   "source": [
    "print(b)\n",
    "b[b>=15]"
   ]
  },
  {
   "cell_type": "code",
   "execution_count": null,
   "metadata": {},
   "outputs": [],
   "source": [
    "b[~(b>=15)]"
   ]
  },
  {
   "cell_type": "code",
   "execution_count": null,
   "metadata": {},
   "outputs": [],
   "source": [
    "b[(b>=15) & (b<=15)]"
   ]
  },
  {
   "cell_type": "markdown",
   "metadata": {},
   "source": [
    "* 一般情况下，**逻辑运算符**and、or和not在布尔数组中无效；\n",
    "    * 因为其不能产生于数组等维度的布尔序列。\n",
    "* 但当其表达式的值是数值时，是有效的；\n",
    "    * 此时是作为一般索引而非逻辑索引。"
   ]
  },
  {
   "cell_type": "code",
   "execution_count": null,
   "metadata": {},
   "outputs": [],
   "source": [
    "b[0,(1 and 2)]"
   ]
  },
  {
   "cell_type": "code",
   "execution_count": null,
   "metadata": {},
   "outputs": [],
   "source": [
    "1 and 2"
   ]
  },
  {
   "cell_type": "markdown",
   "metadata": {},
   "source": [
    "#### 例：创建一个**布尔型数组**，将其用于对数组b的布尔型索引。"
   ]
  },
  {
   "cell_type": "code",
   "execution_count": null,
   "metadata": {},
   "outputs": [],
   "source": [
    "b_bool1=np.array([False,True], dtype=bool)\n",
    "b[b_bool1]"
   ]
  },
  {
   "cell_type": "code",
   "execution_count": null,
   "metadata": {},
   "outputs": [],
   "source": [
    "b_bool2=np.array([False,True,True], dtype=bool)\n",
    "b[b_bool1,b_bool2]"
   ]
  },
  {
   "cell_type": "code",
   "execution_count": null,
   "metadata": {},
   "outputs": [],
   "source": [
    "b_bool3=np.array([False,True,True,False], dtype=bool)\n",
    "b[b_bool1,b_bool2,b_bool3]"
   ]
  },
  {
   "cell_type": "markdown",
   "metadata": {},
   "source": [
    "#### 13.3.2.3 花式索引\n",
    "* **花式索引**：利用整数数组进行索引，其可使用指定顺序对数组提取子集。"
   ]
  },
  {
   "cell_type": "code",
   "execution_count": null,
   "metadata": {},
   "outputs": [],
   "source": [
    "print(b)\n",
    "b[[[0],[1,2],[3]]]  #相当于[0,1,3]和[0,2,3]，共选出1*2*1=2个元素"
   ]
  },
  {
   "cell_type": "markdown",
   "metadata": {},
   "source": [
    "* **ix_函数**可以将若干一维整数数组转换为一个用于选取矩形区域的索引器；\n",
    "    * 目的：避免输入很多中括号。"
   ]
  },
  {
   "cell_type": "code",
   "execution_count": null,
   "metadata": {},
   "outputs": [],
   "source": [
    "np.ix_([1,0],[2,1],[0,3,2])"
   ]
  },
  {
   "cell_type": "code",
   "execution_count": null,
   "metadata": {},
   "outputs": [],
   "source": [
    "b[np.ix_([1,0],[2,1],[0,3,2])]  #共选出2*2*3=12个元素"
   ]
  },
  {
   "cell_type": "markdown",
   "metadata": {},
   "source": [
    "* 数组切片是原始数组的视图(view)，该视图与原始数组存在**绑定**关系。\n",
    "    * 即：视图上的任何修改都会直接反映到原始数组中。"
   ]
  },
  {
   "cell_type": "code",
   "execution_count": null,
   "metadata": {},
   "outputs": [],
   "source": [
    "b=np.arange(24).reshape(2,3,4)\n",
    "b_slice=b[0,1,1:3]\n",
    "b_slice"
   ]
  },
  {
   "cell_type": "code",
   "execution_count": null,
   "metadata": {},
   "outputs": [],
   "source": [
    "b_slice[1]=666\n",
    "b_slice"
   ]
  },
  {
   "cell_type": "code",
   "execution_count": null,
   "metadata": {},
   "outputs": [],
   "source": [
    "b"
   ]
  },
  {
   "cell_type": "markdown",
   "metadata": {},
   "source": [
    "* 需要数组切片是一个副本而不是视图，可以用**copy方法**进行**浅复制**。"
   ]
  },
  {
   "cell_type": "code",
   "execution_count": null,
   "metadata": {},
   "outputs": [],
   "source": [
    "b=np.arange(24).reshape(2,3,4)\n",
    "b_copy=b[0,1,1:3].copy()\n",
    "b_copy"
   ]
  },
  {
   "cell_type": "code",
   "execution_count": null,
   "metadata": {},
   "outputs": [],
   "source": [
    "b_copy[1]=666\n",
    "b_copy[1]"
   ]
  },
  {
   "cell_type": "code",
   "execution_count": null,
   "metadata": {},
   "outputs": [],
   "source": [
    "b"
   ]
  },
  {
   "cell_type": "markdown",
   "metadata": {},
   "source": [
    "### 13.3.3 数组的属性\n",
    "* 创建好的数组，作为一个数据类型是有自己的属性变量的。\n",
    "    * ndim：表示数组的维度\n",
    "    * shape：表示数组的维度，即行列数\n",
    "    * size：表示数组中元素的总个数\n",
    "    * dtype：表示数组中元素的数据类型\n",
    "    \n",
    "#### 表13-2：数组的常用属性"
   ]
  },
  {
   "cell_type": "markdown",
   "metadata": {},
   "source": [
    "### 13.3.4 数组排序\n",
    "* numpy提供了多种排序函数（**默认为升序**）：\n",
    "    * sort：返回排序后的数组\n",
    "    * lexsort：根据键值的字典序进行排序\n",
    "    * argsort：返回数组排序后的下标\n",
    "    * msort：沿着第一个轴排序\n",
    "    * sort_complex：对复数按照先实后虚的顺序进行排序\n",
    "* 此外，ndarray对象的sort方法也可以对数组进行原地排序。"
   ]
  },
  {
   "cell_type": "code",
   "execution_count": null,
   "metadata": {},
   "outputs": [],
   "source": [
    "s=np.random.randint(0,5,size=10)  #产生整数随机数\n",
    "print(s)\n",
    "np.sort(s)  #返回排序后的数组"
   ]
  },
  {
   "cell_type": "code",
   "execution_count": null,
   "metadata": {},
   "outputs": [],
   "source": [
    "print(np.argsort(s))  #返回数组排序后的下标\n",
    "print(s[np.argsort(s)])  #升序\n",
    "print(s[np.argsort(-s)])  #降序"
   ]
  },
  {
   "cell_type": "code",
   "execution_count": null,
   "metadata": {},
   "outputs": [],
   "source": [
    "s.sort()  #sort方法排序后会改变数组中元素的位置，即原地排序\n",
    "print(s)"
   ]
  },
  {
   "cell_type": "markdown",
   "metadata": {},
   "source": [
    "* 在**多维数组**中，可以指定按照数组的轴(axis)进行排序。"
   ]
  },
  {
   "cell_type": "code",
   "execution_count": null,
   "metadata": {},
   "outputs": [],
   "source": [
    "sr=np.random.randint(0,10,size=24).reshape(2,3,4)\n",
    "print(sr)"
   ]
  },
  {
   "cell_type": "code",
   "execution_count": null,
   "metadata": {},
   "outputs": [],
   "source": [
    "?np.sort"
   ]
  },
  {
   "cell_type": "code",
   "execution_count": null,
   "metadata": {},
   "outputs": [],
   "source": [
    "sr.sort(axis=-1)  #默认值axis=-1，sorts along the last axis\n",
    "print(sr)"
   ]
  },
  {
   "cell_type": "code",
   "execution_count": null,
   "metadata": {},
   "outputs": [],
   "source": [
    "sr.sort(axis=0)\n",
    "print(sr)"
   ]
  },
  {
   "cell_type": "code",
   "execution_count": null,
   "metadata": {},
   "outputs": [],
   "source": [
    "sr.sort(axis=1)\n",
    "print(sr)"
   ]
  },
  {
   "cell_type": "markdown",
   "metadata": {},
   "source": [
    "* 使用lexsort函数可以指定排序的顺序。"
   ]
  },
  {
   "cell_type": "code",
   "execution_count": null,
   "metadata": {},
   "outputs": [],
   "source": [
    "a=np.random.randint(0,5,size=6)\n",
    "b=np.random.randint(5,10,size=6)\n",
    "print(a)\n",
    "print(b)"
   ]
  },
  {
   "cell_type": "code",
   "execution_count": null,
   "metadata": {},
   "outputs": [],
   "source": [
    "ablexs=np.lexsort((b,a))  #先按a排序，再按b排序，得到排序后的下标\n",
    "ablexs"
   ]
  },
  {
   "cell_type": "code",
   "execution_count": null,
   "metadata": {},
   "outputs": [],
   "source": [
    "[(a[i],b[i]) for i in ablexs]"
   ]
  },
  {
   "cell_type": "markdown",
   "metadata": {},
   "source": [
    "### 13.3.5 数组维度\n",
    "* 数组的维度可以进行变换，如行列互换(转置)、降维等。\n",
    "* numpy中可以使用ndarray数组对象的**reshape方法**改变数组的维数。\n",
    "* ndarray数组对象的维度用其**ndim方法**实现。"
   ]
  },
  {
   "cell_type": "code",
   "execution_count": null,
   "metadata": {},
   "outputs": [],
   "source": [
    "b=np.arange(24).reshape(2,3,4)\n",
    "print(b)\n",
    "print(b.ndim)"
   ]
  },
  {
   "cell_type": "markdown",
   "metadata": {},
   "source": [
    "#### 13.3.5.1 展平\n",
    "* 展平（拉直）：将多维数组降维成一维数组（类似代数中的拉直运算）。\n",
    "    * numpy中的**raval函数**：执行后只是返回数组的一个视图；\n",
    "    * ndarray数组对象的**flatten方法**：执行后会分配内存并保存结果。"
   ]
  },
  {
   "cell_type": "code",
   "execution_count": null,
   "metadata": {},
   "outputs": [],
   "source": [
    "b1=np.ravel(b)\n",
    "print(b1)\n",
    "b1[0]=-1\n",
    "print(b1)\n",
    "print(b)"
   ]
  },
  {
   "cell_type": "code",
   "execution_count": null,
   "metadata": {},
   "outputs": [],
   "source": [
    "b2=b.flatten()\n",
    "b2[0]=-2\n",
    "print(b2)\n",
    "print(b)"
   ]
  },
  {
   "cell_type": "code",
   "execution_count": null,
   "metadata": {},
   "outputs": [],
   "source": [
    "b.reshape(1,1,24)  #类似一维数组，但本质还是多维数组"
   ]
  },
  {
   "cell_type": "markdown",
   "metadata": {},
   "source": [
    "#### 13.3.5.2 维度改变\n",
    "* 数组的维度改变方式主要有：\n",
    "    * **reshape方法**：返回数组的一个视图；\n",
    "    * **resize方法**：直接修改所操作的数组；\n",
    "    * 使用**shape属性赋值**：直接改变数组的维度或尺寸。"
   ]
  },
  {
   "cell_type": "code",
   "execution_count": null,
   "metadata": {},
   "outputs": [],
   "source": [
    "b=np.arange(24)\n",
    "print(b)\n",
    "b1=b.reshape(2,3,4)\n",
    "print(b1)"
   ]
  },
  {
   "cell_type": "code",
   "execution_count": null,
   "metadata": {},
   "outputs": [],
   "source": [
    "b1[1]=1\n",
    "print(b1)\n",
    "print(b)"
   ]
  },
  {
   "cell_type": "code",
   "execution_count": null,
   "metadata": {},
   "outputs": [],
   "source": [
    "b=np.arange(24)\n",
    "print(b)\n",
    "b.resize(2,3,4)\n",
    "print(b)"
   ]
  },
  {
   "cell_type": "code",
   "execution_count": null,
   "metadata": {},
   "outputs": [],
   "source": [
    "b.shape=(1,1,24)\n",
    "b"
   ]
  },
  {
   "cell_type": "markdown",
   "metadata": {},
   "source": [
    "#### 13.3.5.3 转置\n",
    "* 转置：是数据分析中常用的数据处理方法；\n",
    "    * 即把数组的维度(尺寸)大小互换。\n",
    "* 数组转置的实现方式主要有：\n",
    "    * 使用numpy中的**transpose函数**\n",
    "    * 数组对象的**T方法**"
   ]
  },
  {
   "cell_type": "code",
   "execution_count": null,
   "metadata": {},
   "outputs": [],
   "source": [
    "b=np.arange(24).reshape(2,3,4)\n",
    "print(b)"
   ]
  },
  {
   "cell_type": "code",
   "execution_count": null,
   "metadata": {},
   "outputs": [],
   "source": [
    "print(np.transpose(b).shape)\n",
    "print(np.transpose(b))"
   ]
  },
  {
   "cell_type": "code",
   "execution_count": null,
   "metadata": {},
   "outputs": [],
   "source": [
    "print(b.T.shape)\n",
    "print(b.T)"
   ]
  },
  {
   "cell_type": "markdown",
   "metadata": {},
   "source": [
    "### 13.3.6 数组组合\n",
    "* numpy数组的组合可以分为：\n",
    "\n",
    "\n",
    "|数组组合|功能|要求|实现函数|\n",
    "|--|--|--|--|\n",
    "|水平组合|将所有参加组合的数组进行**拼接**|各数组**行数**应相等|hstack函数|\n",
    "||||concatenate函数，其参数axis=1|\n",
    "|垂直组合|将所有参加组合的数组**追加**在一起|各数组**列数**应一致|vstack函数|\n",
    "||||concatenate函数，其参数axis=0|\n",
    "|深度组合|将参加组合的各数组相同位置的数据组合在一起|所有数组维度属性要相同|dstack函数|\n",
    "|列组合|对于一维数组按列方向进行组合||colume_stack函数|\n",
    "|行组合|对于一维数组按行方向进行组合||row_stack函数|\n",
    "\n",
    "#### 注意：\n",
    "* 行组合和列组合一般处理对象为一维数组的组合。\n",
    "* 对于二维数组，行组合和列组合分别与垂直组合和水平组合效果相同。"
   ]
  },
  {
   "cell_type": "code",
   "execution_count": null,
   "metadata": {},
   "outputs": [],
   "source": []
  },
  {
   "cell_type": "markdown",
   "metadata": {},
   "source": [
    "### 13.3.7 数组分拆\n",
    "* numpy数组的拆分可以分为：\n",
    "\n",
    "|数组分拆|功能|要求|实现函数|\n",
    "|--|--|--|--|\n",
    "|水平分拆|把数组沿水平方向进行分拆||hsplit函数|\n",
    "||||split函数，其参数axis=1|\n",
    "|垂直分拆|把数组沿垂直方向进行分拆||vsplit函数|\n",
    "||||split函数，其参数axis=0|\n",
    "|深度分拆|按照深度方向分拆数组|所分拆数组对象必须具有3个维度(含)以上|dsplit函数|\n",
    "\n",
    "#### 注意：数组分拆结果返回的是列表，而列表中的元素才是numpy数组。"
   ]
  },
  {
   "cell_type": "code",
   "execution_count": null,
   "metadata": {},
   "outputs": [],
   "source": []
  },
  {
   "cell_type": "markdown",
   "metadata": {},
   "source": [
    "### 13.3.8 ufunc运算\n",
    "* ufunc(universal function)：是一种能对数组中每个元素进行操作的函数。\n",
    "    * 具体操作包括：四则运算、比较运算以及布尔运算等。\n",
    "\n",
    "#### 13.3.8.1 函数运算、比较运算与布尔运算\n",
    "* numpy中内置了很多ufunc运算函数，大多都是C语言实现的，其计算速度都非常快。\n",
    "    * 可以使用“out=”关键字来指定函数返回结果存储在指定数组中，类似于“绑定”。\n",
    "* 具体内置函数及运算符号的列表参考：https://blog.csdn.net/unixtch/article/details/78531585"
   ]
  },
  {
   "cell_type": "code",
   "execution_count": null,
   "metadata": {},
   "outputs": [],
   "source": [
    "dir(np)"
   ]
  },
  {
   "cell_type": "code",
   "execution_count": null,
   "metadata": {},
   "outputs": [],
   "source": [
    "x=np.linspace(0,2*np.pi,10)\n",
    "y=np.sin(x)\n",
    "print(y)\n",
    "id(x)==id(y)"
   ]
  },
  {
   "cell_type": "code",
   "execution_count": null,
   "metadata": {},
   "outputs": [],
   "source": [
    "x=np.linspace(0,2*np.pi,10)\n",
    "y=np.sin(x,out=x)  #通过“out=已定义的数组名”设定返回结果存储在指定数组中，类似于“绑定”\n",
    "print(y)\n",
    "id(x)==id(y)"
   ]
  },
  {
   "cell_type": "markdown",
   "metadata": {},
   "source": [
    "#### 13.3.8.2 自定义ufunc函数\n",
    "* 通过NumPy提供的标准ufunc函数，可以组合出复杂的表达式，在C语言级别对数组的每个元素进行计算。\n",
    "* 但有时这种表达式不易编写，而对每个元素进行计算的程序却很容易用Python实现；\n",
    "    * 此时可以用**frompyfunc()**将一个计算单个元素的函数转换成ufunc函数。\n",
    "    * 这样就可以方便地用所产生的ufunc函数对数组进行计算。\n",
    "* **frompyfunc()的调用格式为：**"
   ]
  },
  {
   "cell_type": "code",
   "execution_count": null,
   "metadata": {},
   "outputs": [],
   "source": [
    "frompyfunc(func, n_in, n_out)  #其中n_in表示函数输入参数的个数，n_out表示函数返回值的个数"
   ]
  },
  {
   "cell_type": "markdown",
   "metadata": {},
   "source": [
    "#### 例：在考试中由于题目难度偏大，需要对所有人的分数进行提升，并且保持分数的相对位置不变，可以编制如下函数。"
   ]
  },
  {
   "cell_type": "code",
   "execution_count": null,
   "metadata": {},
   "outputs": [],
   "source": [
    "def liftscore(n):\n",
    "    n_new=np.sqrt((n^2) * 100)\n",
    "    return n_new"
   ]
  },
  {
   "cell_type": "markdown",
   "metadata": {},
   "source": [
    "使用frompyfunc()函数将其自定义为ufunc函数，并对数组对象进行操作。"
   ]
  },
  {
   "cell_type": "code",
   "execution_count": null,
   "metadata": {},
   "outputs": [],
   "source": [
    "score=np.array([87,77,56,100,60])\n",
    "score_1=np.frompyfunc(liftscore, 1, 1)(score)\n",
    "print(score_1)"
   ]
  },
  {
   "cell_type": "markdown",
   "metadata": {},
   "source": [
    "* **注意：frompyfunc转换的ufunc函数所返回数组的元素类型是object**。\n",
    "\n",
    "因此还需要再调用数组的**astype方法**将其转换为浮点数组。"
   ]
  },
  {
   "cell_type": "code",
   "execution_count": null,
   "metadata": {},
   "outputs": [],
   "source": [
    "score_1 = score_1.astype(float)\n",
    "print(score_1.dtype)"
   ]
  },
  {
   "cell_type": "markdown",
   "metadata": {},
   "source": [
    "#### 13.3.8.3 广播\n",
    "* 先看个例子："
   ]
  },
  {
   "cell_type": "code",
   "execution_count": null,
   "metadata": {},
   "outputs": [],
   "source": [
    "a=np.arange(0,60,10).reshape(-1,1)\n",
    "b=np.arange(0,5)\n",
    "print(a)\n",
    "print(b)"
   ]
  },
  {
   "cell_type": "markdown",
   "metadata": {},
   "source": [
    "现在计算a+b，不过现在有一个问题，a和b的维度不一样，那应该怎么加？"
   ]
  },
  {
   "cell_type": "code",
   "execution_count": null,
   "metadata": {},
   "outputs": [],
   "source": [
    "a+b"
   ]
  },
  {
   "cell_type": "markdown",
   "metadata": {},
   "source": [
    "结果来看，是用a的每一行的元素（这里a为列向量，每一行只有一个元素）与b的每一个元素相加，相当于："
   ]
  },
  {
   "cell_type": "code",
   "execution_count": null,
   "metadata": {},
   "outputs": [],
   "source": [
    "a=array([[ 0,  0,  0,  0,  0],\n",
    "       [10, 10, 10, 10, 10],\n",
    "       [20, 20, 20, 20, 20],\n",
    "       [30, 30, 30, 30, 30],\n",
    "       [40, 40, 40, 40, 40],\n",
    "       [50, 50, 50, 50, 50]])"
   ]
  },
  {
   "cell_type": "markdown",
   "metadata": {},
   "source": [
    "而b是一个行向量，现在我们将这一个行向量重复6次，和a的第0轴长度相同，构成一个二维数组，相当于："
   ]
  },
  {
   "cell_type": "code",
   "execution_count": null,
   "metadata": {},
   "outputs": [],
   "source": [
    "b=array([[0, 1, 2, 3, 4],\n",
    "       [0, 1, 2, 3, 4],\n",
    "       [0, 1, 2, 3, 4],\n",
    "       [0, 1, 2, 3, 4],\n",
    "       [0, 1, 2, 3, 4],\n",
    "       [0, 1, 2, 3, 4]])"
   ]
  },
  {
   "cell_type": "markdown",
   "metadata": {},
   "source": [
    "现在，再进行相加，自然就是对用元素相加了，也就是上面的结果，这就是numpy中的广播，对进行运算的两个narray对象shape不一样时，进行的维度补齐。\n",
    "\n",
    "* 总的来说，**numpy的广播规则基于下面4个规则**：\n",
    "    * (1)让所有输入数姐都向其中维数最多的数组看齐，shape属性中不足的部分都通过在前面加1补齐。 \n",
    "        * 如：上面的输入中，a.shape=(6,1)，b.shape=(,5)，a的维数是2，b的维数是1，所以b向a看齐，并且用1补齐，那么b.shape=(1,5）\n",
    "    * (2)输出数组的shape属性是输入数组的shape属性的各个轴上的最大值。\n",
    "        * 如：上面的输出中，a+b的输出的shape应该是(6,5)\n",
    "    * (3)如果输入数组的某个轴的长度为1或与输出数组的对应轴的长度相同，这个数组能够用来计算，否则出错。\n",
    "    * (4)当输入数组的某个轴的长度为1吋，沿着此轴运算时都用此轴上的第一组值。"
   ]
  },
  {
   "cell_type": "markdown",
   "metadata": {},
   "source": [
    "* 由于广播在numpy计算中比较常见，所以numpy提供了两种用来创建广播计算数组的方法：\n",
    "    * **ogrid方法**：前者返回的是两个向量\n",
    "    * **mgrid方法**：后者返回的是进行广播运算的数组"
   ]
  },
  {
   "cell_type": "code",
   "execution_count": null,
   "metadata": {},
   "outputs": [],
   "source": [
    "x,y=np.ogrid[:5,:5]\n",
    "print(x)\n",
    "print(y)"
   ]
  },
  {
   "cell_type": "code",
   "execution_count": null,
   "metadata": {},
   "outputs": [],
   "source": [
    "x,y=np.mgrid[:5,:5]\n",
    "print(x)\n",
    "print(y)"
   ]
  },
  {
   "cell_type": "markdown",
   "metadata": {},
   "source": [
    "#### 13.3.8.4 ufunc的方法\n",
    "* ufunc函数对象本身还有一些**方法函数**，这些方法只对两个输入、一个输出的ufunc函数有效，其他的ufunc对象调用这些方法时会抛出ValueError异常。\n",
    "* （1）**reduce()**，沿着指定轴对数组进行操作，相当于将相应的操作放到该轴元素之间。"
   ]
  },
  {
   "cell_type": "code",
   "execution_count": null,
   "metadata": {},
   "outputs": [],
   "source": [
    "np.add.reduce([1,2,3])"
   ]
  },
  {
   "cell_type": "code",
   "execution_count": null,
   "metadata": {},
   "outputs": [],
   "source": [
    "np.add.reduce([[1,2,3],[4,5,6]])"
   ]
  },
  {
   "cell_type": "code",
   "execution_count": null,
   "metadata": {},
   "outputs": [],
   "source": [
    "np.add.reduce([[1,2,3],[4,5,6]],axis=1)"
   ]
  },
  {
   "cell_type": "code",
   "execution_count": null,
   "metadata": {},
   "outputs": [],
   "source": [
    "np.add.reduce([[1,2,3],[4,5,6]],axis=0)"
   ]
  },
  {
   "cell_type": "markdown",
   "metadata": {},
   "source": [
    "* （2）**accumulate()**和reduce()类似，区别时是前者会保留中间结果："
   ]
  },
  {
   "cell_type": "code",
   "execution_count": null,
   "metadata": {},
   "outputs": [],
   "source": [
    "np.add.accumulate([1,2,3])"
   ]
  },
  {
   "cell_type": "code",
   "execution_count": null,
   "metadata": {},
   "outputs": [],
   "source": [
    "np.add.accumulate([[1,2,3],[4,5,6]],axis=1)"
   ]
  },
  {
   "cell_type": "code",
   "execution_count": null,
   "metadata": {},
   "outputs": [],
   "source": [
    "np.add.accumulate([[1,2,3],[4,5,6]],axis=0)"
   ]
  },
  {
   "cell_type": "markdown",
   "metadata": {},
   "source": [
    "* （3）**reduceat()**计算多对reduce()的结果，通过indices参数指定一系列的起始和终止位置。"
   ]
  },
  {
   "cell_type": "code",
   "execution_count": null,
   "metadata": {},
   "outputs": [],
   "source": [
    "a=np.array([1,2,3,4])\n",
    "result=np.add.reduceat(a, indices=[0,1,0,2,0,3,0])\n",
    "result"
   ]
  },
  {
   "cell_type": "markdown",
   "metadata": {},
   "source": [
    "其计算过程如下：\n",
    "* 1: a[0]=1\n",
    "* 2: a[1]=2\n",
    "* 3: a[0]+a[1]=1+2=3\n",
    "* 3: a[2]=3\n",
    "* 6: a[0]+a[1]+a[2]=1+2+3=6\n",
    "* 4: a[3]=4\n",
    "* 10：a[0]+a[1]+a[2]+a[4]=1+2+3+4=10"
   ]
  },
  {
   "cell_type": "markdown",
   "metadata": {},
   "source": [
    "* （4）**outer()**可以对其作为两个参数的数组的每两对元素的组合进行运算。"
   ]
  },
  {
   "cell_type": "code",
   "execution_count": null,
   "metadata": {},
   "outputs": [],
   "source": [
    "np.add.outer([1,2,3,4],[5,6,7,8])"
   ]
  },
  {
   "cell_type": "code",
   "execution_count": null,
   "metadata": {},
   "outputs": [],
   "source": [
    "np.multiply.outer([1,2,3],[4,5,6,7,8])"
   ]
  },
  {
   "cell_type": "markdown",
   "metadata": {},
   "source": [
    "## 13.4 矩阵\n",
    "* **矩阵**(matrix)：是numpy提供的另外一种数据类型；\n",
    "    * 可以使用**mat**或**matrix**函数将数组转换为矩阵。"
   ]
  },
  {
   "cell_type": "code",
   "execution_count": null,
   "metadata": {},
   "outputs": [],
   "source": [
    "m1=np.mat([[1,2,3],[4,5,6]])\n",
    "m1"
   ]
  },
  {
   "cell_type": "code",
   "execution_count": null,
   "metadata": {},
   "outputs": [],
   "source": [
    "m1=np.matrix([[1,2,3],[4,5,6]])\n",
    "m1"
   ]
  },
  {
   "cell_type": "markdown",
   "metadata": {},
   "source": [
    "* 矩阵也可以进行**矢量化运算**。"
   ]
  },
  {
   "cell_type": "code",
   "execution_count": null,
   "metadata": {},
   "outputs": [],
   "source": [
    "m1*8"
   ]
  },
  {
   "cell_type": "code",
   "execution_count": null,
   "metadata": {},
   "outputs": [],
   "source": [
    "m1.T  #矩阵转置"
   ]
  },
  {
   "cell_type": "code",
   "execution_count": null,
   "metadata": {},
   "outputs": [],
   "source": [
    "m1*m1.T"
   ]
  },
  {
   "cell_type": "code",
   "execution_count": null,
   "metadata": {},
   "outputs": [],
   "source": [
    "m2=np.identity(2)  #单位阵\n",
    "m2"
   ]
  },
  {
   "cell_type": "code",
   "execution_count": null,
   "metadata": {},
   "outputs": [],
   "source": [
    "eye(2)  #单位阵"
   ]
  },
  {
   "cell_type": "code",
   "execution_count": null,
   "metadata": {},
   "outputs": [],
   "source": [
    "np.linalg.inv(m2)  #矩阵求逆，即根据AX=I求解X=A的逆矩阵"
   ]
  },
  {
   "cell_type": "markdown",
   "metadata": {},
   "source": [
    "* 注意：一般情况下在Python中都会使用数组来进行运算，因为数组更灵活、速度更快。"
   ]
  },
  {
   "cell_type": "code",
   "execution_count": null,
   "metadata": {},
   "outputs": [],
   "source": [
    "dir(matrix)"
   ]
  },
  {
   "cell_type": "markdown",
   "metadata": {},
   "source": [
    "## 13.5 numpy中的文件读写\n",
    "* numpy中的文件读写主要有两种形式：\n",
    "    * （1）二进制的文件读写\n",
    "    * （2）文件列表形式的数据读写\n",
    "\n",
    "### 13.5.1 二进制的文件读写\n",
    "    \n",
    "|函数|功能|格式|\n",
    "|--|--|--|\n",
    "|save|以二进制的格式保存数据|np.save (\"./save_arr \", arr1)|\n",
    "|load|从二进制的文件中读取数据|np.load(\"./ save_arr.npy\")|\n",
    "|savez|将多个数组保存到一个文件中|np.savez('./savez_arr',arr1,arr2)|\n",
    "\n",
    "* **注意：存储时可以省略扩展名，但读取时不能省略扩展名**!"
   ]
  },
  {
   "cell_type": "code",
   "execution_count": null,
   "metadata": {},
   "outputs": [],
   "source": [
    "arr1=np.arange(40).reshape((5,8))\n",
    "print(arr1)\n",
    "np.save('./save_arr',arr1)  #保存二进制文件，npy格式是一个数组的文件保存"
   ]
  },
  {
   "cell_type": "code",
   "execution_count": null,
   "metadata": {},
   "outputs": [],
   "source": [
    "arr2=np.load('./save_arr.npy')  # 读取二进制文件\n",
    "arr2"
   ]
  },
  {
   "cell_type": "code",
   "execution_count": null,
   "metadata": {},
   "outputs": [],
   "source": [
    "arr3=np.arange(1,10,1)\n",
    "print(arr3)\n",
    "np.savez('./savez_arr',arr1,arr3)  #保存二进制文件，npz多个数组的文件保存"
   ]
  },
  {
   "cell_type": "code",
   "execution_count": null,
   "metadata": {},
   "outputs": [],
   "source": [
    "load_data=np.load('./savez_arr.npz')  #读取二进制文件\n",
    "print(load_data)"
   ]
  },
  {
   "cell_type": "code",
   "execution_count": null,
   "metadata": {
    "scrolled": true
   },
   "outputs": [],
   "source": [
    "print(type(load_data))"
   ]
  },
  {
   "cell_type": "code",
   "execution_count": null,
   "metadata": {},
   "outputs": [],
   "source": [
    "# 可遍历文件中的键值(也可以通过开启断点来获取)\n",
    "for i,k in load_data.items():\n",
    "    print(i,k)"
   ]
  },
  {
   "cell_type": "code",
   "execution_count": null,
   "metadata": {},
   "outputs": [],
   "source": [
    "print(load_data['arr_0'])\n",
    "print(load_data['arr_1'])"
   ]
  },
  {
   "cell_type": "markdown",
   "metadata": {},
   "source": [
    "### 13.5.2 文本文件的读写：\n",
    "\n",
    "|函数|功能|格式|\n",
    "|--|--|--|\n",
    "|savetxt|将数组写到某种分隔符隔开的文本文件中||\n",
    "|loadtxt|把文件加载到一个二维数组中||\n",
    "|genfromtxt|面向的是结构化数组和缺失数据(基本操作)||"
   ]
  },
  {
   "cell_type": "code",
   "execution_count": null,
   "metadata": {},
   "outputs": [],
   "source": [
    "arr=np.arange(0,9,1).reshape(3,-1) # -1的意思是根据行数自动匹配列数\n",
    "print(arr)\n",
    "np.savetxt('arr.txt',arr,fmt='%d',delimiter=',')  #保存，其中fmt='%d'表示保存为整数，delimiter=\",\"表示用','隔开"
   ]
  },
  {
   "cell_type": "code",
   "execution_count": null,
   "metadata": {},
   "outputs": [],
   "source": [
    "load_txt=np.loadtxt('arr.txt',delimiter=',')  #读取\n",
    "print(load_txt)"
   ]
  },
  {
   "cell_type": "code",
   "execution_count": null,
   "metadata": {},
   "outputs": [],
   "source": [
    "load_txt=np.genfromtxt('./arr.txt',delimiter=',',skip_header=1)  #读取，其中skip_header从哪行开启读取\n",
    "print(load_txt)"
   ]
  },
  {
   "cell_type": "code",
   "execution_count": null,
   "metadata": {},
   "outputs": [],
   "source": [
    "print(load_txt[1:2,0:3])  # 二维数组切片方式"
   ]
  },
  {
   "cell_type": "code",
   "execution_count": null,
   "metadata": {},
   "outputs": [],
   "source": [
    "print(load_txt[0:3,0])"
   ]
  }
 ],
 "metadata": {
  "kernelspec": {
   "display_name": "Python 3",
   "language": "python",
   "name": "python3"
  },
  "language_info": {
   "codemirror_mode": {
    "name": "ipython",
    "version": 3
   },
   "file_extension": ".py",
   "mimetype": "text/x-python",
   "name": "python",
   "nbconvert_exporter": "python",
   "pygments_lexer": "ipython3",
   "version": "3.8.3"
  }
 },
 "nbformat": 4,
 "nbformat_minor": 4
}
