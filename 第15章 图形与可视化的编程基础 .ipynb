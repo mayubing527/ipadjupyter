{
 "cells": [
  {
   "cell_type": "markdown",
   "metadata": {},
   "source": [
    "# 第5章 语句与控制流\n",
    "* 5.1 顺序语句\n",
    "* 5.2 条件语句\n",
    "* 5.3 循环语句"
   ]
  },
  {
   "cell_type": "markdown",
   "metadata": {},
   "source": [
    "## 5.1 顺序语句\n",
    "* 在Python中，如果程序按照**自上而下**的顺序，一条语句一条语句的执行，那么这些语句就可以称之为**顺序语句**。\n",
    "* 顺序语句是程序设计中最基本的结构。"
   ]
  },
  {
   "cell_type": "code",
   "execution_count": null,
   "metadata": {},
   "outputs": [],
   "source": [
    "s=['Python','SAS','R','Matlab']\n",
    "slen={len(x) for x in s}\n",
    "slen"
   ]
  },
  {
   "cell_type": "markdown",
   "metadata": {},
   "source": [
    "* 上述语句的执行过程中，是按照从上到下的顺序依次执行的，没有任何改变程序执行方向的操作。"
   ]
  },
  {
   "cell_type": "markdown",
   "metadata": {},
   "source": [
    "## 5.2 条件语句\n",
    "* 条件语句能使程序按照一定的表达式或条件，来实现不同的操作或执行**顺序跳转**的功能。\n",
    "* **条件语句体**：指根据条件执行不同代码的语句。\n",
    "\n",
    "### （1）一个条件：\n",
    "* Python中的if…else条件语句体结构如下："
   ]
  },
  {
   "cell_type": "code",
   "execution_count": null,
   "metadata": {},
   "outputs": [],
   "source": [
    "if 条件或表达式:\n",
    "    执行语句1\n",
    "else:\n",
    "    执行语句2"
   ]
  },
  {
   "cell_type": "markdown",
   "metadata": {},
   "source": [
    "* 其中“条件或表达式”成立（非零）时，则执行后面的语句；\n",
    "* 而**执行语句内容可以多行**，以**缩进**来区分表示同一范围。\n",
    "* else为**可选语句**，当需要在条件不成立时执行内容则可以执行相关语句。"
   ]
  },
  {
   "cell_type": "code",
   "execution_count": null,
   "metadata": {},
   "outputs": [],
   "source": [
    "age = 18\n",
    "if age >= 18:\n",
    "    print('你已成年！')\n",
    "else:\n",
    "    print('你未成年！')"
   ]
  },
  {
   "cell_type": "markdown",
   "metadata": {},
   "source": [
    "* 条件语句体是用“:”和**缩进**来进行识别的。\n",
    "* 缩进的空白数量是可变的，但是**所有代码块语句必须包含相同的缩进空白数量**，这个必须严格执行。"
   ]
  },
  {
   "cell_type": "code",
   "execution_count": null,
   "metadata": {},
   "outputs": [],
   "source": [
    "if True:\n",
    "    print (\"Answer\")\n",
    "    print (\"True\")\n",
    "else:\n",
    "    print (\"Answer\")\n",
    "  print (\"False\")  #没有严格缩进，在执行时会报错"
   ]
  },
  {
   "cell_type": "code",
   "execution_count": null,
   "metadata": {},
   "outputs": [],
   "source": [
    "if True:\n",
    "    print (\"Answer\")\n",
    "    print (\"True\")\n",
    "else:\n",
    "    print (\"Answer\")\n",
    "    print (\"False\")"
   ]
  },
  {
   "cell_type": "markdown",
   "metadata": {},
   "source": [
    "### （2）多个条件：\n",
    "* if 语句的判断条件可以用>（大于）、<(小于)、==（等于）、>=（大于等于）、<=（小于等于）来表示其关系。\n",
    "* 当判断条件为多个值时，可以使用Python中的if…elif…else条件语句体结构："
   ]
  },
  {
   "cell_type": "code",
   "execution_count": null,
   "metadata": {},
   "outputs": [],
   "source": [
    "if 条件或表达式1:\n",
    "    执行语句1\n",
    "elif 条件或表达式2:\n",
    "    执行语句2\n",
    "else:\n",
    "    执行语句3"
   ]
  },
  {
   "cell_type": "markdown",
   "metadata": {},
   "source": [
    "* 执行条件语句时，先**对if条件或表达式进行判断**：\n",
    "    * 若满足，则执行if语句体(或代码块)中的语句；\n",
    "    * 若不满足，则**对elif条件或表达式进行判断**：\n",
    "        * 若满足，则执行elif语句体中的语句；\n",
    "        * 若不满足，则执行else语句体中的语句。"
   ]
  },
  {
   "cell_type": "code",
   "execution_count": null,
   "metadata": {},
   "outputs": [],
   "source": [
    "age=int(input(\"Please input your age:\"))\n",
    "if age>=18:\n",
    "    print(\"adult\")\n",
    "elif age>=13:\n",
    "    print(\"teenager\")\n",
    "else:\n",
    "    print(\"kid\")"
   ]
  },
  {
   "cell_type": "markdown",
   "metadata": {},
   "source": [
    "* 上例中使用了**内置的input()函数**来获取用户以**交互方式**输入的数据。\n",
    "    * 即：从输入中读入一个字符串，其中自动忽略换行符(用户输入以**回车键**结束)。\n",
    "* input函数的所有形式的输入均会以字符串的方式来处理；\n",
    "* 如果想要其他类型的数据，则需要进行强制类型的转换。\n",
    "    * 如int()，float()，bool()，complex()等。"
   ]
  },
  {
   "cell_type": "code",
   "execution_count": null,
   "metadata": {},
   "outputs": [],
   "source": [
    "a=input(\"Please input pi:\")\n",
    "print(a)\n",
    "type(a)"
   ]
  },
  {
   "cell_type": "code",
   "execution_count": null,
   "metadata": {},
   "outputs": [],
   "source": [
    "a=float(input(\"Please input pi:\"))\n",
    "print(a)\n",
    "type(a)"
   ]
  },
  {
   "cell_type": "markdown",
   "metadata": {},
   "source": [
    "### （3）简单语句组\n",
    "* 如果if语句的“:”后面**只有一行语句**，则可以把该语句与条件写在同一行。"
   ]
  },
  {
   "cell_type": "code",
   "execution_count": null,
   "metadata": {},
   "outputs": [],
   "source": [
    "a=5*10**6\n",
    "if(a==5000000): print(\"Bingo! You've got Lotto!\")"
   ]
  },
  {
   "cell_type": "code",
   "execution_count": null,
   "metadata": {},
   "outputs": [],
   "source": [
    "a=1\n",
    "if a==1: a+=1;print(a)"
   ]
  },
  {
   "cell_type": "markdown",
   "metadata": {},
   "source": [
    "### （4）嵌套\n",
    "* if语句是可以**嵌套**的，即可以把if…elif…else语句体放在另外一个if…elif…else语句体中。"
   ]
  },
  {
   "cell_type": "code",
   "execution_count": null,
   "metadata": {},
   "outputs": [],
   "source": [
    "if 条件或表达式1:\n",
    "    条件1满足时的执行语句1\n",
    "    if 满足条件1的基础上的条件2:\n",
    "        条件2满足时的执行语句2\n",
    "    else:\n",
    "    条件2不满足时的执行语句3\n",
    "else:\n",
    "    条件1不满足时的执行语句4"
   ]
  },
  {
   "cell_type": "code",
   "execution_count": null,
   "metadata": {},
   "outputs": [],
   "source": [
    "have_ticket = True\n",
    "knife_length = 21\n",
    "\n",
    "if have_ticket:\n",
    "    print('已有车票，请安检...')\n",
    "    if knife_length > 20:\n",
    "        print('长度为 %d:超出限定长度，禁止入内' %knife_length)\n",
    "    else:\n",
    "        print('长度为 %d:没有超过限定长度，允许入内' %knife_length)\n",
    "else:\n",
    "    print('请先买票')"
   ]
  },
  {
   "cell_type": "markdown",
   "metadata": {},
   "source": [
    "### （5）三元表达式\n",
    "* 在Python中，可以将**产生一个值**的if…else语句写到一行或一个表达式中，即**三元表达式**：\n",
    "    * 条件为真时的结果 **if** 条件 **else** 条件为假时的结果"
   ]
  },
  {
   "cell_type": "code",
   "execution_count": null,
   "metadata": {},
   "outputs": [],
   "source": [
    "givenname='Jing'\n",
    "'Good man!' if givenname=='Jing' else 'Can not be evaluated!'"
   ]
  },
  {
   "cell_type": "code",
   "execution_count": null,
   "metadata": {},
   "outputs": [],
   "source": [
    "age=int(input(\"Please input your age:\"))\n",
    "'Adult' if age>=18 else 'Kids'"
   ]
  },
  {
   "cell_type": "code",
   "execution_count": null,
   "metadata": {},
   "outputs": [],
   "source": [
    "a=-1\n",
    "a if a>0 else -a"
   ]
  },
  {
   "cell_type": "markdown",
   "metadata": {},
   "source": [
    "* 三元表达式还可以用更简洁的方式：\n",
    "    * (条件为假时的结果,条件为真时的结果) [条件]"
   ]
  },
  {
   "cell_type": "code",
   "execution_count": null,
   "metadata": {},
   "outputs": [],
   "source": [
    "age=int(input(\"Please input your age:\"))\n",
    "('Kids','Adult') [age>=18]"
   ]
  },
  {
   "cell_type": "markdown",
   "metadata": {},
   "source": [
    "### if条件语句综合练习：\n",
    "#### 练习1：判断闰年。用户输入年份year, 判断是否为闰年?\n",
    "* 提示：能被4整除但不能被100整除的，或者能被400整除，那么就是闰年。"
   ]
  },
  {
   "cell_type": "code",
   "execution_count": null,
   "metadata": {},
   "outputs": [],
   "source": [
    "year = int(input('输入年份:'))\n",
    "if year %4 ==0 and year %100 != 0:\n",
    "    print('%d是闰年' %year)\n",
    "elif year %400 ==0:\n",
    "    print('%d是闰年'%year)\n",
    "else:\n",
    "    print('%d不是闰年' %year)"
   ]
  },
  {
   "cell_type": "markdown",
   "metadata": {},
   "source": [
    "#### 练习2：猜拳。"
   ]
  },
  {
   "cell_type": "code",
   "execution_count": null,
   "metadata": {},
   "outputs": [],
   "source": [
    "import random  #调用随机数模块\n",
    " \n",
    "#1.从控制台输入要出的拳 --石头1 剪刀2 布3\n",
    "player = int(input(\"请输入您要出的拳: 石头1/剪刀2/布3 :\"))\n",
    " \n",
    "#2.电脑随机出拳\n",
    "computer = random.randint(1,3)\n",
    "print(computer)\n",
    " \n",
    "#3.比较胜负\n",
    "if ((player == 1 and computer == 2)\n",
    "    or (player == 2 and computer == 3)\n",
    "    or (player == 3 and computer == 1)):\n",
    "    print('玩家胜利～')\n",
    "elif player == computer:\n",
    "    print('平局')\n",
    "else:\n",
    "    print('玩家失败～')"
   ]
  },
  {
   "cell_type": "markdown",
   "metadata": {},
   "source": [
    "#### 练习3：某一舞蹈学院招聘老师，要求年龄小于30周岁，体重不得超过50公斤。"
   ]
  },
  {
   "cell_type": "code",
   "execution_count": null,
   "metadata": {},
   "outputs": [],
   "source": [
    "age=int(input(\"请输入您的年龄：\"))\n",
    "weight=int(input(\"请输入您的体重(kg)：\"))\n",
    "if age <=30:\n",
    "    print(\"您的年龄是:%d岁\"%age)\n",
    "    if weight>50:\n",
    "        print(\"您的体重超过要求：体重不能超过50公斤。您的体重是：%d\"%weight)\n",
    "    else:\n",
    "        print(\"恭喜您的加入，您的体重是：%d公斤\"%weight)\n",
    "else:\n",
    "    print(\"很抱歉，年龄不符\")"
   ]
  },
  {
   "cell_type": "markdown",
   "metadata": {},
   "source": [
    "#### 注意：条件语句的错误基本上都是由于缩进不正确导致的，在我们学习生产的过程中，一定要注意语句的缩进搭配，否则，看似正确的代码往往会误导我们。"
   ]
  },
  {
   "cell_type": "markdown",
   "metadata": {},
   "source": [
    "## 5.3 循环语句\n",
    "\n",
    "* **循环语句体**：被重复执行的语句。\n",
    "* Python中很多内置函数和语句都具备循环的特性，如：\n",
    "    * 遍历序列元素的enumerate函数；\n",
    "    * 推导式\n",
    "* 除此之外，Python还提供了while和for等语句体用来解决数据分析中的循环问题。"
   ]
  },
  {
   "cell_type": "markdown",
   "metadata": {},
   "source": [
    "### 5.3.1 while循环\n",
    "* while循环可以对**任何对象**进行循环。\n",
    "* Python中的while循环语句体的**一般形式**如下："
   ]
  },
  {
   "cell_type": "code",
   "execution_count": null,
   "metadata": {},
   "outputs": [],
   "source": [
    "while 判断条件(condition):\n",
    "    执行语句(statements)"
   ]
  },
  {
   "cell_type": "markdown",
   "metadata": {},
   "source": [
    "#### 例: 使用while循环语句来计算1到100的总和。"
   ]
  },
  {
   "cell_type": "code",
   "execution_count": null,
   "metadata": {},
   "outputs": [],
   "source": [
    "n = 100\n",
    "sum = 0\n",
    "counter = 1\n",
    "while counter <= n:\n",
    "    sum = sum + counter\n",
    "    counter += 1\n",
    "\n",
    "print(\"1 到 %d 之和为: %d\" % (n,sum))"
   ]
  },
  {
   "cell_type": "markdown",
   "metadata": {},
   "source": [
    "### （1）while循环使用else语句\n",
    "* 在while…else在条件语句为false时执行else的语句块。\n",
    "* 语法格式如下："
   ]
  },
  {
   "cell_type": "code",
   "execution_count": null,
   "metadata": {},
   "outputs": [],
   "source": [
    "while 判断条件(condition):\n",
    "    语句(statements)\n",
    "else:\n",
    "    语句(statements)"
   ]
  },
  {
   "cell_type": "markdown",
   "metadata": {},
   "source": [
    "#### 例：循环输出数字0-5，并分别判断与5的大小。"
   ]
  },
  {
   "cell_type": "code",
   "execution_count": null,
   "metadata": {},
   "outputs": [],
   "source": [
    "count=0\n",
    "while count<5:\n",
    "   print(count, \"小于5\")\n",
    "   count+=1\n",
    "else:\n",
    "   print(count, \"大于或等于5\")"
   ]
  },
  {
   "cell_type": "markdown",
   "metadata": {},
   "source": [
    "### （2）简单语句组\n",
    "* 类似if语句的语法，如果你的while循环体中**只有一条语句**，你可以将该语句与while写在同一行中。"
   ]
  },
  {
   "cell_type": "code",
   "execution_count": null,
   "metadata": {},
   "outputs": [],
   "source": [
    "i=1\n",
    "s=0\n",
    "while (i<=100): s+=i;i+=1\n",
    "print(\"1+2+…+100=\",s)"
   ]
  },
  {
   "cell_type": "markdown",
   "metadata": {},
   "source": [
    "### 5.3.2 for循环\n",
    "* for循环可对任何**有序的序列对象**进行循环或迭代器进行迭代。\n",
    "    * 如：字符串、列表、元组、字典等。\n",
    "* for循环的标准语法为："
   ]
  },
  {
   "cell_type": "code",
   "execution_count": null,
   "metadata": {},
   "outputs": [],
   "source": [
    "for 变量值variable in 有序序列sequence:\n",
    "    语句statements  #一般都是对变量值variable进行处理"
   ]
  },
  {
   "cell_type": "code",
   "execution_count": null,
   "metadata": {},
   "outputs": [],
   "source": [
    "languages=[\"C\", \"C++\", \"Perl\", \"Python\"] \n",
    "for x in languages:\n",
    "    print(x)"
   ]
  },
  {
   "cell_type": "markdown",
   "metadata": {},
   "source": [
    "#### 例：用for循环语句计算1+2+…+100."
   ]
  },
  {
   "cell_type": "code",
   "execution_count": null,
   "metadata": {},
   "outputs": [],
   "source": [
    "s=0\n",
    "for i in range(1,101):\n",
    "    s+=i\n",
    "print(\"1+2+…+100=\",s)"
   ]
  },
  {
   "cell_type": "markdown",
   "metadata": {},
   "source": [
    "### （1）简单语句组\n",
    "* 类似if语句与while循环的语法，如果你的for循环体中**只有一条语句**，你可以将该语句与for写在同一行中。"
   ]
  },
  {
   "cell_type": "code",
   "execution_count": null,
   "metadata": {},
   "outputs": [],
   "source": [
    "s=0\n",
    "for i in range(1,101): s+=i\n",
    "print(\"1+2+…+100=\",s)"
   ]
  },
  {
   "cell_type": "markdown",
   "metadata": {},
   "source": [
    "#### 例：结合range()和len()函数以遍历一个序列的索引。"
   ]
  },
  {
   "cell_type": "code",
   "execution_count": null,
   "metadata": {},
   "outputs": [],
   "source": [
    "a=['Google', 'Baidu', 'Runoob', 'Taobao', 'QQ']\n",
    "for i in range(len(a)):\n",
    "    print(i, a[i])"
   ]
  },
  {
   "cell_type": "markdown",
   "metadata": {},
   "source": [
    "### （2）for循环使用else语句"
   ]
  },
  {
   "cell_type": "code",
   "execution_count": null,
   "metadata": {},
   "outputs": [],
   "source": [
    "for 变量值variable in 有序序列sequence:\n",
    "    语句statements\n",
    "else:\n",
    "    语句statements"
   ]
  },
  {
   "cell_type": "code",
   "execution_count": null,
   "metadata": {},
   "outputs": [],
   "source": [
    "for x in range(5):\n",
    "    if x == 2:\n",
    "        print(x)\n",
    "else:\n",
    "    print(\"x=\",x)\n",
    "    print(\"执行else语句\")"
   ]
  },
  {
   "cell_type": "code",
   "execution_count": null,
   "metadata": {},
   "outputs": [],
   "source": [
    "for x in range(5):\n",
    "    if x == 2:\n",
    "        print(x)\n",
    "        break\n",
    "else:\n",
    "    print(\"x=\",x)\n",
    "    print(\"执行else语句\")"
   ]
  },
  {
   "cell_type": "markdown",
   "metadata": {},
   "source": [
    "* 当迭代对象**完成所有迭代后**且此时的迭代对象为空时：\n",
    "    * 如果存在else语句则执行else语句，没有则继续执行后续代码；\n",
    "* 如果迭代对象因为某种原因（如带有break关键字）**提前退出迭代**：\n",
    "    * 则else语句将不会被执行，程序将会直接跳过else子句继续执行后续代码"
   ]
  },
  {
   "cell_type": "markdown",
   "metadata": {},
   "source": [
    "### 循环嵌套\n",
    "* while循环和for循环均可进行嵌套。\n",
    "\n",
    "#### 例：求100以内所有素数(质数)之和。"
   ]
  },
  {
   "cell_type": "code",
   "execution_count": null,
   "metadata": {},
   "outputs": [],
   "source": [
    "from math import sqrt\n",
    "s=0\n",
    "n=[]\n",
    "for i in range(1,100):\n",
    "    k=0;j=2\n",
    "    while j<=sqrt(i):\n",
    "        if i/j==int(i/j):\n",
    "            k=1\n",
    "            break\n",
    "        j+=1\n",
    "    if k==0:\n",
    "        s+=i\n",
    "        n.append(i)\n",
    "print(\"\\nPrime numbers within 100 are:\", n, \"\\nSum of prime numbers within 100 is:\", s)"
   ]
  },
  {
   "cell_type": "markdown",
   "metadata": {},
   "source": [
    "### 推导式\n",
    "* 推导式的工作方式就相当于是for循环。如："
   ]
  },
  {
   "cell_type": "code",
   "execution_count": null,
   "metadata": {},
   "outputs": [],
   "source": [
    "[x*x for x in range(10)]"
   ]
  },
  {
   "cell_type": "code",
   "execution_count": null,
   "metadata": {},
   "outputs": [],
   "source": [
    "x=[]\n",
    "for i in range(10):\n",
    "    x.append(i**2)\n",
    "print(x)"
   ]
  },
  {
   "cell_type": "markdown",
   "metadata": {},
   "source": [
    "### 5.3.3 循环控制\n",
    "* 在循环中，用户可以使用特定语句对循环进行中止、终止等控制。\n",
    "* 常用的循环控制语句有：\n",
    "    * break：结束（终止）循环；\n",
    "    * continue：中止当前循环，跳到下一次循环的开始；\n",
    "    * while true/break：实现一个永远不会自己停止的循环；\n",
    "    * else：在使用break时，可以使用else语句在没有调用break时执行对应的语句；\n",
    "    * pass：不做任何事情，一般用作占位语句。"
   ]
  },
  {
   "cell_type": "markdown",
   "metadata": {},
   "source": [
    "### （1）break语句\n",
    "* break语句用来**终止循环语句**，即循环条件没有False条件或者序列还没被完全递归完，也会停止执行循环语句。\n",
    "* break语句用在while和for循环中。\n",
    "* 如果您使用**嵌套循环**，break语句将**停止执行最深层的循环**，并开始执行下一行代码。"
   ]
  },
  {
   "cell_type": "code",
   "execution_count": null,
   "metadata": {},
   "outputs": [],
   "source": [
    "for letter in 'Python':\n",
    "   if letter=='h':\n",
    "      break\n",
    "   print('当前字母:', letter)"
   ]
  },
  {
   "cell_type": "code",
   "execution_count": null,
   "metadata": {},
   "outputs": [],
   "source": [
    "var=10\n",
    "while var > 0:              \n",
    "   print('当前变量值:', var)\n",
    "   var-=1\n",
    "   if var==5:  #当变量var等于5时退出循环\n",
    "      break"
   ]
  },
  {
   "cell_type": "markdown",
   "metadata": {},
   "source": [
    "### （2）continue语句\n",
    "* continue语句用来**跳出本次循环**，而break**跳出整个循环**。\n",
    "    * continue 语句用来告诉Python跳过当前循环的剩余语句，然后继续进行下一轮循环。\n",
    "* continue语句用在while和for循环中。"
   ]
  },
  {
   "cell_type": "code",
   "execution_count": null,
   "metadata": {},
   "outputs": [],
   "source": [
    "for letter in 'Python':\n",
    "   if letter=='h':\n",
    "      continue\n",
    "   print('当前字母:', letter)"
   ]
  },
  {
   "cell_type": "code",
   "execution_count": null,
   "metadata": {},
   "outputs": [],
   "source": [
    "var=10\n",
    "while var>0:              \n",
    "   var-=1\n",
    "   if var==5:\n",
    "      continue\n",
    "   print('当前变量值:', var)"
   ]
  },
  {
   "cell_type": "markdown",
   "metadata": {},
   "source": [
    "### （3）pass语句\n",
    "* pass是**空语句**，是为了保持程序结构的完整性。\n",
    "* pass语句不做任何事情，一般用做**占位语句**。"
   ]
  },
  {
   "cell_type": "code",
   "execution_count": null,
   "metadata": {},
   "outputs": [],
   "source": [
    "for a in \"This is Python!\":\n",
    "    if a=='P':\n",
    "        pass\n",
    "        print('passed!')\n",
    "        break\n",
    "    print(a,end='')"
   ]
  },
  {
   "cell_type": "code",
   "execution_count": null,
   "metadata": {},
   "outputs": [],
   "source": [
    "for a in \"This is Python!\":\n",
    "    if a=='P':\n",
    "        pass\n",
    "        print('passed!')\n",
    "        break\n",
    "    print(a)"
   ]
  },
  {
   "cell_type": "markdown",
   "metadata": {},
   "source": [
    "#### 例：输出字符串“Python”的每个字母。"
   ]
  },
  {
   "cell_type": "code",
   "execution_count": null,
   "metadata": {},
   "outputs": [],
   "source": [
    "for letter in 'Python':\n",
    "   if letter=='h':\n",
    "      pass\n",
    "      print('这是pass语句块')\n",
    "   print('当前字母:', letter)"
   ]
  },
  {
   "cell_type": "markdown",
   "metadata": {},
   "source": [
    "#### 例：判断用户所输入数据是质数还是合数。"
   ]
  },
  {
   "cell_type": "code",
   "execution_count": null,
   "metadata": {},
   "outputs": [],
   "source": [
    "while True:\n",
    "    n=input(\"Please input a natural number (q or Q to exit):\")\n",
    "    if n in ('q','Q'):\n",
    "        print('Quit!')\n",
    "        break\n",
    "    elif not n.isdigit() or int(n)<=0:\n",
    "        print(\"Input error! Please input a natural number.\")\n",
    "        continue\n",
    "    else:\n",
    "        n=int(n)\n",
    "        if int(n)==1:\n",
    "            print(n,\"is neither a prime nor a composite number!\")\n",
    "        else:\n",
    "            k=0\n",
    "            for i in range(2,int(sqrt(n))+1):\n",
    "                if n/i==int(n/i):\n",
    "                    k=1\n",
    "                    print(n,\"is a composite number!\")\n",
    "                    break\n",
    "            if k==0:\n",
    "                print(n,\"is a prime number!\")"
   ]
  },
  {
   "cell_type": "markdown",
   "metadata": {},
   "source": [
    "## 作业1：BMI\n",
    "输入自己的身高体重，根据BMI公式计算身体质量指数(BMI)：\n",
    "$$BMI=\\frac{体重(kg)}{身高(m)^2}$$\n",
    "并根据自己的身体质量指数判断自己的体型：\n",
    "\n",
    "|BMI范围|体型|\n",
    "|--|--|\n",
    "|低于18.4|偏瘦|\n",
    "|18.5-23.9|正常|\n",
    "|24-27.9|过重|\n",
    "|28-31.9|肥胖|\n",
    "|高于32|严重肥胖|"
   ]
  },
  {
   "cell_type": "markdown",
   "metadata": {},
   "source": [
    "## 作业2：输入一个年份，判断是闰年还是平年？"
   ]
  },
  {
   "cell_type": "markdown",
   "metadata": {},
   "source": [
    "## 作业3：以如下格式输出99乘法表。\n",
    "\n",
    "1\\*1=1  \n",
    "1\\*2=2 2\\*2=4  \n",
    "1\\*3=3 2\\*3=6 3\\*3=9  \n",
    "……       9\\*9=81  "
   ]
  }
 ],
 "metadata": {
  "kernelspec": {
   "display_name": "Python 3",
   "language": "python",
   "name": "python3"
  },
  "language_info": {
   "codemirror_mode": {
    "name": "ipython",
    "version": 3
   },
   "file_extension": ".py",
   "mimetype": "text/x-python",
   "name": "python",
   "nbconvert_exporter": "python",
   "pygments_lexer": "ipython3",
   "version": "3.8.3"
  }
 },
 "nbformat": 4,
 "nbformat_minor": 4
}
