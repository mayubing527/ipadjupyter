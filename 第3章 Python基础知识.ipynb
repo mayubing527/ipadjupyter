{
 "cells": [
  {
   "cell_type": "markdown",
   "metadata": {
    "slideshow": {
     "slide_type": "slide"
    }
   },
   "source": [
    "# 第3章 Python基础知识\n",
    "* Python是一种面向对象的解释性脚本语言。\n",
    "* 在Notebook的Code Cell中输入代码后按“Shift+Enter键”就可以立刻得到代码的执行结果。"
   ]
  },
  {
   "cell_type": "code",
   "execution_count": null,
   "metadata": {},
   "outputs": [],
   "source": [
    "print('Hello, world!')"
   ]
  },
  {
   "cell_type": "markdown",
   "metadata": {},
   "source": [
    "* Jupyter Notebook中的常用的**快捷键**。\n",
    "    * Enter：转入编辑模式。\n",
    "    * Shift+Enter：运行本单元，选中下个单元。\n",
    "    * Ctrl+Enter：运行本单元。\n",
    "    * Alt+Enter：运行本单元，在其下插入新单元。\n",
    "    * Ctrl+X：剪切选中的单元。\n",
    "    * Ctrl+C：复制选中的单元。\n",
    "    * Ctrl+V：粘贴到下方单元。\n",
    "    * Ctrl+Z：撤销一步，恢复删除的最后一个单元。\n",
    "    * Tab：代码补全或缩进"
   ]
  },
  {
   "cell_type": "markdown",
   "metadata": {},
   "source": [
    "## 1. 帮助\n",
    "* help()：查看函数、类、模块等对象的详细说明。\n",
    "* dir()：查看对象的属性或方法，返回对象的属性和方法列表。\n",
    "* ?：查看具体对象的帮助信息。"
   ]
  },
  {
   "cell_type": "code",
   "execution_count": null,
   "metadata": {},
   "outputs": [],
   "source": [
    "help(sum)"
   ]
  },
  {
   "cell_type": "code",
   "execution_count": null,
   "metadata": {},
   "outputs": [],
   "source": [
    "dir(list)"
   ]
  },
  {
   "cell_type": "code",
   "execution_count": null,
   "metadata": {},
   "outputs": [],
   "source": [
    "?max"
   ]
  },
  {
   "cell_type": "markdown",
   "metadata": {
    "slideshow": {
     "slide_type": "slide"
    }
   },
   "source": [
    "## 2. 标识符\n",
    "* 标识符(identifiers)：即对象的名字，由字母、数字、下划线组成，不能以数字开头。\n",
    "* **标识符是区分大小写的**，如someid和SomeID是两个不同的标识符。\n",
    "* 以**下划线**开头的标识符是有特殊意义的。\n",
    "    * (1) 以单下划线开头：如\\_foo\\_，代表不能随意访问的类属性。 \n",
    "    * (2) 以双下划线开头：如\\_\\_foo\\_\\_，代表类的私有成员。\n",
    "    * (3) 以双下划线开头和结尾：如\\_\\_foo\\_\\_，代表Python里特殊方法专用的标识。\n",
    "        * 如：\\_\\_init\\_\\_()代表类的构造函数；\\_\\_version\\_\\_()表示所调用包的版本信息。\n",
    "* Python系统中还有**保留字符**，也称之为**关键字**(keywords)。\n",
    "    * 保留字符是不能用作任何其他标识符名称的。\n",
    "    * 保留字符可以通过运行如下代码查看："
   ]
  },
  {
   "cell_type": "code",
   "execution_count": null,
   "metadata": {},
   "outputs": [],
   "source": [
    "import keyword\n",
    "keyword.kwlist"
   ]
  },
  {
   "cell_type": "markdown",
   "metadata": {},
   "source": [
    "## 3. 行与缩进\n",
    "* 每一行代码就是Python的一个语句，不需要使用“;”等符号来断行。\n",
    "* 如需把不同语句放在同一行，可以使用“;”来断行，如："
   ]
  },
  {
   "cell_type": "code",
   "execution_count": null,
   "metadata": {},
   "outputs": [],
   "source": [
    "a=10;b=100;print(a+b)  #三行语句"
   ]
  },
  {
   "cell_type": "markdown",
   "metadata": {},
   "source": [
    "* Python的代码块不使用“{}”等符号，Python是用**缩进**来标识代码块或模块。\n",
    "* 缩进的空格数量是可变的，可以使用空格、制表(Tab键)等进行缩进；\n",
    "    * 一个Tab键一般表示4个空格。\n",
    "* **同一个代码块的语句必须包含相同的缩进**。"
   ]
  },
  {
   "cell_type": "code",
   "execution_count": null,
   "metadata": {},
   "outputs": [],
   "source": [
    "def squares(n=10):  # 这是一个函数代码块\n",
    "    print('Generating squares from 1 to %d'% (n**2))\n",
    "    for i in range (1,n+1):  # 这是一个循环代码块\n",
    "        print (i**2, end=' ')  # 循环代码块结束，函数代码块结束\n",
    "\n",
    "squares()"
   ]
  },
  {
   "cell_type": "markdown",
   "metadata": {},
   "source": [
    "* **长句跨行**：\n",
    "    * 如果是在[]、{}、或()中，可直接使用**回车键**换行；\n",
    "    * 除此之外，可使用**反斜杠**“\\”来换行，不加会报错。"
   ]
  },
  {
   "cell_type": "code",
   "execution_count": null,
   "metadata": {},
   "outputs": [],
   "source": [
    "a=1+2+3+\\\n",
    "  4+5+6+\\\n",
    "  7+8+9\n",
    "a"
   ]
  },
  {
   "cell_type": "markdown",
   "metadata": {},
   "source": [
    "## 4. 变量与对象\n",
    "* Python中的任何数值、字符串、数据结构、函数、类、模块等都是**对象**。\n",
    "* 每个对象都有标识符、类型(type)和值(value)。\n",
    "* 几乎所有对象都有方法和属性，访问该对象内部数据的方式有两种：\n",
    "    * “对象名.方法(参数1,参数2,$\\cdots$,参数n)”\n",
    "    * “对象名.属性”"
   ]
  },
  {
   "cell_type": "code",
   "execution_count": null,
   "metadata": {},
   "outputs": [],
   "source": [
    "dir(sum)  #查看对象的属性和方法\n",
    "sum.__call__"
   ]
  },
  {
   "cell_type": "markdown",
   "metadata": {},
   "source": [
    "* **变量**是统计学中的一个概念，也是进行数据分析的基础。\n",
    "* Python中的变量也是对象，**在被引用时应当事先声明（定义）**，如："
   ]
  },
  {
   "cell_type": "code",
   "execution_count": null,
   "metadata": {},
   "outputs": [],
   "source": [
    "print(b)  #变量b没有事先声明，对其直接引用系统会提示错误。"
   ]
  },
  {
   "cell_type": "markdown",
   "metadata": {},
   "source": [
    "* 因Python中“一切皆对象”，**变量中存放的只是对象的引用**。\n",
    "* **赋值**即为创建赋值号“=”右侧对象的一个引用，如："
   ]
  },
  {
   "cell_type": "code",
   "execution_count": null,
   "metadata": {},
   "outputs": [],
   "source": [
    "a=[1,2,3]  #把列表[1,2,3]赋值给对象a\n",
    "print(\"a=\",a)\n",
    "b=a\n",
    "print(\"b=\",b)\n",
    "a.append(4)  #append是列表对象的一个方法，即：在对象a引用的列表中增加一个元素\n",
    "print(\"a=\",a)\n",
    "print(\"b=\",b)\n",
    "a is b"
   ]
  },
  {
   "cell_type": "markdown",
   "metadata": {},
   "source": [
    "* 从上述结果可以看出：\n",
    "    * 对象b赋值为a后，便创建了b对a的一个引用，二者id是一样的；\n",
    "    * a的值发生变化则b也会对应发生变化，这种情形被称为**绑定**。\n",
    "    * 但是如果对a重新赋值，则绑定自动解除。"
   ]
  },
  {
   "cell_type": "code",
   "execution_count": null,
   "metadata": {},
   "outputs": [],
   "source": [
    "a=['a','b','c']\n",
    "print(\"a=\",a)\n",
    "print(\"b=\",b)\n",
    "a is b"
   ]
  },
  {
   "cell_type": "markdown",
   "metadata": {},
   "source": [
    "* 从上面的内容可以看出，对象之间的赋值并不是复制。\n",
    "* **复制**：指复制对象与原始对象不是同一个对象，原始对象发生任何变化都不会影响复制对象的变化。\n",
    "    * 对象之间的复制可以调用copy包来实现。\n",
    "* **浅复制**：指复制了对象的，对象的元素被复制，但**对于对象中的子元素仍然是引用**，如："
   ]
  },
  {
   "cell_type": "code",
   "execution_count": null,
   "metadata": {},
   "outputs": [],
   "source": [
    "a=[1,2,['a','b']]  #对象a含有3个子元素，其中第3个子元素又含有两个子元素\n",
    "\n",
    "from copy import copy  #调用Python基本库之外的其他模块或包中的某项功能\n",
    "b=copy(a)\n",
    "print(\"a=\",a)\n",
    "print(\"b=\",b)\n",
    "a is b"
   ]
  },
  {
   "cell_type": "code",
   "execution_count": null,
   "metadata": {},
   "outputs": [],
   "source": [
    "a.append(3)\n",
    "print(\"a=\",a)\n",
    "print(\"b=\",b)"
   ]
  },
  {
   "cell_type": "code",
   "execution_count": null,
   "metadata": {},
   "outputs": [],
   "source": [
    "a[2].append('c')  #索引号是从0开始的\n",
    "print(\"a=\",a)\n",
    "print(\"b=\",b)"
   ]
  },
  {
   "cell_type": "markdown",
   "metadata": {},
   "source": [
    "* **深复制**：指完全复制一个对象的所有元素及其子元素，如："
   ]
  },
  {
   "cell_type": "code",
   "execution_count": null,
   "metadata": {},
   "outputs": [],
   "source": [
    "a=[1,2,['a','b']]\n",
    "from copy import deepcopy\n",
    "b=deepcopy(a)\n",
    "print(\"a=\",a)\n",
    "print(\"b=\",b)"
   ]
  },
  {
   "cell_type": "code",
   "execution_count": null,
   "metadata": {},
   "outputs": [],
   "source": [
    "a.append(3)\n",
    "print(\"a=\",a)\n",
    "print(\"b=\",b)"
   ]
  },
  {
   "cell_type": "code",
   "execution_count": null,
   "metadata": {},
   "outputs": [],
   "source": [
    "a[2].append('c')\n",
    "print(\"a=\",a)\n",
    "print(\"b=\",b)"
   ]
  },
  {
   "cell_type": "markdown",
   "metadata": {},
   "source": [
    "## 5. 数字与表达式\n",
    "* 在Python3中使用数字和表达式要注意其数字类型。\n",
    "* **数字类型**注意有：\n",
    "    * int：整型\n",
    "    * float：浮点型\n",
    "    * bool：布尔型或逻辑型\n",
    "    * complex：复数型\n",
    "* type()是一个可以查看Python对象类型的函数，返回对象类型。"
   ]
  },
  {
   "cell_type": "code",
   "execution_count": null,
   "metadata": {},
   "outputs": [],
   "source": [
    "print(10, type(10))\n",
    "2**10, type(2**10)  #整数型"
   ]
  },
  {
   "cell_type": "code",
   "execution_count": null,
   "metadata": {},
   "outputs": [],
   "source": [
    "3.14, type(3.14)  #浮点型"
   ]
  },
  {
   "cell_type": "code",
   "execution_count": null,
   "metadata": {},
   "outputs": [],
   "source": [
    "1==2, type(1==2)  #逻辑型"
   ]
  },
  {
   "cell_type": "code",
   "execution_count": null,
   "metadata": {},
   "outputs": [],
   "source": [
    "1+2e3j, type(1+2e3j)  #复数型"
   ]
  },
  {
   "cell_type": "markdown",
   "metadata": {},
   "source": [
    "#### 表3-1 常见数据类型的转换函数"
   ]
  },
  {
   "cell_type": "code",
   "execution_count": null,
   "metadata": {},
   "outputs": [],
   "source": [
    "int(3.14)  #转换为整数型"
   ]
  },
  {
   "cell_type": "code",
   "execution_count": null,
   "metadata": {},
   "outputs": [],
   "source": [
    "str(3.14)  #转换为字符串"
   ]
  },
  {
   "cell_type": "code",
   "execution_count": null,
   "metadata": {},
   "outputs": [],
   "source": [
    "tuple('apple')  #转换为元组"
   ]
  },
  {
   "cell_type": "code",
   "execution_count": null,
   "metadata": {},
   "outputs": [],
   "source": [
    "list('apple')  #转换为列表"
   ]
  },
  {
   "cell_type": "markdown",
   "metadata": {},
   "source": [
    "## 6. 运算符\n",
    "* Python中提供了诸多运算符对数据进行操作，如**表3-2**所示。\n",
    "    * 算数运算符\n",
    "    * 比较运算符\n",
    "    * 赋值运算符\n",
    "    * 位运算符\n",
    "    * 逻辑运算符：and、or和not\n",
    "    * 成员运算符：in和not in\n",
    "    * 身份运算符：is和is not\n",
    "* 这些运算符具有不同的**优先级**，如：\n",
    "    * 赋值运算符 >> 身份运算符 >> 成员运算符 >> 逻辑运算符"
   ]
  },
  {
   "cell_type": "code",
   "execution_count": null,
   "metadata": {},
   "outputs": [],
   "source": [
    "1+2**3*4/5-100"
   ]
  },
  {
   "cell_type": "code",
   "execution_count": null,
   "metadata": {},
   "outputs": [],
   "source": [
    "1+2>2 and 4>5+10"
   ]
  },
  {
   "cell_type": "code",
   "execution_count": null,
   "metadata": {},
   "outputs": [],
   "source": [
    "a=[1,2,3]\n",
    "print(3 in a)\n",
    "10*(3 in a)"
   ]
  },
  {
   "cell_type": "markdown",
   "metadata": {},
   "source": [
    "## 7. 字符串\n",
    "* 字符串是Python中最常用的数据类型之一，可以使用**单引号**或**双引号**来创建。\n",
    "* 当字符串中含有单引号时，只能用双引号来创建；"
   ]
  },
  {
   "cell_type": "code",
   "execution_count": null,
   "metadata": {},
   "outputs": [],
   "source": [
    "\"Let's go!\""
   ]
  },
  {
   "cell_type": "markdown",
   "metadata": {},
   "source": [
    "* 当字符串中含有双引号时，只能用单引号来创建；"
   ]
  },
  {
   "cell_type": "code",
   "execution_count": null,
   "metadata": {},
   "outputs": [],
   "source": [
    "'\"Hello, world\" pringting always is the first program.'"
   ]
  },
  {
   "cell_type": "markdown",
   "metadata": {},
   "source": [
    "* 字符串可以**自动拼接**，也可以使用加号“+”进行**拼接**。"
   ]
  },
  {
   "cell_type": "code",
   "execution_count": null,
   "metadata": {},
   "outputs": [],
   "source": [
    "\"Hello, \" 'world!'"
   ]
  },
  {
   "cell_type": "code",
   "execution_count": null,
   "metadata": {},
   "outputs": [],
   "source": [
    "\"Hello, \"+'world!'"
   ]
  },
  {
   "cell_type": "markdown",
   "metadata": {},
   "source": [
    "* 字符串可以使用星号“\\*”进行**重复**。"
   ]
  },
  {
   "cell_type": "code",
   "execution_count": null,
   "metadata": {},
   "outputs": [],
   "source": [
    "\"Hello, world!\"+'!'*10"
   ]
  },
  {
   "cell_type": "markdown",
   "metadata": {},
   "source": [
    "* 单个字符也是字符串。\n",
    "* 字符串可以通过**索引号**把对应位置的内容索引出来。\n",
    "    * 索引号：用来标注字符在字符串中所处的位置；\n",
    "    * 索引号可以**从左至右从0开始**，也可以从右至左从-1开始。"
   ]
  },
  {
   "cell_type": "code",
   "execution_count": null,
   "metadata": {},
   "outputs": [],
   "source": [
    "a=\"Python\"\n",
    "a[1]"
   ]
  },
  {
   "cell_type": "code",
   "execution_count": null,
   "metadata": {},
   "outputs": [],
   "source": [
    "a[-1]"
   ]
  },
  {
   "cell_type": "code",
   "execution_count": null,
   "metadata": {},
   "outputs": [],
   "source": [
    "a[2:5]  #\":\"的前后分别表示索引的起始位置和终止位置，终止位置不包括在内"
   ]
  },
  {
   "cell_type": "markdown",
   "metadata": {},
   "source": [
    "* **字符串是不可变的**，即不能直接对字符串的内容进行修改，如："
   ]
  },
  {
   "cell_type": "code",
   "execution_count": null,
   "metadata": {},
   "outputs": [],
   "source": [
    "a=\"Python\"\n",
    "a[0]='C'"
   ]
  },
  {
   "cell_type": "markdown",
   "metadata": {},
   "source": [
    "### 补充：字符串的编码方式\n",
    "#### 1. ASCII编码\n",
    "* ASCII码使用指定的7位或8位二进制数组合来表示256种可能的字符。\n",
    "* 0～128号表示**标准ASCII码**也叫**基础ASCII码**，使用7位二进制数(剩下的1位二进制为0)来表示字符。\n",
    "    * 0～31及127：表示控制字符或通信专用字符；\n",
    "    * 32～126：表示字符，其中32号表示空格，48～57表示0到9十个阿拉伯数字；\n",
    "    * 65～90：为26个大写英文字母；\n",
    "    * 97～122：为26个小写英文字母；\n",
    "    * 123~128：为一些标点符号、运算符号等。\n",
    "* 129～256号表示**扩展ASCII码**。\n",
    "* 不难看出，**常用的三种字符对应的ASCII值大小关系为：数字 < 小写字母 < 小写字母**。\n",
    "\n",
    "#### 2. Unicode编码\n",
    "* Unicode是一个编码方案，Unicode 是为了解决传统的字符编码方案的局限而产生的；\n",
    "* 它为每种语言中的每个字符设定了统一并且唯一的二进制编码，以满足跨语言、跨平台进行文本转换、处理的要求。\n",
    "* Unicode 编码共有三种具体实现，分别为utf-8,utf-16,utf-32，其中\n",
    "    * utf-8占用一到四个字节；\n",
    "    * utf-16占用二或四个字节；\n",
    "    * utf-32占用四个字节。\n",
    "* Unicode 码在全球范围的信息交换领域均有广泛的应用。\n",
    "    * Python3中所有的字符串均采用Unicode字符串。\n",
    "    \n",
    "#### 字符串比较大小\n",
    "* 字符串的大小比较是通过比较ASCII码值实现的。\n",
    "    * 从字符串的第一个字符开始比较，谁的ASCII码大谁就大；\n",
    "    * 如果第一个相同，则比较第二个，以此类推。\n",
    "    * 如果都相同则相等。"
   ]
  },
  {
   "cell_type": "code",
   "execution_count": null,
   "metadata": {},
   "outputs": [],
   "source": [
    "'A'>'AB'"
   ]
  },
  {
   "cell_type": "code",
   "execution_count": null,
   "metadata": {},
   "outputs": [],
   "source": [
    "'a'>'AB'"
   ]
  },
  {
   "cell_type": "markdown",
   "metadata": {},
   "source": [
    "### 转义字符：\n",
    "* 字符串可以使用“\\”对特定字符进行转义，以实现特殊功能。\n",
    "* **当“\\”后面跟上特定字符时，才能发挥转义作用**。如：\n",
    "    * “\\n”表示换行；\n",
    "    * “\\r”表示回车；\n",
    "\n",
    "#### 表3-3 字符串中的转义字符。"
   ]
  },
  {
   "cell_type": "code",
   "execution_count": null,
   "metadata": {},
   "outputs": [],
   "source": [
    "ch=\"c:\\program files \\norton antivirus \\ officesv.dll\"\n",
    "print(ch)"
   ]
  },
  {
   "cell_type": "markdown",
   "metadata": {},
   "source": [
    "* 在转义字符前再加上“\\”，或在字符串之前加上“r”字符，可以实现**反转义**。\n",
    "    * 即：所有字符按照原本样子进行解释。"
   ]
  },
  {
   "cell_type": "code",
   "execution_count": null,
   "metadata": {},
   "outputs": [],
   "source": [
    "ch=\"c:\\program files \\\\norton antivirus \\ officesv.dll\"\n",
    "print(ch)"
   ]
  },
  {
   "cell_type": "code",
   "execution_count": null,
   "metadata": {},
   "outputs": [],
   "source": [
    "ch=r\"c:\\program files \\norton antivirus \\ officesv.dll\"\n",
    "print(ch)"
   ]
  },
  {
   "cell_type": "markdown",
   "metadata": {},
   "source": [
    "### 字符串格式化\n",
    "* Python中字符串采用的格式化方式主要用“%”实现。\n",
    "* %是占位符，有几个%占位符，后面就跟着几个变量或值，顺序是**一一对应**的。\n",
    "    * 如果只有一个%，括号可以省略。\n",
    "    * %s 这种格式永远起作用，它会把任何数据类型转换为字符串。\n",
    "\n",
    "#### 表3-4 字符串格式化的格式"
   ]
  },
  {
   "cell_type": "code",
   "execution_count": null,
   "metadata": {},
   "outputs": [],
   "source": [
    "\"Hello, %s\"  %'world!'"
   ]
  },
  {
   "cell_type": "code",
   "execution_count": null,
   "metadata": {},
   "outputs": [],
   "source": [
    "\"Hello, %s This is %s\"  %('world!','Python.')"
   ]
  },
  {
   "cell_type": "code",
   "execution_count": null,
   "metadata": {},
   "outputs": [],
   "source": [
    "\"Pi is %.2f\"  %3.1415926"
   ]
  },
  {
   "cell_type": "code",
   "execution_count": null,
   "metadata": {},
   "outputs": [],
   "source": [
    "\"Age: %s Gender: %s\"  %(25,'Male')"
   ]
  },
  {
   "cell_type": "code",
   "execution_count": null,
   "metadata": {},
   "outputs": [],
   "source": [
    "\"We must keep the growth rate at %s %%\"  %7"
   ]
  },
  {
   "cell_type": "markdown",
   "metadata": {},
   "source": [
    "* 字符串的格式化还可以使用字符串对象的**format**和**format_map**方法来实现。\n",
    "* 在Python3中使用format和format_map方法都可以进行字符串格式化。\n",
    "    * **format**是一种所有情况都能使用的格式化方法；\n",
    "    * **format_map**仅使用于字符串格式中可变数据参数来源于字典等**映射关系数据**时才可以使用。\n",
    "* format_map的参数不需传入“关键字=真实值”，而是直接传入真实的字典值。\n",
    "\n",
    "#### 例：现有一个字典，分别使用format和format_map输出相关信息："
   ]
  },
  {
   "cell_type": "code",
   "execution_count": null,
   "metadata": {},
   "outputs": [],
   "source": [
    "student={'name':'小明','class':'20190301','score':597.5}\n",
    "s1='{st[class]}班{st[name]}总分：{st[score]}'.format(st=student)\n",
    "s1"
   ]
  },
  {
   "cell_type": "code",
   "execution_count": null,
   "metadata": {},
   "outputs": [],
   "source": [
    "s2='{class}班{name}总分：{score}'.format_map(student)\n",
    "s2"
   ]
  },
  {
   "cell_type": "markdown",
   "metadata": {},
   "source": [
    "### 字符串的内置方法\n",
    "* Python内置的字符串的属性和方法有40多种，可使用dir()来查看。"
   ]
  },
  {
   "cell_type": "code",
   "execution_count": null,
   "metadata": {},
   "outputs": [],
   "source": [
    "dir(str)"
   ]
  },
  {
   "cell_type": "markdown",
   "metadata": {},
   "source": [
    "#### 表3-5 字符串内置方法"
   ]
  },
  {
   "cell_type": "code",
   "execution_count": null,
   "metadata": {},
   "outputs": [],
   "source": [
    "ss=\"this is sample No.1\"\n",
    "ss.capitalize()  #将字符串的第一个字符转换为大写"
   ]
  },
  {
   "cell_type": "code",
   "execution_count": null,
   "metadata": {},
   "outputs": [],
   "source": [
    "ss.casefold()  #将字符串的所有大写字符转换为小写"
   ]
  },
  {
   "cell_type": "code",
   "execution_count": null,
   "metadata": {},
   "outputs": [],
   "source": [
    "ss.count('i',6,10)  #返回str在字符串中出现的次数"
   ]
  },
  {
   "cell_type": "markdown",
   "metadata": {},
   "source": [
    "## 8. 日期和时间\n",
    "* Python内置的**datetime模块**提供了datetime、date以及time等类型；\n",
    "* 可以满足数据分析中对日期时间、日期和时间数据类型的需求。"
   ]
  },
  {
   "cell_type": "code",
   "execution_count": null,
   "metadata": {},
   "outputs": [],
   "source": [
    "from datetime import datetime\n",
    "dt=datetime(2017,3,20,10,8,0)  #2017年3月20日上午10点8分\n",
    "dt"
   ]
  },
  {
   "cell_type": "markdown",
   "metadata": {},
   "source": [
    "* 日期和时间可以运算差值。"
   ]
  },
  {
   "cell_type": "code",
   "execution_count": null,
   "metadata": {},
   "outputs": [],
   "source": [
    "dt1=datetime(2016,3,20,10,8,0)\n",
    "dt-dt1"
   ]
  },
  {
   "cell_type": "markdown",
   "metadata": {},
   "source": [
    "* 在Python中，可以将日期和时间格式化为不同格式，也可以把其他类型数据转化为指定格式的日期时间。\n",
    "* 如，日期时间对象的strftime方法可以将日期和时间格式化为字符串："
   ]
  },
  {
   "cell_type": "code",
   "execution_count": null,
   "metadata": {},
   "outputs": [],
   "source": [
    "dt.strftime(\"%m/%d/%Y %H:%M\")"
   ]
  },
  {
   "cell_type": "markdown",
   "metadata": {},
   "source": [
    "* 可以用日期时间对象的replace方法替换日期和时间中的部分字段："
   ]
  },
  {
   "cell_type": "code",
   "execution_count": null,
   "metadata": {},
   "outputs": [],
   "source": [
    "dt.replace(year=2018,hour=12)"
   ]
  },
  {
   "cell_type": "markdown",
   "metadata": {},
   "source": [
    "* 字符串可以用datetime模块中的strptime函数将其转换为datetime对象："
   ]
  },
  {
   "cell_type": "code",
   "execution_count": null,
   "metadata": {},
   "outputs": [],
   "source": [
    "datetime.strptime('20170320','%Y%m%d')"
   ]
  },
  {
   "cell_type": "markdown",
   "metadata": {},
   "source": [
    "#### 表3-6 日期和时间格式化代码的主要功能\n",
    "\n",
    "|代码|说明||代码|说明|\n",
    "|--|--|--|--|--|\n",
    "|%y|4位数的年||%Y|2位数的年|\n",
    "|%m|2位数的月||%d|2位数的日|\n",
    "|%H|24小时制的时||%I|12小时制的时|\n",
    "|%M|2位数的分||%S|秒|\n",
    "\n",
    "* datetime模块定义了date、time、datetime、timedelta、tzinfo等类，这些类的对象都是**不可变的**。\n",
    "* 除了datetime模块外，Python还可以使用time、calendar、pytz、dateutil、pandas等模块来操作、处理日期和时间。"
   ]
  },
  {
   "cell_type": "code",
   "execution_count": null,
   "metadata": {},
   "outputs": [],
   "source": [
    "import calendar\n",
    "c=calendar.month(2017,3)  #2017年3月的日历\n",
    "c"
   ]
  },
  {
   "cell_type": "code",
   "execution_count": null,
   "metadata": {},
   "outputs": [],
   "source": [
    "print(c)"
   ]
  },
  {
   "cell_type": "markdown",
   "metadata": {},
   "source": [
    "## 9. 语法糖\n",
    "* 语法糖(syntax sugar)给编程人员提供了一种更实用的编写代码的方式。\n",
    "* 这种方式**只是一种编程技巧**，并没有给计算机语言添加新功能。"
   ]
  },
  {
   "cell_type": "code",
   "execution_count": null,
   "metadata": {},
   "outputs": [],
   "source": [
    "a=100;b=10\n",
    "print(\"before swap: a=\"+str(a)+\" b=\"+str(b))\n",
    "a,b=b,a  #语法糖\n",
    "print(\"after swap: a=\"+str(a)+\" b=\"+str(b))"
   ]
  },
  {
   "cell_type": "code",
   "execution_count": null,
   "metadata": {},
   "outputs": [],
   "source": [
    "a>b>1  #语法糖"
   ]
  },
  {
   "cell_type": "code",
   "execution_count": null,
   "metadata": {},
   "outputs": [],
   "source": [
    "'1' * 100  #语法糖"
   ]
  },
  {
   "cell_type": "code",
   "execution_count": null,
   "metadata": {},
   "outputs": [],
   "source": [
    "[1,2,3,4] + [5,6,7,8]  #语法糖"
   ]
  },
  {
   "cell_type": "markdown",
   "metadata": {},
   "source": [
    "* 上述的这些语法，在其它语言里通常不会出现的。但是在Python中却神奇的被支持了，所以这些都是当之无愧的**Python语法糖**。\n",
    "* Python中语法糖的用法非常多，如：\n",
    "    * **with语法糖**：\n",
    "    * **else语法糖**：第5章内容；\n",
    "        * 条件语句：if-else\n",
    "        * 循环语句：for-else，while-else，try-else\n",
    "    * **推导式**：第4章4.5节内容；\n",
    "    * **函数的动态参数/不定参数**：第6章6.2节内容；\n",
    "    * **匿名函数**：第6章6.4节内容；\n",
    "    * **yield语法糖**：第7章7.2节内容；\n",
    "        * 带有yield的函数在Python中被称之为**生成器**(generator)。\n",
    "    * **装饰器**：第7章7.3节内容。\n",
    "    \n",
    "### 补充：with语法糖\n",
    "* with语法糖实现的是一个**上下文管理器**。\n",
    "* **目的**：从流程图中把try，except和finally关键字和资源分配释放相关代码统统去掉；\n",
    "    * **简化try…except…finlally的处理流程**。\n",
    "* **条件**：with通过__enter__方法初始化，然后在__exit__中做善后以及处理异常。\n",
    "    * 即：使用with处理的对象**必须**有__enter__()和__exit__()这两个方法。\n",
    "    * __enter__()方法：在语句体（with语句包裹起来的代码块）执行之前进入运行；\n",
    "    * __exit__()方法：在语句体执行完毕退出后运行。\n",
    "* **应用场合**：with语句适用于对资源进行访问的场合，确保不管使用过程中是否发生异常都会执行必要的“清理”操作，释放资源。\n",
    "    * 比如：文件使用后自动关闭、线程中锁的自动获取和释放等。\n",
    "* **基本语法格式**：  \n",
    "    **with expression [as target]:**      \n",
    "    **with_body**\n",
    "    * expression：是一个需要执行的表达式；\n",
    "    * target：是一个变量或者元组，存储的是expression表达式执行返回的结果，可选参数；\n",
    "    * with_body：\n",
    "* **工作原理**：\n",
    "    * 紧跟with后面的语句会被求值，返回对象的__enter__()方法被调用，这个方法的返回值将被赋值给as关键字后面的变量；\n",
    "    * 当with后面的代码块全部被执行完之后，将调用前面返回对象的__exit__()方法。\n",
    "* with语句最关键的地方在于**被求值对象必须有__enter__()和__exit__()这两个方法**，那我们就可以通过自己实现这两方法来自定义with语句处理异常。\n",
    "* 例："
   ]
  },
  {
   "cell_type": "code",
   "execution_count": null,
   "metadata": {},
   "outputs": [],
   "source": [
    "with opened(r'd:\\\\test.txt') as f:\n",
    "    for line in f.readlines():\n",
    "        print line"
   ]
  },
  {
   "cell_type": "markdown",
   "metadata": {},
   "source": [
    "* opened中的\\__enter\\__()方法返回的是自身的引用，这个引用可以赋值给as子句中的f变量；\n",
    "* 返回值的类型可以根据实际需要设置为不同的类型，不必是上下文管理器对象本身。\n",
    "* \\__exit\\__()方法中对变量exc_trackback进行检测：\n",
    "    * 如果不为None，表示发生了异常，返回False表示需要由外部代码逻辑对异常进行处理；\n",
    "    * 如果没有发生异常，缺省的返回值为None，在布尔环境中也是被看做False；\n",
    "        * 但是由于没有异常发生，__exit__() 的三个参数都为 None，上下文管理代码可以检测这种情况，做正常处理。\n",
    "        * __exit__()方法的3个参数，分别代表异常的类型、值、以及堆栈信息。"
   ]
  },
  {
   "cell_type": "markdown",
   "metadata": {},
   "source": [
    "## 10. 魔术命令\n",
    "* 魔术命令(built-in magic commands)：是常规python代码的增强，通常以“%”字符为前缀。\n",
    "* 这些命令由IPython内核提供，基本上是为了解决常见问题而添加的，同时也为代码提供了一些快捷方式。\n",
    "* 魔术命令有两种类型：%前缀和%%前缀。\n",
    "    * % 前缀表示命令在一行代码上操作；\n",
    "    * %% 前缀允许命令在整个计算单元上操作。\n",
    "* 要查看能够使用的所有魔术命令的详细信息，可用如下魔术命令："
   ]
  },
  {
   "cell_type": "code",
   "execution_count": null,
   "metadata": {},
   "outputs": [],
   "source": [
    "%magic"
   ]
  },
  {
   "cell_type": "markdown",
   "metadata": {},
   "source": [
    "* %pwd：显示当前工作环境的路径。\n",
    "* %cd：更改当前工作目录。"
   ]
  },
  {
   "cell_type": "code",
   "execution_count": null,
   "metadata": {},
   "outputs": [],
   "source": [
    "%pwd"
   ]
  },
  {
   "cell_type": "code",
   "execution_count": null,
   "metadata": {},
   "outputs": [],
   "source": [
    "%cd \"D:\\\\\"\n",
    "%pwd"
   ]
  },
  {
   "cell_type": "markdown",
   "metadata": {},
   "source": [
    "* %time：一次执行一行语句，返回报告的总体执行时间。\n",
    "* %timeit：自动多次执行一行语句，返回**更精确**的平均执行时间。"
   ]
  },
  {
   "cell_type": "code",
   "execution_count": null,
   "metadata": {},
   "outputs": [],
   "source": [
    "%time pow(100,100000)"
   ]
  },
  {
   "cell_type": "code",
   "execution_count": null,
   "metadata": {},
   "outputs": [],
   "source": [
    "%timeit pow(100,100000)"
   ]
  },
  {
   "cell_type": "markdown",
   "metadata": {},
   "source": [
    "* %%time：返回多行代码的执行时间。\n",
    "* %%timeit：返回多行代码的平均执行时间。"
   ]
  },
  {
   "cell_type": "code",
   "execution_count": null,
   "metadata": {},
   "outputs": [],
   "source": [
    "%%time\n",
    "a=0\n",
    "for i in range(10000):\n",
    "    a=a+i**2"
   ]
  },
  {
   "cell_type": "code",
   "execution_count": null,
   "metadata": {},
   "outputs": [],
   "source": [
    "%%timeit\n",
    "a=0\n",
    "for i in range(10000):\n",
    "    a=a+i**2"
   ]
  },
  {
   "cell_type": "markdown",
   "metadata": {},
   "source": [
    "* %who：列出整个notebook中定义的所有变量。\n",
    "* %who int：列出整个notebook中定义的所有整数型变量。"
   ]
  },
  {
   "cell_type": "code",
   "execution_count": null,
   "metadata": {},
   "outputs": [],
   "source": [
    "%who"
   ]
  },
  {
   "cell_type": "code",
   "execution_count": null,
   "metadata": {},
   "outputs": [],
   "source": [
    "%who int"
   ]
  },
  {
   "cell_type": "markdown",
   "metadata": {},
   "source": [
    "* %matplotlib inline：将matplotlib调入当前工作环境中，进而显示Matplotlib图形。\n",
    "* 这个命令激活matplotlib对Jupyter Notebook的交互式支持。"
   ]
  },
  {
   "cell_type": "code",
   "execution_count": null,
   "metadata": {},
   "outputs": [],
   "source": [
    "import matplotlib.pyplot as plt \n",
    "%matplotlib inline\n",
    "\n",
    "a = [1,2,3]\n",
    "plt.plot(a)"
   ]
  },
  {
   "cell_type": "markdown",
   "metadata": {},
   "source": [
    "* 其他常用的魔术命令：\n",
    "\n",
    "|魔术命令|含义|\n",
    "|--|--|\n",
    "|%load|导入python文件|\n",
    "|%history|显示历史记录|"
   ]
  }
 ],
 "metadata": {
  "celltoolbar": "Raw Cell Format",
  "kernelspec": {
   "display_name": "Python 3",
   "language": "python",
   "name": "python3"
  },
  "language_info": {
   "codemirror_mode": {
    "name": "ipython",
    "version": 3
   },
   "file_extension": ".py",
   "mimetype": "text/x-python",
   "name": "python",
   "nbconvert_exporter": "python",
   "pygments_lexer": "ipython3",
   "version": "3.8.3"
  }
 },
 "nbformat": 4,
 "nbformat_minor": 4
}
