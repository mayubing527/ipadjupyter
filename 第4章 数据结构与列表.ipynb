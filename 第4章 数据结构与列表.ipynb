{
 "cells": [
  {
   "cell_type": "markdown",
   "metadata": {},
   "source": [
    "# 第4章 数据结构与列表\n",
    "* 在Python基本库中，**序列**是最常见也是最主要的数据结构类型。\n",
    "* **序列(sequence)：表示由多个元素组成的一列数据**。\n",
    "* 常见的序列数据结构类型有：\n",
    "    1. **数字**(number)：用于存储数值；\n",
    "    * **字符串**(string)：由数字、字母、下划线组成的一串字符；\n",
    "    * **列表**(list)：一维序列，变长、**可变**，内容可修改，用“[]”来标识；\n",
    "    * **元组**(tuple)：一维序列，定长、**不可变**，内容不能修改，用“()”来标识；\n",
    "    * **字典**(dict)：最重要的内置结构之一，大小**可变**的**键值对集**。其中键(key)和值(value)都是Python对象，用“{}”标识；\n",
    "    * **集合**(set)：由唯一元素组成的**无序集**，可看作只有键没有值的字典。\n",
    "* 列表、集合以及字典都可以用**推导式**来生成，这是Python最具特色的语言特性之一。\n",
    "#### 表4-1 可以执行序列类型转换的内置函数\n",
    "\n",
    "|函数|作用|\n",
    "|--|--|\n",
    "|tuple(s)|将序列s转换为**元组**|\n",
    "|list(s)|将序列s转换为**列表**|\n",
    "|dict(d)|创建一个**字典**，d必须是一个序列(key,value)元组|\n",
    "|set(s)|转换为**可变集合**|\n",
    "|frozenset(s)|转换为**不可变集合**|"
   ]
  },
  {
   "cell_type": "markdown",
   "metadata": {},
   "source": [
    "## 4.1. 列表\n",
    "* 列表(list)：是一种**有序序列**，各元素**用逗号分隔**，用“[]”来标识。"
   ]
  },
  {
   "cell_type": "code",
   "execution_count": 4,
   "metadata": {},
   "outputs": [
    {
     "data": {
      "text/plain": [
       "['David', 'Morgan', 'John', 'Jun']"
      ]
     },
     "execution_count": 4,
     "metadata": {},
     "output_type": "execute_result"
    }
   ],
   "source": [
    "name=['David','Morgan','John','Jun']\n",
    "name"
   ]
  },
  {
   "cell_type": "markdown",
   "metadata": {},
   "source": [
    "* 列表也可以用**list函数**来定义，可随时添加和删除其中的元素。"
   ]
  },
  {
   "cell_type": "code",
   "execution_count": null,
   "metadata": {},
   "outputs": [],
   "source": [
    "list(\"Hello, world!\")"
   ]
  },
  {
   "cell_type": "markdown",
   "metadata": {},
   "source": [
    "### 4.1.1 列表索引和切片\n",
    "* Python中用索引运算符“[]”来访问列表中每一个位置的元素。\n",
    "* **索引**有两种运算方式：\n",
    "    * 从左到右：从0开始，为0,1,2,$\\cdots$；\n",
    "    * 从右到左：从-1开始，为-1,-2,-3,$\\cdots$。"
   ]
  },
  {
   "cell_type": "code",
   "execution_count": 5,
   "metadata": {},
   "outputs": [
    {
     "name": "stdout",
     "output_type": "stream",
     "text": [
      "['David', 'Morgan', 'John', 'Jun']\n"
     ]
    },
    {
     "data": {
      "text/plain": [
       "'Morgan'"
      ]
     },
     "execution_count": 5,
     "metadata": {},
     "output_type": "execute_result"
    }
   ],
   "source": [
    "print(name)\n",
    "name[1]"
   ]
  },
  {
   "cell_type": "code",
   "execution_count": 6,
   "metadata": {},
   "outputs": [
    {
     "data": {
      "text/plain": [
       "'Jun'"
      ]
     },
     "execution_count": 6,
     "metadata": {},
     "output_type": "execute_result"
    }
   ],
   "source": [
    "name[-1]"
   ]
  },
  {
   "cell_type": "markdown",
   "metadata": {},
   "source": [
    "* **列表切片**可以通过“:”隔开的**两个索引**来实现。\n",
    "* 如果提供两个索引作为边界，则\n",
    "    * 第一个索引：作为**起始点**，其元素**包含**在切片内；\n",
    "    * 第二个索引：作为**结束点**，其元素**不包含**在切片内。"
   ]
  },
  {
   "cell_type": "code",
   "execution_count": 8,
   "metadata": {},
   "outputs": [
    {
     "name": "stdout",
     "output_type": "stream",
     "text": [
      "['David', 'Morgan', 'John', 'Jun']\n"
     ]
    },
    {
     "data": {
      "text/plain": [
       "['Morgan']"
      ]
     },
     "execution_count": 8,
     "metadata": {},
     "output_type": "execute_result"
    }
   ],
   "source": [
    "print(name)\n",
    "name[1:2]"
   ]
  },
  {
   "cell_type": "code",
   "execution_count": null,
   "metadata": {},
   "outputs": [],
   "source": [
    "name[:2]  #起始点缺失，默认起始点为0"
   ]
  },
  {
   "cell_type": "code",
   "execution_count": null,
   "metadata": {},
   "outputs": [],
   "source": [
    "name[1:]  #结束点缺失，默认结束点为列表最后一个元素的索引加一"
   ]
  },
  {
   "cell_type": "code",
   "execution_count": null,
   "metadata": {},
   "outputs": [],
   "source": [
    "name[:]  #起始点与结束点均缺失，表示列表内所有元素"
   ]
  },
  {
   "cell_type": "markdown",
   "metadata": {},
   "source": [
    "* 列表切片时除了可以指定索引位置的上下界，还可以通过第二个“:”来**指定切片步长**。"
   ]
  },
  {
   "cell_type": "code",
   "execution_count": 10,
   "metadata": {},
   "outputs": [
    {
     "data": {
      "text/plain": [
       "[1, 3, 5, 7, 9]"
      ]
     },
     "execution_count": 10,
     "metadata": {},
     "output_type": "execute_result"
    }
   ],
   "source": [
    "n=[1,2,3,4,5,6,7,8,9,10]\n",
    "n[0:10:2]"
   ]
  },
  {
   "cell_type": "code",
   "execution_count": null,
   "metadata": {},
   "outputs": [],
   "source": [
    "n[::3]"
   ]
  },
  {
   "cell_type": "code",
   "execution_count": 11,
   "metadata": {},
   "outputs": [
    {
     "data": {
      "text/plain": [
       "[10, 9, 8, 7, 6, 5, 4, 3, 2, 1]"
      ]
     },
     "execution_count": 11,
     "metadata": {},
     "output_type": "execute_result"
    }
   ],
   "source": [
    "n[::-1]  #将列表元素倒序"
   ]
  },
  {
   "cell_type": "markdown",
   "metadata": {},
   "source": [
    "### 4.1.2 列表操作\n",
    "* 列表可以进行“+”和“\\*”的基本操作，但要**注意这些符号不是运算**。\n",
    "* “+”指把不同的列表合并起来成为一个新的列表。\n",
    "* “\\*”指重复列表元素的次数。"
   ]
  },
  {
   "cell_type": "code",
   "execution_count": 12,
   "metadata": {},
   "outputs": [
    {
     "data": {
      "text/plain": [
       "[1, 2, 3, 4, 5, 6]"
      ]
     },
     "execution_count": 12,
     "metadata": {},
     "output_type": "execute_result"
    }
   ],
   "source": [
    "n1=[1,2,3]; n2=[4,5,6]\n",
    "n1+n2"
   ]
  },
  {
   "cell_type": "code",
   "execution_count": 14,
   "metadata": {},
   "outputs": [
    {
     "name": "stdout",
     "output_type": "stream",
     "text": [
      "n3= ['P', 'y', 't', 'h', 'o', 'n']\n"
     ]
    },
    {
     "data": {
      "text/plain": [
       "[1, 2, 3, 'P', 'y', 't', 'h', 'o', 'n']"
      ]
     },
     "execution_count": 14,
     "metadata": {},
     "output_type": "execute_result"
    }
   ],
   "source": [
    "n3=list('Python')\n",
    "print(\"n3=\",n3)\n",
    "n1+n3"
   ]
  },
  {
   "cell_type": "code",
   "execution_count": 15,
   "metadata": {},
   "outputs": [
    {
     "data": {
      "text/plain": [
       "[1, 2, 3, 1, 2, 3]"
      ]
     },
     "execution_count": 15,
     "metadata": {},
     "output_type": "execute_result"
    }
   ],
   "source": [
    "n1*2"
   ]
  },
  {
   "cell_type": "markdown",
   "metadata": {},
   "source": [
    "* 可以使用“in”成员运算符检查一个元素是否在列表中，即**判断列表的成员资格**。"
   ]
  },
  {
   "cell_type": "code",
   "execution_count": 17,
   "metadata": {},
   "outputs": [
    {
     "name": "stdout",
     "output_type": "stream",
     "text": [
      "['David', 'Morgan', 'John', 'Jun']\n"
     ]
    },
    {
     "data": {
      "text/plain": [
       "False"
      ]
     },
     "execution_count": 17,
     "metadata": {},
     "output_type": "execute_result"
    }
   ],
   "source": [
    "print(name)\n",
    "\"morgan\" in name"
   ]
  },
  {
   "cell_type": "code",
   "execution_count": 18,
   "metadata": {},
   "outputs": [
    {
     "data": {
      "text/plain": [
       "True"
      ]
     },
     "execution_count": 18,
     "metadata": {},
     "output_type": "execute_result"
    }
   ],
   "source": [
    "\"Morgan\" in name"
   ]
  },
  {
   "cell_type": "markdown",
   "metadata": {},
   "source": [
    "* 列表还可以**删除**和**分片赋值**。"
   ]
  },
  {
   "cell_type": "code",
   "execution_count": 19,
   "metadata": {},
   "outputs": [
    {
     "name": "stdout",
     "output_type": "stream",
     "text": [
      "['David', 'Morgan', 'John', 'Jun']\n"
     ]
    },
    {
     "data": {
      "text/plain": [
       "['David']"
      ]
     },
     "execution_count": 19,
     "metadata": {},
     "output_type": "execute_result"
    }
   ],
   "source": [
    "print(name)\n",
    "del name[1:]\n",
    "name"
   ]
  },
  {
   "cell_type": "code",
   "execution_count": 20,
   "metadata": {},
   "outputs": [
    {
     "data": {
      "text/plain": [
       "['David', 'a', 'p', 'p', 'l', 'e']"
      ]
     },
     "execution_count": 20,
     "metadata": {},
     "output_type": "execute_result"
    }
   ],
   "source": [
    "name[1:]=list('apple')\n",
    "name"
   ]
  },
  {
   "cell_type": "markdown",
   "metadata": {},
   "source": [
    "* 列表还可以通过“=”来实现**引用传递**和**浅复制**。(参考第3.2.4小节)"
   ]
  },
  {
   "cell_type": "code",
   "execution_count": 21,
   "metadata": {},
   "outputs": [
    {
     "name": "stdout",
     "output_type": "stream",
     "text": [
      "a= [1, 2, 3, 4]\n",
      "b= [1, 2, 3, 4]\n"
     ]
    }
   ],
   "source": [
    "a=[1,2,3]\n",
    "b=a\n",
    "a.append(4)\n",
    "print(\"a=\",a)\n",
    "print(\"b=\",b)"
   ]
  },
  {
   "cell_type": "code",
   "execution_count": 22,
   "metadata": {},
   "outputs": [
    {
     "name": "stdout",
     "output_type": "stream",
     "text": [
      "a= [1, 2, 3, 4]\n",
      "b= [1, 2, 3]\n"
     ]
    }
   ],
   "source": [
    "a=[1,2,3]\n",
    "b=a\n",
    "a=a+[4]  #对a用'='重新赋值，则a与b的绑定自动解除\n",
    "print(\"a=\",a)\n",
    "print(\"b=\",b)"
   ]
  },
  {
   "cell_type": "markdown",
   "metadata": {},
   "source": [
    "### 4.1.3 内置列表函数\n",
    "* Python基本库中内置了一些对列表进行操作的函数，可以进行列表比较、元素统计等基本操作；\n",
    "* 这些函数也可对其他类型的序列进行操作。\n",
    "#### 表4-2 常用的内置列表函数"
   ]
  },
  {
   "cell_type": "code",
   "execution_count": null,
   "metadata": {},
   "outputs": [],
   "source": [
    "len(name)"
   ]
  },
  {
   "cell_type": "markdown",
   "metadata": {},
   "source": [
    "#### 补充：range()函数\n",
    "* range()可创建一个整数列表，一般用在for循环中。\n",
    "* 函数语法：range(start, stop[, step])\n",
    "* 参数说明：\n",
    "    * start：计数从start开始。默认是从0开始。例如range(5)等价于range(0,5)；\n",
    "    * stop：计数到stop结束，但不包括stop，**不可缺失**。例如：range(0,5)是[0, 1, 2, 3, 4]没有5。\n",
    "    * step：步长，默认为1。例如：range(0,5)等价于range(0,5,1)。"
   ]
  },
  {
   "cell_type": "markdown",
   "metadata": {},
   "source": [
    "### 4.1.4 列表方法\n",
    "* 列表方法可以通过“**列表对象.列表方法(参数)**”的方式进行调用。\n",
    "#### 表4-3 常用列表方法及其作用"
   ]
  },
  {
   "cell_type": "markdown",
   "metadata": {},
   "source": [
    "## 4.2 元组\n",
    "* 元组(tuple)与列表一样，也是一种序列。\n",
    "    * 但是元组是不可变的，即不能修改的；\n",
    "    * 用“,”分隔，通常用“()”括起来。"
   ]
  },
  {
   "cell_type": "code",
   "execution_count": null,
   "metadata": {},
   "outputs": [],
   "source": [
    "(1,2,3)"
   ]
  },
  {
   "cell_type": "code",
   "execution_count": null,
   "metadata": {},
   "outputs": [],
   "source": [
    "1,2,3"
   ]
  },
  {
   "cell_type": "markdown",
   "metadata": {},
   "source": [
    "* **元组切片**：可以用**tuple函数**创建元组和访问元组元素。"
   ]
  },
  {
   "cell_type": "code",
   "execution_count": null,
   "metadata": {},
   "outputs": [],
   "source": [
    "t=tuple(\"Python!\")\n",
    "t"
   ]
  },
  {
   "cell_type": "code",
   "execution_count": null,
   "metadata": {},
   "outputs": [],
   "source": [
    "t1=t+([1,2],)\n",
    "t1"
   ]
  },
  {
   "cell_type": "markdown",
   "metadata": {},
   "source": [
    "* **元组是不可变的**，不能对其中的元素进行增、删、插、改等操作。\n",
    "* 但元组对象中的可变元素(如列表)是可以进行更改的，如："
   ]
  },
  {
   "cell_type": "code",
   "execution_count": null,
   "metadata": {},
   "outputs": [],
   "source": [
    "t1[-1].append(3)\n",
    "t1"
   ]
  },
  {
   "cell_type": "markdown",
   "metadata": {},
   "source": [
    "* **元组拆包**：当对元组型变量表达式进行赋值时，Python就会尝试将“=”右侧的值进行拆包复制给相应的对象。"
   ]
  },
  {
   "cell_type": "code",
   "execution_count": null,
   "metadata": {},
   "outputs": [],
   "source": [
    "country=('China','USA','UK','Japan')\n",
    "a1,a2,a3,a4=country\n",
    "a2"
   ]
  },
  {
   "cell_type": "code",
   "execution_count": null,
   "metadata": {},
   "outputs": [],
   "source": [
    "a1,a4"
   ]
  },
  {
   "cell_type": "markdown",
   "metadata": {},
   "source": [
    "## 4.3 字典\n",
    "* 字典(dict)使用**键-值**(key-value)存储，具有较快的查找速度，是大数据分析过程中最常见的数据结构之一。\n",
    "* 字典使用“{}”将字典元素(即**项**，item)括起来，用“:”分隔键和值，并用“,”分隔项来定义。\n",
    "* 字典的值可以通过键来引用。"
   ]
  },
  {
   "cell_type": "code",
   "execution_count": null,
   "metadata": {},
   "outputs": [],
   "source": [
    "d={'Name':'Michael','Gender':'Male','Age':35}  #包含3项\n",
    "d['Name']"
   ]
  },
  {
   "cell_type": "markdown",
   "metadata": {},
   "source": [
    "* 可以使用**dict()函数**根据序列来创建字典。"
   ]
  },
  {
   "cell_type": "code",
   "execution_count": null,
   "metadata": {},
   "outputs": [],
   "source": [
    "items=[('Name','Michael'),('Gender','Male'),('Age',35)]\n",
    "dict(items)"
   ]
  },
  {
   "cell_type": "code",
   "execution_count": null,
   "metadata": {},
   "outputs": [],
   "source": [
    "dict([('Name','Michael'),('Gender','Male'),('Age',35)])"
   ]
  },
  {
   "cell_type": "markdown",
   "metadata": {},
   "source": [
    "* **字典的基本操作**在很多方面与序列类似。\n",
    "* d[k]：返回d中项(键-值对)的数量。"
   ]
  },
  {
   "cell_type": "code",
   "execution_count": null,
   "metadata": {},
   "outputs": [],
   "source": [
    "len(d)"
   ]
  },
  {
   "cell_type": "markdown",
   "metadata": {},
   "source": [
    "* d[k]：返回关联到键k上的值。"
   ]
  },
  {
   "cell_type": "code",
   "execution_count": null,
   "metadata": {},
   "outputs": [],
   "source": [
    "d['Name']"
   ]
  },
  {
   "cell_type": "markdown",
   "metadata": {},
   "source": [
    "* d[k]=v：将值v关联到键k上；\n",
    "* 即使键在字典中并不存在，也可以为它赋值，这样字典就会建立新的项。"
   ]
  },
  {
   "cell_type": "code",
   "execution_count": null,
   "metadata": {},
   "outputs": [],
   "source": [
    "d['Name']='Tom'\n",
    "d"
   ]
  },
  {
   "cell_type": "code",
   "execution_count": null,
   "metadata": {},
   "outputs": [],
   "source": [
    "d[23]=\"Hello, world!\"\n",
    "d"
   ]
  },
  {
   "cell_type": "markdown",
   "metadata": {},
   "source": [
    "* del d[k]：删除键为k的项；"
   ]
  },
  {
   "cell_type": "code",
   "execution_count": null,
   "metadata": {},
   "outputs": [],
   "source": [
    "del d[23]\n",
    "d"
   ]
  },
  {
   "cell_type": "markdown",
   "metadata": {},
   "source": [
    "* k in d：检测d中是否含有键为k的项。\n",
    "* **注意：成员资格查找的是键，而不是值**。"
   ]
  },
  {
   "cell_type": "code",
   "execution_count": null,
   "metadata": {},
   "outputs": [],
   "source": [
    "'Tom' in d"
   ]
  },
  {
   "cell_type": "code",
   "execution_count": null,
   "metadata": {},
   "outputs": [],
   "source": [
    "'Name' in d"
   ]
  },
  {
   "cell_type": "markdown",
   "metadata": {},
   "source": [
    "* 字典中的**键是唯一的**，但值不一定是唯一的。\n",
    "    * 字典的**键必须是不可变类型**，如数字、字符串或元组。\n",
    "    * 字典值可以无限制的取任何Python对象，既可以是标准的对象，也可以是用户自定义的对象。"
   ]
  },
  {
   "cell_type": "code",
   "execution_count": null,
   "metadata": {},
   "outputs": [],
   "source": [
    "d['Name']=['Tom','Tom','Jerry']  #字典的一键多值\n",
    "d"
   ]
  },
  {
   "cell_type": "markdown",
   "metadata": {},
   "source": [
    "#### 表4-4 常用字典方法\n",
    "* items：将字典所有的**项**以列表方式返回，列表中的每一项都表示为(键，值)对的形式。\n",
    "* keys：将字典中的所有**键**以列表形式返回。\n",
    "* values：将字典中的所有**值**以列表形式返回。"
   ]
  },
  {
   "cell_type": "code",
   "execution_count": null,
   "metadata": {},
   "outputs": [],
   "source": [
    "print(d)\n",
    "d.items()"
   ]
  },
  {
   "cell_type": "code",
   "execution_count": null,
   "metadata": {},
   "outputs": [],
   "source": [
    "d.keys()"
   ]
  },
  {
   "cell_type": "code",
   "execution_count": null,
   "metadata": {},
   "outputs": [],
   "source": [
    "d.values()"
   ]
  },
  {
   "cell_type": "markdown",
   "metadata": {},
   "source": [
    "## 4.4 集合\n",
    "* 集合(set)是由唯一元素组成的无序集，支持**并**、**交**、**差**和**对称差集**等运算。\n",
    "    * 对称差集：相当于布尔逻辑中的异或。\n",
    "* 集合包含两种类型：**可变集合**(set)和**不可变集合**(frozenset)。\n",
    "* 集合是**无序集**，不记录元素位置。\n",
    "    * 不支持索引、分片等类似序列的操作；\n",
    "    * 只能遍历或使用in、not in来访问或判断集合元素。\n",
    "* **集合的创建方式**：\n",
    "    * 可以通过set()、frozenset()等函数来创建；\n",
    "    * 也可以通过用“{}”把元素括起来创建。"
   ]
  },
  {
   "cell_type": "code",
   "execution_count": null,
   "metadata": {},
   "outputs": [],
   "source": [
    "s1=set([1,2]); s1"
   ]
  },
  {
   "cell_type": "markdown",
   "metadata": {},
   "source": [
    "* 集合中的元素不能重复。"
   ]
  },
  {
   "cell_type": "code",
   "execution_count": null,
   "metadata": {},
   "outputs": [],
   "source": [
    "s2={3,4,3}; s2"
   ]
  },
  {
   "cell_type": "code",
   "execution_count": null,
   "metadata": {},
   "outputs": [],
   "source": [
    "s1,s2"
   ]
  },
  {
   "cell_type": "code",
   "execution_count": null,
   "metadata": {},
   "outputs": [],
   "source": [
    "s1.union(s2)  #集合的并运算"
   ]
  },
  {
   "cell_type": "code",
   "execution_count": null,
   "metadata": {},
   "outputs": [],
   "source": [
    "s1|s2   #集合的并运算"
   ]
  },
  {
   "cell_type": "markdown",
   "metadata": {},
   "source": [
    "* 如果需要创建空集合，必须使用set和frozenset函数来创建。"
   ]
  },
  {
   "cell_type": "code",
   "execution_count": null,
   "metadata": {},
   "outputs": [],
   "source": [
    "s=set()\n",
    "type(sk)"
   ]
  },
  {
   "cell_type": "code",
   "execution_count": null,
   "metadata": {},
   "outputs": [],
   "source": [
    "s=frozenset()\n",
    "type(s)"
   ]
  },
  {
   "cell_type": "code",
   "execution_count": null,
   "metadata": {},
   "outputs": [],
   "source": [
    "s={}\n",
    "type(s)"
   ]
  },
  {
   "cell_type": "markdown",
   "metadata": {},
   "source": [
    "#### 表4-5 常用集合方法\n",
    "* difference：集合的差，用符号“-”表示。\n",
    "* intersection：集合的交，用符号“&”表示。\n",
    "* union：集合的并，用符号“|”表示，或直接用“集合1.union(集合2)”。"
   ]
  },
  {
   "cell_type": "code",
   "execution_count": null,
   "metadata": {},
   "outputs": [],
   "source": [
    "s1={1,2,3,4}\n",
    "s2={1,3}\n",
    "s1-s2  #差"
   ]
  },
  {
   "cell_type": "code",
   "execution_count": null,
   "metadata": {},
   "outputs": [],
   "source": [
    "s1&s2  #交"
   ]
  },
  {
   "cell_type": "code",
   "execution_count": null,
   "metadata": {},
   "outputs": [],
   "source": [
    "s1|s2  #并"
   ]
  },
  {
   "cell_type": "markdown",
   "metadata": {},
   "source": [
    "## 4.5 推导式\n",
    "* 推导式(comprehensions)是一种将for循环、if表达式以及赋值语句放到**单一语句**中产生序列的一种方法。\n",
    "\n",
    "### （1）列表推导式\n",
    "* 列表推导式只需一条表达式就能非常简洁地构造一个新列表；\n",
    "* 其**基本形式**为：[expression **for** value **in** collection **if** condition]\n",
    "    * **注意：if语句可以缺失**。\n",
    "* 其主要目的是根据一定条件生成列表。"
   ]
  },
  {
   "cell_type": "code",
   "execution_count": null,
   "metadata": {},
   "outputs": [],
   "source": [
    "string=['china','japan','USA','uk','France','Germany']\n",
    "[x.upper() for x in string if len(x)>2]"
   ]
  },
  {
   "cell_type": "markdown",
   "metadata": {},
   "source": [
    "#### 问题：如果仅想把列表中各字符串的首字母改成大写，该如何写相应的列表推导式？"
   ]
  },
  {
   "cell_type": "code",
   "execution_count": null,
   "metadata": {},
   "outputs": [],
   "source": [
    "string=['china','japan','USA','uk','France','Germany']\n",
    "[x[0].upper()+x[1:] for x in string]  #if语句可以缺失"
   ]
  },
  {
   "cell_type": "markdown",
   "metadata": {},
   "source": [
    "* **嵌套列表推导式**：可以编写任意多层的推导式嵌套。"
   ]
  },
  {
   "cell_type": "code",
   "execution_count": null,
   "metadata": {},
   "outputs": [],
   "source": [
    "names=[['Abby','Angelia','Tammy','Barbara'],['Hannah','Ishara','Heidi','Tiffany']]\n",
    "[x for string in names for x in string if x.count('a')>=2]"
   ]
  },
  {
   "cell_type": "code",
   "execution_count": null,
   "metadata": {},
   "outputs": [],
   "source": [
    "names=['Abby','Angelia','Tammy','Barbara','Hannah','Ishara','Heidi','Tiffany']\n",
    "[x for x in names if x.count('a')>=2]"
   ]
  },
  {
   "cell_type": "markdown",
   "metadata": {},
   "source": [
    "#### 练习：快速创建一个包含1-10之间所有偶数的列表。"
   ]
  },
  {
   "cell_type": "code",
   "execution_count": null,
   "metadata": {},
   "outputs": [],
   "source": [
    "[i for i in range(1,11) if i%2==0]"
   ]
  },
  {
   "cell_type": "markdown",
   "metadata": {},
   "source": [
    "#### 练习：现有一列表lst = [[1, 2, 3], [4, 5, 6], [7, 8, 9]]，要求使用列表推导式从中取出1/4/7和1/5/9元素。"
   ]
  },
  {
   "cell_type": "code",
   "execution_count": null,
   "metadata": {},
   "outputs": [],
   "source": [
    "lst=[[1,2,3], [4,5,6], [7,8,9]]\n",
    "lst1=[lst[i][0] for i in range(len(lst))]\n",
    "print(lst1)\n",
    "lst2=[lst[i][i] for i in range(len(lst))]\n",
    "print(lst2)"
   ]
  },
  {
   "cell_type": "markdown",
   "metadata": {},
   "source": [
    "### （2）集合推导式\n",
    "* 集合推导式与列表推导式的**唯一区别**就是它用的是花括号“{}”。\n",
    "* 其**基本形式**为：{expression **for** value **in** collection **if** condition}\n",
    "* 其主要目的是根据一定条件生成集合。"
   ]
  },
  {
   "cell_type": "code",
   "execution_count": null,
   "metadata": {},
   "outputs": [],
   "source": [
    "string=['china','japan','USA','uk','France','Germany']\n",
    "{len(x) for x in string}  #if语句可以缺失"
   ]
  },
  {
   "cell_type": "markdown",
   "metadata": {},
   "source": [
    "### （3）字典推导式\n",
    "* 字典推导式是列表推导式的自然延伸，生成的是字典。\n",
    "* 其基本形式如下：  \n",
    "{key_expression: value_expression **for** value **in** collection **if** condition}\n",
    "* 同样，if语句可以缺失。\n",
    "* 例如，为字符串创建一个指向其列表位置的映射："
   ]
  },
  {
   "cell_type": "code",
   "execution_count": null,
   "metadata": {},
   "outputs": [],
   "source": [
    "print(string)\n",
    "{val:index for index,val in enumerate(string)}"
   ]
  },
  {
   "cell_type": "markdown",
   "metadata": {},
   "source": [
    "* 也可以通过dict()函数构造上述映射："
   ]
  },
  {
   "cell_type": "code",
   "execution_count": null,
   "metadata": {},
   "outputs": [],
   "source": [
    "dict((val,index) for index,val in enumerate(string))"
   ]
  },
  {
   "cell_type": "markdown",
   "metadata": {},
   "source": [
    "#### 练习：现有一字典d={'Name':'Michael','Gender':'Male','Age':35}，要求使用字典推导式将字典中的key和value进行对换。\n",
    "* 提示：可考虑采用字典的items方法。"
   ]
  },
  {
   "cell_type": "code",
   "execution_count": null,
   "metadata": {},
   "outputs": [],
   "source": [
    "d={'Name':'Michael','Gender':'Male','Age':35}\n",
    "{value:key for key,value in d.items()}"
   ]
  }
 ],
 "metadata": {
  "kernelspec": {
   "display_name": "Python 3",
   "language": "python",
   "name": "python3"
  },
  "language_info": {
   "codemirror_mode": {
    "name": "ipython",
    "version": 3
   },
   "file_extension": ".py",
   "mimetype": "text/x-python",
   "name": "python",
   "nbconvert_exporter": "python",
   "pygments_lexer": "ipython3",
   "version": "3.8.3"
  }
 },
 "nbformat": 4,
 "nbformat_minor": 4
}
