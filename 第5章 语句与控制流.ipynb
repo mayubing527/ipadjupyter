{
 "cells": [
  {
   "cell_type": "markdown",
   "metadata": {},
   "source": [
    "# 第15章 图形与可视化的编程基础\n",
    "* Python中提供了很多绘图和可视化库来实现数据及其信息的图形与可视化：matplotlib、plotly、seaborn、ggplot、Bokeh、pygal等。\n",
    "    * 15.1 matplotlib基本绘图\n",
    "    * 15.2 pandas基本绘图\n",
    "    * 15.3 基本统计图形"
   ]
  },
  {
   "cell_type": "markdown",
   "metadata": {},
   "source": [
    "## 15.1 matplotlib基本绘图\n",
    "* 在Notebook中，可使用如下命令将matplotlib调入当前工作环境中："
   ]
  },
  {
   "cell_type": "code",
   "execution_count": null,
   "metadata": {},
   "outputs": [],
   "source": [
    "import matplotlib as mpl\n",
    "import matplotlib.pyplot as plt  #更常用，因为大部分常用绘图函数都在matplotlib.pyplot中"
   ]
  },
  {
   "cell_type": "markdown",
   "metadata": {},
   "source": [
    "* 在绘图结构中，figure创建窗口，subplot创建子图。所有的绘画只能在子图上进行。plt表示当前子图，若没有就创建一个子图。所有你会看到一些教程中使用plt进行设置，一些教程使用子图属性进行设置。他们往往存在对应功能函数。\n",
    "    * Figure：面板(图)，matplotlib中的所有图像都是位于figure对象中，一个图像只能有一个figure对象。\n",
    "    * Subplot：子图，figure对象下创建一个或多个subplot对象(即axes)用于绘制图像。"
   ]
  },
  {
   "cell_type": "markdown",
   "metadata": {},
   "source": [
    "### 15.1.1 函数绘图\n",
    "* matplotlib.pyplot中包含了简单的函数绘图功能。\n",
    "\n",
    "|函数|功能|备注|\n",
    "|--|--|--|\n",
    "|plot|根据指定的坐标绘制折线图||\n",
    "|title|设置图形标题||\n",
    "|xlabel|设置x轴标签||\n",
    "|ylabel|设置y轴标签||\n",
    "|savefig|保存绘制的图形||\n",
    "|show|显示图像||\n",
    "|legend|设置图例|需结合label参数使用|\n",
    "|xticks|设置x轴的刻度||\n",
    "|yticks|设置y轴的刻度||\n",
    "\n",
    "#### （1）绘制过两点的直线"
   ]
  },
  {
   "cell_type": "code",
   "execution_count": null,
   "metadata": {},
   "outputs": [],
   "source": [
    "plt.plot([0,1],[0,1])  #绘制一条从(0,0)到(1,1)的直线\n",
    "plt.title(\"Plot a line through two points\")\n",
    "plt.xlabel(\"x value\")\n",
    "plt.ylabel(\"y value\")\n",
    "\n",
    "plt.show()"
   ]
  },
  {
   "cell_type": "markdown",
   "metadata": {},
   "source": [
    "#### （2）绘制多项式曲线\n",
    "* 理论上，任意曲线都可以利用**多项式**来进行拟合。\n",
    "    * 可以利用numpy中的**poly1d函数**来表示多项式函数。"
   ]
  },
  {
   "cell_type": "code",
   "execution_count": null,
   "metadata": {},
   "outputs": [],
   "source": [
    "import numpy as np\n",
    "p=np.poly1d(np.array([2,-3.5,1.6,-2,9]))  #设置多项式函数（系数）\n",
    "print(p)\n",
    "x=np.linspace(-10,10,30)\n",
    "y=p(x)\n",
    "print(x)\n",
    "print(y)"
   ]
  },
  {
   "cell_type": "code",
   "execution_count": null,
   "metadata": {},
   "outputs": [],
   "source": [
    "plt.plot(x,y)\n",
    "plt.xlabel(\"X\")\n",
    "plt.ylabel(\"Y\")\n",
    "plt.show()"
   ]
  },
  {
   "cell_type": "markdown",
   "metadata": {},
   "source": [
    "#### （3）图形叠加\n",
    "* 在同一段matplotlib绘图语句中，可以将不同plot语句绘制的图形叠加在一个图形中。"
   ]
  },
  {
   "cell_type": "code",
   "execution_count": null,
   "metadata": {},
   "outputs": [],
   "source": [
    "p1=p.deriv(m=1)  #deriv方法：求导\n",
    "y1=p1(x)\n",
    "print(p1)\n",
    "print(y1)"
   ]
  },
  {
   "cell_type": "code",
   "execution_count": null,
   "metadata": {},
   "outputs": [],
   "source": [
    "plt.plot(x,y,x,y1)  #图形叠加：绘制两条多项式曲线\n",
    "plt.xlabel(\"X\")\n",
    "plt.ylabel(\"Y\")\n",
    "plt.show()"
   ]
  },
  {
   "cell_type": "code",
   "execution_count": null,
   "metadata": {},
   "outputs": [],
   "source": [
    "fig,a=plt.subplots()\n",
    "a.plot(x,y,label='y=p(x)')\n",
    "a.plot(x,y1,label='y1=p1(x)')\n",
    "a.set_xlabel('x label')\n",
    "a.set_ylabel('y label')\n",
    "a.set_title('simple plot')\n",
    "a.legend()  #需要结合label参数\n",
    "plt.show()"
   ]
  },
  {
   "cell_type": "markdown",
   "metadata": {},
   "source": [
    "### 15.1.2 图形基本设置\n",
    "|设置|matplotlib实现|\n",
    "|--|--|\n",
    "|创建图例|label参数 + legend函数|\n",
    "|刻度设置|xticks函数|\n",
    "||yticks函数|\n",
    "|图像注解|annotate函数|\n",
    "|图像大小|gcf函数 + 图像对象的set_size_inches方法|\n",
    "|创建子图|subplot函数|"
   ]
  },
  {
   "cell_type": "markdown",
   "metadata": {},
   "source": [
    "## 15.2 pandas基本绘图\n",
    "* matplotlib实际上是一种低级或底层的绘图工具，其核心库可提供其他包调用。\n",
    "* 对于一些其他其他绘图工具，如pandas、seaborn等包也可以对数据进行绘图，并且也会用到数据、图例、标题、刻度、标签等各种绘图组件。\n",
    "* pandas主要使用**plot方法**绘制图形，其主要语法为："
   ]
  },
  {
   "cell_type": "code",
   "execution_count": null,
   "metadata": {},
   "outputs": [],
   "source": [
    "import pandas as pd\n",
    "?pd.DataFrame.plot"
   ]
  },
  {
   "cell_type": "markdown",
   "metadata": {},
   "source": [
    "#### 表：pandas对象的plot方法中的kind参数\n",
    "|kind参数值|功能|描述|备注|\n",
    "|--|--|--|--|\n",
    "|‘line’|line plot (default)|折线图||\n",
    "|‘bar’|vertical bar plot|条形图||\n",
    "|‘barh’|horizontal bar plot|横向条形图||\n",
    "|‘hist’|histogram|柱状图||\n",
    "|‘box’|boxplot|箱线图||\n",
    "|‘kde’|Kernel Density Estimation plot|Kernel的密度估计图，主要对柱状图添加Kernel概率密度线||\n",
    "|‘density’|same as ‘kde’|||\n",
    "|‘area’|area plot|面积图||\n",
    "|‘pie’|pie plot|饼图||\n",
    "|‘scatter’|scatter plot|散点图|需要传入columns方向的索引\n",
    "|‘hexbin’|hexbin plot|蜂窝图||"
   ]
  },
  {
   "cell_type": "markdown",
   "metadata": {},
   "source": [
    "## 15.3 基本统计图形\n",
    "|基本统计图形|描述|matplotlib函数|pandas函数或pandas对象的方法|\n",
    "|--|--|--|--|\n",
    "|折线图||plot函数|plot方法|\n",
    "|面积图|||plot.area方法|\n",
    "|直方图||hist函数|hist方法|\n",
    "|条形图||bar或barh函数|plot.bar或plot.barh方法|\n",
    "|龙卷风图|两个数据值方向相反的条形图进行叠加|||\n",
    "|饼图||pie函数|plot(kind='pie')或plot.pie方法|\n",
    "|阶梯图||hist(histtype='step')函数|plot.hist(histtype='step')方法|\n",
    "|盒须图|箱线图|boxplot函数||\n",
    "|小提琴图||violinplot函数||\n",
    "|散点图||scatter函数|scatter方法|\n",
    "|气泡图|散点图的延伸，即：利用气泡来表示散点图中的数据点|scatter(s=data)函数|scatter(s=data)方法|\n",
    "|六边形箱图|蜂窝图||hexbin方法|\n",
    "|雷达坐标图|||pandas.plotting.radviz函数|\n",
    "|轮廓图|||pandas.plotting.parallel_coordinates函数|\n",
    "|调和曲线图|||pandas.plotting.andrews_curves函数|\n",
    "|等高线图||contour或contourf函数||\n",
    "|极坐标图||subplot(projection='polar')函数||\n",
    "\n",
    "### 其他图形：\n",
    "|基本统计图形|描述|实现|\n",
    "|--|--|--|\n",
    "|三维图||matplotlib的mplot3d工具包|\n",
    "|词云图|读入文本信息、分词、词频统计、用词云生成器绘图|Python常用中文分词包：jieba、Yaha等|\n",
    "|||Python常用的词云生成器：WorldCloud、pytagcloud等|\n",
    "|数据地图||plotly包、basemap模块等|"
   ]
  },
  {
   "cell_type": "markdown",
   "metadata": {},
   "source": [
    "### 15.3.1 折线图"
   ]
  },
  {
   "cell_type": "code",
   "execution_count": null,
   "metadata": {},
   "outputs": [],
   "source": [
    "import pandas as pd\n",
    "import numpy as np\n",
    "import matplotlib.pyplot as plt\n",
    "\n",
    "data=pd.DataFrame({\"opening_price\":pd.Series(np.random.randn(100),index=np.arange(100)).cumsum(),\n",
    "                   \"closing_price\":pd.Series(np.random.randn(100),index=np.arange(100)).cumsum()})\n",
    "print(data.shape)\n",
    "\n",
    "plt.subplot(121);data[\"opening_price\"].plot()\n",
    "plt.subplot(122);plt.plot(data[\"closing_price\"])\n",
    "\n",
    "data[[\"opening_price\",\"closing_price\"]].plot()\n",
    "\n",
    "plt.show()"
   ]
  },
  {
   "cell_type": "code",
   "execution_count": null,
   "metadata": {},
   "outputs": [],
   "source": [
    "plt.subplot(131);data[\"opening_price\"].plot()\n",
    "plt.subplot(132);plt.plot(data[\"closing_price\"])\n",
    "plt.subplot(133);data[[\"opening_price\",\"closing_price\"]].plot()\n",
    "plt.show()"
   ]
  },
  {
   "cell_type": "markdown",
   "metadata": {},
   "source": [
    "### 15.3.2 面积图\n",
    "* **面积图**：将折线图下方用不同颜色填充并堆积在一起，**往往用来显示数据的构成和结构**。"
   ]
  },
  {
   "cell_type": "code",
   "execution_count": null,
   "metadata": {},
   "outputs": [],
   "source": [
    "data[[\"opening_price\",\"closing_price\"]].plot.area(stacked=False)  #数据有正有负，不能直接堆叠，此处stacked必须设置为False\n",
    "plt.show()"
   ]
  },
  {
   "cell_type": "code",
   "execution_count": null,
   "metadata": {},
   "outputs": [],
   "source": [
    "data1=data+10\n",
    "data1[[\"opening_price\",\"closing_price\"]].plot.area(stacked=True)  #堆叠面积图\n",
    "plt.show()"
   ]
  },
  {
   "cell_type": "markdown",
   "metadata": {},
   "source": [
    "### 15.3.3 直方图\n",
    "* **直方图**：根据变量的取值来显示其频数分布的图形。\n",
    "\n",
    "#### （1）普通直方图"
   ]
  },
  {
   "cell_type": "code",
   "execution_count": null,
   "metadata": {
    "scrolled": true
   },
   "outputs": [],
   "source": [
    "plt.subplot(131);plt.hist(data[\"opening_price\"],bins=6)  #bins设置区间个数\n",
    "plt.subplot(132);data[\"opening_price\"].hist(bins=5)\n",
    "plt.subplot(133);data[\"opening_price\"].plot(kind='hist',bins=4)\n",
    "plt.show()"
   ]
  },
  {
   "cell_type": "markdown",
   "metadata": {},
   "source": [
    "#### （2）堆叠直方图：plot(kind='hist')方法"
   ]
  },
  {
   "cell_type": "code",
   "execution_count": null,
   "metadata": {
    "scrolled": true
   },
   "outputs": [],
   "source": [
    "data[[\"opening_price\",\"closing_price\"]].plot(kind='hist',bins=6)  #堆叠直方图\n",
    "plt.show()"
   ]
  },
  {
   "cell_type": "code",
   "execution_count": null,
   "metadata": {},
   "outputs": [],
   "source": [
    "data[[\"opening_price\",\"closing_price\"]].hist(bins=6)  #子图直方图，而非堆叠直方图\n",
    "plt.show()"
   ]
  },
  {
   "cell_type": "markdown",
   "metadata": {},
   "source": [
    "#### （3）分组直方图：hist方法+by参数"
   ]
  },
  {
   "cell_type": "code",
   "execution_count": null,
   "metadata": {},
   "outputs": [],
   "source": [
    "data[\"Market\"]=np.random.choice([\"Bad\",\"Good\"],data.shape[0])  #有放回抽样\n",
    "print(data)\n",
    "data[\"opening_price\"].hist(by=data[\"Market\"],bins=6)  #分组直方图\n",
    "plt.show()"
   ]
  },
  {
   "cell_type": "markdown",
   "metadata": {},
   "source": [
    "### 15.3.4 条形图\n",
    "* **直方图**：根据变量的取值来显示其频数分布的图形。\n",
    "* **条形图**：描述**分类变量**本身的分布状况，以及**按照分类变量分组的其他变量的情况**。\n",
    "    * **竖直方向**的条形图：**bar函数**和**plot.bar方法**\n",
    "    * **水平方向**的条形图：**barh函数**和**plot.barh方法**\n",
    "\n",
    "|区别角度|直方图|条形图|\n",
    "|--|--|--|\n",
    "|条与条之间是否有间隔|无|有|\n",
    "|横轴上的数据|连续的，是一个范围|孤立的，是一个具体的数据|\n",
    "|频数大小的表示工具|长方形的面积|条形的高度|\n",
    "||（只有当长方形的宽都相等时，才可以用长方形的高表示频数的大小）||"
   ]
  },
  {
   "cell_type": "code",
   "execution_count": null,
   "metadata": {
    "scrolled": false
   },
   "outputs": [],
   "source": [
    "N=5  #事先定义条形的数目\n",
    "menMeans=(20,35,30,35,27)\n",
    "womenMeans=(25,32,34,20,25)\n",
    "ind=np.arange(N)  #每个条形的编号\n",
    "plt.subplot(131);plt.bar(ind,menMeans)  #竖直方向的条形图\n",
    "plt.subplot(132);plt.barh(ind,menMeans)  #水平方向的条形图\n",
    "plt.subplot(133);plt.bar(ind,menMeans,bottom=womenMeans,width=0.45)  #堆叠条形图\n",
    "plt.show()"
   ]
  },
  {
   "cell_type": "markdown",
   "metadata": {},
   "source": [
    "### 15.3.5 龙卷风图\n",
    "* **龙卷风图**：实质上就是两个数据值方向相反的条形图进行叠加。"
   ]
  },
  {
   "cell_type": "code",
   "execution_count": null,
   "metadata": {},
   "outputs": [],
   "source": [
    "n = 12\n",
    "X = np.arange(n)\n",
    "Y1 = (1-X/float(n)) * np.random.uniform(0.5,1.0,n)\n",
    "Y2 = (1-X/float(n)) * np.random.uniform(0.5,1.0,n)\n",
    "\n",
    "plt.bar(X, +Y1, facecolor='blue', edgecolor='white', label=\"Y1\")\n",
    "plt.bar(X, -Y2, facecolor='red', edgecolor='white', label=\"Y2\")\n",
    "\n",
    "for x,y1,y2 in zip(X,Y1,Y2):\n",
    "    plt.text(x+0.01, y1+0.02, '%.2f' %y1, ha='center', va= 'bottom')\n",
    "    plt.text(x+0.01, -(y2+0.15), '%.2f' %y2, ha='center', va= 'bottom')\n",
    "\n",
    "plt.legend()  #需搭配label参数使用\n",
    "\n",
    "plt.ylim(-1.2,+1.25)\n",
    "\n",
    "plt.show()"
   ]
  },
  {
   "cell_type": "markdown",
   "metadata": {},
   "source": [
    "### 15.3.6 饼图"
   ]
  },
  {
   "cell_type": "code",
   "execution_count": null,
   "metadata": {},
   "outputs": [],
   "source": [
    "n = 20\n",
    "Z = np.random.uniform(0,1,n)\n",
    "plt.pie(Z)\n",
    "plt.show()"
   ]
  },
  {
   "cell_type": "code",
   "execution_count": null,
   "metadata": {},
   "outputs": [],
   "source": [
    "X=pd.Series([222,42,455,664,454,334],index=['China','Swiss','USA','UK','Laos','Spain'])\n",
    "\n",
    "fig = plt.figure()\n",
    "plt.pie(X,labels=X.index,autopct='%1.2f%%') #画饼图（数据，数据对应的标签，百分数保留两位小数点）\n",
    "plt.title(\"Pie chart\")\n",
    "\n",
    "plt.show()  "
   ]
  },
  {
   "cell_type": "markdown",
   "metadata": {},
   "source": [
    "### 15.3.7 阶梯图"
   ]
  },
  {
   "cell_type": "markdown",
   "metadata": {},
   "source": [
    "### 15.3.8 盒须图（箱线图）https://blog.csdn.net/qq_41080850/article/details/83829045\n",
    "* **盒须图**：基于五数概括法的图形汇总；\n",
    "    * 最小值(Q1-1.5IQR)\n",
    "    * 第一四分位数(Q1)\n",
    "    * 中位数(Q2)\n",
    "    * 第三四分位数(Q3)\n",
    "    * 最大值(Q3+1.5IQR)\n",
    "* **箱形图的应用**：\n",
    "    * （1）可以作为一种检测异常值的方法；\n",
    "    * （2）用于多组数据的图形汇总，便于对各组数据进行直观比较分析。\n",
    "* **箱形图的绘制方法主要有：**\n",
    "    * 方法1：利用pandas包中的Series.plot()、DataFrame.plot()或DataFrame.boxplot()方法；\n",
    "    * 方法2：利用seaborn包中的cataplot()或者boxplot()，其中seaborn.boxplot()是seaborn.cataplot()的参数kind='box'时的一种情况；\n",
    "    * 方法3：利用matplotlib包中axes对象的boxplot()方法。"
   ]
  },
  {
   "cell_type": "code",
   "execution_count": null,
   "metadata": {},
   "outputs": [],
   "source": [
    "plt.subplot(121)\n",
    "x=[1,2,3,4]\n",
    "plt.boxplot(x)\n",
    "\n",
    "plt.subplot(122)\n",
    "dataset=[113,115,119,121,124,124,125,126,126,127,127,128,129,130,130,131,132,133,136]\n",
    "plt.boxplot(dataset,vert=False)  #水平盒须图\n",
    "\n",
    "show()"
   ]
  },
  {
   "cell_type": "code",
   "execution_count": null,
   "metadata": {},
   "outputs": [],
   "source": [
    "data=pd.DataFrame({'China': [1000, 1200, 1300, 1400, 1500, 1600, 1700, 1800, 1900, 2500],\n",
    "                   'America': [1200, 1300, 1400, 1500, 1600, 1700, 1800, 1900, 2000, 2100],\n",
    "                   'Britain': [1000, 1200, 1300, 1400, 1500, 1600, 1700, 1800, 1900, 2000],\n",
    "                   \"Russia\": [800, 1000, 1200, 1300, 1400, 1500, 1600, 1700, 1800, 1900]})\n",
    "\n",
    "df.plot.box(title=\"Consumer spending in each country\")\n",
    "#df.plot.box(title=\"Consumer spending in each country\", vert=False)  #水平盒须图\n",
    "\n",
    "plt.show()"
   ]
  },
  {
   "cell_type": "code",
   "execution_count": null,
   "metadata": {},
   "outputs": [],
   "source": [
    "# 用Seaborn画箱线图\n",
    "import seaborn as sns\n",
    "data=np.random.normal(size=(10,4)) \n",
    "lables = ['A','B','C','D']\n",
    "df=pd.DataFrame(data, columns=lables)\n",
    "sns.boxplot(data=df)\n",
    "plt.show()"
   ]
  },
  {
   "cell_type": "markdown",
   "metadata": {},
   "source": [
    "### 15.3.9 小提琴图：matplotlib.violinplot函数"
   ]
  },
  {
   "cell_type": "markdown",
   "metadata": {},
   "source": [
    "### 15.3.10 散点图"
   ]
  },
  {
   "cell_type": "code",
   "execution_count": null,
   "metadata": {
    "scrolled": true
   },
   "outputs": [],
   "source": [
    "n = 1024\n",
    "X = np.random.normal(0,1,n)\n",
    "Y = np.random.normal(0,1,n)\n",
    "\n",
    "plt.subplot(121);plt.scatter(X,Y)\n",
    "plt.subplot(122);plt.scatter(X,Y,marker='X')\n",
    "plt.show()"
   ]
  },
  {
   "cell_type": "code",
   "execution_count": null,
   "metadata": {},
   "outputs": [],
   "source": [
    "import seaborn as sns\n",
    "df = pd.DataFrame({'x': X, 'y': Y})\n",
    "sns.jointplot(x=\"x\", y=\"y\", data=df, kind='scatter');\n",
    "plt.show()"
   ]
  },
  {
   "cell_type": "markdown",
   "metadata": {},
   "source": [
    "### 15.3.11 气泡图：散点图+s参数"
   ]
  },
  {
   "cell_type": "markdown",
   "metadata": {},
   "source": [
    "### 15.3.12 六边形箱图：pandas对象.plot.hexbin方法\n",
    "* 六边形箱图：蜂窝图，利用二元直方图对大样本数据结构进行可视化。\n",
    "\n",
    "#### 例：六边形图将空间中的点聚合成六边形，然后根据六边形内部的值为这些六边形上色。"
   ]
  },
  {
   "cell_type": "code",
   "execution_count": null,
   "metadata": {
    "scrolled": true
   },
   "outputs": [],
   "source": [
    "df=pd.DataFrame(np.random.randn(1000,2), columns=['a','b'])\n",
    "df['b']=df['b'] + np.arange(1000)\n",
    "\n",
    "df.plot.hexbin(x='a', y='b', gridsize=25)  #gridsize控制x方向上的六边形数量，默认为100\n",
    "\n",
    "plt.show()"
   ]
  },
  {
   "cell_type": "markdown",
   "metadata": {},
   "source": [
    "### 15.3.13 雷达坐标图"
   ]
  },
  {
   "cell_type": "markdown",
   "metadata": {},
   "source": [
    "### 15.3.14 轮廓图"
   ]
  },
  {
   "cell_type": "markdown",
   "metadata": {},
   "source": [
    "### 15.3.15 调和曲线图"
   ]
  },
  {
   "cell_type": "markdown",
   "metadata": {},
   "source": [
    "### 15.3.16 等高线图：\n",
    "* 等高线图：contour([X, Y,] Z, [levels], ** kwargs)\n",
    "\n",
    "|参数|参数值|描述|\n",
    "|--|--|--|\n",
    "|X，Y|array-like|可选值Z的坐标|\n",
    "|Z|array-like（N，M）|绘制轮廓的高度值|\n",
    "|levels|int或类似数组，可选|确定轮廓线/区域的数量和位置|\n",
    "||如果int Ñ，使用Ñ数据间隔; 即绘制n + 1个等高线|水平高度自动选择。|\n",
    "||如果是数组，则在指定的级别绘制轮廓线|值必须按递增顺序排列|\n",
    "\n",
    "* 若X和Y都是2-D，则其形状必须与Z相同；\n",
    "* 若X和Y都是1-D，则len(X)==M是Z中的列数，len(Y)==N是Z中的行数。"
   ]
  },
  {
   "cell_type": "code",
   "execution_count": null,
   "metadata": {},
   "outputs": [],
   "source": [
    "import numpy as np\n",
    "import matplotlib.pyplot as plt\n",
    "\n",
    "delta = 0.25  #网格间距，控制等高线的平滑程度\n",
    "x = np.arange(-3.0, 3.0, delta)\n",
    "y = np.arange(-3.0, 3.0, delta)\n",
    "X, Y = np.meshgrid(x, y)  #生成网格\n",
    "#print(X,Y)\n",
    "Z1 = np.exp(-X**2 - Y**2)\n",
    "Z2 = np.exp(-(X - 1)**2 - (Y - 1)**2)\n",
    "Z = (Z1 - Z2) * 2\n",
    "\n",
    "CS = plt.contour(X, Y, Z)  #绘制等高线图\n",
    "plt.clabel(CS, inline=1, fontsize=10)  #标出等高值\n",
    "plt.show()"
   ]
  },
  {
   "cell_type": "markdown",
   "metadata": {},
   "source": [
    "### 15.3.17 极坐标图\n",
    "\n",
    "#### （1）极坐标散点图"
   ]
  },
  {
   "cell_type": "code",
   "execution_count": null,
   "metadata": {
    "scrolled": true
   },
   "outputs": [],
   "source": [
    "N = 150\n",
    "r = 2 * np.random.rand(N)\n",
    "theta = 2 * np.pi * np.random.rand(N)\n",
    "area = 200 * r**2\n",
    "colors = theta\n",
    " \n",
    "ax = plt.subplot(111, projection='polar')\n",
    "c = ax.scatter(theta, r, c=colors, s=area, cmap='hsv', alpha=0.75)\n",
    " \n",
    "plt.show()"
   ]
  },
  {
   "cell_type": "markdown",
   "metadata": {},
   "source": [
    "#### （2）极坐标饼状图"
   ]
  },
  {
   "cell_type": "code",
   "execution_count": null,
   "metadata": {},
   "outputs": [],
   "source": [
    "import numpy as np\n",
    "import matplotlib.pyplot as plt\n",
    "\n",
    "N = 20\n",
    "theta = np.linspace(0.0,2*np.pi,N,endpoint=False)\n",
    "radii = 10*np.random.rand(N)\n",
    "width = np.pi/4*np.random.rand(N)\n",
    "\n",
    "ax = plt.subplot(111,projection='polar')\n",
    "bars = ax.bar(theta,radii,width=width,bottom=0.0)\n",
    "\n",
    "for r,bar in zip(radii,bars):\n",
    "    bar.set_facecolor(plt.cm.viridis(r/10.))\n",
    "    bar.set_alpha(0.5)\n",
    "\n",
    "plt.show()"
   ]
  },
  {
   "cell_type": "markdown",
   "metadata": {},
   "source": [
    "### 15.3.18 词云图\n",
    "\n",
    "* **注意**：需要提前安装所需模块或包。"
   ]
  },
  {
   "cell_type": "code",
   "execution_count": null,
   "metadata": {},
   "outputs": [],
   "source": [
    "#pip install jieba\n",
    "pip install -i https://pypi.tuna.tsinghua.edu.cn/simple jieba"
   ]
  },
  {
   "cell_type": "code",
   "execution_count": null,
   "metadata": {},
   "outputs": [],
   "source": [
    "pip install wordcloud -i https://mirrors.aliyun.com/pypi/simple/"
   ]
  },
  {
   "cell_type": "code",
   "execution_count": null,
   "metadata": {},
   "outputs": [],
   "source": [
    "import matplotlib.pyplot as plt\n",
    "import jieba\n",
    "from wordcloud import WordCloud\n",
    "\n",
    "text=\"Today is not easy. Tomorrow is more difficult. But the day after tomorrow will be fantastic.\"\n",
    "wc=WordCloud(background_color='white', width=500, height=300)  #实例化词云图对象\n",
    "\n",
    "wc.generate(text)  #根据文本生成词云图\n",
    "\n",
    "plt.imshow(wc)  #显示词云图\n",
    "#plt.axis('off')  #不显示坐标轴\n",
    "plt.show()"
   ]
  },
  {
   "cell_type": "markdown",
   "metadata": {},
   "source": [
    "### 15.3.19 数据地图：plotly包、basemap模块"
   ]
  },
  {
   "cell_type": "code",
   "execution_count": null,
   "metadata": {},
   "outputs": [],
   "source": [
    "pip install plotly"
   ]
  },
  {
   "cell_type": "markdown",
   "metadata": {},
   "source": [
    "### 补充：绘图保存\n",
    "* 当使用plt.savefig保存生成的图片时，有时打开生成的图片却是一片空白。"
   ]
  },
  {
   "cell_type": "code",
   "execution_count": null,
   "metadata": {
    "scrolled": true
   },
   "outputs": [],
   "source": [
    "plt.plot(range(1,10))\n",
    "plt.show()\n",
    "plt.savefig(\"chap15_save1.png\")  #格式可以为jpg、png等"
   ]
  },
  {
   "cell_type": "markdown",
   "metadata": {},
   "source": [
    "#### 空白原因：在 plt.show() 后调用了 plt.savefig()\n",
    "* 在 plt.show() 后实际上已经创建了一个新的空白的图片（坐标轴），这时候你再 plt.savefig() 就会保存这个新生成的空白图片。\n",
    "\n",
    "#### 解决方法：\n",
    "* （1）在 plt.show()之前调用plt.savefig()"
   ]
  },
  {
   "cell_type": "code",
   "execution_count": null,
   "metadata": {},
   "outputs": [],
   "source": [
    "plt.plot(range(1,10))\n",
    "plt.savefig(\"chap15_save2.png\")\n",
    "plt.show()"
   ]
  },
  {
   "cell_type": "markdown",
   "metadata": {},
   "source": [
    "* （2）画图的时候获取当前图像"
   ]
  },
  {
   "cell_type": "code",
   "execution_count": null,
   "metadata": {},
   "outputs": [],
   "source": [
    "fig = plt.figure()\n",
    "\n",
    "plt.plot(range(1,10))\n",
    "plt.show()\n",
    "\n",
    "fig.savefig('chap15_save3.png', dpi=100)"
   ]
  },
  {
   "cell_type": "markdown",
   "metadata": {},
   "source": [
    "#### 学习参考资料：\n",
    "* 中国慕课\n",
    "* 狗熊会\n",
    "* 菜鸟教程-Python3教程：https://www.runoob.com/python3/python3-tutorial.html\n",
    "    * Matplotlib 教程：https://www.runoob.com/w3cnote/matplotlib-tutorial.html\n",
    "* 80个Python练手项目列表：https://www.lanqiao.cn/questions/102676/?utm_source=baidu&utm_medium=cpc&utm_campaign=python&utm_term=keywords\n",
    "* python数据分析常用图大集合：https://www.cnblogs.com/chenqionghe/p/12254085.html#%E5%85%AB%E3%80%81%E6%95%A3%E7%82%B9%E5%9B%BE\n",
    "* python可视化入门plotly：https://blog.csdn.net/weixin_43347550/article/details/106163458"
   ]
  }
 ],
 "metadata": {
  "kernelspec": {
   "display_name": "Python 3",
   "language": "python",
   "name": "python3"
  },
  "language_info": {
   "codemirror_mode": {
    "name": "ipython",
    "version": 3
   },
   "file_extension": ".py",
   "mimetype": "text/x-python",
   "name": "python",
   "nbconvert_exporter": "python",
   "pygments_lexer": "ipython3",
   "version": "3.8.3"
  }
 },
 "nbformat": 4,
 "nbformat_minor": 4
}
