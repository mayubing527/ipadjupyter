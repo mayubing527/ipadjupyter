{
 "cells": [
  {
   "cell_type": "markdown",
   "metadata": {},
   "source": [
    "# 第6章 函数\n",
    "* **函数**是Python中最重要的也是最主要的**代码组织**和**重复使用**的手段之一。\n",
    "    * （1）**内置函数**：Python本身内置了很多有用的函数，可以直接调用；\n",
    "    * （2）**自定义函数**：用户也可以非常灵活的自定义函数。\n",
    "* **函数调用**：要调用一个函数（无论是内置函数还是自定义函数），只需知道函数的**名称**和**参数**。\n",
    "\n",
    "#### 例：调用求幂运算的内置函数："
   ]
  },
  {
   "cell_type": "code",
   "execution_count": null,
   "metadata": {},
   "outputs": [],
   "source": [
    "pow(2,10)"
   ]
  },
  {
   "cell_type": "code",
   "execution_count": null,
   "metadata": {},
   "outputs": [],
   "source": [
    "2**10  #算数运算符"
   ]
  },
  {
   "cell_type": "markdown",
   "metadata": {},
   "source": [
    "* **查看函数的功能说明**：可以使用函数私有方法\\_\\_doc\\_\\_来查看：\n",
    "    * 双下划线开头和结尾的标识符：代表Python里特殊方法专用的标识。（第3章3.2.2小节）"
   ]
  },
  {
   "cell_type": "code",
   "execution_count": null,
   "metadata": {},
   "outputs": [],
   "source": [
    "pow.__doc__"
   ]
  },
  {
   "cell_type": "markdown",
   "metadata": {},
   "source": [
    "* **查看函数的具体语法等帮助信息**：\n",
    "    * 方法1：使用help()函数\n",
    "    * 方法2：具体函数名称后直接加“?”"
   ]
  },
  {
   "cell_type": "code",
   "execution_count": null,
   "metadata": {},
   "outputs": [],
   "source": [
    "help(pow)"
   ]
  },
  {
   "cell_type": "code",
   "execution_count": null,
   "metadata": {},
   "outputs": [],
   "source": [
    "pow?"
   ]
  },
  {
   "cell_type": "markdown",
   "metadata": {},
   "source": [
    "## 6.1 函数的定义（自定义函数）\n",
    "* 自定义函数的一般形式为："
   ]
  },
  {
   "cell_type": "code",
   "execution_count": null,
   "metadata": {},
   "outputs": [],
   "source": [
    "def 函数名称(形式参数):\n",
    "    \"函数说明字符串\"\n",
    "    函数体\n",
    "    return [表达式]"
   ]
  },
  {
   "cell_type": "markdown",
   "metadata": {},
   "source": [
    "1. 以**def语句**开头；\n",
    "* 依次写出函数名、括号、括号中的参数和“:”；\n",
    "    * 多个参数用“,”隔开\n",
    "* 函数的第一行语句可以选择性地使用字符串用于存放函数说明，之后用户可以使用函数私有方法\\_\\_doc\\_\\_进行查看；\n",
    "* 在缩进块中编写程序，这些程序称为**函数体**；\n",
    "* 函数返回值用**return语句**返回；\n",
    "    * 可以返回多个值;\n",
    "    * 没有return语句，则返回None.\n",
    "\n",
    "#### 例：将计算100以内自然数之和的程序用自定义函数来实现："
   ]
  },
  {
   "cell_type": "code",
   "execution_count": null,
   "metadata": {},
   "outputs": [],
   "source": [
    "def sum_n(n, begin=1):\n",
    "    \"Calculate the sum of natural numbers within [begin,n].\"\n",
    "    s=0\n",
    "    for i in range(begin,n+1):\n",
    "        s+=i\n",
    "    return(s)"
   ]
  },
  {
   "cell_type": "markdown",
   "metadata": {},
   "source": [
    "* **调用**自定义函数时需要知道**函数名称**及**函数参数**："
   ]
  },
  {
   "cell_type": "code",
   "execution_count": null,
   "metadata": {},
   "outputs": [],
   "source": [
    "sum_n(100,begin=1)"
   ]
  },
  {
   "cell_type": "markdown",
   "metadata": {},
   "source": [
    "* 对于自定义函数中**有初始值的形参**，函数调用时可以不重新赋值给其传递实参；\n",
    "    * 此时该形参的值就是初始值。"
   ]
  },
  {
   "cell_type": "code",
   "execution_count": null,
   "metadata": {},
   "outputs": [],
   "source": [
    "sum_n(100)"
   ]
  },
  {
   "cell_type": "markdown",
   "metadata": {},
   "source": [
    "* **函数也是一个对象**，可以**赋值给变量对象**，可以直接使用被赋值的变量调用函数："
   ]
  },
  {
   "cell_type": "code",
   "execution_count": null,
   "metadata": {},
   "outputs": [],
   "source": [
    "f=sum_n\n",
    "f(100)"
   ]
  },
  {
   "cell_type": "code",
   "execution_count": null,
   "metadata": {},
   "outputs": [],
   "source": [
    "type(f)"
   ]
  },
  {
   "cell_type": "markdown",
   "metadata": {},
   "source": [
    "* 对于Python中的内置函数，同样也可以对其可以赋值给变量对象，直接使用被赋值的变量调用函数："
   ]
  },
  {
   "cell_type": "code",
   "execution_count": null,
   "metadata": {},
   "outputs": [],
   "source": [
    "g=sum\n",
    "g([1,2])"
   ]
  },
  {
   "cell_type": "code",
   "execution_count": null,
   "metadata": {},
   "outputs": [],
   "source": [
    "type(g)"
   ]
  },
  {
   "cell_type": "markdown",
   "metadata": {},
   "source": [
    "## 6.2 函数的参数\n",
    "* 默认情况下，**实参和形参是按函数声明中定义的顺序匹配的**。\n",
    "* 调用函数时，可使用的**正式参数类型**主要有：必备参数、命名参数、缺省参数、不定参数等。\n",
    "\n",
    "#### （1）必备参数：\n",
    "* 以正确的顺序把参数传递给函数，**调用时的数量必须和声明时一样**。"
   ]
  },
  {
   "cell_type": "code",
   "execution_count": null,
   "metadata": {},
   "outputs": [],
   "source": [
    "sum_n(n=100)  #n是必备参数"
   ]
  },
  {
   "cell_type": "markdown",
   "metadata": {},
   "source": [
    "#### （2）命名参数：\n",
    "* 命名参数：**用参数的命名确定传递的参数值**。\n",
    "    * 可以跳过不传的参数或**乱序传参**；\n",
    "    * Python能够根据参数名**自动匹配**参数值。"
   ]
  },
  {
   "cell_type": "code",
   "execution_count": null,
   "metadata": {},
   "outputs": [],
   "source": [
    "sum_n(begin=1, n=100)"
   ]
  },
  {
   "cell_type": "markdown",
   "metadata": {},
   "source": [
    "#### （3）缺省参数：\n",
    "* **缺省参数**：调用函数时，没有传递值的参数；\n",
    "* **缺省参数的值**：默认是定义该参数时的**初始值**。"
   ]
  },
  {
   "cell_type": "code",
   "execution_count": null,
   "metadata": {},
   "outputs": [],
   "source": [
    "def sum_n(n,begin=1):\n",
    "    \"Calculate the sum of natural numbers within [begin,n].\"\n",
    "    s=0\n",
    "    for i in range(begin,n+1):\n",
    "        s+=i\n",
    "    return(s)\n",
    "\n",
    "sum_n(1000)  #begin为缺省参数，默认为初始值begin=1"
   ]
  },
  {
   "cell_type": "markdown",
   "metadata": {},
   "source": [
    "* **注意**：在定义函数时，**缺省参数必须放在非缺省参数的后面**，否则会提示参数顺序错误。"
   ]
  },
  {
   "cell_type": "code",
   "execution_count": null,
   "metadata": {},
   "outputs": [],
   "source": [
    "def sum_n(begin=1,n):\n",
    "    \"Calculate the sum of natural numbers within [begin,n].\"\n",
    "    s=0\n",
    "    for i in range(begin,n+1):\n",
    "        s+=i\n",
    "    return(s)"
   ]
  },
  {
   "cell_type": "markdown",
   "metadata": {},
   "source": [
    "#### （4）不定参数：\n",
    "* 如果需要一个函数能处理比声明时更多的参数，这些参数叫作**不定参数**。\n",
    "* 与其他参数类型不同的是，**不定参数在声明时不会命名**。\n",
    "* 含有不定参数的函数的基本语法为："
   ]
  },
  {
   "cell_type": "code",
   "execution_count": null,
   "metadata": {},
   "outputs": [],
   "source": [
    "def 函数名([参数],*不定参数):\n",
    "    \"函数说明字符串\"\n",
    "    函数体\n",
    "    return [表达式]"
   ]
  },
  {
   "cell_type": "markdown",
   "metadata": {},
   "source": [
    "* **不定参数的函数**与**普通函数**的最大区别：\n",
    "    * 加了“\\*”的参数名会以**元组**的形式存放所有未命名的参数。\n",
    "\n",
    "#### 例：编制一个能够对任意数值求和的函数："
   ]
  },
  {
   "cell_type": "code",
   "execution_count": null,
   "metadata": {},
   "outputs": [],
   "source": [
    "def sum_all(*data):\n",
    "    s=0\n",
    "    for i in data:\n",
    "        s+=i\n",
    "    return(s)"
   ]
  },
  {
   "cell_type": "markdown",
   "metadata": {},
   "source": [
    "* 该sum_all函数在定义时使用了不定参数：\n",
    "    * 不定参数存储在以data命名的元组中；\n",
    "    * 并使用for循环遍历元组中的所有元素。\n",
    "* 该函数调用时，“()”中直接放置元组元素即可："
   ]
  },
  {
   "cell_type": "code",
   "execution_count": null,
   "metadata": {},
   "outputs": [],
   "source": [
    "sum_all(1,2,3)"
   ]
  },
  {
   "cell_type": "markdown",
   "metadata": {},
   "source": [
    "* 当不定参数的函数中仍包含缺省参数时，**缺省参数必须放在非缺省参数（包括不定参数）后面**。\n",
    "\n",
    "#### 例：编制一个能够对任意数值求和并取倍数的函数："
   ]
  },
  {
   "cell_type": "code",
   "execution_count": null,
   "metadata": {},
   "outputs": [],
   "source": [
    "def sum_all(k,*data,n=1):\n",
    "    s=0\n",
    "    for i in data:\n",
    "        s+=i\n",
    "    return(k*s**n)"
   ]
  },
  {
   "cell_type": "code",
   "execution_count": null,
   "metadata": {},
   "outputs": [],
   "source": [
    "sum_all(-1,1,2,3)"
   ]
  },
  {
   "cell_type": "code",
   "execution_count": null,
   "metadata": {},
   "outputs": [],
   "source": [
    "sum_all(-1,1,2,3,n=2)"
   ]
  },
  {
   "cell_type": "markdown",
   "metadata": {},
   "source": [
    "## 6.3 全局变量与局部变量\n",
    "* 变量在函数内部和外部会起到不同的作用。一般而言：\n",
    "    * 定义在函数**内部**的变量拥有一个**局部作用域**；\n",
    "    * 定义在函数**外部**的变量拥有**全局作用域**。\n",
    "* **Python引用变量的顺序**： 当前作用域局部变量 >> 外层作用域变量 >> 当前模块中的全局变量 >> python内置变量。\n",
    "\n",
    "### （1）局部变量\n",
    "* 局部变量：定义在函数内部的变量。\n",
    "* 其作用域范围为函数内，**只能在其被声明的函数内部访问**。\n",
    "\n",
    "### （2）全局变量\n",
    "* 全局变量：定义在函数外的变量。\n",
    "* 其作用域范围为全局，**可以在整个程序范围内访问**。\n",
    "\n",
    "### 全局变量的**声明方式**有两种：\n",
    "* 方式1：在函数或其他程序块的外部声明全局变量；"
   ]
  },
  {
   "cell_type": "code",
   "execution_count": null,
   "metadata": {},
   "outputs": [],
   "source": [
    "total=0  #全局变量\n",
    "def sum_user(p1,p2):\n",
    "    total=p1+p2  #局部变量\n",
    "    print(\"Inside the function local total=\",total)\n",
    "    return(total)\n",
    "\n",
    "sum_user(10,20)\n",
    "print(\"Outside the function global total=\",total)"
   ]
  },
  {
   "cell_type": "markdown",
   "metadata": {},
   "source": [
    "* 局部变量使用时，优先从局部作用域中查找这个变量：\n",
    "    * 如果局部作用域没有该变量，再去外层作用域找；\n",
    "    * 依次递推，如果直到程序最外层（全局变量）中都没有，则报错。\n",
    "* 但是如果在当前局部作用域中有该变量，则该变量的声明（定义）语句必须在使用语句之前；否则会报错。"
   ]
  },
  {
   "cell_type": "code",
   "execution_count": null,
   "metadata": {},
   "outputs": [],
   "source": [
    "total=0  #全局变量\n",
    "def sum_user(p1,p2):\n",
    "    print(\"total=\",total)  #局部作用域中，total变量使用在声明之前，会报错！\n",
    "    total=p1+p2  #局部变量\n",
    "    print(\"Inside the function local total=\",total)\n",
    "    return(total)\n",
    "\n",
    "sum_user(10,20)\n",
    "print(\"Outside the function global total=\",total)"
   ]
  },
  {
   "cell_type": "markdown",
   "metadata": {},
   "source": [
    "* 方式2：在函数中可以用**global语句**来声明全局变量。"
   ]
  },
  {
   "cell_type": "code",
   "execution_count": null,
   "metadata": {},
   "outputs": [],
   "source": [
    "total=0  #全局变量\n",
    "def sum_user(p1,p2):\n",
    "    global total  #声明全局变量\n",
    "    total=p1+p2\n",
    "    print(\"Inside the function local total=\",total)\n",
    "    return(total)\n",
    "\n",
    "sum_user(10,20)\n",
    "print(\"Outside the function global total=\",total)"
   ]
  },
  {
   "cell_type": "markdown",
   "metadata": {},
   "source": [
    "### nonlocal语句\n",
    "* 当有很多**函数**进行**嵌套**时，我们想让变量发挥作用的作用域在其所嵌套函数的上一层，而不是全局，此时可通过使用**nonlocal语句**来声明变量的作用域。\n",
    "* **nonlocal语句**：提供嵌套函数引用外部变量的方法。\n",
    "    * nonlocal语句是在Python3.0中新增的关键字，python2.x不提供支持。"
   ]
  },
  {
   "cell_type": "code",
   "execution_count": null,
   "metadata": {},
   "outputs": [],
   "source": [
    "total=0\n",
    "def sum_user(p1,p2):\n",
    "    total=p1+p2\n",
    "    print(\"Inside the sum_user function local total=\",total)\n",
    "    def inner(n1=1,n2=2):\n",
    "        nonlocal total  #嵌套函数引用外部变量\n",
    "        total=n1+n2\n",
    "        print(\"Inside the inner function local total=\",total)\n",
    "    inner()\n",
    "    print(\"Inside the sum_user function local total=\",total)\n",
    "\n",
    "sum_user(10,20)\n",
    "print(\"Outside all functions global total=\",total)"
   ]
  },
  {
   "cell_type": "markdown",
   "metadata": {},
   "source": [
    "### global和nonlocal的区别\n",
    "* global语句：表示将变量声明为**全局变量**；\n",
    "* nonlocal语句：表示将变量声明为**外层变量**（外层函数的局部变量，而且**不能是全局变量**）。\n",
    "\n",
    "#### 例：嵌套函数引用外部变量，但外部变量为全局变量，报错！"
   ]
  },
  {
   "cell_type": "code",
   "execution_count": null,
   "metadata": {},
   "outputs": [],
   "source": [
    "total=0\n",
    "def sum_user(p1,p2):\n",
    "    nonlocal total  #嵌套函数引用外部变量\n",
    "    total=p1+p2\n",
    "    print(\"Inside the sum_user function local total=\",total)\n",
    "    def inner(n1=1,n2=2):\n",
    "        total=n1+n2\n",
    "        print(\"Inside the inner function local total=\",total)\n",
    "    inner()\n",
    "    print(\"Inside the sum_user function local total=\",total)\n",
    "\n",
    "sum_user(10,20)\n",
    "print(\"Outside all functions global total=\",total)"
   ]
  },
  {
   "cell_type": "code",
   "execution_count": null,
   "metadata": {},
   "outputs": [],
   "source": [
    "total=0  #全局变量\n",
    "def sum_user(p1,p2):\n",
    "    total=p1+p2  #局部变量\n",
    "    print(\"Inside the sum_user function local total=\",total)\n",
    "    def inner(n1=1,n2=2):\n",
    "        global total  #声明全局变量\n",
    "        total=n1+n2\n",
    "        print(\"Inside the inner function local total=\",total)\n",
    "    inner()\n",
    "    return(total)\n",
    "\n",
    "sum_user(10,20)\n",
    "print(\"Outside all functions global total=\",total)"
   ]
  },
  {
   "cell_type": "code",
   "execution_count": null,
   "metadata": {},
   "outputs": [],
   "source": [
    "total=0  #全局变量\n",
    "def sum_user(p1,p2):\n",
    "    global total  #声明全局变量\n",
    "    total=p1+p2  #局部变量\n",
    "    print(\"Inside the sum_user function local total=\",total)\n",
    "    def inner(n1=1,n2=2):\n",
    "        total=n1+n2\n",
    "        print(\"Inside the inner function local total=\",total)\n",
    "    inner()\n",
    "    return(total)\n",
    "\n",
    "sum_user(10,20)\n",
    "print(\"Outside all functions global total=\",total)"
   ]
  },
  {
   "cell_type": "markdown",
   "metadata": {},
   "source": [
    "## 6.4 匿名函数\n",
    "* **匿名函数**：又称**lambda函数**，仅由**单条语句**组成，该语句的执行结果就是返回值。\n",
    "* 匿名函数的一般形式为："
   ]
  },
  {
   "cell_type": "code",
   "execution_count": null,
   "metadata": {},
   "outputs": [],
   "source": [
    "lambda 参数1,参数2,…,参数n: 表达式"
   ]
  },
  {
   "cell_type": "markdown",
   "metadata": {},
   "source": [
    "* 匿名函数能接收任何数量的参数，但**只能返回一个表达式的值，不能同时包含命令或多个表达式**，调用函数时不占用栈内存从而提高运行效率。"
   ]
  },
  {
   "cell_type": "code",
   "execution_count": null,
   "metadata": {},
   "outputs": [],
   "source": [
    "sum=lambda a,b: a+b\n",
    "sum(10,20)"
   ]
  },
  {
   "cell_type": "code",
   "execution_count": null,
   "metadata": {},
   "outputs": [],
   "source": [
    "sum=lambda a,b: a=a+1;a+b  #包含多个语句，报错！\n",
    "sum(10,20)"
   ]
  },
  {
   "cell_type": "markdown",
   "metadata": {},
   "source": [
    "#### 例：\n",
    "* 定义**universal函数**使其能够调用**指定函数func**对指定列表some_list进行操作；\n",
    "* 其中指定函数func用匿名函数lambda定义。"
   ]
  },
  {
   "cell_type": "code",
   "execution_count": null,
   "metadata": {},
   "outputs": [],
   "source": [
    "def universal(some_list, func):\n",
    "    return [func(x) for x in some_list]\n",
    "\n",
    "a=[1,2,3,4,5]\n",
    "universal(a, lambda x: x**2)"
   ]
  },
  {
   "cell_type": "code",
   "execution_count": null,
   "metadata": {},
   "outputs": [],
   "source": [
    "a=[1,2,3,4,5]\n",
    "universal(a, lambda x: x**3-2*x**2-x)"
   ]
  },
  {
   "cell_type": "markdown",
   "metadata": {},
   "source": [
    "## 6.5 递归和闭包\n",
    "* 函数内部可以调用其他函数。\n",
    "\n",
    "### （1）递归函数\n",
    "* 如果一个函数在内部调用自身，则这个函数被称为**递归函数**。\n",
    "    * 递归函数定义简单，逻辑清晰，但其效率不高。\n",
    "* 递归函数除了**调用自身**这个明显的特点之外，还应该有一个明显的**结束或收敛条件**。"
   ]
  },
  {
   "cell_type": "code",
   "execution_count": null,
   "metadata": {},
   "outputs": [],
   "source": [
    "def addn(n):\n",
    "    if n==1:\n",
    "        return(1)\n",
    "    return n+addn(n-1)  #递归函数：函数内部调用自身\n",
    "\n",
    "addn(100)"
   ]
  },
  {
   "cell_type": "markdown",
   "metadata": {},
   "source": [
    "### （2）闭包\n",
    "* **闭包**(closure)：是由其他函数生成并返回的函数。\n",
    "    * 即：调用一个函数，这个函数返回一个在这个函数中定义的函数。\n",
    "* 函数中可以自定义函数，则\n",
    "    * 定义或创建函数的函数即为**外部函数**；\n",
    "    * 被定义的函数即为**内部函数**。\n",
    "* 如果在一个内部函数里，对外部作用域（但不是在全局作用域）的变量进行引用，那么内部函数就被认为是闭包。\n",
    "* **闭包最明显的特征：被返回的函数可以访问其创建者局部命名空间中的变量**；\n",
    "    * 即使其创建者已经执行完毕，闭包仍然能继续访问其创建者的局部命名空间。"
   ]
  },
  {
   "cell_type": "code",
   "execution_count": null,
   "metadata": {},
   "outputs": [],
   "source": [
    "def adderx(x):\n",
    "    def addery(y):\n",
    "        return(x+y)\n",
    "    return(addery)  #调用adderx函数时其返回addery函数\n",
    "\n",
    "s=adderx(1)\n",
    "s"
   ]
  },
  {
   "cell_type": "code",
   "execution_count": null,
   "metadata": {},
   "outputs": [],
   "source": [
    "type(s)\n",
    "s(100)"
   ]
  },
  {
   "cell_type": "code",
   "execution_count": null,
   "metadata": {},
   "outputs": [],
   "source": [
    "def s(y):\n",
    "    return(1+y)\n",
    "\n",
    "s(100)"
   ]
  },
  {
   "cell_type": "markdown",
   "metadata": {},
   "source": [
    "* 当闭包执行完成后，仍然能够保持住当前的运行环境。"
   ]
  },
  {
   "cell_type": "code",
   "execution_count": null,
   "metadata": {},
   "outputs": [],
   "source": [
    "def counter(name):\n",
    "    c=[0]\n",
    "    def count():\n",
    "        c[0]+=1\n",
    "        if c[0]==1: print(\"This is the 1st access to\", name)\n",
    "        elif c[0]==1: print(\"This is the 1st access to\", name)\n",
    "        elif c[0]==1: print(\"This is the 1st access to\", name)\n",
    "        else: print(\"This is the\", repr(c[0])+\"th access to\", name)\n",
    "    return(count)\n",
    "a=counter(\"example\")\n",
    "a();a();a();a()"
   ]
  },
  {
   "cell_type": "markdown",
   "metadata": {},
   "source": [
    "* 如果对象a被重新赋值，则会返回初始状态。"
   ]
  },
  {
   "cell_type": "code",
   "execution_count": null,
   "metadata": {},
   "outputs": [],
   "source": [
    "a=counter(\"sample\")\n",
    "a();a();a();a()"
   ]
  },
  {
   "cell_type": "code",
   "execution_count": null,
   "metadata": {},
   "outputs": [],
   "source": [
    "a=counter(\"example\")\n",
    "a();a();a();a()"
   ]
  },
  {
   "cell_type": "markdown",
   "metadata": {},
   "source": [
    "## 6.6 柯里化与反柯里化\n",
    "\n",
    "### （1）柯里化\n",
    "* 柯里化(currying)：指一个函数在参数传递时返回另一个函数，该返回函数的参数就是原函数没有进行参数传递的参数。\n",
    "    * 柯里化能泛化出很多函数。\n",
    "\n",
    "#### 例：定义幂运算函数：\n",
    "* 若参数x和y分别传递值2和3，则返回2的3次方；\n",
    "* 若只传递参数x的值为2，则函数返回一个函数：2的y次方，此时参数y即为“柯里化的”；\n",
    "* 若只传递参数y的值为3，则函数返回一个函数：x的3次方，此时参数x即为“柯里化的”；"
   ]
  },
  {
   "cell_type": "code",
   "execution_count": null,
   "metadata": {},
   "outputs": [],
   "source": [
    "def power(x,y):\n",
    "    return x**y\n",
    "\n",
    "power(2,3)"
   ]
  },
  {
   "cell_type": "markdown",
   "metadata": {},
   "source": [
    "* 将power函数中的第二个参数y柯里化，则powerof2就是power函数柯里化泛化出来的一个函数。"
   ]
  },
  {
   "cell_type": "code",
   "execution_count": null,
   "metadata": {},
   "outputs": [],
   "source": [
    "powerof2=lambda y: power(2,y)\n",
    "powerof2(5)"
   ]
  },
  {
   "cell_type": "markdown",
   "metadata": {},
   "source": [
    "* Python内置functools模块的partial函数也可以实现柯里化并将上述过程简化："
   ]
  },
  {
   "cell_type": "code",
   "execution_count": null,
   "metadata": {},
   "outputs": [],
   "source": [
    "from functools import partial\n",
    "powerof3=partial(power,3)\n",
    "powerof3(2)"
   ]
  },
  {
   "cell_type": "markdown",
   "metadata": {},
   "source": [
    "### （2）反柯里化\n",
    "* 反柯里化(uncurrying)：是柯里化的逆过程，将多个只含单个参数的函数模拟称一个多参数函数。"
   ]
  },
  {
   "cell_type": "code",
   "execution_count": null,
   "metadata": {},
   "outputs": [],
   "source": [
    "def power(x):\n",
    "    def p(y):\n",
    "        return(x**y)\n",
    "    return(p)  #闭包\n",
    "\n",
    "power(2)(5)"
   ]
  },
  {
   "cell_type": "markdown",
   "metadata": {},
   "source": [
    "## 6.7 常用的内置高阶函数\n",
    "* 在Python常用的数据处理过程中，有几个内置函数可以遍历序列并对之进行处理；\n",
    "    * 即：对序列中的每一个元素进行处理。\n",
    "* **高阶函数**：能够接受函数作为参数的函数。 \n",
    "* 常用的高阶内置函数：\n",
    "    * filter函数\n",
    "    * map函数\n",
    "    * reduce函数\n",
    "* 高阶函数在一定程度上可以提高数据分析的效率。"
   ]
  },
  {
   "cell_type": "markdown",
   "metadata": {},
   "source": [
    "### 6.7.1 filter函数\n",
    "* filter(布尔函数,序列)函数的功能相当于**过滤器**，用于过滤序列；\n",
    "    * 过滤掉不符合条件的元素，返回由符合条件元素组成的新列表；\n",
    "    * 即：调用一个布尔函数来遍历序列中的每个元素，返回一个元素使布尔函数值为True的**迭代器**。\n",
    "* **迭代器**：迭代器是一个可以记住遍历的位置的对象。（第7章内容）"
   ]
  },
  {
   "cell_type": "code",
   "execution_count": null,
   "metadata": {},
   "outputs": [],
   "source": [
    "list(filter(lambda x: x%2==0, range(20)))  #得到一个range(20)范围内的偶数列表"
   ]
  },
  {
   "cell_type": "code",
   "execution_count": null,
   "metadata": {},
   "outputs": [],
   "source": [
    "lambda x:x%2==0, range(20)  #匿名函数"
   ]
  },
  {
   "cell_type": "code",
   "execution_count": null,
   "metadata": {},
   "outputs": [],
   "source": [
    "filter(lambda x:x%2==0, range(20))  #迭代器"
   ]
  },
  {
   "cell_type": "markdown",
   "metadata": {},
   "source": [
    "* enumerate()是常用的内置列表函数，也是常用的迭代工具函数；\n",
    "    * 其功能为遍历序列中的元素以及他们的下标(索引)。"
   ]
  },
  {
   "cell_type": "code",
   "execution_count": null,
   "metadata": {},
   "outputs": [],
   "source": [
    "a=[\"Python\",\"C\",\"SAS\"]\n",
    "enumerate(a)  #可看作迭代器"
   ]
  },
  {
   "cell_type": "code",
   "execution_count": null,
   "metadata": {},
   "outputs": [],
   "source": [
    "list(enumerate(a))"
   ]
  },
  {
   "cell_type": "markdown",
   "metadata": {},
   "source": [
    "#### 例：利用filter函数可以显示某个对象的非私有成员。"
   ]
  },
  {
   "cell_type": "code",
   "execution_count": null,
   "metadata": {},
   "outputs": [],
   "source": [
    "dir(list)"
   ]
  },
  {
   "cell_type": "code",
   "execution_count": null,
   "metadata": {},
   "outputs": [],
   "source": [
    "list(filter(lambda x:x[0]!='_', dir(list)))"
   ]
  },
  {
   "cell_type": "markdown",
   "metadata": {},
   "source": [
    "### 6.7.2 map函数\n",
    "* map()函数将指定函数作用于给定序列的每个元素，并**返回迭代器**；\n",
    "* 其一般形式为："
   ]
  },
  {
   "cell_type": "code",
   "execution_count": null,
   "metadata": {},
   "outputs": [],
   "source": [
    "map(指定函数func, 序列1,序列2,…,序列n)"
   ]
  },
  {
   "cell_type": "code",
   "execution_count": null,
   "metadata": {},
   "outputs": [],
   "source": [
    "list(map(lambda x: x%2, range(20)))  #返回20以内整数处于2的余数"
   ]
  },
  {
   "cell_type": "code",
   "execution_count": null,
   "metadata": {},
   "outputs": [],
   "source": [
    "list(map(lambda x: x*2, [1,2,3,4,[5,6,7]]))"
   ]
  },
  {
   "cell_type": "markdown",
   "metadata": {},
   "source": [
    "#### （1）map函数的返回值是迭代器。"
   ]
  },
  {
   "cell_type": "code",
   "execution_count": null,
   "metadata": {},
   "outputs": [],
   "source": [
    "map(lambda x: x%2, range(20))"
   ]
  },
  {
   "cell_type": "markdown",
   "metadata": {},
   "source": [
    "#### （2）当map函数中的多个序列长度不同时，会自动截取为等长度序列。"
   ]
  },
  {
   "cell_type": "code",
   "execution_count": null,
   "metadata": {},
   "outputs": [],
   "source": [
    "list(map(lambda x,y: x*y, [1,2,3],[4,5,6]))  #多个序列，长度一致"
   ]
  },
  {
   "cell_type": "code",
   "execution_count": null,
   "metadata": {},
   "outputs": [],
   "source": [
    "list(map(lambda x,y: x*y, [1,2],[4,5,6]))  #多个序列，长度不一致"
   ]
  },
  {
   "cell_type": "markdown",
   "metadata": {},
   "source": [
    "#### （3）map函数依次地对每个序列的同一位置元素执行func函数，并得到一个返回值；最终所有返回值作为元素以列表输出。"
   ]
  },
  {
   "cell_type": "code",
   "execution_count": null,
   "metadata": {},
   "outputs": [],
   "source": [
    "list(map(lambda x,y: (x*y,x+y), [1,2,3],[4,5,6]))  #各元素对应的返回值为一个元组"
   ]
  },
  {
   "cell_type": "markdown",
   "metadata": {},
   "source": [
    "### 6.7.3 reduce函数\n",
    "* reduce函数在Python3中被放入functools包中，使用前需用如下语句调用："
   ]
  },
  {
   "cell_type": "code",
   "execution_count": null,
   "metadata": {},
   "outputs": [],
   "source": [
    "from functools import reduce"
   ]
  },
  {
   "cell_type": "markdown",
   "metadata": {},
   "source": [
    "* reduce()函数的一般形式为："
   ]
  },
  {
   "cell_type": "code",
   "execution_count": null,
   "metadata": {},
   "outputs": [],
   "source": [
    "reduce(func函数, 序列, 初始值)"
   ]
  },
  {
   "cell_type": "markdown",
   "metadata": {},
   "source": [
    "* reduce()函数会对参数序列中元素进行**累积**，即：\n",
    "    * （1）作为参数的**二元函数**func(有两个参数)先对集合中的第1、2个元素进行操作；\n",
    "    * （2）得到的结果再与第三个数据用func函数运算；\n",
    "    * （3）以此类推，直至最后得到一个结果。"
   ]
  },
  {
   "cell_type": "code",
   "execution_count": null,
   "metadata": {},
   "outputs": [],
   "source": [
    "reduce(lambda x,y: x+y, [1,2,3,4])  #无初始值"
   ]
  },
  {
   "cell_type": "markdown",
   "metadata": {},
   "source": [
    "* 上述语句的执行机理为：根据x+y的函数关系式，\n",
    "    * （1）计算第1、2个元素相加，即1+2=3，结果为3；\n",
    "    * （2）将（1）中得到的结果3与第3个元素相加，即：3+3=6，结果为6；\n",
    "    * （3）将（2）中得到的结果6与第4个元素相加，即：6+4=10，结果为10；此为最终结果。"
   ]
  },
  {
   "cell_type": "code",
   "execution_count": null,
   "metadata": {},
   "outputs": [],
   "source": [
    "reduce(lambda x,y: x+y, [1,2,3,4], 10)  #有初始值10"
   ]
  },
  {
   "cell_type": "markdown",
   "metadata": {},
   "source": [
    "* 上述语句的执行机理为：根据x+y的函数关系式，\n",
    "    * （1）计算初始值10与第1个元素相加，即10+1=11，结果为11；\n",
    "    * （2）将（1）中得到的结果11与第2个元素相加，即：11+2=13，结果为13；\n",
    "    * （3）将（2）中得到的结果13与第3个元素相加，即：13+3=16，结果为16；\n",
    "    * （4）将（3）中得到的结果16与第4个元素相加，即：16+4=20，结果为20；此为最终结果。"
   ]
  },
  {
   "cell_type": "code",
   "execution_count": null,
   "metadata": {},
   "outputs": [],
   "source": [
    "reduce(lambda x,y: x*y, range(1,6))"
   ]
  },
  {
   "cell_type": "markdown",
   "metadata": {},
   "source": [
    "#### 例：用一行代码实现计算100以内自然数之和的功能。"
   ]
  },
  {
   "cell_type": "code",
   "execution_count": null,
   "metadata": {},
   "outputs": [],
   "source": [
    "reduce(lambda x,y: x+y, range(101))"
   ]
  },
  {
   "cell_type": "markdown",
   "metadata": {},
   "source": [
    "* Python中还有大量的内置函数，可以使用dir()函数进行查看："
   ]
  },
  {
   "cell_type": "code",
   "execution_count": null,
   "metadata": {},
   "outputs": [],
   "source": [
    "dir(__builtins__)"
   ]
  },
  {
   "cell_type": "markdown",
   "metadata": {},
   "source": [
    "* 对于某一内置函数的帮助文档，可通过help或?来查看："
   ]
  },
  {
   "cell_type": "code",
   "execution_count": null,
   "metadata": {},
   "outputs": [],
   "source": [
    "help(abs)  #查看abs()函数的帮助文档"
   ]
  },
  {
   "cell_type": "code",
   "execution_count": null,
   "metadata": {},
   "outputs": [],
   "source": [
    "?help  #查看help()函数的帮助文档"
   ]
  },
  {
   "cell_type": "markdown",
   "metadata": {},
   "source": [
    "# 第6章作业\n",
    "\n",
    "## 作业1：对于$ax^2+bx+c=0$，编制函数求解该一元二次方程的解。"
   ]
  },
  {
   "cell_type": "markdown",
   "metadata": {},
   "source": [
    "## 作业2：编写函数，使其实现判断任一一个5位数是否为回文数。\n",
    "* 回文数：个位与万位相同，十位与千位相同。如：12321是回文数。"
   ]
  },
  {
   "cell_type": "markdown",
   "metadata": {},
   "source": [
    "## 作业3：定义函数使其输出杨辉三角形的任意前n行。\n",
    "* 杨辉三角：每个数等于它上方两数之和。\n",
    "    * 第1行：[1]  \n",
    "    * 第2行：[1, 1]  \n",
    "    * 第3行：[1, 2, 1]\n",
    "    * 第4行：[1, 3, 3, 1]\n",
    "    * 第5行：[1, 4, 6, 4, 1]\n",
    "    * 以此类推"
   ]
  }
 ],
 "metadata": {
  "kernelspec": {
   "display_name": "Python 3",
   "language": "python",
   "name": "python3"
  },
  "language_info": {
   "codemirror_mode": {
    "name": "ipython",
    "version": 3
   },
   "file_extension": ".py",
   "mimetype": "text/x-python",
   "name": "python",
   "nbconvert_exporter": "python",
   "pygments_lexer": "ipython3",
   "version": "3.8.3"
  }
 },
 "nbformat": 4,
 "nbformat_minor": 4
}
