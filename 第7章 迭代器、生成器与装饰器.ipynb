{
 "cells": [
  {
   "cell_type": "markdown",
   "metadata": {},
   "source": [
    "# 第7章 迭代器、生成器与装饰器\n",
    "* Python"
   ]
  },
  {
   "cell_type": "markdown",
   "metadata": {},
   "source": [
    "## 7.1 迭代器\n",
    "* **可迭代对象**：可以直接作用于for循环的对象统称为可迭代对象。\n",
    "    * 如：list，tuple，dict，set，str等数据类型。\n",
    "* **迭代器**：是访问可迭代对象元素的一种方式，能够通过一种使对象可迭代的方式对序列从第一个元素开始访问，直到所有的元素被访问为止。\n",
    "* **注意：迭代器对序列的访问只能往前不会后退。**\n",
    "* 迭代器有两个基本的方法：\n",
    "    * （1）iter()方法：返回迭代器对象本身，即：创建迭代器；\n",
    "    * （2）next()方法：返回迭代器的下一个元素，即：运行一次，迭代一次。\n",
    "\n",
    "#### 例：创建一个字典，用for循环输出其所有键。"
   ]
  },
  {
   "cell_type": "code",
   "execution_count": null,
   "metadata": {},
   "outputs": [],
   "source": [
    "it={'a':101,'b':202,'c':303}\n",
    "for keys in it:\n",
    "    print(keys, end='')"
   ]
  },
  {
   "cell_type": "markdown",
   "metadata": {},
   "source": [
    "* 上述for循环语句执行时，首先会从对象it中创建一个迭代器，即："
   ]
  },
  {
   "cell_type": "code",
   "execution_count": null,
   "metadata": {},
   "outputs": [],
   "source": [
    "it_it=iter(it)  #创建迭代器\n",
    "it_it"
   ]
  },
  {
   "cell_type": "code",
   "execution_count": null,
   "metadata": {},
   "outputs": [],
   "source": [
    "list(it_it)"
   ]
  },
  {
   "cell_type": "code",
   "execution_count": null,
   "metadata": {},
   "outputs": [],
   "source": [
    "next(it_it)  #运行一次，迭代一次"
   ]
  },
  {
   "cell_type": "markdown",
   "metadata": {},
   "source": [
    "### 回顾：\n",
    "* Python中常用的两个内置的**迭代工具函数**：\n",
    "    * **enumerate()函数**：遍历序列中的元素以及它们的索引；\n",
    "    * **zip()函数**：将多个序列中的元素“配对”，返回一个可迭代的zip对象。"
   ]
  },
  {
   "cell_type": "code",
   "execution_count": null,
   "metadata": {},
   "outputs": [],
   "source": [
    "a=['a','b','c']\n",
    "list(enumerate(a))"
   ]
  },
  {
   "cell_type": "code",
   "execution_count": null,
   "metadata": {},
   "outputs": [],
   "source": [
    "enumerate(a)"
   ]
  },
  {
   "cell_type": "code",
   "execution_count": null,
   "metadata": {},
   "outputs": [],
   "source": [
    "b=[1,2,3,4]\n",
    "list(zip(a,b))  #zip的多个序列长度不同时，以最短序列的长度为标准自动截取"
   ]
  },
  {
   "cell_type": "code",
   "execution_count": null,
   "metadata": {},
   "outputs": [],
   "source": [
    "zip(a,b)"
   ]
  },
  {
   "cell_type": "markdown",
   "metadata": {},
   "source": [
    "## 7.2 生成器\n",
    "* 生成器(generator)：是构造新的可迭代对象的一种简单方式。\n",
    "* 一般的函数执行后只会返回单个值，而**生成器则是以延迟的方式返回一个值序列**；\n",
    "    * 即：每返回一个值之后暂停，直到下一个值被请求时再继续返回。\n",
    "* **要创建一个生成器，只需将函数中的return替换为yield**；\n",
    "    * 即：在Python中，**带有yield的函数被称为生成器**。"
   ]
  },
  {
   "cell_type": "code",
   "execution_count": null,
   "metadata": {},
   "outputs": [],
   "source": [
    "def cube(n=10):\n",
    "    print(\"Generating cubes from 1 to %d\" %(n**3))\n",
    "    for i in range(1,n+1):\n",
    "        yield(i**3)"
   ]
  },
  {
   "cell_type": "markdown",
   "metadata": {},
   "source": [
    "* 调用上述生成器时，没有 任何代码会被立即执行："
   ]
  },
  {
   "cell_type": "code",
   "execution_count": null,
   "metadata": {},
   "outputs": [],
   "source": [
    "gen=cube()\n",
    "gen"
   ]
  },
  {
   "cell_type": "markdown",
   "metadata": {},
   "source": [
    "* 直到从该生成器中请求元素时，它才会开始执行其代码："
   ]
  },
  {
   "cell_type": "code",
   "execution_count": null,
   "metadata": {},
   "outputs": [],
   "source": [
    "for x in gen:\n",
    "    print(x, end='-')"
   ]
  },
  {
   "cell_type": "markdown",
   "metadata": {},
   "source": [
    "* 如果想重复运行上述for循环，需要重新运行gen的赋值语句。\n",
    "\n",
    "#### 例：使用生成器生成n以内的所有素数。"
   ]
  },
  {
   "cell_type": "code",
   "execution_count": null,
   "metadata": {},
   "outputs": [],
   "source": [
    "from math import sqrt\n",
    "def primenumber(n):\n",
    "    for i in range(2,n+1):\n",
    "        k=0;j=2\n",
    "        while j<=sqrt(i):\n",
    "            if i/j==int(i/j):\n",
    "                k=1\n",
    "                break\n",
    "            j+=1\n",
    "        if k==0:\n",
    "            yield i  #生成器\n",
    "\n",
    "for i in primenumber(10):\n",
    "    print(i,end=' ')"
   ]
  },
  {
   "cell_type": "code",
   "execution_count": null,
   "metadata": {},
   "outputs": [],
   "source": [
    "pn10=primenumber(10)\n",
    "next(pn10)"
   ]
  },
  {
   "cell_type": "code",
   "execution_count": null,
   "metadata": {},
   "outputs": [],
   "source": [
    "next(pn10)"
   ]
  },
  {
   "cell_type": "markdown",
   "metadata": {},
   "source": [
    "### 生成器表达式\n",
    "* **生成器表达式**是构造生成器的最简单方式，类似列表、字典、集合**推导式**。\n",
    "* 其创建方式为：把推导式两端的方括号(或花括号)修改为**圆括号**即可。"
   ]
  },
  {
   "cell_type": "code",
   "execution_count": null,
   "metadata": {},
   "outputs": [],
   "source": [
    "gen=(x**3 for x in range(10))\n",
    "gen"
   ]
  },
  {
   "cell_type": "code",
   "execution_count": null,
   "metadata": {},
   "outputs": [],
   "source": [
    "list(gen)"
   ]
  },
  {
   "cell_type": "code",
   "execution_count": null,
   "metadata": {},
   "outputs": [],
   "source": [
    "next(gen),next(gen)  #上一语句中已经遍历结束，如还需要使用该生成器，需要重新运行gen赋值语句"
   ]
  },
  {
   "cell_type": "code",
   "execution_count": null,
   "metadata": {},
   "outputs": [],
   "source": [
    "sum(gen)"
   ]
  },
  {
   "cell_type": "markdown",
   "metadata": {},
   "source": [
    "### 生成器“嵌套”：yield from\n",
    "* Python3中允许一个生成器将其部分操作委派给另一个生成器；\n",
    "    * 这样能使生成器像一个函数可以分为多个子函数一样简单。\n",
    "* 对于简单的生成器："
   ]
  },
  {
   "cell_type": "code",
   "execution_count": null,
   "metadata": {},
   "outputs": [],
   "source": [
    "yield from iterable"
   ]
  },
  {
   "cell_type": "markdown",
   "metadata": {},
   "source": [
    "等价于"
   ]
  },
  {
   "cell_type": "code",
   "execution_count": null,
   "metadata": {},
   "outputs": [],
   "source": [
    "for item in iterable:\n",
    "    yield item"
   ]
  },
  {
   "cell_type": "markdown",
   "metadata": {},
   "source": [
    "#### 例：生成元素分别为指定整数的正序和倒序的列表："
   ]
  },
  {
   "cell_type": "code",
   "execution_count": null,
   "metadata": {},
   "outputs": [],
   "source": [
    "def list_gen(x):\n",
    "    for i in range(x):\n",
    "        yield i\n",
    "    for j in range(x,0,-1):\n",
    "        yield j\n",
    "\n",
    "list(list_gen(5))"
   ]
  },
  {
   "cell_type": "code",
   "execution_count": null,
   "metadata": {},
   "outputs": [],
   "source": [
    "def list_gen(x):\n",
    "    yield from range(x)\n",
    "    yield from range(x,0,-1)\n",
    "\n",
    "list(list_gen(5))"
   ]
  },
  {
   "cell_type": "markdown",
   "metadata": {},
   "source": [
    "* **对于生成器函数，yield from就像调用子函数一样。**\n",
    "* 如，要生成指定整数范围内所有的素数：\n",
    "    1. 首先可以先定义一个用于判断某个整数是否为素数的生成器；\n",
    "    * 然后使用yield from生成指定范围内的所有素数。"
   ]
  },
  {
   "cell_type": "code",
   "execution_count": 1,
   "metadata": {},
   "outputs": [],
   "source": [
    "from math import sqrt\n",
    "def isPrimeNumber(n):\n",
    "    k=0;j=2\n",
    "    while j<=sqrt(n):\n",
    "        if (n/j)==int(n/j):\n",
    "            k=1\n",
    "            break\n",
    "        j+=1\n",
    "    if k==0:\n",
    "        yield n"
   ]
  },
  {
   "cell_type": "code",
   "execution_count": 2,
   "metadata": {},
   "outputs": [
    {
     "data": {
      "text/plain": [
       "[2, 3, 5, 7]"
      ]
     },
     "execution_count": 2,
     "metadata": {},
     "output_type": "execute_result"
    }
   ],
   "source": [
    "def prime(n):\n",
    "    for i in range(2,n+1):\n",
    "        yield from isPrimeNumber(i)\n",
    "list(prime(10))"
   ]
  },
  {
   "cell_type": "markdown",
   "metadata": {},
   "source": [
    "* Python标准库**itertools模块**中有一组用于许多常见数据算法的迭代器和生成器。\n",
    "    * 如：starmap、islice、groupby等。"
   ]
  },
  {
   "cell_type": "code",
   "execution_count": 4,
   "metadata": {},
   "outputs": [],
   "source": [
    "import itertools\n",
    "dir(itertools)"
   ]
  },
  {
   "cell_type": "markdown",
   "metadata": {},
   "source": [
    "* **itertools.starmap(func, iterable)**表示将func函数应用于**可迭代对象**iterable的每个元素，返回一个**迭代器**。"
   ]
  },
  {
   "cell_type": "code",
   "execution_count": null,
   "metadata": {},
   "outputs": [],
   "source": [
    "?itertools.starmap"
   ]
  },
  {
   "cell_type": "code",
   "execution_count": 9,
   "metadata": {},
   "outputs": [
    {
     "name": "stdout",
     "output_type": "stream",
     "text": [
      "1 81 15625 "
     ]
    }
   ],
   "source": [
    "ysm=itertools.starmap(pow, [(1,2),(3,4),(5,6)])  #\n",
    "for i in ysm:\n",
    "    print(i, end=' ')"
   ]
  },
  {
   "cell_type": "markdown",
   "metadata": {},
   "source": [
    "* **itertools.islice()**对可迭代对象iterable进行**切片**，返回一个**迭代器**。\n",
    "    * islice(iterable, start, stop[,step])\n",
    "    * islice(iterable, stop)，此时start=0且step=1"
   ]
  },
  {
   "cell_type": "code",
   "execution_count": null,
   "metadata": {},
   "outputs": [],
   "source": [
    "?itertools.islice"
   ]
  },
  {
   "cell_type": "code",
   "execution_count": 10,
   "metadata": {},
   "outputs": [
    {
     "data": {
      "text/plain": [
       "['UK', 'USA', 'Italy']"
      ]
     },
     "execution_count": 10,
     "metadata": {},
     "output_type": "execute_result"
    }
   ],
   "source": [
    "lst=['China','Japan','UK','USA','Italy','Germay','Korea']\n",
    "list(itertools.islice(lst,2,5,1))"
   ]
  },
  {
   "cell_type": "code",
   "execution_count": 15,
   "metadata": {},
   "outputs": [
    {
     "data": {
      "text/plain": [
       "['China', 'Japan', 'UK', 'USA', 'Italy']"
      ]
     },
     "execution_count": 15,
     "metadata": {},
     "output_type": "execute_result"
    }
   ],
   "source": [
    "list(itertools.islice(lst,5))"
   ]
  },
  {
   "cell_type": "markdown",
   "metadata": {},
   "source": [
    "* **itertools.groupby(iterable, key=None)**根据关键词key对可迭代对象iterable进行**分组**，返回一个迭代器。\n",
    "* 当key=None时，会将可迭代对象中**相邻的重复元素**挑出来放在一起。"
   ]
  },
  {
   "cell_type": "code",
   "execution_count": 31,
   "metadata": {},
   "outputs": [],
   "source": [
    "?itertools.groupby"
   ]
  },
  {
   "cell_type": "code",
   "execution_count": 47,
   "metadata": {},
   "outputs": [
    {
     "data": {
      "text/plain": [
       "[('A', <itertools._grouper at 0x28bf5773b50>),\n",
       " ('B', <itertools._grouper at 0x28bf5773a60>),\n",
       " ('C', <itertools._grouper at 0x28bf5773520>),\n",
       " ('A', <itertools._grouper at 0x28bf5773430>)]"
      ]
     },
     "execution_count": 47,
     "metadata": {},
     "output_type": "execute_result"
    }
   ],
   "source": [
    "list(itertools.groupby('AAAABBBBCCAA'))"
   ]
  },
  {
   "cell_type": "code",
   "execution_count": 48,
   "metadata": {},
   "outputs": [
    {
     "name": "stdout",
     "output_type": "stream",
     "text": [
      "A ['A', 'A', 'A', 'A']\n",
      "B ['B', 'B', 'B', 'B']\n",
      "C ['C', 'C']\n",
      "A ['A', 'A']\n"
     ]
    }
   ],
   "source": [
    "for key,group in itertools.groupby('AAAABBBBCCAA'):\n",
    "    print(key,list(group))"
   ]
  },
  {
   "cell_type": "code",
   "execution_count": 53,
   "metadata": {},
   "outputs": [
    {
     "name": "stdout",
     "output_type": "stream",
     "text": [
      "1 [1]\n",
      "3 [3, 3]\n",
      "2 [2]\n",
      "3 [3]\n",
      "4 [4]\n"
     ]
    }
   ],
   "source": [
    "for key,group in itertools.groupby([1,3,3,2,3,4]):\n",
    "    print(key,list(group))"
   ]
  },
  {
   "cell_type": "markdown",
   "metadata": {},
   "source": [
    "## 7.3 装饰器\n",
    "* 装饰器(decorator)可以在函数调用前后，**让已有函数在不做任何代码改动的情况下增加特定功能**。\n",
    "    * 这种在代码运行期间动态增加功能的方式即**装饰器**。\n",
    "* 装饰器本质上就是一个返回函数的高阶函数，即可以接受另一个函数作为参数的函数。\n",
    "* 总结装饰器的几点属性：\n",
    "    * 实质：是一个函数；\n",
    "    * 参数：是要装饰的函数名（并非函数调用）；\n",
    "    * 返回：是装饰完的函数名（也并非函数调用），内层函数（闭包）负责修饰被修饰函数；\n",
    "    * 作用：为已经存在的对象添加额外的功能；\n",
    "    * 特点：不需要对对象做任何的代码上的变动。"
   ]
  },
  {
   "cell_type": "markdown",
   "metadata": {},
   "source": [
    "### （1）装饰器的声明\n",
    "* 装饰器本质也是一个函数，因此**装饰器的定义(声明)方式与函数定义(声明)方式一样**。\n",
    "\n",
    "#### 例：定义一个可以计算函数执行时间的装饰器timecal。"
   ]
  },
  {
   "cell_type": "code",
   "execution_count": 1,
   "metadata": {},
   "outputs": [],
   "source": [
    "import time\n",
    "def timecal(func):\n",
    "    def wrapper(*args, **kw):\n",
    "        start=time.time()\n",
    "        func(*args, **kw)\n",
    "        stop=time.time()\n",
    "        print(\"Run time is %s\" %(stop-start))\n",
    "    return wrapper"
   ]
  },
  {
   "cell_type": "markdown",
   "metadata": {},
   "source": [
    "* 在上面代码中，func是要装饰器的函数，目的是用装饰器timecal显示func函数运行的时间。\n",
    "    * 该函数的**传入参数**是func(被装饰函数)，**返回参数**是内层函数wrapper(闭包)。\n",
    "* 内层函数wrapper起到装饰给定函数的作用：\n",
    "    * wrapper参数为(\\*args, \\*\\*kwargs)，可以接受任意参数的调用。\n",
    "\n",
    "### （2）装饰器的调用\n",
    "* **装饰器调用方式**：用**\\@语法糖**将装饰器放置于欲想在运行期间动态增加功能的函数定义处即可。"
   ]
  },
  {
   "cell_type": "code",
   "execution_count": 10,
   "metadata": {},
   "outputs": [
    {
     "name": "stdout",
     "output_type": "stream",
     "text": [
      "Sum of natural numbers within [1,100] is 5050\n",
      "Run time is 0.0009989738464355469\n"
     ]
    }
   ],
   "source": [
    "@timecal\n",
    "def snn(n, start=1):\n",
    "    \"Calculate the sum of natural numbers within [start,n]\"\n",
    "    s=0\n",
    "    for i in range(start,n+1): s+=i\n",
    "    print(\"Sum of natural numbers within [%s,%s] is %s\" %(start,n,s))\n",
    "\n",
    "snn(100)"
   ]
  },
  {
   "cell_type": "markdown",
   "metadata": {},
   "source": [
    "* 在调用snn函数时，由于装饰器的存在，会自动显示出snn函数的执行时间(秒)。\n",
    "* 把@timecal放置于snn函数的定义处，相当于执行如下语句："
   ]
  },
  {
   "cell_type": "code",
   "execution_count": 11,
   "metadata": {},
   "outputs": [
    {
     "name": "stdout",
     "output_type": "stream",
     "text": [
      "Sum of natural numbers within [1,100] is 5050\n",
      "Run time is 0.0009968280792236328\n"
     ]
    },
    {
     "data": {
      "text/plain": [
       "<function __main__.timecal.<locals>.wrapper(*args, **kw)>"
      ]
     },
     "execution_count": 11,
     "metadata": {},
     "output_type": "execute_result"
    }
   ],
   "source": [
    "timecal(snn(100))"
   ]
  },
  {
   "cell_type": "markdown",
   "metadata": {},
   "source": [
    "### （3）装饰器本身也可以是带参数的\n",
    "* 装饰器本身也可以是带参数的，只需要编写一个返回装饰器本身的高阶函数。\n",
    "\n",
    "#### 例：定义一个高阶函数ttime，其返回值为装饰器timecal。"
   ]
  },
  {
   "cell_type": "code",
   "execution_count": 13,
   "metadata": {},
   "outputs": [],
   "source": [
    "def ttime(prompt):  #高阶函数\n",
    "    def timecal(func):  #装饰器\n",
    "        def wrapper(*args, **kw):  #内层函数\n",
    "            start=time.time()\n",
    "            func(*args, **kw)\n",
    "            stop=time.time()\n",
    "            print(\"Run time is %s\" %(stop-start))\n",
    "        return wrapper\n",
    "    return timecal"
   ]
  },
  {
   "cell_type": "markdown",
   "metadata": {},
   "source": [
    "* **调用**：在定义被装饰的函数时，可在**@语法糖**中加入需要传递的参数："
   ]
  },
  {
   "cell_type": "code",
   "execution_count": 14,
   "metadata": {},
   "outputs": [
    {
     "name": "stdout",
     "output_type": "stream",
     "text": [
      "Sum of natural numbers within [1,100] is 5050\n",
      "Run time is 0.0010006427764892578\n"
     ]
    }
   ],
   "source": [
    "@ttime(\"Notice:\")  #此处装饰器的参数为一个字符串\n",
    "def snn(n, start=1):\n",
    "    \"Calculate the sum of natural numbers within [start,n]\"\n",
    "    s=0\n",
    "    for i in range(start,n+1): s+=i\n",
    "    print(\"Sum of natural numbers within [%s,%s] is %s\" %(start,n,s))\n",
    "\n",
    "snn(100)"
   ]
  },
  {
   "cell_type": "markdown",
   "metadata": {},
   "source": [
    "* 把@ttime(\"Notice:\")放置于snn函数的定义处，相当于执行如下语句："
   ]
  },
  {
   "cell_type": "code",
   "execution_count": 15,
   "metadata": {},
   "outputs": [
    {
     "name": "stdout",
     "output_type": "stream",
     "text": [
      "Sum of natural numbers within [1,100] is 5050\n",
      "Run time is 0.0\n"
     ]
    },
    {
     "data": {
      "text/plain": [
       "<function __main__.ttime.<locals>.timecal.<locals>.wrapper(*args, **kw)>"
      ]
     },
     "execution_count": 15,
     "metadata": {},
     "output_type": "execute_result"
    }
   ],
   "source": [
    "ttime(\"Notice:\")(snn(100))"
   ]
  },
  {
   "cell_type": "markdown",
   "metadata": {},
   "source": [
    "### （4）装饰器的效果\n",
    "* 装饰器虽然不会改变所装饰函数的功能，但**会改变所装饰函数的\\_\\_name\\_\\_属性等元信息**。\n",
    "\n",
    "#### 例：函数snn经过装饰后，其名称在系统中已经不是snn，而被修改为内层函数名称wrapper。"
   ]
  },
  {
   "cell_type": "code",
   "execution_count": 16,
   "metadata": {},
   "outputs": [
    {
     "data": {
      "text/plain": [
       "'wrapper'"
      ]
     },
     "execution_count": 16,
     "metadata": {},
     "output_type": "execute_result"
    }
   ],
   "source": [
    "snn.__name__"
   ]
  },
  {
   "cell_type": "markdown",
   "metadata": {},
   "source": [
    "* Python内置的**functools.wraps模块**可以解决这个问题。\n",
    "* functools.wraps本身也是一个装饰器，它将原函数的元信息拷贝到装饰器环境中，从而不会被所替换的新函数覆盖掉。"
   ]
  },
  {
   "cell_type": "code",
   "execution_count": 21,
   "metadata": {},
   "outputs": [],
   "source": [
    "import functools\n",
    "def ttime(prompt):\n",
    "    def timecal(func):\n",
    "        @functools.wraps(func)  #元信息拷贝\n",
    "        def wrapper(*args, **kw):\n",
    "            start=time.time()\n",
    "            func(*args, **kw)\n",
    "            stop=time.time()\n",
    "            print(\"Run time is %s\" %(stop-start))\n",
    "        return wrapper\n",
    "    return timecal\n",
    "@ttime(\"Notice:\")\n",
    "def snn(n, start=1):\n",
    "    \"Calculate the sum of natural numbers within [start,n]\"\n",
    "    s=0\n",
    "    for i in range(start,n+1): s+=i\n",
    "    print(\"Sum of natural numbers within [%s,%s] is %s\" %(start,n,s))"
   ]
  },
  {
   "cell_type": "code",
   "execution_count": 22,
   "metadata": {},
   "outputs": [
    {
     "data": {
      "text/plain": [
       "'snn'"
      ]
     },
     "execution_count": 22,
     "metadata": {},
     "output_type": "execute_result"
    }
   ],
   "source": [
    "snn.__name__"
   ]
  },
  {
   "cell_type": "markdown",
   "metadata": {},
   "source": [
    "* 由于装饰器所具备的特性，其有很多经典的应用场景：权限校验、日志记录、性能测试、事务处理等。\n",
    "* 装饰器可以提高代码复用的便利性。"
   ]
  }
 ],
 "metadata": {
  "kernelspec": {
   "display_name": "Python 3",
   "language": "python",
   "name": "python3"
  },
  "language_info": {
   "codemirror_mode": {
    "name": "ipython",
    "version": 3
   },
   "file_extension": ".py",
   "mimetype": "text/x-python",
   "name": "python",
   "nbconvert_exporter": "python",
   "pygments_lexer": "ipython3",
   "version": "3.8.3"
  }
 },
 "nbformat": 4,
 "nbformat_minor": 4
}
