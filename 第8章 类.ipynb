{
 "cells": [
  {
   "cell_type": "markdown",
   "metadata": {},
   "source": [
    "# 第8章 类\n",
    "* 类(class)可以直观地理解为**描述一组对象属性和行为的模板**。\n",
    "\n",
    "## 8.1 声明类\n",
    "* **类的声明(定义)**：类在Python中通过**class语句**将属性和方法进行封装，以便复用。\n",
    "* **类的名称**：一般都采用**首字母大写**的驼峰命名方式来表示。\n",
    "\n",
    "#### 例："
   ]
  },
  {
   "cell_type": "code",
   "execution_count": null,
   "metadata": {},
   "outputs": [],
   "source": [
    "class Human(object):\n",
    "    phylum=\"Chordata\"\n",
    "    order=\"Primates\"\n",
    "    family=\"Human Being\""
   ]
  },
  {
   "cell_type": "markdown",
   "metadata": {},
   "source": [
    "* 上述程序定义了一个名为Human的类，该类包含：\n",
    "    * 3个属性，其分别为：phylum(门)、order(目)、family(科)\n",
    "    * 3个属性的值分别为：\"Chordata\"(脊索动物门)、\"Primates\"(灵长目)、\"Human Being\"(人科)\n",
    "* **使用声明过的类，需要把这个类实例化**，为这个类创建新的实例："
   ]
  },
  {
   "cell_type": "code",
   "execution_count": null,
   "metadata": {},
   "outputs": [],
   "source": [
    "ZhangSan=Human()\n",
    "ZhangSan.phylum  #输出实例ZhangSan的phylum属性值"
   ]
  },
  {
   "cell_type": "markdown",
   "metadata": {},
   "source": [
    "### （1）属性值修改\n",
    "* **实例的属性值是可以通过赋值进行修改的**，但这种修改方式不会影响类中的属性值："
   ]
  },
  {
   "cell_type": "code",
   "execution_count": null,
   "metadata": {},
   "outputs": [],
   "source": [
    "ZhangSan.family=\"Mankind\"\n",
    "ZhangSan.family"
   ]
  },
  {
   "cell_type": "code",
   "execution_count": null,
   "metadata": {},
   "outputs": [],
   "source": [
    "LiSi=Human()\n",
    "LiSi.family"
   ]
  },
  {
   "cell_type": "markdown",
   "metadata": {},
   "source": [
    "* **类的属性值也可以通过赋值进行修改**，此时该类实例中：\n",
    "    * 属性值已通过赋值修改的实例不会受到影响，如：ZhangSan；即：**实例重新赋值后与类的继承关系自动解除**。\n",
    "    * 属性值未经修改的实例会继续继承该类的属性值变化，如LiSi。"
   ]
  },
  {
   "cell_type": "code",
   "execution_count": null,
   "metadata": {},
   "outputs": [],
   "source": [
    "Human.family=\"Homo\"\n",
    "print(Human.family)\n",
    "print(ZhangSan.family)\n",
    "print(LiSi.family)"
   ]
  },
  {
   "cell_type": "markdown",
   "metadata": {},
   "source": [
    "### （2）属性值添加\n",
    "* **实例的属性可以直接添加**："
   ]
  },
  {
   "cell_type": "code",
   "execution_count": null,
   "metadata": {},
   "outputs": [],
   "source": [
    "ZhangSan.kingdom=\"Animalia\"\n",
    "ZhangSan.kingdom"
   ]
  },
  {
   "cell_type": "markdown",
   "metadata": {},
   "source": [
    "* **类的属性值也可以直接添加**，此时该类实例中：\n",
    "    * 已被修改的实例不会受到影响，如：ZhangSan；即：**实例被直接修改后与其类的继承关系自动解除**。\n",
    "    * 未经修改的实例会继续继承该类的属性值变化，如LiSi。"
   ]
  },
  {
   "cell_type": "code",
   "execution_count": null,
   "metadata": {},
   "outputs": [],
   "source": [
    "Human.kingdom=\"animalia\"\n",
    "print(Human.kingdom)\n",
    "print(ZhangSan.kingdom)\n",
    "print(LiSi.kingdom)"
   ]
  },
  {
   "cell_type": "markdown",
   "metadata": {},
   "source": [
    "## 8.2 方法\n",
    "* 在所声明的类中使用def进行函数定义，就可以为该类添加方法(method)。\n",
    "* 类方法大致有如下三种：\n",
    "    1. **实例方法**：第一个参数必为self；\n",
    "    * **类方法**：第一个参数必为cls，需用@classmethod装饰器定义；\n",
    "    * **静态方法**：没有参数，需用@staticmethod装饰器定义。"
   ]
  },
  {
   "cell_type": "markdown",
   "metadata": {},
   "source": [
    "### 8.2.1 实例方法\n",
    "* 实例方法是类最常用的方法，往往被简称为方法。\n",
    "* **实例方法的第一个参数必须是self**，表示类实例本身，且只能通过类实例进行调用。\n",
    "\n",
    "#### 例：重新声明Human类，在保留原有属性的基础上增加typewrite和add两个方法。"
   ]
  },
  {
   "cell_type": "code",
   "execution_count": null,
   "metadata": {},
   "outputs": [],
   "source": [
    "class Human(object):\n",
    "    kingdom=\"Animalia\"\n",
    "    phylum=\"Chordata\"\n",
    "    order=\"Primates\"\n",
    "    family=\"Human Being\"\n",
    "    def typewrite(self):\n",
    "        print(\"This is %s typing words!\" %self.family)\n",
    "    def add(self,n1,n2):\n",
    "        n=n1+n2\n",
    "        print(\"%s+%s=%s\" %(n1,n2,n1+n2))\n",
    "        print(\"You see! %s can calculate!\" %self.family)"
   ]
  },
  {
   "cell_type": "markdown",
   "metadata": {},
   "source": [
    "* **实例方法实际上就是在类中的定义的函数。**\n",
    "* 任何实例方法都至少包含一个self参数，该参数值就是用来调用该方法(函数)的对象。\n",
    "\n",
    "#### 例：使用重新定义的Human类重新创建实例ZhangSan，并对该实例调用实例方法。"
   ]
  },
  {
   "cell_type": "code",
   "execution_count": null,
   "metadata": {},
   "outputs": [],
   "source": [
    "ZhangSan=Human()\n",
    "ZhangSan.typewrite()  #self参数不需要赋值，表示实例本身\n",
    "ZhangSan.add(1,1)"
   ]
  },
  {
   "cell_type": "code",
   "execution_count": null,
   "metadata": {},
   "outputs": [],
   "source": [
    "Human.add(1,2)  #error!"
   ]
  },
  {
   "cell_type": "markdown",
   "metadata": {},
   "source": [
    "### 私有方法\n",
    "* 私有方法：以两个下划线“\\_\\_”为前缀的方法，从类的外部无法对其调用。\n",
    "\n",
    "#### 例：重新声明Human类，并为其增加\\_\\_init\\_\\_方法。\n",
    "* \\_\\_init\\_\\_方法是类中的特殊方法，**一般用来做变量初始化或赋值操作**。\n",
    "    * 当创建类的实例时，Python会检查是否定义了一个名为“\\_\\_init\\_\\_”的方法(函数)；\n",
    "    * 如果已定义则会**自动调用并运行**它。"
   ]
  },
  {
   "cell_type": "code",
   "execution_count": null,
   "metadata": {},
   "outputs": [],
   "source": [
    "dir(Human)"
   ]
  },
  {
   "cell_type": "code",
   "execution_count": null,
   "metadata": {},
   "outputs": [],
   "source": [
    "class Human(object):\n",
    "    domain=\"eukarya\"\n",
    "    def __init__(self,kingdom=\"Animalia\",phylum=\"Chordata\",order=\"Primates\",family=\"Human Being\"):\n",
    "        self.kingdom=kingdom\n",
    "        self.phylum=phylum\n",
    "        self.order=order\n",
    "        self.family=family\n",
    "    def typewrite(self):\n",
    "        print(\"This is %s typing words!\" %self.family)\n",
    "    def add(self,n1,n2):\n",
    "        n=n1+n2\n",
    "        print(\"%s+%s=%s\" %(n1,n2,n1+n2))\n",
    "        print(\"You see! %s can calculate!\" %self.family)"
   ]
  },
  {
   "cell_type": "markdown",
   "metadata": {},
   "source": [
    "* \\_\\_init\\_\\_方法的方便之处在于创建类的实例时，可以向这个实例传递参数值。"
   ]
  },
  {
   "cell_type": "code",
   "execution_count": null,
   "metadata": {},
   "outputs": [],
   "source": [
    "ZhangSan=Human()\n",
    "LiSi=Human(kingdom=\"Animal\")\n",
    "print(ZhangSan.kingdom)\n",
    "print(LiSi.kingdom)"
   ]
  },
  {
   "cell_type": "code",
   "execution_count": null,
   "metadata": {},
   "outputs": [],
   "source": [
    "LiSi=Human(domain=\"A\")"
   ]
  },
  {
   "cell_type": "markdown",
   "metadata": {},
   "source": [
    "### 8.2.2 类方法\n",
    "* 类方法的第一个参数是“cls”，表示类本身。\n",
    "* 定义类方法时使用“@classmethod”装饰器。\n",
    "* 类方法可以通过类名或类实例名来调用。"
   ]
  },
  {
   "cell_type": "code",
   "execution_count": null,
   "metadata": {
    "scrolled": true
   },
   "outputs": [],
   "source": [
    "class Human(object):\n",
    "    domain=\"eukarya\"\n",
    "    def __init__(self,kingdom=\"Animalia\",phylum=\"Chordata\",order=\"Primates\",family=\"Human Being\"):\n",
    "        self.kingdom=kingdom\n",
    "        self.phylum=phylum\n",
    "        self.order=order\n",
    "        self.family=family\n",
    "    def typewrite(self):\n",
    "        print(\"This is %s typing words!\" %self.family)\n",
    "    def add(self,n1,n2):\n",
    "        n=n1+n2\n",
    "        print(\"%s+%s=%s\" %(n1,n2,n1+n2))\n",
    "        print(\"You see! %s can calculate!\" %self.family)\n",
    "    @classmethod\n",
    "    def showclassmethodinfo(cls):\n",
    "        print(cls.__name__)\n",
    "        print(dir(cls))\n",
    "\n",
    "ZhangSan=Human()\n",
    "ZhangSan.showclassmethodinfo()"
   ]
  },
  {
   "cell_type": "markdown",
   "metadata": {},
   "source": [
    "* 通过实例名调用类方法与通过类名调用类方法的结果是一样的。"
   ]
  },
  {
   "cell_type": "code",
   "execution_count": null,
   "metadata": {},
   "outputs": [],
   "source": [
    "Human.showclassmethodinfo()"
   ]
  },
  {
   "cell_type": "markdown",
   "metadata": {},
   "source": [
    "### 8.2.3 静态方法\n",
    "* 静态方法既不需要实例参数，也不需要类参数。\n",
    "* 定义静态方法时使用“@staticmethod”装饰器。\n",
    "* 同类方法一样，静态方法也可以通过类名或类实例名来调用。"
   ]
  },
  {
   "cell_type": "code",
   "execution_count": null,
   "metadata": {},
   "outputs": [],
   "source": [
    "class Human(object):\n",
    "    domain=\"eukarya\"\n",
    "    def __init__(self,kingdom=\"Animalia\",phylum=\"Chordata\",order=\"Primates\",family=\"Human Being\"):\n",
    "        self.kingdom=kingdom\n",
    "        self.phylum=phylum\n",
    "        self.order=order\n",
    "        self.family=family\n",
    "    def typewrite(self):\n",
    "        print(\"This is %s typing words!\" %self.family)\n",
    "    def add(self,n1,n2):\n",
    "        n=n1+n2\n",
    "        print(\"%s+%s=%s\" %(n1,n2,n1+n2))\n",
    "        print(\"You see! %s can calculate!\" %self.family)\n",
    "    @classmethod\n",
    "    def showclassmethodinfo(cls):\n",
    "        print(cls.__name__)\n",
    "        print(dir(cls))\n",
    "    @staticmethod\n",
    "    def showstaticmethodinfo():\n",
    "        print(Human.__dict__)\n",
    "\n",
    "ZhangSan=Human()\n",
    "ZhangSan.showstaticmethodinfo()"
   ]
  },
  {
   "cell_type": "code",
   "execution_count": null,
   "metadata": {},
   "outputs": [],
   "source": [
    "Human.showstaticmethodinfo()"
   ]
  },
  {
   "cell_type": "markdown",
   "metadata": {},
   "source": [
    "* **常用的特殊类属性**：\n",
    "    1. \\_\\_doc\\_\\_：类的文档字符串，即定义类时的第一行字符串。\n",
    "    * \\_\\_dict\\_\\_：类的属性，以字典类型返回；其中键为属性名，值为属性值。\n",
    "    * \\_\\_module\\_\\_：类被声明时所在模块。\n",
    "    * \\_\\_class\\_\\_：实例对应的类。"
   ]
  },
  {
   "cell_type": "markdown",
   "metadata": {},
   "source": [
    "### 总结：三种方法的区别\n",
    "* **（1）实例方法**：\n",
    "    * **定义**：第一个参数必须是实例对象，该参数名一般约定为“self”，通过它来传递**实例**的属性和方法（也可以传类的属性和方法）；\n",
    "    * **调用**：只能由实例对象调用；\n",
    "    * **作用**：实例方法就是类的实例能够使用的方法。\n",
    "* **（2）类方法**：\n",
    "    * **定义**：使用装饰器@classmethod。第一个参数必须是当前类对象，该参数名一般约定为“cls”，通过它来传递**类**的属性和方法（不能传实例的属性和方法）；\n",
    "    * **调用**：实例对象和类对象都可以调用；\n",
    "    * **作用**：类方法是将类本身作为对象进行操作的方法。\n",
    "        * 假设有个方法，且这个方法在逻辑上采用类本身作为对象来调用更合理，那么这个方法就可以定义为类方法。另外，如果需要继承，也可以定义为类方法。\n",
    "* **（3）静态方法**：\n",
    "    * **定义**：使用装饰器@staticmethod。参数随意，没有“self”和“cls”参数，但是方法体中不能使用类或实例的任何属性和方法；\n",
    "    * **调用**：实例对象和类对象都可以调用；\n",
    "    * **作用**：主要用来存放逻辑性的代码，逻辑上属于类，但是和类本身没有关系，也就是说在静态方法中，不会涉及到类中的属性和方法的操作。\n",
    "        * 可以理解为：静态方法是个独立的、单纯的函数，它仅仅托管于某个类的名称空间中，便于使用和维护。"
   ]
  },
  {
   "cell_type": "markdown",
   "metadata": {},
   "source": [
    "## 8.3 属性\n",
    "* 属性相当于专属于类的变量。\n",
    "* 属性的调用方式：“类名或类实例名.属性名”\n",
    "\n",
    "### 8.3.1 实例属性和类属性\n",
    "* 属性可以分为实例属性和类属性。\n",
    "* **实例属性**：一般是在\\_\\_init\\_\\_中以self为前缀定义的；\n",
    "    * 实例属性属于实例，只能通过实例名进行访问。\n",
    "* **类属性**：指在类中所有方法之外定义的成员；\n",
    "    * 类属性属于类，可以通过类名或实例名进行访问。"
   ]
  },
  {
   "cell_type": "code",
   "execution_count": null,
   "metadata": {},
   "outputs": [],
   "source": [
    "class Human(object):\n",
    "    domain=\"eukarya\"\n",
    "    def __init__(self,kingdom=\"Animalia\",phylum=\"Chordata\",order=\"Primates\",family=\"Human Being\"):\n",
    "        self.kingdom=kingdom\n",
    "        self.phylum=phylum\n",
    "        self.order=order\n",
    "        self.family=family\n",
    "ZhangSan=Human()"
   ]
  },
  {
   "cell_type": "code",
   "execution_count": null,
   "metadata": {},
   "outputs": [],
   "source": [
    "#类属性\n",
    "print(ZhangSan.domain)\n",
    "print(Human.domain)"
   ]
  },
  {
   "cell_type": "code",
   "execution_count": null,
   "metadata": {},
   "outputs": [],
   "source": [
    "#实例属性\n",
    "ZhangSan.kingdom"
   ]
  },
  {
   "cell_type": "code",
   "execution_count": null,
   "metadata": {},
   "outputs": [],
   "source": [
    "Human.kingdom  #报错！"
   ]
  },
  {
   "cell_type": "markdown",
   "metadata": {},
   "source": [
    "### 8.3.2 私有属性和公有属性\n",
    "* 在声明类的过程中定义属性时，带有双下划线“\\_\\_”前缀的属性为**私有属性**，除此之外的其他属性称为**共有属性**。\n",
    "* 私有属性只能在类的内部进行直接调用，无法在类的外部直接访问。\n",
    "    * 在类的外部调用其私有属性，可以通过**“实例名.\\_类名\\_\\_私有属性名”**的方式进行访问。\n",
    "    \n",
    "#### 例：将类Human中的order属性设置为私有属性。"
   ]
  },
  {
   "cell_type": "code",
   "execution_count": null,
   "metadata": {},
   "outputs": [],
   "source": [
    "class Human(object):\n",
    "    domain=\"eukarya\"\n",
    "    def __init__(self,kingdom=\"Animalia\",phylum=\"Chordata\",order=\"Primates\",family=\"Human Being\"):\n",
    "        self.kingdom=kingdom\n",
    "        self.phylum=phylum\n",
    "        self.__order=order  #私有属性\n",
    "        self.family=family\n",
    "\n",
    "ZhangSan=Human()\n",
    "ZhangSan.family"
   ]
  },
  {
   "cell_type": "code",
   "execution_count": null,
   "metadata": {},
   "outputs": [],
   "source": [
    "ZhangSan.__order  #报错！"
   ]
  },
  {
   "cell_type": "code",
   "execution_count": null,
   "metadata": {},
   "outputs": [],
   "source": [
    "ZhangSan._Human__order"
   ]
  },
  {
   "cell_type": "markdown",
   "metadata": {},
   "source": [
    "## 8.4 继承\n",
    "* 声明类的方式：（1）直接声明或定义；* （2）通过**继承**一个已经声明过的类。\n",
    "* 当声明一个新的类时，如果可以**继承**一个已经声明过的类，就自动会拥有已有类的所有功能(属性和方法)，只需要编写新功能即可。\n",
    "    * 已有的类被称为“父类”、“基类”或“超类”；\n",
    "    * 在父类基础上创建的新类被称为“子类”。\n",
    "* **注意：子类可继承父类的全部共有成员(共有属性和共有方法)，但是不能继承父类的私有成员**。\n",
    "\n",
    "### 8.4.1 隐式继承\n",
    "* **隐式继承**：指子类从其父类中完全继承了所有成员，用户无须任何多于操作，就可以使得子类具备父类的功能。\n",
    "    * 这也是一般意义上的继承。\n",
    "\n",
    "#### 例：声明一个类Male，其继承于父类Human。"
   ]
  },
  {
   "cell_type": "code",
   "execution_count": null,
   "metadata": {},
   "outputs": [],
   "source": [
    "class Human(object):\n",
    "    domain=\"eukarya\"\n",
    "    def __init__(self,kingdom=\"Animalia\",phylum=\"Chordata\",order=\"Primates\",family=\"Human Being\"):\n",
    "        self.kingdom=kingdom\n",
    "        self.phylum=phylum\n",
    "        self.order=order\n",
    "        self.family=family\n",
    "    def typewrite(self):\n",
    "        print(\"This is %s typing words!\" %self.family)\n",
    "    def add(self,n1,n2):\n",
    "        n=n1+n2\n",
    "        print(\"%s+%s=%s\" %(n1,n2,n1+n2))\n",
    "        print(\"You see! %s can calculate!\" %self.family)\n",
    "    @classmethod\n",
    "    def showclassmethodinfo(cls):\n",
    "        print(cls.__name__)\n",
    "        print(dir(cls))\n",
    "    @staticmethod\n",
    "    def showstaticmethodinfo():\n",
    "        print(Human.__dict__)\n",
    "\n",
    "class Male(Human):\n",
    "    pass\n",
    "\n",
    "A=Male()\n",
    "A.family"
   ]
  },
  {
   "cell_type": "markdown",
   "metadata": {},
   "source": [
    "* **隐式继承中，父类私有成员是不能被继承的。**"
   ]
  },
  {
   "cell_type": "code",
   "execution_count": null,
   "metadata": {},
   "outputs": [],
   "source": [
    "A.__order  #报错！__order在类Human中是私有属性，不能被继承！"
   ]
  },
  {
   "cell_type": "markdown",
   "metadata": {},
   "source": [
    "* 子类继承了父类的所有属性和方法，在声明子类时可以对子类**直接添加**增加新的属性或方法。"
   ]
  },
  {
   "cell_type": "code",
   "execution_count": null,
   "metadata": {},
   "outputs": [],
   "source": [
    "class Male(Human):\n",
    "    gender=\"male\"  #父类Human中没有gender属性\n",
    "\n",
    "A=Male()\n",
    "print(A.gender)\n",
    "print(A.family)"
   ]
  },
  {
   "cell_type": "markdown",
   "metadata": {},
   "source": [
    "### 8.4.2 显式覆盖\n",
    "* **显示覆盖**：声明子类时，如果直接添加的新属性或方法与父类中已有属性或方法**名称相同**，但其属性值或实现功能不同，此时会直接覆盖掉父类的属性或方法。"
   ]
  },
  {
   "cell_type": "code",
   "execution_count": null,
   "metadata": {},
   "outputs": [],
   "source": [
    "class Male(Human):\n",
    "    def __init__(self,gender=\"male\"):\n",
    "        self.gender=gender\n",
    "    def add(self,n1,n2):\n",
    "        print(\"%s-%s=%s\" %(n1,n2,n1-n2))\n",
    "        print(\"You see! %s can not use addition!\" %self.gender)\n",
    "A=Male()\n",
    "A.add(1,1)"
   ]
  },
  {
   "cell_type": "code",
   "execution_count": null,
   "metadata": {},
   "outputs": [],
   "source": [
    "A.family  #报错！__init__私有方法被覆盖，类Male中没有family属性！"
   ]
  },
  {
   "cell_type": "markdown",
   "metadata": {},
   "source": [
    "### 8.4.3 super继承\n",
    "* **super继承**：在子类中运用super()函数可以达到调用与子类成员名称相同的父类成员的目的。\n",
    "    * 即：在给子类添加新成员时，保留父类成员(属性和方法)不被显示覆盖。\n",
    "* **super()函数的使用语法**：\n",
    "    * 方式1：super(Class, self)，其中Class表示子类名，super(Class, self)的作用为返回父类名。\n",
    "    * 方式2：直接使用super()，参数缺省默认直接返回父类名。"
   ]
  },
  {
   "cell_type": "code",
   "execution_count": null,
   "metadata": {},
   "outputs": [],
   "source": [
    "class Male(Human):\n",
    "    def __init__(self,gender=\"male\"):\n",
    "        super(Male,self).__init__()  #即：Human.__init__()\n",
    "        self.gender=gender\n",
    "    def add(self,n1,n2):\n",
    "        super(Male,self).add(n1,n2)  #即：Human.add(n1,n2)\n",
    "        print(\"%s-%s=%s\" %(n1,n2,n1-n2))\n",
    "        print(\"You see! %s can not use addition!\" %self.gender)\n",
    "\n",
    "A=Male()\n",
    "print(A.family)\n",
    "print(A.add(1,1))"
   ]
  },
  {
   "cell_type": "code",
   "execution_count": null,
   "metadata": {},
   "outputs": [],
   "source": [
    "class Male(Human):\n",
    "    def __init__(self,gender=\"male\"):\n",
    "        super().__init__()  #即：Human.__init__()\n",
    "        self.gender=gender\n",
    "    def add(self,n1,n2):\n",
    "        super().add(n1,n2)  #即：Human.add(n1,n2)\n",
    "        print(\"%s-%s=%s\" %(n1,n2,n1-n2))\n",
    "        print(\"You see! %s can not use addition!\" %self.gender)\n",
    "\n",
    "A=Male()\n",
    "print(A.family)\n",
    "print(A.add(1,1))"
   ]
  },
  {
   "cell_type": "markdown",
   "metadata": {},
   "source": [
    "### 8.4.4 多态\n",
    "* **多态**：指不同的对象收到相同的消息时产生不同的操作行为。（第2章内容）\n",
    "    * 如：不同函数具有相同的函数名，但参数和函数体均不同。\n",
    "* **（类的）多态**：是继承的一个重要特性，Python中声明的类其实就是一个数据类型。\n",
    "* **isinstance(对象,type)**函数可以判断一个对象是否属于某种类型。\n",
    "    * 该函数的第二个参数必须是某种数据类型。"
   ]
  },
  {
   "cell_type": "code",
   "execution_count": null,
   "metadata": {},
   "outputs": [],
   "source": [
    "a=1\n",
    "isinstance(a,int)"
   ]
  },
  {
   "cell_type": "markdown",
   "metadata": {},
   "source": [
    "#### （1）所有继承于父类的**子类实例与父类是同一个数据类型。"
   ]
  },
  {
   "cell_type": "code",
   "execution_count": null,
   "metadata": {},
   "outputs": [],
   "source": [
    "print(isinstance(A,Male))  #子类实例与子类是同一数据类型\n",
    "print(isinstance(A,Human))  #子类实例与父类是同一数据类型"
   ]
  },
  {
   "cell_type": "markdown",
   "metadata": {},
   "source": [
    "#### （2）父类实例与子类不是同一个数据类型。"
   ]
  },
  {
   "cell_type": "code",
   "execution_count": null,
   "metadata": {},
   "outputs": [],
   "source": [
    "ZhangSan=Human()\n",
    "print(isinstance(ZhangSan,Male))  #父类实例与子类不是同一数据类型\n",
    "print(isinstance(ZhangSan,Human))  #父类实例与父类是同一数据类型"
   ]
  },
  {
   "cell_type": "markdown",
   "metadata": {},
   "source": [
    "#### （3）继承同一父类的不同子类（实例）的数据类型是不同的。"
   ]
  },
  {
   "cell_type": "code",
   "execution_count": null,
   "metadata": {},
   "outputs": [],
   "source": [
    "class Female(Human): pass\n",
    "B=Female()\n",
    "print(isinstance(Female,Male))  #子类2与子类1不是同一数据类型\n",
    "print(isinstance(B,Male))  #子类2实例与子类1不是同一数据类型\n",
    "print(isinstance(B,Human))  #子类2实例与父类是同一数据类型"
   ]
  },
  {
   "cell_type": "markdown",
   "metadata": {},
   "source": [
    "### 8.4.5 多重继承\n",
    "* **多重继承**：子类不仅可以从一个父类继承，也可以从多个父类继承。\n",
    "* 子类以**并集**的方式继承其所有父类的成员（属性和方法）。\n",
    "\n",
    "#### 例：声明一个继承于Male和Female的子类。"
   ]
  },
  {
   "cell_type": "code",
   "execution_count": null,
   "metadata": {},
   "outputs": [],
   "source": [
    "class Somebody(Male,Female):\n",
    "    pass"
   ]
  },
  {
   "cell_type": "code",
   "execution_count": null,
   "metadata": {},
   "outputs": [],
   "source": [
    "print(list(filter(lambda x:x[0]!='_', dir(Somebody()))))\n",
    "print(list(filter(lambda x:x[0]!='_', dir(Male()))))\n",
    "print(list(filter(lambda x:x[0]!='_', dir(Female()))))"
   ]
  },
  {
   "cell_type": "markdown",
   "metadata": {},
   "source": [
    "## 8.5 特性*\n",
    "* **特性**：指在对一个特定属性操作时，执行特定的函数，以实现对属性的控制。\n",
    "* 即：特性在调用属性的时候会自动调用相应的方法，也就是增加了一些额外的处理过程；\n",
    "    * 如：属性值的类型检查、验证属性值设置是否合法等。"
   ]
  }
 ],
 "metadata": {
  "kernelspec": {
   "display_name": "Python 3",
   "language": "python",
   "name": "python3"
  },
  "language_info": {
   "codemirror_mode": {
    "name": "ipython",
    "version": 3
   },
   "file_extension": ".py",
   "mimetype": "text/x-python",
   "name": "python",
   "nbconvert_exporter": "python",
   "pygments_lexer": "ipython3",
   "version": "3.8.3"
  }
 },
 "nbformat": 4,
 "nbformat_minor": 4
}
