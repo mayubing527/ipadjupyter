{
 "cells": [
  {
   "cell_type": "markdown",
   "metadata": {},
   "source": [
    "# python 安装"
   ]
  },
  {
   "cell_type": "markdown",
   "metadata": {},
   "source": [
    "- python 主要有两个版本：python2.x和python 3.x\n",
    "- 本书：Windows10+python3.6.8(2018.12.24)\n",
    "- Python 官方主页：http://www.python.org/\n",
    "- Anndaconda: 安装时已经自带几百个常用的扩展库"
   ]
  },
  {
   "cell_type": "markdown",
   "metadata": {},
   "source": [
    "## python 程序的编写"
   ]
  },
  {
   "cell_type": "markdown",
   "metadata": {
    "ExecuteTime": {
     "end_time": "2021-03-04T12:29:43.945992Z",
     "start_time": "2021-03-04T12:29:43.942029Z"
    }
   },
   "source": [
    "- 一般需要一个编辑器，常用的编辑器有：sublime、atom、pycharm...\n",
    "- 当然也可以在IDLE（Integrated Development and Learning Environment，集成开发和学习环境）界面\n",
    "- 然后需要一个解释器，常用的解释器是ipython、jupyter...\n",
    "- 本书以IDLE为例"
   ]
  },
  {
   "cell_type": "markdown",
   "metadata": {},
   "source": [
    "\n",
    "## IDLE界面介绍\n",
    "- 创建和保存程序文件\n",
    "- <div class=\"mark\"> IDLE 快捷键 </div><i class=\"fa fa-lightbulb-o \"></i> \n",
    "IDLE 中，可通过选择“Options -> Configure IDLE”菜单项，在打开的“Settings”对话框的‘Keys”选项卡中查看，但是该界面是英文的"
   ]
  },
  {
   "cell_type": "markdown",
   "metadata": {
    "ExecuteTime": {
     "end_time": "2021-03-04T12:33:02.514319Z",
     "start_time": "2021-03-04T12:33:02.510362Z"
    }
   },
   "source": [
    "# 安装扩展库或模块"
   ]
  },
  {
   "cell_type": "markdown",
   "metadata": {},
   "source": [
    "- 以window为例，输入cmd打开windows终端。\n",
    "- 具体安装方法： cmd窗口，cd到你Python的IDEL的安装路径下的Scripts文件夹里面 在里面，通过 “ pip install 包名 ”的方式进行安装就好了！\n",
    "- cd C:Users\\\n",
    "- 查看 IDLE 中安装的包的路径 File --->Path Browser\n",
    "- 输入\"pip list\"，按回车键查看所有安装的第三方库，\n",
    "- 输入“pip list - -outdated”命令，按回车查看更新的第三方库当前版本和更新后的版本\n",
    "\n",
    "- “pip install --upgrade numpy”命令，这是更新安装的numpy库\n",
    "\n",
    "- 如果出现问题,可以使用user: pip install - - user - -upgrade numpy"
   ]
  },
  {
   "cell_type": "markdown",
   "metadata": {},
   "source": [
    "# Python 对象\n",
    "- 内置对象 vs 非内置对象（需要导入模块才能使用）"
   ]
  },
  {
   "cell_type": "markdown",
   "metadata": {},
   "source": [
    "## 字节串和字符串的区别\n",
    "- 字节串是字节序列，它可以直接存储在硬盘。它们之间的映射被称为编码/解码。\n",
    "- 字符串是字符序列，它是一种抽象的概念，不能直接存储在硬盘。\n",
    "- 在Python中，程序中的文本都用字符串表示。\n",
    "- 字节串是给计算机看的，给计算机传输或者保存的；字符串是给人看的，用来操作的"
   ]
  },
  {
   "cell_type": "code",
   "execution_count": 9,
   "metadata": {
    "ExecuteTime": {
     "end_time": "2021-03-04T15:00:24.131344Z",
     "start_time": "2021-03-04T15:00:24.123366Z"
    }
   },
   "outputs": [
    {
     "name": "stdout",
     "output_type": "stream",
     "text": [
      "b'\\xe4\\xb8\\xad\\xe6\\x96\\x87'\n",
      "<class 'bytes'>\n",
      "中文\n",
      "<class 'str'>\n"
     ]
    }
   ],
   "source": [
    "s = '中文' \n",
    "print(s.encode()) # 编码，默认的是UTF-8\n",
    "print(type(s.encode()))\n",
    "print(b'\\xe4\\xb8\\xad\\xe6\\x96\\x87'.decode(encoding='UTF-8')) # 解码\n",
    "print(type(b'\\xe4\\xb8\\xad\\xe6\\x96\\x87'.decode(encoding='UTF-8')))"
   ]
  },
  {
   "cell_type": "markdown",
   "metadata": {},
   "source": [
    "# Python 变量"
   ]
  },
  {
   "cell_type": "markdown",
   "metadata": {},
   "source": [
    "- 赋值运算符、复合赋值运算符\n",
    "- 允许多个变量指向同一个值 ------------------->  理解python 的内存管理模式\n",
    "- 内置函数id() 用来返回变量所指的内存地址\n",
    "- 定义变量名需要注意的问题 print(keyword.kwlist)"
   ]
  },
  {
   "cell_type": "code",
   "execution_count": 4,
   "metadata": {
    "ExecuteTime": {
     "end_time": "2021-03-04T23:44:30.997166Z",
     "start_time": "2021-03-04T23:44:30.991184Z"
    }
   },
   "outputs": [
    {
     "name": "stdout",
     "output_type": "stream",
     "text": [
      "False\n",
      "True\n"
     ]
    }
   ],
   "source": [
    "#[-5,256]对于区间[-5, 256]区间之外的整数，同一个程序中或交互模式下同一个语句中的同值不同名变量会共用同一个内存空间\n",
    "x=-6\n",
    "y=-6\n",
    "print(id(x)==id(y))\n",
    "#[-5, 256]区间内，多个变量的值相等，那么这些变量共用同一个值的内存空间\n",
    "x=255\n",
    "y=255\n",
    "print(id(x)==id(y))"
   ]
  },
  {
   "cell_type": "code",
   "execution_count": 3,
   "metadata": {
    "ExecuteTime": {
     "end_time": "2021-03-04T23:39:32.751547Z",
     "start_time": "2021-03-04T23:39:32.745562Z"
    }
   },
   "outputs": [
    {
     "name": "stdout",
     "output_type": "stream",
     "text": [
      "['False', 'None', 'True', 'and', 'as', 'assert', 'async', 'await', 'break', 'class', 'continue', 'def', 'del', 'elif', 'else', 'except', 'finally', 'for', 'from', 'global', 'if', 'import', 'in', 'is', 'lambda', 'nonlocal', 'not', 'or', 'pass', 'raise', 'return', 'try', 'while', 'with', 'yield']\n"
     ]
    }
   ],
   "source": [
    "import keyword #Python 关键字\n",
    "print(keyword.kwlist)"
   ]
  },
  {
   "cell_type": "code",
   "execution_count": null,
   "metadata": {},
   "outputs": [],
   "source": []
  }
 ],
 "metadata": {
  "kernelspec": {
   "display_name": "Python 3",
   "language": "python",
   "name": "python3"
  },
  "language_info": {
   "codemirror_mode": {
    "name": "ipython",
    "version": 3
   },
   "file_extension": ".py",
   "mimetype": "text/x-python",
   "name": "python",
   "nbconvert_exporter": "python",
   "pygments_lexer": "ipython3",
   "version": "3.7.6"
  },
  "latex_envs": {
   "LaTeX_envs_menu_present": true,
   "autoclose": false,
   "autocomplete": true,
   "bibliofile": "biblio.bib",
   "cite_by": "apalike",
   "current_citInitial": 1,
   "eqLabelWithNumbers": true,
   "eqNumInitial": 1,
   "hotkeys": {
    "equation": "Ctrl-E",
    "itemize": "Ctrl-I"
   },
   "labels_anchors": false,
   "latex_user_defs": false,
   "report_style_numbering": false,
   "user_envs_cfg": false
  },
  "toc": {
   "base_numbering": 1,
   "nav_menu": {},
   "number_sections": true,
   "sideBar": true,
   "skip_h1_title": false,
   "title_cell": "Table of Contents",
   "title_sidebar": "Contents",
   "toc_cell": false,
   "toc_position": {},
   "toc_section_display": true,
   "toc_window_display": true
  }
 },
 "nbformat": 4,
 "nbformat_minor": 4
}
