{
 "cells": [
  {
   "cell_type": "markdown",
   "metadata": {},
   "source": [
    "# 集合"
   ]
  },
  {
   "cell_type": "markdown",
   "metadata": {},
   "source": [
    "- 集合是无序、可变序列，使用一对大括号界定，元素不可重复，同一个集合中每个元素都是唯一的。\n",
    "- 集合中只能包含数字、字符串、元组等不可变类型（或者说可哈希）的数据，而不能包含列表、字典、集合等可变类型的数据。\n"
   ]
  },
  {
   "cell_type": "markdown",
   "metadata": {},
   "source": [
    "## 集合的创建与删除"
   ]
  },
  {
   "cell_type": "code",
   "execution_count": 3,
   "metadata": {
    "ExecuteTime": {
     "end_time": "2021-03-17T12:08:02.679462Z",
     "start_time": "2021-03-17T12:08:02.671507Z"
    }
   },
   "outputs": [
    {
     "name": "stdout",
     "output_type": "stream",
     "text": [
      "{0, 1, 2, 3, 7, 8}\n"
     ]
    }
   ],
   "source": [
    "'''用{}或者set()可以创建集合'''\n",
    "a = {3, 5}\n",
    "a_set = set(range(8,14))\n",
    "'''set()可以将列表、元组等其它可迭代对象转换为集合；并仅保留一个，如果存在重复的元素'''\n",
    "b_set = set([0, 1, 2, 3, 0, 1, 2, 3, 7, 8])   #自动去除重复\n",
    "print(b_set)\n",
    "c_set = set()                                 #空集合"
   ]
  },
  {
   "cell_type": "markdown",
   "metadata": {},
   "source": [
    "## 集合元素的增加与删除"
   ]
  },
  {
   "cell_type": "code",
   "execution_count": 15,
   "metadata": {
    "ExecuteTime": {
     "end_time": "2021-03-17T13:40:11.478757Z",
     "start_time": "2021-03-17T13:40:11.471775Z"
    }
   },
   "outputs": [
    {
     "data": {
      "text/plain": [
       "{2, 3, 4, 5, 6, 8, 9, 10000}"
      ]
     },
     "execution_count": 15,
     "metadata": {},
     "output_type": "execute_result"
    }
   ],
   "source": [
    "a ={1,2,3,4,5,6,7}\n",
    "a.add(10000)\n",
    "#将元素 10000添加到集合 a 中，如果元素已存在，则不进行任何操作。\n",
    "a.update([8,9])\n",
    "#可以添加元素，且参数可以是列表，元组，字典等；如果元素已存在，则不进行任何操作。\n",
    "a.pop()\n",
    "#可以设置随机删除集合中的一个元素\n",
    "#set 集合的 pop 方法会对集合进行无序的排列，然后将这个无序排列集合的左面第一个元素进行删除。\n",
    "a.remove(7)\n",
    "#将元素 7 从集合 a 中移除，如果元素不存在，则会发生错误。\n",
    "a.discard(80)\n",
    "#移除集合中的元素，且如果元素不存在，不会发生错误"
   ]
  },
  {
   "cell_type": "markdown",
   "metadata": {},
   "source": [
    "## 集合运算"
   ]
  },
  {
   "cell_type": "code",
   "execution_count": 4,
   "metadata": {
    "ExecuteTime": {
     "end_time": "2021-03-17T13:20:49.391476Z",
     "start_time": "2021-03-17T13:20:49.384525Z"
    }
   },
   "outputs": [
    {
     "name": "stdout",
     "output_type": "stream",
     "text": [
      "{0, 1, 2, 3, 7, 8, 9, 10, 11, 12, 13}\n",
      "{8}\n",
      "{9, 10, 11, 12, 13}\n",
      "{0, 1, 2, 3, 7, 9, 10, 11, 12, 13}\n"
     ]
    }
   ],
   "source": [
    "'''使用匀运算符实现交集、并集、差集、对称差集等运算'''\n",
    "a_set = set([8, 9, 10, 11, 12, 13])\n",
    "b_set = {0, 1, 2, 3, 7, 8}\n",
    "print(a_set | b_set)                             #并集\n",
    "print(a_set & b_set)                             #交集\n",
    "print(a_set - b_set)\n",
    "print(a_set ^ b_set)                             #对称差集"
   ]
  },
  {
   "cell_type": "code",
   "execution_count": 23,
   "metadata": {
    "ExecuteTime": {
     "end_time": "2021-03-17T14:21:09.958212Z",
     "start_time": "2021-03-17T14:21:09.953224Z"
    }
   },
   "outputs": [
    {
     "name": "stdout",
     "output_type": "stream",
     "text": [
      "集合的交集： {8}\n",
      "集合的并集： {0, 1, 2, 3, 7, 8, 9, 10, 11, 12, 13}\n",
      "集合的差： {9, 10, 11, 12, 13}\n",
      "集合的对称差： {0, 1, 2, 3, 7, 9, 10, 11, 12, 13}\n",
      "集合的交更新集合a_set {8, 9}\n"
     ]
    }
   ],
   "source": [
    "'''使用集合自带的方法'''\n",
    "a_set = set([8, 9, 10, 11, 12, 13])\n",
    "b_set = {0, 1, 2, 3, 7, 8}\n",
    "print('集合的交集：',a_set.intersection(b_set))\n",
    "print('集合的并集：',a_set.union(b_set))\n",
    "print('集合的差：',a_set.difference(b_set)) #a_set-b_set\n",
    "print('集合的对称差：',a_set.symmetric_difference(b_set)) \n",
    "a_set.intersection_update({8,9,17})\n",
    "print('集合的交更新集合a_set',a_set)"
   ]
  },
  {
   "cell_type": "markdown",
   "metadata": {},
   "source": [
    "## 集合包含关系测试"
   ]
  },
  {
   "cell_type": "code",
   "execution_count": 30,
   "metadata": {
    "ExecuteTime": {
     "end_time": "2021-03-17T14:25:45.501799Z",
     "start_time": "2021-03-17T14:25:45.496841Z"
    }
   },
   "outputs": [
    {
     "name": "stdout",
     "output_type": "stream",
     "text": [
      "比较集合大小/包含关系: False\n",
      "比较集合大小/包含关系；真子集: True\n",
      "False\n",
      "True\n",
      "判断某个元素是否属于集合 False\n"
     ]
    }
   ],
   "source": [
    "x = {1, 2, 3}\n",
    "y = {1, 2, 5}\n",
    "z = {1, 2, 3, 4}\n",
    "print('比较集合大小/包含关系:',x < y)                                #\n",
    "print('比较集合大小/包含关系；真子集:',x < z)                                #\n",
    "print(y < z)\n",
    "print({1, 2, 3} <= {1, 2, 3})               #子集\n",
    "print('判断某个元素是否属于集合:',4 in x)"
   ]
  },
  {
   "cell_type": "markdown",
   "metadata": {},
   "source": [
    "## 集合推导式"
   ]
  },
  {
   "cell_type": "code",
   "execution_count": 67,
   "metadata": {
    "ExecuteTime": {
     "end_time": "2021-03-17T14:56:36.343735Z",
     "start_time": "2021-03-17T14:56:36.339746Z"
    }
   },
   "outputs": [
    {
     "name": "stdout",
     "output_type": "stream",
     "text": [
      "{0, 1, 4}\n",
      "{16, 4, 36}\n"
     ]
    }
   ],
   "source": [
    "'''{ 表达式 for 迭代变量 in 可迭代对象 [if 条件表达式] }'''\n",
    "setnew = {i**2 for i in range(3)}\n",
    "print(setnew)\n",
    "\n",
    "tupledemo = (1,1,2,3,4,5,6,6)\n",
    "setnew = {x**2 for x in tupledemo if x%2==0}\n",
    "print(setnew)"
   ]
  },
  {
   "cell_type": "markdown",
   "metadata": {},
   "source": [
    "## 集合运用案例"
   ]
  },
  {
   "cell_type": "code",
   "execution_count": 33,
   "metadata": {
    "ExecuteTime": {
     "end_time": "2021-03-17T14:33:57.689387Z",
     "start_time": "2021-03-17T14:33:57.636530Z"
    }
   },
   "outputs": [
    {
     "name": "stdout",
     "output_type": "stream",
     "text": [
      "RandomNumbers 0.018977642059326172\n",
      "RandomNumbers1 0.01994609832763672\n",
      "RandomNumbers2 0.004986763000488281\n"
     ]
    }
   ],
   "source": [
    "'''例2-1  生成不重复随机数的效率比较。'''\n",
    "import random\n",
    "import time\n",
    "\n",
    "def RandomNumbers(number, start, end):\n",
    "    '''使用列表来生成number个介于start和end之间的不重复随机数'''\n",
    "    data = []\n",
    "    n = 0\n",
    "    while True:\n",
    "        element = random.randint(start, end)\n",
    "        if element not in data:\n",
    "            data.append(element)\n",
    "            n += 1\n",
    "            if n == number:\n",
    "                break\n",
    "    return data\n",
    "\n",
    "\n",
    "def RandomNumbers1(number, start, end):\n",
    "    '''使用列表来生成number个介于start和end之间的不重复随机数'''\n",
    "    data = []\n",
    "    while True:\n",
    "        element = random.randint(start, end)\n",
    "        if element not in data:\n",
    "            data.append(element)\n",
    "            if len(data) == number:\n",
    "                break\n",
    "    return data\n",
    "\n",
    "\n",
    "def RandomNumbers2(number, start, end):\n",
    "    '''使用集合来生成number个介于start和end之间的不重复随机数'''\n",
    "    data = set()\n",
    "    while True:\n",
    "        data.add(random.randint(start, end))\n",
    "        if len(data) == number:\n",
    "            break\n",
    "    return data\n",
    "\n",
    "\n",
    "# 数字范围\n",
    "begin, end = 1, 100000\n",
    "# 要获取的不重复数字个数\n",
    "num = 500\n",
    "# 重复测试次数\n",
    "rep = 10\n",
    "for ran in (RandomNumbers,RandomNumbers1,RandomNumbers2):\n",
    "    start = time.time()\n",
    "    for i in range(rep):\n",
    "        ran(num, begin, end)\n",
    "    print(ran.__name__, time.time()-start)"
   ]
  },
  {
   "cell_type": "code",
   "execution_count": 38,
   "metadata": {
    "ExecuteTime": {
     "end_time": "2021-03-17T14:39:12.044211Z",
     "start_time": "2021-03-17T14:39:12.036233Z"
    }
   },
   "outputs": [
    {
     "name": "stdout",
     "output_type": "stream",
     "text": [
      "例2-2   假设已有若干用户名字及其喜欢的电影清单，现有某用户，已看过并喜欢一些电影，现在想找个新电影看看，又不知道看什么好。\n",
      "\n",
      "思路：根据已有数据，查找与该用户爱好最相似的用户，也就是看过并喜欢的电影与该用户最接近，然后从那个用户喜欢的电影中选取一个当前用户\n",
      "还没看过的电影，进行推荐。\n",
      "\n",
      "\n",
      "历史数据：\n",
      "user0:{'film7', 'film9'}\n",
      "user1:{'film2', 'film8', 'film7', 'film9'}\n",
      "user2:{'film1', 'film2'}\n",
      "user3:{'film7'}\n",
      "user4:{'film3', 'film2', 'film6', 'film1', 'film5', 'film4'}\n",
      "user5:{'film2', 'film4', 'film7'}\n",
      "user6:{'film3', 'film6', 'film1', 'film9', 'film8'}\n",
      "user7:{'film3', 'film2', 'film9', 'film1', 'film7', 'film5'}\n",
      "user8:{'film1', 'film6'}\n",
      "user9:{'film3', 'film2', 'film6', 'film1', 'film9', 'film7', 'film5', 'film4', 'film8'}\n",
      "和您最相似的用户是： user4\n",
      "Ta最喜欢看的电影是： {'film3', 'film2', 'film6', 'film1', 'film5', 'film4'}\n",
      "Ta看过的电影中您还没看过的有： {'film5', 'film4', 'film6'}\n"
     ]
    }
   ],
   "source": [
    "print('''例2-2   假设已有若干用户名字及其喜欢的电影清单，现有某用户，已看过并喜欢一些电影，现在想找个新电影看看，又不知道看什么好。\n",
    "\n",
    "思路：根据已有数据，查找与该用户爱好最相似的用户，也就是看过并喜欢的电影与该用户最接近，然后从那个用户喜欢的电影中选取一个当前用户\n",
    "还没看过的电影，进行推荐。\n",
    "\n",
    "''')\n",
    "from random import randrange\n",
    "\n",
    "# 其他用户喜欢看的电影清单\n",
    "data = {'user'+str(i):{'film'+str(randrange(1, 10)) for j in range(randrange(15))}for i in range(10)}#值是集合推导式\n",
    "# 待测用户曾经看过并感觉不错的电影\n",
    "user = {'film1', 'film2', 'film3'}\n",
    "# 查找与待测用户最相似的用户和Ta喜欢看的电影，忽略与待测用户完全一样的用户\n",
    "similarUser, films = max(data.items(),\n",
    "                         key=lambda item: (item[1]!=user, len(item[1]&user)))\n",
    "print('历史数据：')\n",
    "for u, f in data.items():\n",
    "    print(u, f, sep=':')\n",
    "print('和您最相似的用户是：', similarUser)\n",
    "print('Ta最喜欢看的电影是：', films)\n",
    "print('Ta看过的电影中您还没看过的有：', films-user)\n",
    "\n"
   ]
  },
  {
   "cell_type": "code",
   "execution_count": 94,
   "metadata": {
    "ExecuteTime": {
     "end_time": "2021-03-17T15:13:17.966632Z",
     "start_time": "2021-03-17T15:13:17.961676Z"
    }
   },
   "outputs": [
    {
     "data": {
      "text/plain": [
       "'\\n很多人喜欢爬取书评，然后选择自己喜欢的书或者其他读者评价较高的书，这是一个非常好的思路，也是非常明智的做法。\\n\\n然而，并不是每个消费者都会认真留言评论，也有部分消费者可能会复制了几个简单的句子或词作为评论。\\n在爬取到原始书评之后可能需要进行简单的处理和过滤，这时就需要制定一个过滤的标准进行预处理，这也是数据处理与分析的关键内容之一。\\n\\n在下面的代码中，采用了一个最简单的规则：正常书评中，重复的字应该不会超过一定的比例。\\n\\n'"
      ]
     },
     "execution_count": 94,
     "metadata": {},
     "output_type": "execute_result"
    }
   ],
   "source": [
    "'''例2-3过滤无效书评\n",
    "'''\n",
    "'''\n",
    "很多人喜欢爬取书评，然后选择自己喜欢的书或者其他读者评价较高的书，这是一个非常好的思路，也是非常明智的做法。\n",
    "\n",
    "然而，并不是每个消费者都会认真留言评论，也有部分消费者可能会复制了几个简单的句子或词作为评论。\n",
    "在爬取到原始书评之后可能需要进行简单的处理和过滤，这时就需要制定一个过滤的标准进行预处理，这也是数据处理与分析的关键内容之一。\n",
    "\n",
    "在下面的代码中，采用了一个最简单的规则：正常书评中，重复的字应该不会超过一定的比例。\n",
    "\n",
    "'''"
   ]
  },
  {
   "cell_type": "code",
   "execution_count": 97,
   "metadata": {
    "ExecuteTime": {
     "end_time": "2021-03-17T15:16:36.510955Z",
     "start_time": "2021-03-17T15:16:36.505968Z"
    }
   },
   "outputs": [],
   "source": [
    "comments = ['这是一本非常好的书，作者用心了',\n",
    "            '作者大大辛苦了',\n",
    "            '好书，感谢作者提供了这么多的好案例',\n",
    "            '书在运输的路上破损了，我好悲伤。。。',\n",
    "            '为啥我买的书上有菜汤。。。。',\n",
    "            '啊啊啊啊啊啊，我怎么才发现这么好的书啊，相见恨晚',\n",
    "            '书的质量有问题啊，怎么会开胶呢？？？？？？',\n",
    "            '好好好好好好好好好好好',\n",
    "            '好难啊看不懂好难啊看不懂好难啊看不懂',\n",
    "            '书的内容很充实',\n",
    "            '你的书上好多代码啊，不过想想也是，编程的书嘛，肯定代码多一些',\n",
    "            '书很不错!!一级棒!!买书就上当当，正版，价格又实惠，让人放心!!! ',\n",
    "            '无意中来到你小铺就淘到心意的宝贝，心情不错! ',\n",
    "            '送给朋友的、很不错',\n",
    "            '这是一本好书，讲解内容深入浅出又清晰明了，推荐给所有喜欢阅读的朋友同好们。']\n"
   ]
  },
  {
   "cell_type": "code",
   "execution_count": 104,
   "metadata": {
    "ExecuteTime": {
     "end_time": "2021-03-17T15:19:42.687016Z",
     "start_time": "2021-03-17T15:19:42.681048Z"
    }
   },
   "outputs": [
    {
     "name": "stdout",
     "output_type": "stream",
     "text": [
      "原始书评：\n",
      "这是一本非常好的书，作者用心了\n",
      "作者大大辛苦了\n",
      "好书，感谢作者提供了这么多的好案例\n",
      "书在运输的路上破损了，我好悲伤。。。\n",
      "为啥我买的书上有菜汤。。。。\n",
      "啊啊啊啊啊啊，我怎么才发现这么好的书啊，相见恨晚\n",
      "书的质量有问题啊，怎么会开胶呢？？？？？？\n",
      "好好好好好好好好好好好\n",
      "好难啊看不懂好难啊看不懂好难啊看不懂\n",
      "书的内容很充实\n",
      "你的书上好多代码啊，不过想想也是，编程的书嘛，肯定代码多一些\n",
      "书很不错!!一级棒!!买书就上当当，正版，价格又实惠，让人放心!!! \n",
      "无意中来到你小铺就淘到心意的宝贝，心情不错! \n",
      "送给朋友的、很不错\n",
      "这是一本好书，讲解内容深入浅出又清晰明了，推荐给所有喜欢阅读的朋友同好们。\n",
      "= == == == == == == == == == == == == == == == == == == == == == == == == == == == == == == == == == == == == == == == =\n",
      "过滤后的书评：\n",
      "这是一本非常好的书，作者用心了\n",
      "作者大大辛苦了\n",
      "好书，感谢作者提供了这么多的好案例\n",
      "书在运输的路上破损了，我好悲伤。。。\n",
      "为啥我买的书上有菜汤。。。。\n",
      "啊啊啊啊啊啊，我怎么才发现这么好的书啊，相见恨晚\n",
      "书的质量有问题啊，怎么会开胶呢？？？？？？\n",
      "书的内容很充实\n",
      "你的书上好多代码啊，不过想想也是，编程的书嘛，肯定代码多一些\n",
      "书很不错!!一级棒!!买书就上当当，正版，价格又实惠，让人放心!!! \n",
      "无意中来到你小铺就淘到心意的宝贝，心情不错! \n",
      "送给朋友的、很不错\n",
      "这是一本好书，讲解内容深入浅出又清晰明了，推荐给所有喜欢阅读的朋友同好们。\n"
     ]
    }
   ],
   "source": [
    "rule = lambda s:len(set(s))/len(s)>0.5\n",
    "result = filter(rule, comments)\n",
    "#filter() 函数用于过滤序列，过滤掉不符合条件的元素，返回一个迭代器对象\n",
    "#该接收两个参数，第一个为函数，第二个为序列，序列的每个元素作为参数传递给函数进行判断，然后返回 True 或 False，\n",
    "#最后将返回 True 的元素放到新列表中。\n",
    "print('原始书评：')\n",
    "for comment in comments:\n",
    "    print(comment)\n",
    "\n",
    "print('= ='*40)\n",
    "print('过滤后的书评：')\n",
    "for comment in result:\n",
    "    print(comment)\n"
   ]
  },
  {
   "cell_type": "markdown",
   "metadata": {},
   "source": [
    "# sorted()函数"
   ]
  },
  {
   "attachments": {},
   "cell_type": "markdown",
   "metadata": {},
   "source": [
    "- 列表对象提供了sort()方法支持原地排序，而内置函数sorted()返回新列表，并不对原列表进行任何修改。\n",
    "- sorted()方法可以对列表、元组、字典、range对象等进行排序。\n",
    "- 列表的sort()方法和内置函数sorted()都支持key参数实现复杂排序要求。"
   ]
  },
  {
   "cell_type": "code",
   "execution_count": 117,
   "metadata": {
    "ExecuteTime": {
     "end_time": "2021-03-17T15:39:01.341449Z",
     "start_time": "2021-03-17T15:39:01.335454Z"
    }
   },
   "outputs": [
    {
     "name": "stdout",
     "output_type": "stream",
     "text": [
      "原始的字典： [{'name': 'Dong', 'age': 37}, {'name': 'Zhang', 'age': 40}, {'name': 'Li', 'age': 50}, {'name': 'Dong', 'age': 43}]\n",
      "先按姓名升序排序，姓名相同的按年龄降序排序： [{'name': 'Dong', 'age': 43}, {'name': 'Dong', 'age': 37}, {'name': 'Li', 'age': 50}, {'name': 'Zhang', 'age': 40}]\n",
      "先按姓名升序排序，姓名相同的按年龄升序排序： [{'name': 'Dong', 'age': 37}, {'name': 'Dong', 'age': 43}, {'name': 'Li', 'age': 50}, {'name': 'Zhang', 'age': 40}]\n"
     ]
    }
   ],
   "source": [
    "persons = [{'name':'Dong', 'age':37}, \n",
    "               {'name':'Zhang', 'age':40},\n",
    "               {'name':'Li', 'age':50},\n",
    "               {'name':'Dong', 'age':43}]\n",
    "print('原始的字典：',persons)\n",
    "'''使用key来指定排序依据，先按姓名升序排序，姓名相同的按年龄降序排序'''\n",
    "print('先按姓名升序排序，姓名相同的按年龄降序排序：',sorted(persons, key=lambda x:(x['name'], -x['age'])))\n",
    "\n",
    "from operator import itemgetter\n",
    "print('先按姓名升序排序，姓名相同的按年龄升序排序：',sorted(persons, key=itemgetter('name','age')))\n"
   ]
  },
  {
   "cell_type": "code",
   "execution_count": 112,
   "metadata": {
    "ExecuteTime": {
     "end_time": "2021-03-17T15:30:39.692546Z",
     "start_time": "2021-03-17T15:30:39.687588Z"
    }
   },
   "outputs": [
    {
     "name": "stdout",
     "output_type": "stream",
     "text": [
      "按字典中元素值进行排序: [('Carol', '5834'), ('Linda', '7750'), ('Bob', '9345')]\n",
      "按字典中元素的键进行排序: [('Bob', '9345'), ('Carol', '5834'), ('Linda', '7750')]\n"
     ]
    }
   ],
   "source": [
    "phonebook = {'Linda':'7750', 'Bob':'9345', 'Carol':'5834'}\n",
    "from operator import itemgetter\n",
    "print('按字典中元素值进行排序:',sorted(phonebook.items(), key=itemgetter(1)))\n",
    "print('按字典中元素的键进行排序:',sorted(phonebook.items(), key=itemgetter(0)))                                     \n",
    "\n"
   ]
  },
  {
   "cell_type": "code",
   "execution_count": 114,
   "metadata": {
    "ExecuteTime": {
     "end_time": "2021-03-17T15:32:39.999358Z",
     "start_time": "2021-03-17T15:32:39.990411Z"
    }
   },
   "outputs": [
    {
     "data": {
      "text/plain": [
       "[['Bob', 95.0, 'A'],\n",
       " ['Mandy', 83.5, 'A'],\n",
       " ['Alan', 86.0, 'C'],\n",
       " ['Rob', 89.3, 'E']]"
      ]
     },
     "execution_count": 114,
     "metadata": {},
     "output_type": "execute_result"
    }
   ],
   "source": [
    "from operator import itemgetter\n",
    "gameresult = [['Bob', 95.0, 'A'], ['Alan', 86.0, 'C'], \n",
    "                  ['Mandy', 83.5, 'A'], ['Rob', 89.3, 'E']]\n",
    "sorted(gameresult, key=itemgetter(0, 1))\n",
    "                             #按姓名升序，姓名相同按分数升序排序\n",
    "[['Alan', 86.0, 'C'], ['Bob', 95.0, 'A'], ['Mandy', 83.5, 'A'], ['Rob', 89.3, 'E']]\n",
    "sorted(gameresult, key=itemgetter(1, 0))\n",
    "                             #按分数升序，分数相同的按姓名升序排序\n",
    "[['Mandy', 83.5, 'A'], ['Alan', 86.0, 'C'], ['Rob', 89.3, 'E'], ['Bob', 95.0, 'A']]\n",
    "sorted(gameresult, key=itemgetter(2, 0))\n",
    "                             #按等级升序，等级相同的按姓名升序排序\n"
   ]
  },
  {
   "cell_type": "code",
   "execution_count": 120,
   "metadata": {
    "ExecuteTime": {
     "end_time": "2021-03-17T15:43:59.750035Z",
     "start_time": "2021-03-17T15:43:59.744016Z"
    }
   },
   "outputs": [
    {
     "data": {
      "text/plain": [
       "[(\"I'm\", 'else'), ('by', 'sort'), ('sorting', 'to'), ('what', 'something')]"
      ]
     },
     "execution_count": 120,
     "metadata": {},
     "output_type": "execute_result"
    }
   ],
   "source": [
    "'''根据另外一个列表的值来对当前列表元素进行排序'''\n",
    "\n",
    "list1 = [\"what\", \"I'm\", \"sorting\", \"by\"]\n",
    "list2 = [\"something\", \"else\", \"to\", \"sort\"]\n",
    "pairs = zip(list1, list2)\n",
    "'''根据list1中元素排序list2中的元素'''\n",
    "pairs = sorted(pairs)\n",
    "pairs"
   ]
  },
  {
   "cell_type": "code",
   "execution_count": 125,
   "metadata": {
    "ExecuteTime": {
     "end_time": "2021-03-17T15:51:02.502711Z",
     "start_time": "2021-03-17T15:51:02.495755Z"
    }
   },
   "outputs": [
    {
     "name": "stdout",
     "output_type": "stream",
     "text": [
      "['something', 'else', 'to', 'sort']\n"
     ]
    },
    {
     "data": {
      "text/plain": [
       "['else', 'sort', 'to', 'something']"
      ]
     },
     "execution_count": 125,
     "metadata": {},
     "output_type": "execute_result"
    }
   ],
   "source": [
    "list1 = [\"what\", \"I'm\", \"sorting\", \"by\"]\n",
    "list2 = [\"something\", \"else\", \"to\", \"sort\"]\n",
    "pairs = zip(list1, list2)\n",
    "result = [x[1] for x in pairs]\n",
    "print(result)\n",
    "'''仅适用于列表list2中元素各不相同的情形'''\n",
    "sorted(list2, key=lambda item: list1[list2.index(item)])#index：从列表中找出某个值第一个匹配项的索引位置，并返回值"
   ]
  },
  {
   "cell_type": "code",
   "execution_count": 126,
   "metadata": {
    "ExecuteTime": {
     "end_time": "2021-03-17T15:53:14.232727Z",
     "start_time": "2021-03-17T15:53:14.226743Z"
    }
   },
   "outputs": [
    {
     "name": "stdout",
     "output_type": "stream",
     "text": [
      "[92, 93, 11, 26, 52, 10, 38, 76, 12, 95, 23, 86, 59, 89, 89, 7, 80, 84, 42, 51]\n"
     ]
    },
    {
     "data": {
      "text/plain": [
       "[93, 11, 95, 23, 59, 89, 89, 7, 51, 92, 26, 52, 10, 38, 76, 12, 86, 80, 84, 42]"
      ]
     },
     "execution_count": 126,
     "metadata": {},
     "output_type": "execute_result"
    }
   ],
   "source": [
    "'''应用：有一个整数列表，要求调整元素顺序，把所有奇数都放到前面，偶数都放到后面。'''\n",
    "\n",
    "from random import randint\n",
    "x = [randint(1,100) for i in range(20)]\n",
    "print(x)\n",
    "sorted(x, key=lambda item:item%2==0)\n",
    "\n"
   ]
  },
  {
   "cell_type": "code",
   "execution_count": null,
   "metadata": {},
   "outputs": [],
   "source": []
  }
 ],
 "metadata": {
  "kernelspec": {
   "display_name": "Python 3",
   "language": "python",
   "name": "python3"
  },
  "language_info": {
   "codemirror_mode": {
    "name": "ipython",
    "version": 3
   },
   "file_extension": ".py",
   "mimetype": "text/x-python",
   "name": "python",
   "nbconvert_exporter": "python",
   "pygments_lexer": "ipython3",
   "version": "3.7.6"
  },
  "latex_envs": {
   "LaTeX_envs_menu_present": true,
   "autoclose": false,
   "autocomplete": true,
   "bibliofile": "biblio.bib",
   "cite_by": "apalike",
   "current_citInitial": 1,
   "eqLabelWithNumbers": true,
   "eqNumInitial": 1,
   "hotkeys": {
    "equation": "Ctrl-E",
    "itemize": "Ctrl-I"
   },
   "labels_anchors": false,
   "latex_user_defs": false,
   "report_style_numbering": false,
   "user_envs_cfg": false
  },
  "toc": {
   "base_numbering": 1,
   "nav_menu": {},
   "number_sections": true,
   "sideBar": true,
   "skip_h1_title": false,
   "title_cell": "Table of Contents",
   "title_sidebar": "Contents",
   "toc_cell": false,
   "toc_position": {},
   "toc_section_display": true,
   "toc_window_display": true
  }
 },
 "nbformat": 4,
 "nbformat_minor": 4
}
